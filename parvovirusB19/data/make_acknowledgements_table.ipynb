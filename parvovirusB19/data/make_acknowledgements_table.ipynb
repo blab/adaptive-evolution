{
 "cells": [
  {
   "cell_type": "code",
   "execution_count": 1,
   "id": "8cb8b614",
   "metadata": {},
   "outputs": [],
   "source": [
    "import pandas as pd\n",
    "from Bio import SeqIO"
   ]
  },
  {
   "cell_type": "code",
   "execution_count": 7,
   "id": "4e66244f",
   "metadata": {},
   "outputs": [],
   "source": [
    "def write_acknowledgements_csv(virus, genotype):\n",
    "    \"\"\"\n",
    "    Write an acknowlegements table for all sequences that were used\n",
    "    \"\"\"\n",
    "    \n",
    "    #read in metadata file to find get strains/acession numbers\n",
    "    metadata = pd.read_csv(f'../results/metadata_{virus}_{genotype}.tsv', sep='\\t')\n",
    "    used_accessions = list(metadata['strain'])\n",
    "        \n",
    "    #read in orginal sequences to get the author information\n",
    "    author_info_by_sequence = []\n",
    "\n",
    "    for record in SeqIO.parse(open(f\"genbank_sequences.gb\",\"r\"), \"genbank\"):\n",
    "        accession = record.id\n",
    "        if accession in used_accessions:\n",
    "            author = record.annotations['references'][0].authors\n",
    "            publication_title = record.annotations['references'][0].title\n",
    "            journal = record.annotations['references'][0].journal\n",
    "            author_info_by_sequence.append({'Accession': accession.split('.')[0], 'Virus': f'ParvovirusB19-{genotype}',\n",
    "                                            'Author': author, \n",
    "                                            'Publication_Title': publication_title, 'Journal': journal, \n",
    "                                            'Database': 'Genbank'})\n",
    "\n",
    "    ack_df = pd.DataFrame(author_info_by_sequence)\n",
    "        \n",
    "    #group the sequences that came from the same submission\n",
    "#     grouped_submissions_count = authors_df.groupby(['author', 'publication_title', 'journal'])['accession'].count()\n",
    "#     grouped_submissions_list_strains = authors_df.groupby(['author', 'publication_title', 'journal'])['accession'].apply(list)\n",
    "\n",
    "\n",
    "#     ack_df = pd.DataFrame({'strains': grouped_submissions_list_strains, 'number(strains)':grouped_submissions_count}).reset_index()\n",
    "    ack_df.set_index('Accession')    \n",
    "    \n",
    "    #save the acknowledgement table\n",
    "    ack_df.to_csv(f'acknowledgments_{virus}_{genotype}.tsv', sep='\\t', index=False)\n",
    "    \n",
    "    "
   ]
  },
  {
   "cell_type": "code",
   "execution_count": 8,
   "id": "6f3313fe",
   "metadata": {},
   "outputs": [],
   "source": [
    "write_acknowledgements_csv('parvovirusB19', '1a')"
   ]
  },
  {
   "cell_type": "code",
   "execution_count": null,
   "id": "defd7c4a",
   "metadata": {},
   "outputs": [],
   "source": []
  }
 ],
 "metadata": {
  "kernelspec": {
   "display_name": "Python 3 (ipykernel)",
   "language": "python",
   "name": "python3"
  },
  "language_info": {
   "codemirror_mode": {
    "name": "ipython",
    "version": 3
   },
   "file_extension": ".py",
   "mimetype": "text/x-python",
   "name": "python",
   "nbconvert_exporter": "python",
   "pygments_lexer": "ipython3",
   "version": "3.9.7"
  }
 },
 "nbformat": 4,
 "nbformat_minor": 5
}
