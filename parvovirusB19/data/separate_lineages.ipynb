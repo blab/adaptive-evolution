{
 "cells": [
  {
   "cell_type": "code",
   "execution_count": null,
   "id": "7d9386f2",
   "metadata": {},
   "outputs": [],
   "source": [
    "#Make separate data files for each lineage"
   ]
  },
  {
   "cell_type": "code",
   "execution_count": 2,
   "id": "0f894de2",
   "metadata": {},
   "outputs": [],
   "source": [
    "from Bio import SeqIO\n",
    "from Bio.Seq import Seq\n",
    "from Bio.SeqRecord import SeqRecord\n",
    "from augur.utils import json_to_tree\n",
    "import json"
   ]
  },
  {
   "cell_type": "code",
   "execution_count": 3,
   "id": "5905cdb3",
   "metadata": {},
   "outputs": [],
   "source": [
    "#need to look at tree json file to find the branch name for the common ancestor of the different lineages\n",
    "#format of dict {lineage:common_ancestor}\n",
    "\n",
    "#Lineage definitions from Corcoran et al (https://journals.asm.org/doi/10.1128/JCM.00610-09)\n",
    "lineage_ancestors = {'1a': 'NODE_0000088', '1b': 'NODE_0000092', '2': 'NODE_0000115', \n",
    "                     '3a': 'NODE_0000096', '3b': 'NODE_0000100'}"
   ]
  },
  {
   "cell_type": "code",
   "execution_count": 5,
   "id": "3545c819",
   "metadata": {},
   "outputs": [],
   "source": [
    "for lineage, ca in lineage_ancestors.items():\n",
    "    #read in tree\n",
    "    with open(f'../auspice/parvovirusB19_all.json', 'r') as f:\n",
    "        tree_json = json.load(f)\n",
    "\n",
    "    #Put tree in Bio.Phylo format\n",
    "    tree = json_to_tree(tree_json)\n",
    "    \n",
    "    #store all tip names for each lineage\n",
    "    tips_in_this_lineage = []\n",
    "\n",
    "    \n",
    "    #find tips descending from common ancestor branch of the lineages\n",
    "    for node in tree.find_clades(terminal=True):\n",
    "        parents = [x.name for x in tree.get_path(node)]\n",
    "        if ca in parents:\n",
    "            tips_in_this_lineage.append(node.name)\n",
    "\n",
    "    \n",
    "    seq_records = []\n",
    "    \n",
    "    for record in SeqIO.parse(open(f'parvovirusB19_all.fasta',\"r\"), \"fasta\"):\n",
    "        genbank_id = record.id.split('|')[0]\n",
    "        if genbank_id in tips_in_this_lineage:\n",
    "            seq_records.append(SeqRecord(record.seq, id=record.id, description=record.description))\n",
    "        \n",
    "        \n",
    "    SeqIO.write(seq_records, f'parvovirusB19_{lineage}.fasta', \"fasta\")"
   ]
  },
  {
   "cell_type": "code",
   "execution_count": null,
   "id": "f4f96b90",
   "metadata": {},
   "outputs": [],
   "source": []
  },
  {
   "cell_type": "code",
   "execution_count": null,
   "id": "d45a9bd8",
   "metadata": {},
   "outputs": [],
   "source": []
  }
 ],
 "metadata": {
  "kernelspec": {
   "display_name": "Python 3 (ipykernel)",
   "language": "python",
   "name": "python3"
  },
  "language_info": {
   "codemirror_mode": {
    "name": "ipython",
    "version": 3
   },
   "file_extension": ".py",
   "mimetype": "text/x-python",
   "name": "python",
   "nbconvert_exporter": "python",
   "pygments_lexer": "ipython3",
   "version": "3.9.7"
  }
 },
 "nbformat": 4,
 "nbformat_minor": 5
}
