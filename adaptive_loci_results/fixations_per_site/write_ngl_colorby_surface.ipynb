{
 "cells": [
  {
   "cell_type": "markdown",
   "id": "f0630569",
   "metadata": {},
   "source": [
    "#### Read in a text file listing the surface-exposed residues on a protein (as determined in Pymol by findSurfaceResidues.py) and write an NGL file to color these residues on the structure"
   ]
  },
  {
   "cell_type": "code",
   "execution_count": 1,
   "id": "17f9a043",
   "metadata": {},
   "outputs": [],
   "source": [
    "import ast "
   ]
  },
  {
   "cell_type": "code",
   "execution_count": 2,
   "id": "c86eef0f",
   "metadata": {},
   "outputs": [],
   "source": [
    "def get_exposure_results(virus, subtype, exposure):\n",
    "    \"\"\"\n",
    "    Read in the file listing all residues that have at least `exposure` square angstroms exposed to the solvent \n",
    "    \"\"\"\n",
    "    \n",
    "    if subtype:\n",
    "        with open(f'results/{virus}_{subtype}_surfaceresidues_{exposure}angstrom.txt') as f:\n",
    "            lines = f.readlines()\n",
    "    else:\n",
    "        with open(f'results/{virus}_surfaceresidues_{exposure}angstrom.txt') as f:\n",
    "            lines = f.readlines()\n",
    "\n",
    "    #remove duplicates\n",
    "    lines = list(set(lines))\n",
    "            \n",
    "    return lines"
   ]
  },
  {
   "cell_type": "code",
   "execution_count": 73,
   "id": "1d646deb",
   "metadata": {},
   "outputs": [],
   "source": [
    "def write_ngl_file(pdb_accession, chains, virus, subtype, surface_exposure):\n",
    "    \"\"\"\n",
    "    Write an NGL file to color every residue in the given pdb structure according to it's surface exposure\n",
    "    \n",
    "    The residue must have `surface_exposure` square angstroms or greater of surface exposed\n",
    "    \n",
    "    Will automatically color all subunits of the trimer if the PDB file is a trimer\n",
    "    \"\"\"\n",
    "    \n",
    "    exposed_residues = get_exposure_results(virus, subtype, surface_exposure)\n",
    "    #restructure exposed_residues to be a dictionary with key as chain and list of exposed resides as values\n",
    "    exposed_residues_by_chain = {}\n",
    "    for res in exposed_residues:\n",
    "        res_chain = ast.literal_eval(res)[0]\n",
    "        res_num = ast.literal_eval(res)[1]\n",
    "        if res_num.isnumeric():\n",
    "            res_num_int = int(res_num)\n",
    "        else:\n",
    "            pass\n",
    "        \n",
    "        #limit to only chains listed in arguments\n",
    "        if res_chain in chains:\n",
    "            if res_chain not in exposed_residues_by_chain.keys():\n",
    "                exposed_residues_by_chain[res_chain] = [res_num_int]\n",
    "            else:\n",
    "                exposed_residues_by_chain[res_chain].append(res_num_int)\n",
    "    \n",
    "    #initialize list of text to write file encoding NGL structure for html\n",
    "    text_lines = []\n",
    "    \n",
    "    #what color to put on surface\n",
    "    surface_color = \"6C7593\"\n",
    "\n",
    "    \n",
    "    #make color map for each chain\n",
    "    chain_schemes = {}\n",
    "    for chain in chains:\n",
    "        scheme_id = f'{chain}_surface_scheme'\n",
    "        chain_schemes[chain] = scheme_id\n",
    "\n",
    "        coloring_code_lines = [f\"var {scheme_id} = NGL.ColormakerRegistry.addScheme(function (params) {{\", \n",
    "                               \"this.atomColor = function (atom) {\", \"if (atom.resno == 0) {return 0xe7e7e7}\"]\n",
    "        \n",
    "\n",
    "        coloring_code_lines.append(f\"else if ({exposed_residues_by_chain[chain]}.includes(atom.resno)) {{return 0x{surface_color}}}\") \n",
    "        \n",
    "        coloring_code_lines.append(\"else {return 0xe7e7e7}\")\n",
    "        coloring_code_lines.append((\"}})\"))\n",
    "        coloring_code_lines.append((\"\\n\"))\n",
    "\n",
    "        text_lines += coloring_code_lines\n",
    "    \n",
    "\n",
    "    if subtype:\n",
    "        ngl_filename = f'../../../atlas-of-viral-adaptation/{virus}_{subtype}/assets/{virus}_{subtype}_{surface_exposure}a_surface_colorScheme.txt'\n",
    "    else:\n",
    "        ngl_filename = f'../../../atlas-of-viral-adaptation/{virus}/assets/{virus}_{surface_exposure}a_surface_colorScheme.txt'     \n",
    "\n",
    "                \n",
    "        \n",
    "    with open(ngl_filename, 'w') as f:\n",
    "        for line in text_lines:\n",
    "            f.write(line)\n",
    "            f.write('\\n')"
   ]
  },
  {
   "cell_type": "code",
   "execution_count": 74,
   "id": "677c1133",
   "metadata": {},
   "outputs": [],
   "source": [
    "write_ngl_file('4fnk', ['A', 'B'], 'h3n2', None, '15')"
   ]
  },
  {
   "cell_type": "code",
   "execution_count": 76,
   "id": "6b04e7e3",
   "metadata": {},
   "outputs": [],
   "source": [
    "write_ngl_file('6u7h', ['A'], '229e', None, '15')"
   ]
  },
  {
   "cell_type": "code",
   "execution_count": 77,
   "id": "8c34f2c5",
   "metadata": {},
   "outputs": [],
   "source": [
    "write_ngl_file('6ohw', ['A'], 'oc43', 'a', '15')"
   ]
  },
  {
   "cell_type": "code",
   "execution_count": 78,
   "id": "045079c2",
   "metadata": {},
   "outputs": [],
   "source": [
    "write_ngl_file('4nrj', ['A', 'B'], 'vic', None, '15')"
   ]
  },
  {
   "cell_type": "code",
   "execution_count": 75,
   "id": "5f2fc167",
   "metadata": {},
   "outputs": [],
   "source": [
    "write_ngl_file('4m4y', ['A', 'B'], 'h1n1pdm', None, '15')"
   ]
  }
 ],
 "metadata": {
  "kernelspec": {
   "display_name": "Python 3 (ipykernel)",
   "language": "python",
   "name": "python3"
  },
  "language_info": {
   "codemirror_mode": {
    "name": "ipython",
    "version": 3
   },
   "file_extension": ".py",
   "mimetype": "text/x-python",
   "name": "python",
   "nbconvert_exporter": "python",
   "pygments_lexer": "ipython3",
   "version": "3.9.7"
  }
 },
 "nbformat": 4,
 "nbformat_minor": 5
}
