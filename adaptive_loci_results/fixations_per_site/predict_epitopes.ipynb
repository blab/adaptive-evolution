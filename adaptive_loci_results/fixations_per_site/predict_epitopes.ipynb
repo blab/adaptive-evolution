{
 "cells": [
  {
   "cell_type": "markdown",
   "id": "21581e8e",
   "metadata": {},
   "source": [
    "#### Predict epitopes based on residues that:\n",
    "1. are surface-exposed\n",
    "2. have nonsyn fixations (or near-fixations)\n",
    "3. cluster with other surface-exposed residues with nonsyn fixations"
   ]
  },
  {
   "cell_type": "code",
   "execution_count": 133,
   "id": "90ef8152",
   "metadata": {},
   "outputs": [],
   "source": [
    "import ast\n",
    "import random\n",
    "import pandas as pd\n",
    "from Bio import SeqIO"
   ]
  },
  {
   "cell_type": "code",
   "execution_count": 2,
   "id": "6e98a50a",
   "metadata": {},
   "outputs": [],
   "source": [
    "def get_fixation_results(virus, subtype, gene, mutation_type):\n",
    "    \"\"\"\n",
    "    Read in the codon-specific rates of adaptation as inferred by bhatt_nextstrain-epitopes\n",
    "    \"\"\"\n",
    "    if subtype:\n",
    "        path_to_results = f'results/{virus}_{subtype}_{gene}_{mutation_type}_fixations.csv'\n",
    "    \n",
    "    else:\n",
    "        path_to_results = f'results/{virus}_{gene}_{mutation_type}_fixations.csv'\n",
    "    \n",
    "    #read in results listed the number of fixations (or near fixations) at each codon\n",
    "    fixations_df = pd.read_csv(path_to_results)\n",
    "    \n",
    "    \n",
    "    codons = list(fixations_df['codon'])\n",
    "    fixation_counts = list(fixations_df[f'{mutation_type}_fixations'])\n",
    "    \n",
    "    fixation_counts_by_codon = []\n",
    "    for x in range(len(codons)):\n",
    "        fixation_counts_by_codon.append((codons[x], fixation_counts[x]))\n",
    "        \n",
    "    return fixation_counts_by_codon"
   ]
  },
  {
   "cell_type": "code",
   "execution_count": 113,
   "id": "400e84e9",
   "metadata": {},
   "outputs": [],
   "source": [
    "def adjust_fixation_result_coordinates(virus, subtype, gene, mutation_type):\n",
    "    \"\"\"\n",
    "    Some pdb files list different subunits as different chains, while other list them as part of the same. \n",
    "    This will affect the chains and residue number. \n",
    "    Adjust coordinates from fixation results to be consistent with \n",
    "    \"\"\"\n",
    "    \n",
    "    #get the list of codons and fixation counts at these codons\n",
    "    fixation_counts_by_codon = get_fixation_results(virus, subtype, gene, mutation_type)\n",
    "    #then adjust codon coordinates to be consistent with PDB chains and coordinates\n",
    "    \n",
    "    #will need to do this somewhat manually for each virus based on the pdb file \n",
    "    reference_file_paths =  {'h3n2':{None:{'ha':f'../../../seasonal-flu/config/reference_h3n2_{gene}.gb'}}, \n",
    "                             'h1n1pdm':{None:{'ha':f'../../../seasonal-flu/config/reference_h1n1pdm_{gene}.gb'}},\n",
    "                             'vic':{None:{'ha':f'../../../seasonal-flu/config/reference_vic_{gene}.gb'}},\n",
    "                             'yam':{None:{'ha':f'../../../seasonal-flu/config/reference_yam_{gene}.gb'}},\n",
    "                             'oc43':{'a':{'spike':f'../../../seasonal-cov/oc43/separate_lineages/config/oc43_{gene}_reference.gb'}}, \n",
    "                             '229e':{None:{'spike':f'../../../seasonal-cov/229e/config/229e_{gene}_reference.gb'}},\n",
    "                             'nl63':{None:{'spike':f'../../../seasonal-cov/nl63/config/nl63_{gene}_reference.gb'}},\n",
    "                             'measles':{None:{'h':f'../../../measles/config/measles_reference.gb'}}, \n",
    "                             'mumps':{None:{'hn':f'../../../mumps/config/mumps_reference.gb'}}}\n",
    "    \n",
    "    reference_file = reference_file_paths[virus][subtype][gene]\n",
    "    \n",
    "    #some pdb files have subunits listed as separate chains, some have the listed as one\n",
    "    chainA_subunit = {'h3n2':'ha1', 'h1n1pdm':'ha1', 'oc43':'spike', '229e':'spike', 'nl63':'spike', \n",
    "                      'vic': 'ha1', 'yam': 'ha1', 'measles':'h', 'mumps':'hn'}\n",
    "    chainB_subunit = {'h3n2':'ha2', 'h1n1pdm':'ha2', 'vic': 'ha2', 'yam': 'ha2'}\n",
    "    #some have different chains, but coordinate numbers continue\n",
    "    continue_A_nums_to_B = []\n",
    "    \n",
    "    for seq_record in SeqIO.parse(reference_file, \"genbank\"):\n",
    "        for feature in seq_record.features:\n",
    "            if feature.type == 'CDS':\n",
    "                if 'gene' in feature.qualifiers.keys():\n",
    "                    if feature.qualifiers['gene'][0].lower() == chainA_subunit[virus]:\n",
    "                        chainA_len = len(feature.location.extract(seq_record.seq).translate())\n",
    "\n",
    "\n",
    "    \n",
    "    \n",
    "    fixation_counts_adjusted_coordinates = []\n",
    "    \n",
    "    for x in fixation_counts_by_codon:\n",
    "        codon = int(x[0])\n",
    "        #chainA coordinates should already be adjusted to the proper coordinates \n",
    "        #when they were saved by epitopes-count-fixations.ipynb\n",
    "        if codon <= chainA_len:\n",
    "            chain = 'A'\n",
    "            #add 1 for 1-based instead of 0. Noticed all coordinates were off by one\n",
    "            adjusted_codon = codon\n",
    "        #but need to change chainB coordinates\n",
    "        elif codon > chainA_len:\n",
    "            chain = 'B'\n",
    "            if virus in continue_A_nums_to_B:\n",
    "                adjusted_codon = codon\n",
    "\n",
    "            else:\n",
    "                adjusted_codon = codon-chainA_len\n",
    "        fixation_counts_adjusted_coordinates.append((f'{chain}_{adjusted_codon}', x[1]))\n",
    "        \n",
    "    \n",
    "    return fixation_counts_adjusted_coordinates\n",
    "        "
   ]
  },
  {
   "cell_type": "code",
   "execution_count": 5,
   "id": "e02a1dd6",
   "metadata": {},
   "outputs": [],
   "source": [
    "def get_exposure_results(virus, subtype, exposure_cutoff):\n",
    "    \"\"\"\n",
    "    Read in the file listing all residues that have at least `exposure` square angstroms exposed to the solvent \n",
    "    \"\"\"\n",
    "    \n",
    "    if subtype:\n",
    "        with open(f'results/{virus}_{subtype}_surfaceresidues_{exposure_cutoff}angstrom.txt') as f:\n",
    "            lines = f.readlines()\n",
    "    else:\n",
    "        with open(f'results/{virus}_surfaceresidues_{exposure_cutoff}angstrom.txt') as f:\n",
    "            lines = f.readlines()\n",
    "\n",
    "    #remove duplicates\n",
    "    lines = list(set(lines))\n",
    "    \n",
    "    #list of chain_residue\n",
    "    exposed_residues = []\n",
    "    \n",
    "    for res in lines:\n",
    "        chain = ast.literal_eval(res)[0]\n",
    "        residue = ast.literal_eval(res)[1]\n",
    "        exposed_residues.append(f'{chain}_{residue}')\n",
    "            \n",
    "    return exposed_residues"
   ]
  },
  {
   "cell_type": "code",
   "execution_count": 6,
   "id": "a6b41423",
   "metadata": {},
   "outputs": [],
   "source": [
    "def get_union_exposure_and_fixation(virus, subtype, gene, mutation_type, exposure_cutoff):\n",
    "    \"\"\"\n",
    "    Find residues that are exposed and have fixations\n",
    "    \"\"\"\n",
    "    \n",
    "    #fixations at each codon\n",
    "    fixations_counts_by_codon = adjust_fixation_result_coordinates(virus, subtype, gene, mutation_type)\n",
    "    \n",
    "    #list of exposed residues (at specified cutoff, in square angstroms)\n",
    "    exposed_residues = get_exposure_results(virus, subtype, exposure_cutoff)\n",
    "    \n",
    "    #initialize list to store exposed residues with fixations\n",
    "    exposed_residues_w_fixations = []\n",
    "    \n",
    "    for x in fixations_counts_by_codon:\n",
    "        #if there are any fixations\n",
    "        fixations = x[1]\n",
    "        if fixations>0:\n",
    "            chain_codon = x[0]\n",
    "            #if this codon is exposed\n",
    "            if chain_codon in exposed_residues:\n",
    "                chain = chain_codon.split('_')[0]\n",
    "                residue = chain_codon.split('_')[1]\n",
    "                exposed_residues_w_fixations.append((chain, residue, fixations))\n",
    "                \n",
    "    return exposed_residues_w_fixations\n",
    "    "
   ]
  },
  {
   "cell_type": "code",
   "execution_count": 35,
   "id": "6d301073",
   "metadata": {},
   "outputs": [],
   "source": [
    "def save_exposed_residues_w_fixations(virus, subtype, gene, mutation_type, exposure_cutoff):\n",
    "\n",
    "    exposed_residues_w_fixations = get_union_exposure_and_fixation(virus, subtype, gene, mutation_type, exposure_cutoff)\n",
    "    #just save chain and residue number, not also number of fixations\n",
    "    exposed_residues_w_fixations = [(x[0], x[1]) for x in exposed_residues_w_fixations]\n",
    "    \n",
    "    if subtype:\n",
    "        save_filename = f'results/fixed_exposed_{virus}_{subtype}_{mutation_type}_{exposure_cutoff}.txt'\n",
    "    else:\n",
    "        save_filename = f'results/fixed_exposed_{virus}_{mutation_type}_{exposure_cutoff}.txt'\n",
    "    with open(save_filename, 'w') as f:\n",
    "        for line in exposed_residues_w_fixations:\n",
    "            f.write(str(line))\n",
    "            f.write('\\n')\n",
    "            \n",
    "            \n",
    "    "
   ]
  },
  {
   "cell_type": "code",
   "execution_count": 36,
   "id": "70ace2e5",
   "metadata": {},
   "outputs": [],
   "source": [
    "save_exposed_residues_w_fixations('h3n2', None, 'ha', 'nonsyn', 15)"
   ]
  },
  {
   "cell_type": "code",
   "execution_count": 37,
   "id": "1b744ade",
   "metadata": {},
   "outputs": [],
   "source": [
    "save_exposed_residues_w_fixations('229e', None, 'spike', 'nonsyn', 15)"
   ]
  },
  {
   "cell_type": "code",
   "execution_count": 25,
   "id": "252395fb",
   "metadata": {},
   "outputs": [],
   "source": [
    "save_exposed_residues_w_fixations('oc43', 'a', 'spike', 'nonsyn', 15)"
   ]
  },
  {
   "cell_type": "code",
   "execution_count": 115,
   "id": "0abed604",
   "metadata": {},
   "outputs": [],
   "source": [
    "save_exposed_residues_w_fixations('nl63', None, 'spike', 'nonsyn', 20)"
   ]
  },
  {
   "cell_type": "code",
   "execution_count": 63,
   "id": "4d028ff3",
   "metadata": {},
   "outputs": [],
   "source": [
    "save_exposed_residues_w_fixations('vic', None, 'ha', 'nonsyn', 20)"
   ]
  },
  {
   "cell_type": "code",
   "execution_count": 72,
   "id": "6384c85a",
   "metadata": {},
   "outputs": [],
   "source": [
    "save_exposed_residues_w_fixations('h1n1pdm', None, 'ha', 'nonsyn', 15)"
   ]
  },
  {
   "cell_type": "code",
   "execution_count": 79,
   "id": "52b201f3",
   "metadata": {},
   "outputs": [],
   "source": [
    "save_exposed_residues_w_fixations('yam', None, 'ha', 'nonsyn', 15)"
   ]
  },
  {
   "cell_type": "code",
   "execution_count": 87,
   "id": "7d8fee61",
   "metadata": {},
   "outputs": [],
   "source": [
    "save_exposed_residues_w_fixations('measles', None, 'h', 'nonsyn', 20)"
   ]
  },
  {
   "cell_type": "code",
   "execution_count": 100,
   "id": "1549c48c",
   "metadata": {},
   "outputs": [],
   "source": [
    "save_exposed_residues_w_fixations('mumps', None, 'hn', 'nonsyn', 15)"
   ]
  },
  {
   "cell_type": "markdown",
   "id": "53cf24c1",
   "metadata": {},
   "source": [
    "##### Then, in pymol run:\n",
    "\n",
    "run /Users/katekistler/nextstrain/adaptive-evolution/adaptive_loci_results/fixations_per_site/saveClusters.py\n",
    "\n",
    "##### Then:\n",
    "\n",
    "saveClusters pdb=4fnk,virus=h3n2, subtype=None, gene=ha, mutation_type=nonsyn, exposure_cutoff=30, neighbor_cutoff=2\n",
    "\n",
    "- Can use: `delete all` and then rerun saveClusters with new parameters\n",
    "\n",
    "##### Then read in this info and make a .pml to color epitopes"
   ]
  },
  {
   "cell_type": "code",
   "execution_count": null,
   "id": "f81f612c",
   "metadata": {},
   "outputs": [],
   "source": []
  },
  {
   "cell_type": "code",
   "execution_count": null,
   "id": "51d1a82b",
   "metadata": {},
   "outputs": [],
   "source": []
  },
  {
   "cell_type": "code",
   "execution_count": 125,
   "id": "cf60819c",
   "metadata": {},
   "outputs": [],
   "source": [
    "def read_in_clusters(virus,subtype, mutation_type, exposure_cutoff, neighbor_cutoff):\n",
    "    \"\"\"\n",
    "    Read in clusters of surface-exposed residues with fixations (or near fixations) that \n",
    "    were found by running saveClusters.py in pymol \n",
    "    \"\"\"\n",
    "    \n",
    "    if subtype:\n",
    "        with open(f'results/clusters/{virus}_{subtype}_{mutation_type}_{exposure_cutoff}_{neighbor_cutoff}_clusters.txt') as f:\n",
    "            lines = f.readlines()\n",
    "    else:\n",
    "        with open(f'results/clusters/{virus}_{mutation_type}_{exposure_cutoff}_{neighbor_cutoff}_clusters.txt') as f:\n",
    "            lines = f.readlines()\n",
    "    \n",
    "    clusters_dict = ast.literal_eval(lines[0])\n",
    "    \n",
    "    \n",
    "    return clusters_dict\n",
    "    "
   ]
  },
  {
   "cell_type": "code",
   "execution_count": 116,
   "id": "4b3742a6",
   "metadata": {},
   "outputs": [],
   "source": [
    "#based on the pdb files, chains that are identical to chains A or B, in the trimer (or dimer)\n",
    "multimerization_chains = {'h3n2':{'A':['C', 'E'], 'B':['D', 'F']}, \n",
    "                        'h1n1pdm':{'A':['C', 'E'], 'B':['D', 'F']}, \n",
    "                        'vic':{'A':['C', 'E'], 'B':['D', 'F']}, \n",
    "                        'yam':{'A':['C', 'E'], 'B':['D', 'F']}, \n",
    "                        'oc43':{'A':['B','C']}, \n",
    "                        '229e':{'A':['B','C']}, \n",
    "                          'nl63':{'A':['B','C']},\n",
    "                        'measles': {'A':['B']}, \n",
    "                          'mumps': {'A':['B']}}"
   ]
  },
  {
   "cell_type": "code",
   "execution_count": 89,
   "id": "94cfd970",
   "metadata": {},
   "outputs": [],
   "source": [
    "#specific pymol setting depending on pdb structure\n",
    "pymol_settings = {'vic': ['set assembly, 1'], 'measles': ['remove chain C', 'remove chain D']}"
   ]
  },
  {
   "cell_type": "code",
   "execution_count": 90,
   "id": "99c3f1da",
   "metadata": {},
   "outputs": [],
   "source": [
    "def write_pml_file_clusters(pdb_accession, virus, subtype, mutation_type, \n",
    "                            exposure_cutoff, neighbor_cutoff, multimerize=True):\n",
    "    \"\"\"\n",
    "    Write a pml file to color structure by residues that are in clusters of surface residues with nonsyn fixations\n",
    "    \"\"\"\n",
    "    \n",
    "    cluster_dict = read_in_clusters(virus,subtype, mutation_type, exposure_cutoff, neighbor_cutoff)\n",
    "\n",
    "    #see if there are any specific pymol settings for this virus' pdb file\n",
    "    extra_text_lines=False\n",
    "    if virus in pymol_settings.keys():\n",
    "        extra_text_lines = pymol_settings[virus]\n",
    "\n",
    "    \n",
    "    \n",
    "    fetch_pdb = f\"fetch {pdb_accession}\"\n",
    "    text_lines = [fetch_pdb, \"bg_color white\", \"color 0xfaf7fa\", \"show surface\", \"hide sticks\",\n",
    "                  \"remove resname SO4\", \"remove solvent\", \"set seq_view, 1\"]\n",
    "    if extra_text_lines:\n",
    "        text_lines = text_lines+extra_text_lines\n",
    "    \n",
    "    #colors for separate clusters\n",
    "#     cluster_colors = {1:'caafcb', 2:'a373a5', 3:'855787', 4:'bb97bc', 5:'dac7db', \n",
    "#                       6:'794f7b', 7:'d2bbd3', 8:'905e93', 9:'b38bb4', 10:'9b679d', \n",
    "#                       11:'c2a3c4', 12:'6d476f', 13:'caafcb', 14:'a373a5', 15:'855787', 16:'bb97bc'}\n",
    "    \n",
    "    for cluster_num, cluster_members in cluster_dict.items():\n",
    "        for cluster_member in cluster_members:\n",
    "            chain = cluster_member[0]\n",
    "            residue = cluster_member[1]\n",
    "            \n",
    "            text_lines.append(f\"select chain {chain} and resi {residue}\")\n",
    "            text_lines.append(f\"color 0x855787, sele\")\n",
    "            \n",
    "            if multimerize ==True:\n",
    "                other_chains = multimerization_chains[virus][chain]\n",
    "                for oc in other_chains:\n",
    "                    text_lines.append(f\"select chain {oc} and resi {residue}\")\n",
    "                    text_lines.append(f\"color 0x855787, sele\")\n",
    "\n",
    "        \n",
    "    if subtype:\n",
    "        pml_filename = f'pml_colormaps/{virus}_{subtype}_{mutation_type}_{exposure_cutoff}_{neighbor_cutoff}_epitopes.pml'\n",
    "    else:\n",
    "        pml_filename = f'pml_colormaps/{virus}_{mutation_type}_{exposure_cutoff}_{neighbor_cutoff}_epitopes.pml'\n",
    "    with open(pml_filename, 'w') as f:\n",
    "        for line in text_lines:\n",
    "            f.write(line)\n",
    "            f.write('\\n')"
   ]
  },
  {
   "cell_type": "code",
   "execution_count": 41,
   "id": "b7cd2985",
   "metadata": {},
   "outputs": [],
   "source": [
    "write_pml_file_clusters('4fnk','h3n2', None, 'nonsyn', 15, 8)"
   ]
  },
  {
   "cell_type": "code",
   "execution_count": 44,
   "id": "b3296c4e",
   "metadata": {},
   "outputs": [],
   "source": [
    "write_pml_file_clusters('6u7h','229e', None, 'nonsyn', 15, 8)"
   ]
  },
  {
   "cell_type": "code",
   "execution_count": 93,
   "id": "049792a5",
   "metadata": {},
   "outputs": [],
   "source": [
    "write_pml_file_clusters('4fnk','h3n2', None, 'syn', 20, 4)"
   ]
  },
  {
   "cell_type": "code",
   "execution_count": 32,
   "id": "ce652b68",
   "metadata": {},
   "outputs": [],
   "source": [
    "write_pml_file_clusters('6ohw','oc43', 'a', 'nonsyn', 15, 8)"
   ]
  },
  {
   "cell_type": "code",
   "execution_count": 121,
   "id": "af95006b",
   "metadata": {},
   "outputs": [],
   "source": [
    "write_pml_file_clusters('5szs','nl63', None, 'nonsyn', 20, 6)"
   ]
  },
  {
   "cell_type": "code",
   "execution_count": 70,
   "id": "3ad9a84d",
   "metadata": {},
   "outputs": [],
   "source": [
    "write_pml_file_clusters('4nrj','vic', None, 'nonsyn', 15, 6)"
   ]
  },
  {
   "cell_type": "code",
   "execution_count": 77,
   "id": "84645262",
   "metadata": {},
   "outputs": [],
   "source": [
    "write_pml_file_clusters('4m4y','h1n1pdm', None, 'nonsyn', 15, 8)"
   ]
  },
  {
   "cell_type": "code",
   "execution_count": 84,
   "id": "02f5b3fd",
   "metadata": {},
   "outputs": [],
   "source": [
    "write_pml_file_clusters('4nrj','yam', None, 'nonsyn', 15, 8)"
   ]
  },
  {
   "cell_type": "code",
   "execution_count": 96,
   "id": "977e11d1",
   "metadata": {},
   "outputs": [],
   "source": [
    "write_pml_file_clusters('3inb','measles', None, 'nonsyn', 20, 8)"
   ]
  },
  {
   "cell_type": "code",
   "execution_count": 104,
   "id": "4c14fba0",
   "metadata": {},
   "outputs": [],
   "source": [
    "write_pml_file_clusters('6jjn','mumps', None, 'nonsyn', 15, 6)"
   ]
  },
  {
   "cell_type": "code",
   "execution_count": null,
   "id": "fe2d4572",
   "metadata": {},
   "outputs": [],
   "source": []
  },
  {
   "cell_type": "code",
   "execution_count": null,
   "id": "2e84e547",
   "metadata": {},
   "outputs": [],
   "source": [
    "run /Users/katekistler/nextstrain/adaptive-evolution/adaptive_loci_results/fixations_per_site/pml_colormaps/h3n2_nonsyn_30_3_epitopes.pml\n",
    "\n"
   ]
  },
  {
   "cell_type": "code",
   "execution_count": null,
   "id": "7ade8793",
   "metadata": {},
   "outputs": [],
   "source": []
  },
  {
   "cell_type": "code",
   "execution_count": 143,
   "id": "30daceda",
   "metadata": {},
   "outputs": [],
   "source": [
    "\n",
    "def write_pml_file_color_epitopes(pdb_accession, virus, subtype, mutation_type, \n",
    "                            exposure_cutoff, neighbor_cutoff, multimerize=True):\n",
    "    \"\"\"\n",
    "    Write a pml file to color structure according to clusters\n",
    "    \"\"\"\n",
    "    \n",
    "    cluster_dict = read_in_clusters(virus,subtype, mutation_type, exposure_cutoff, neighbor_cutoff)\n",
    "\n",
    "    #see if there are any specific pymol settings for this virus' pdb file\n",
    "    extra_text_lines=False\n",
    "    if virus in pymol_settings.keys():\n",
    "        extra_text_lines = pymol_settings[virus]\n",
    "\n",
    "    \n",
    "    \n",
    "    fetch_pdb = f\"fetch {pdb_accession}\"\n",
    "    text_lines = [fetch_pdb, \"bg_color white\", \"color 0xfaf7fa\", \"show surface\", \"hide sticks\",\n",
    "                  \"remove resname SO4\", \"remove solvent\", \"set seq_view, 1\"]\n",
    "    if extra_text_lines:\n",
    "        text_lines = text_lines+extra_text_lines\n",
    "    \n",
    "    #colors for separate clusters\n",
    "    colors_16 = ['f44336', 'e81e63','9c27b0','673ab7', '3f51b5', \n",
    "                 '2196f3','03a9f4','00bcd4','009688', '4caf50', \n",
    "                 '8bc34a', 'cddc39', 'ffeb3b', 'ffc107', 'ff9800', 'ff5722']\n",
    "    random.shuffle(colors_16)\n",
    "\n",
    "    cluster_colors = {x+1:colors_16[x] for x in range(0,16)}\n",
    "    \n",
    "    for cluster_num, cluster_members in cluster_dict.items():\n",
    "        for cluster_member in cluster_members:\n",
    "            chain = cluster_member[0]\n",
    "            residue = cluster_member[1]\n",
    "            \n",
    "            text_lines.append(f\"select chain {chain} and resi {residue}\")\n",
    "            text_lines.append(f\"color 0x{cluster_colors[cluster_num]}, sele\")\n",
    "            \n",
    "            if multimerize ==True:\n",
    "                other_chains = multimerization_chains[virus][chain]\n",
    "                for oc in other_chains:\n",
    "                    text_lines.append(f\"select chain {oc} and resi {residue}\")\n",
    "                    text_lines.append(f\"color 0x{cluster_colors[cluster_num]}, sele\")\n",
    "\n",
    "        \n",
    "    if subtype:\n",
    "        pml_filename = f'pml_colormaps/{virus}_{subtype}_{mutation_type}_{exposure_cutoff}_{neighbor_cutoff}_epitopes_separatecolors.pml'\n",
    "    else:\n",
    "        pml_filename = f'pml_colormaps/{virus}_{mutation_type}_{exposure_cutoff}_{neighbor_cutoff}_epitopes_separatecolors.pml'\n",
    "    with open(pml_filename, 'w') as f:\n",
    "        for line in text_lines:\n",
    "            f.write(line)\n",
    "            f.write('\\n')"
   ]
  },
  {
   "cell_type": "code",
   "execution_count": 149,
   "id": "ccb6e186",
   "metadata": {},
   "outputs": [],
   "source": [
    "write_pml_file_color_epitopes('4fnk','h3n2', None, 'nonsyn', 15, 4)"
   ]
  }
 ],
 "metadata": {
  "kernelspec": {
   "display_name": "Python 3 (ipykernel)",
   "language": "python",
   "name": "python3"
  },
  "language_info": {
   "codemirror_mode": {
    "name": "ipython",
    "version": 3
   },
   "file_extension": ".py",
   "mimetype": "text/x-python",
   "name": "python",
   "nbconvert_exporter": "python",
   "pygments_lexer": "ipython3",
   "version": "3.9.7"
  }
 },
 "nbformat": 4,
 "nbformat_minor": 5
}
