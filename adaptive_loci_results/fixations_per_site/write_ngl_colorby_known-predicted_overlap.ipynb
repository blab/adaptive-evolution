{
 "cells": [
  {
   "cell_type": "code",
   "execution_count": 65,
   "id": "4a6996c4",
   "metadata": {},
   "outputs": [],
   "source": [
    "import ast\n",
    "import random\n",
    "import matplotlib\n",
    "from matplotlib import cm"
   ]
  },
  {
   "cell_type": "code",
   "execution_count": 66,
   "id": "7312dac9",
   "metadata": {},
   "outputs": [],
   "source": [
    "def read_in_clusters(virus,subtype, mutation_type, exposure_cutoff, neighbor_cutoff):\n",
    "    \"\"\"\n",
    "    Read in clusters of surface-exposed residues with fixations (or near fixations) that \n",
    "    were found by running saveClusters.py in pymol \n",
    "    \"\"\"\n",
    "    \n",
    "    if subtype:\n",
    "        with open(f'results/clusters/{virus}_{subtype}_{mutation_type}_{exposure_cutoff}_{neighbor_cutoff}_clusters.txt') as f:\n",
    "            lines = f.readlines()\n",
    "    else:\n",
    "        with open(f'results/clusters/{virus}_{mutation_type}_{exposure_cutoff}_{neighbor_cutoff}_clusters.txt') as f:\n",
    "            lines = f.readlines()\n",
    "    \n",
    "    clusters_dict = ast.literal_eval(lines[0])\n",
    "    \n",
    "    \n",
    "    return clusters_dict"
   ]
  },
  {
   "cell_type": "code",
   "execution_count": 67,
   "id": "3e6e9d10",
   "metadata": {},
   "outputs": [],
   "source": [
    "#EPITOPES OR RBDS\n",
    "\n",
    "#h3n2 source: https://www.pnas.org/doi/10.1073/pnas.0701396104\n",
    "#layered dict keys are: virus, chain, epitope name\n",
    "\n",
    "#229e source: https://elifesciences.org/articles/51230\n",
    "known_epitopes_by_virus = {'h3n2': {'A':{'A':[122, 124, 126, 131, 133, 135, 137, 142, 143, 144, 145, 146], \n",
    "                           'B':[155, 156, 157, 158, 159, 160, 163, 164, 186, 188, 189, 190, 192, 193, 196, 197], \n",
    "                           'C':[50, 53, 54, 275, 276, 278, 299, 307], \n",
    "                           'D': [121, 172, 173, 174, 201, 207, 213, 217, 226, 227, 242, 244, 248], \n",
    "                           'E': [57, 62, 63, 67, 75, 78, 81, 82, 83, 92, 94, 260, 262], \n",
    "                            'und': [2,3,5,25,33,106,202,22,225,271]}, \n",
    "                            'B':{}}, \n",
    "                           '229e': {'A': {'RBD': [308, 309, 310, 311, 312, 313, 314, 315, 316, 317, \n",
    "                                                  318, 319, 320, 321, 322, 323, 324,325, 352, 353, \n",
    "                                                  354, 355, 356, 357, 358, 359, 404, 405, 406, 407, 408]}}}"
   ]
  },
  {
   "cell_type": "code",
   "execution_count": 99,
   "id": "3597ccef",
   "metadata": {},
   "outputs": [],
   "source": [
    "def write_ngl_file_epitope_overlap(pdb_accession, virus, subtype, mutation_type, \n",
    "                            exposure_cutoff, neighbor_cutoff):\n",
    "    \"\"\"\n",
    "    Write a ngl file to color structure by overlap between known epitopes (or RBD) and those predicted by clusters\n",
    "    \n",
    "    \"\"\"\n",
    "    \n",
    "    cluster_dict = read_in_clusters(virus,subtype, mutation_type, exposure_cutoff, neighbor_cutoff)\n",
    "\n",
    "    #all residues in the cluster, as dictionary where key is chain and value is list of residues\n",
    "    all_res_predicted_epitopes = {}\n",
    "    for cluster_num, cluster_members in cluster_dict.items():\n",
    "        for cluster_member in cluster_members:\n",
    "            chain = cluster_member[0]\n",
    "            res_num = cluster_member[1]\n",
    "\n",
    "            if res_num.isnumeric():\n",
    "                res_num_int = int(res_num)\n",
    "                if chain in all_res_predicted_epitopes.keys():\n",
    "                    all_res_predicted_epitopes[chain].append(res_num_int)\n",
    "                else:\n",
    "                    all_res_predicted_epitopes[chain] = [res_num_int]\n",
    "\n",
    "    \n",
    "\n",
    "                    \n",
    "    known_epitopes = known_epitopes_by_virus[virus]\n",
    "    all_res_in_known_epitopes = {chain: [item for sublist in list(epis.values()) for item in sublist] for chain, epis in known_epitopes.items()}\n",
    "    \n",
    "    # find which predicted residues are in known epitopes, and which aren't \n",
    "    overlap = {c:{} for c in all_res_predicted_epitopes.keys()}\n",
    "    for c, r in all_res_predicted_epitopes.items():\n",
    "        known_epi_in_chain = all_res_in_known_epitopes[c]\n",
    "        overlap_in_chain = list(set(r) & set(known_epi_in_chain))\n",
    "        overlap[c]['overlap'] = overlap_in_chain\n",
    "        \n",
    "        only_predicted = list(set(r) - set(known_epi_in_chain))\n",
    "        overlap[c]['only_predicted'] = only_predicted\n",
    "        only_known = list(set(known_epi_in_chain) - set(r))\n",
    "        overlap[c]['only_known'] = only_known\n",
    "        \n",
    "    \n",
    "                \n",
    "    #colors for overlap, only_predicted clusters, and only_known epitopes    \n",
    "#     viridis = matplotlib.cm.get_cmap('viridis', 3)\n",
    "#     rgba_colors = [viridis.colors[x] for x in range(3)] \n",
    "#     hex_colors = [matplotlib.colors.to_hex(x)[1:] for x in rgba_colors]\n",
    "    hex_colors = ['ffd000', 'ff5000', '6a6a6a']\n",
    "    ##ffa500\n",
    "    cmap = {'only_predicted':hex_colors[0], 'overlap': hex_colors[1], 'only_known': hex_colors[2]}\n",
    "\n",
    "\n",
    "        #initialize list of text to write file encoding NGL structure for html\n",
    "    text_lines = []\n",
    "    \n",
    "    #make color map for each chain\n",
    "    chain_schemes = {}\n",
    "    \n",
    "    #all chains\n",
    "    chains = []\n",
    "\n",
    "    \n",
    "    for chain, overlap_by_chain in overlap.items():\n",
    "        scheme_id = f'{chain}_epitope_overlap_scheme'\n",
    "        chain_schemes[chain] = scheme_id\n",
    "        chains.append(chain)\n",
    "        coloring_code_lines = [f\"var {scheme_id} = NGL.ColormakerRegistry.addScheme(function (params) {{\", \n",
    "                       \"this.atomColor = function (atom) {\", \"if (atom.resno == 0) {return 0xf0f0f0}\"]\n",
    "        \n",
    "        \n",
    "        \n",
    "            \n",
    "        for overlap_kind, residues in overlap_by_chain.items(): \n",
    "            coloring_code_lines.append(f\"else if ({residues}.includes(atom.resno)) {{return 0x{cmap[overlap_kind]}}}\")\n",
    "\n",
    "                    \n",
    "        coloring_code_lines.append(\"else {return 0xf0f0f0}\")\n",
    "        coloring_code_lines.append((\"}})\"))\n",
    "        coloring_code_lines.append((\"\\n\"))\n",
    "\n",
    "        text_lines += coloring_code_lines\n",
    "\n",
    "        \n",
    "    if subtype:\n",
    "        ngl_filename = f'../../../atlas-of-viral-adaptation/{virus}_{subtype}/assets/{virus}_{subtype}_{mutation_type}_{exposure_cutoff}_{neighbor_cutoff}_overlap-knownepitopes_colorScheme.txt'\n",
    "    else:\n",
    "        ngl_filename = f'../../../atlas-of-viral-adaptation/{virus}/assets/{virus}_{mutation_type}_{exposure_cutoff}_{neighbor_cutoff}_overlap-knownepitopes_colorScheme.txt'\n",
    "    with open(ngl_filename, 'w') as f:\n",
    "        for line in text_lines:\n",
    "            f.write(line)\n",
    "            f.write('\\n')\n",
    "            "
   ]
  },
  {
   "cell_type": "code",
   "execution_count": 100,
   "id": "bfc98137",
   "metadata": {},
   "outputs": [],
   "source": [
    "#Webster and Laver identified four antigenic sites on the surface of H3 HA (A–D) by competition assays (https://www.sciencedirect.com/science/article/pii/0042682280903724)\n",
    "#and Skehel identified a fifth antigenic site, E (https://www.pnas.org/doi/abs/10.1073/pnas.81.6.1779)\n",
    "#6th from Shih et al\n",
    "write_ngl_file_epitope_overlap('4fnk', 'h3n2', None, 'nonsyn', \n",
    "                            15, 8)"
   ]
  },
  {
   "cell_type": "code",
   "execution_count": 101,
   "id": "fffcfe86",
   "metadata": {},
   "outputs": [],
   "source": [
    "#RBD from https://elifesciences.org/articles/51230\n",
    "write_ngl_file_epitope_overlap('6u7h', '229e', None, 'nonsyn', \n",
    "                            15, 8)"
   ]
  },
  {
   "cell_type": "code",
   "execution_count": 72,
   "id": "61f52c34",
   "metadata": {},
   "outputs": [
    {
     "ename": "KeyError",
     "evalue": "'oc43'",
     "output_type": "error",
     "traceback": [
      "\u001b[0;31m---------------------------------------------------------------------------\u001b[0m",
      "\u001b[0;31mKeyError\u001b[0m                                  Traceback (most recent call last)",
      "Input \u001b[0;32mIn [72]\u001b[0m, in \u001b[0;36m<cell line: 1>\u001b[0;34m()\u001b[0m\n\u001b[0;32m----> 1\u001b[0m \u001b[43mwrite_ngl_file_epitope_overlap\u001b[49m\u001b[43m(\u001b[49m\u001b[38;5;124;43m'\u001b[39;49m\u001b[38;5;124;43m6ohw\u001b[39;49m\u001b[38;5;124;43m'\u001b[39;49m\u001b[43m,\u001b[49m\u001b[43m \u001b[49m\u001b[38;5;124;43m'\u001b[39;49m\u001b[38;5;124;43moc43\u001b[39;49m\u001b[38;5;124;43m'\u001b[39;49m\u001b[43m,\u001b[49m\u001b[43m \u001b[49m\u001b[38;5;124;43m'\u001b[39;49m\u001b[38;5;124;43ma\u001b[39;49m\u001b[38;5;124;43m'\u001b[39;49m\u001b[43m,\u001b[49m\u001b[43m \u001b[49m\u001b[38;5;124;43m'\u001b[39;49m\u001b[38;5;124;43mnonsyn\u001b[39;49m\u001b[38;5;124;43m'\u001b[39;49m\u001b[43m,\u001b[49m\u001b[43m \u001b[49m\n\u001b[1;32m      2\u001b[0m \u001b[43m                            \u001b[49m\u001b[38;5;241;43m15\u001b[39;49m\u001b[43m,\u001b[49m\u001b[43m \u001b[49m\u001b[38;5;241;43m8\u001b[39;49m\u001b[43m)\u001b[49m\n",
      "Input \u001b[0;32mIn [68]\u001b[0m, in \u001b[0;36mwrite_ngl_file_epitope_overlap\u001b[0;34m(pdb_accession, virus, subtype, mutation_type, exposure_cutoff, neighbor_cutoff)\u001b[0m\n\u001b[1;32m     21\u001b[0m             \u001b[38;5;28;01melse\u001b[39;00m:\n\u001b[1;32m     22\u001b[0m                 all_res_predicted_epitopes[chain] \u001b[38;5;241m=\u001b[39m [res_num_int]\n\u001b[0;32m---> 27\u001b[0m known_epitopes \u001b[38;5;241m=\u001b[39m \u001b[43mknown_epitopes_by_virus\u001b[49m\u001b[43m[\u001b[49m\u001b[43mvirus\u001b[49m\u001b[43m]\u001b[49m\n\u001b[1;32m     28\u001b[0m all_res_in_known_epitopes \u001b[38;5;241m=\u001b[39m {chain: [item \u001b[38;5;28;01mfor\u001b[39;00m sublist \u001b[38;5;129;01min\u001b[39;00m \u001b[38;5;28mlist\u001b[39m(epis\u001b[38;5;241m.\u001b[39mvalues()) \u001b[38;5;28;01mfor\u001b[39;00m item \u001b[38;5;129;01min\u001b[39;00m sublist] \u001b[38;5;28;01mfor\u001b[39;00m chain, epis \u001b[38;5;129;01min\u001b[39;00m known_epitopes\u001b[38;5;241m.\u001b[39mitems()}\n\u001b[1;32m     30\u001b[0m \u001b[38;5;66;03m# find which predicted residues are in known epitopes, and which aren't \u001b[39;00m\n",
      "\u001b[0;31mKeyError\u001b[0m: 'oc43'"
     ]
    }
   ],
   "source": [
    "write_ngl_file_epitope_overlap('6ohw', 'oc43', 'a', 'nonsyn', \n",
    "                            15, 8)"
   ]
  },
  {
   "cell_type": "code",
   "execution_count": null,
   "id": "83267d3c",
   "metadata": {},
   "outputs": [],
   "source": [
    "write_ngl_file_epitope_overlap('4nrj', 'vic', None, 'nonsyn', \n",
    "                            15, 8)"
   ]
  },
  {
   "cell_type": "code",
   "execution_count": null,
   "id": "0cb64429",
   "metadata": {},
   "outputs": [],
   "source": [
    "write_ngl_file_epitope_overlap('4m4y', 'h1n1pdm', None, 'nonsyn', \n",
    "                            15, 8)"
   ]
  }
 ],
 "metadata": {
  "kernelspec": {
   "display_name": "Python 3 (ipykernel)",
   "language": "python",
   "name": "python3"
  },
  "language_info": {
   "codemirror_mode": {
    "name": "ipython",
    "version": 3
   },
   "file_extension": ".py",
   "mimetype": "text/x-python",
   "name": "python",
   "nbconvert_exporter": "python",
   "pygments_lexer": "ipython3",
   "version": "3.9.7"
  }
 },
 "nbformat": 4,
 "nbformat_minor": 5
}
