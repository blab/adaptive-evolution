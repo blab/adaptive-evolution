{
 "cells": [
  {
   "cell_type": "code",
   "execution_count": 50,
   "id": "4a6996c4",
   "metadata": {},
   "outputs": [],
   "source": [
    "import ast\n",
    "import random\n",
    "import matplotlib\n",
    "from matplotlib import cm"
   ]
  },
  {
   "cell_type": "code",
   "execution_count": 1,
   "id": "7312dac9",
   "metadata": {},
   "outputs": [],
   "source": [
    "def read_in_clusters(virus,subtype, mutation_type, exposure_cutoff, neighbor_cutoff):\n",
    "    \"\"\"\n",
    "    Read in clusters of surface-exposed residues with fixations (or near fixations) that \n",
    "    were found by running saveClusters.py in pymol \n",
    "    \"\"\"\n",
    "    \n",
    "    if subtype:\n",
    "        with open(f'results/clusters/{virus}_{subtype}_{mutation_type}_{exposure_cutoff}_{neighbor_cutoff}_clusters.txt') as f:\n",
    "            lines = f.readlines()\n",
    "    else:\n",
    "        with open(f'results/clusters/{virus}_{mutation_type}_{exposure_cutoff}_{neighbor_cutoff}_clusters.txt') as f:\n",
    "            lines = f.readlines()\n",
    "    \n",
    "    clusters_dict = ast.literal_eval(lines[0])\n",
    "    \n",
    "    \n",
    "    return clusters_dict"
   ]
  },
  {
   "cell_type": "code",
   "execution_count": 87,
   "id": "3597ccef",
   "metadata": {},
   "outputs": [],
   "source": [
    "def write_ngl_file_epitopes(pdb_accession, virus, subtype, mutation_type, \n",
    "                            exposure_cutoff, neighbor_cutoff):\n",
    "    \"\"\"\n",
    "    Write a ngl file to color structure by residues that are in clusters of surface residues with nonsyn fixations\n",
    "    \"\"\"\n",
    "    \n",
    "    cluster_dict = read_in_clusters(virus,subtype, mutation_type, exposure_cutoff, neighbor_cutoff)\n",
    "    #restructure dict to have chain as key with dictionary as value\n",
    "    # that dictionary will have key as cluster number and list of residues in that cluster as values\n",
    "    chain_clusters_dict = {}\n",
    "    for cluster_num, cluster_members in cluster_dict.items():\n",
    "        for cluster_member in cluster_members:\n",
    "            chain = cluster_member[0]\n",
    "            res_num = cluster_member[1]\n",
    "            \n",
    "            if res_num.isnumeric():\n",
    "                res_num_int = int(res_num)\n",
    "            else:\n",
    "                pass\n",
    "            \n",
    "            if chain not in chain_clusters_dict.keys():\n",
    "                chain_clusters_dict[chain] = {cluster_num:[res_num_int]}\n",
    "            else:\n",
    "                if cluster_num not in chain_clusters_dict[chain].keys():\n",
    "                    chain_clusters_dict[chain][cluster_num] = [res_num_int]\n",
    "                else:\n",
    "                    chain_clusters_dict[chain][cluster_num].append(res_num_int)\n",
    "                \n",
    "    #colors for separate clusters\n",
    "    num_clusters = len(cluster_dict.keys())\n",
    "    \n",
    "    viridis = matplotlib.cm.get_cmap('viridis', num_clusters)\n",
    "    rgba_colors = [viridis.colors[x] for x in range(num_clusters)] \n",
    "    hex_colors = [matplotlib.colors.to_hex(x)[1:] for x in rgba_colors]\n",
    "    \n",
    "    random.shuffle(hex_colors)\n",
    "\n",
    "    #initialize list of text to write file encoding NGL structure for html\n",
    "    text_lines = []\n",
    "    \n",
    "    #make color map for each chain\n",
    "    chain_schemes = {}\n",
    "    \n",
    "    #all chains\n",
    "    chains = []\n",
    "\n",
    "    \n",
    "    for chain, clusters in chain_clusters_dict.items():\n",
    "        scheme_id = f'{chain}_epitopes_scheme'\n",
    "        chain_schemes[chain] = scheme_id\n",
    "        chains.append(chain)\n",
    "        coloring_code_lines = [f\"var {scheme_id} = NGL.ColormakerRegistry.addScheme(function (params) {{\", \n",
    "                       \"this.atomColor = function (atom) {\", \"if (atom.resno == 0) {return 0xf0f0f0}\"]\n",
    "        \n",
    "        \n",
    "        \n",
    "            \n",
    "        for cluster_num, cluster_members in clusters.items(): \n",
    "            coloring_code_lines.append(f\"else if ({cluster_members}.includes(atom.resno)) {{return 0x{hex_colors[cluster_num-1]}}}\")\n",
    "#             coloring_code_lines.append(f\"else if (atom.resno == {residue}) {{return 0x{hex_colors[cluster-1]}}}\")\n",
    "\n",
    "                    \n",
    "        coloring_code_lines.append(\"else {return 0xf0f0f0}\")\n",
    "        coloring_code_lines.append((\"}})\"))\n",
    "        coloring_code_lines.append((\"\\n\"))\n",
    "\n",
    "        text_lines += coloring_code_lines\n",
    "\n",
    "        \n",
    "    if subtype:\n",
    "        ngl_filename = f'../../../atlas-of-viral-adaptation/{virus}_{subtype}/assets/{virus}_{subtype}_{mutation_type}_{exposure_cutoff}_{neighbor_cutoff}_epitopes_colorScheme.txt'\n",
    "    else:\n",
    "        ngl_filename = f'../../../atlas-of-viral-adaptation/{virus}/assets/{virus}_{mutation_type}_{exposure_cutoff}_{neighbor_cutoff}_epitopes_colorScheme.txt'\n",
    "    with open(ngl_filename, 'w') as f:\n",
    "        for line in text_lines:\n",
    "            f.write(line)\n",
    "            f.write('\\n')\n",
    "            "
   ]
  },
  {
   "cell_type": "code",
   "execution_count": 92,
   "id": "48904e02",
   "metadata": {},
   "outputs": [],
   "source": [
    "write_ngl_file_epitopes('4fnk', 'h3n2', None, 'nonsyn', \n",
    "                            15, 8)"
   ]
  },
  {
   "cell_type": "code",
   "execution_count": 93,
   "id": "fffcfe86",
   "metadata": {},
   "outputs": [],
   "source": [
    "write_ngl_file_epitopes('6u7h', '229e', None, 'nonsyn', \n",
    "                            15, 8)"
   ]
  },
  {
   "cell_type": "code",
   "execution_count": 94,
   "id": "61f52c34",
   "metadata": {},
   "outputs": [],
   "source": [
    "write_ngl_file_epitopes('6ohw', 'oc43', 'a', 'nonsyn', \n",
    "                            15, 8)"
   ]
  },
  {
   "cell_type": "code",
   "execution_count": 95,
   "id": "83267d3c",
   "metadata": {},
   "outputs": [],
   "source": [
    "write_ngl_file_epitopes('4nrj', 'vic', None, 'nonsyn', \n",
    "                            15, 8)"
   ]
  },
  {
   "cell_type": "code",
   "execution_count": 96,
   "id": "0cb64429",
   "metadata": {},
   "outputs": [],
   "source": [
    "write_ngl_file_epitopes('4m4y', 'h1n1pdm', None, 'nonsyn', \n",
    "                            15, 8)"
   ]
  }
 ],
 "metadata": {
  "kernelspec": {
   "display_name": "Python 3 (ipykernel)",
   "language": "python",
   "name": "python3"
  },
  "language_info": {
   "codemirror_mode": {
    "name": "ipython",
    "version": 3
   },
   "file_extension": ".py",
   "mimetype": "text/x-python",
   "name": "python",
   "nbconvert_exporter": "python",
   "pygments_lexer": "ipython3",
   "version": "3.9.7"
  }
 },
 "nbformat": 4,
 "nbformat_minor": 5
}
