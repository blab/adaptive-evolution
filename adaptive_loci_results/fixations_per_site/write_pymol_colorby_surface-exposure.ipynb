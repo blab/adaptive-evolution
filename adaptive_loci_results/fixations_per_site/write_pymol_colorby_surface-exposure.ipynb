{
 "cells": [
  {
   "cell_type": "markdown",
   "id": "8e2a4ba5",
   "metadata": {},
   "source": [
    "#### Read in a text file listing the surface-exposed residues on a protein (as determined in Pymol by findSurfaceResidues.py) and write a .pml file to color these residues on the structure"
   ]
  },
  {
   "cell_type": "code",
   "execution_count": 1,
   "id": "dcee03da",
   "metadata": {},
   "outputs": [],
   "source": [
    "import ast "
   ]
  },
  {
   "cell_type": "code",
   "execution_count": 2,
   "id": "1cf5c6d4",
   "metadata": {},
   "outputs": [],
   "source": [
    "def get_exposure_results(virus, subtype, exposure):\n",
    "    \"\"\"\n",
    "    Read in the file listing all residues that have at least `exposure` square angstroms exposed to the solvent \n",
    "    \"\"\"\n",
    "    \n",
    "    if subtype:\n",
    "        with open(f'results/{virus}_{subtype}_surfaceresidues_{exposure}angstrom.txt') as f:\n",
    "            lines = f.readlines()\n",
    "    else:\n",
    "        with open(f'results/{virus}_surfaceresidues_{exposure}angstrom.txt') as f:\n",
    "            lines = f.readlines()\n",
    "\n",
    "    #remove duplicates\n",
    "    lines = list(set(lines))\n",
    "            \n",
    "    return lines"
   ]
  },
  {
   "cell_type": "code",
   "execution_count": 3,
   "id": "b104e7a2",
   "metadata": {},
   "outputs": [],
   "source": [
    "def write_pml_file(pml_filename, pdb_accession, virus, subtype, surface_exposure):\n",
    "    \"\"\"\n",
    "    Write .pml file to color every residue in the given pdb structure according to it's surface exposure\n",
    "    \n",
    "    The residue must have `surface_exposure` square angstroms or greater of surface exposed\n",
    "    \n",
    "    Will automatically color all subunits of the trimer if the PDB file is a trimer\n",
    "    \"\"\"\n",
    "    \n",
    "    exposed_residues = get_exposure_results(virus, subtype, surface_exposure)\n",
    "\n",
    "    \n",
    "    fetch_pdb = f\"fetch {pdb_accession}\"\n",
    "    text_lines = [fetch_pdb, \"bg_color white\", \"color 0xD3D3D3\", \"show surface\", \"hide sticks\",\n",
    "                  \"remove resname SO4\", \"remove solvent\", \"set seq_view, 1\"]\n",
    "    \n",
    "    \n",
    "    for res in exposed_residues:\n",
    "        chain = ast.literal_eval(res)[0]\n",
    "        residue = ast.literal_eval(res)[1]\n",
    "        \n",
    "        text_lines.append(f\"select chain {chain} and resi {residue}\")\n",
    "        text_lines.append(f\"color 0x6C7593, sele\")\n",
    "                \n",
    "                \n",
    "        \n",
    "    with open(pml_filename, 'w') as f:\n",
    "        for line in text_lines:\n",
    "            f.write(line)\n",
    "            f.write('\\n')"
   ]
  },
  {
   "cell_type": "code",
   "execution_count": 8,
   "id": "944f6123",
   "metadata": {},
   "outputs": [],
   "source": [
    "write_pml_file('pml_colormaps/h3n2_surfaceexposure_15a_colormap.pml', \n",
    "               '4fnk', 'h3n2', None, '15')"
   ]
  },
  {
   "cell_type": "code",
   "execution_count": 9,
   "id": "81dd8e20",
   "metadata": {},
   "outputs": [],
   "source": [
    "write_pml_file('pml_colormaps/229e_surfaceexposure_15a_colormap.pml', \n",
    "               '6u7h', '229e', None, '15')"
   ]
  },
  {
   "cell_type": "code",
   "execution_count": 19,
   "id": "0072f25b",
   "metadata": {},
   "outputs": [],
   "source": [
    "write_pml_file('pml_colormaps/nl63_surfaceexposure_20a_colormap.pml', \n",
    "               '5szs', 'nl63', None, '20')"
   ]
  },
  {
   "cell_type": "code",
   "execution_count": 7,
   "id": "7197ebec",
   "metadata": {},
   "outputs": [],
   "source": [
    "write_pml_file('pml_colormaps/oc43A_surfaceexposure_15a_colormap.pml', \n",
    "               '6ohw', 'oc43', 'a', '15')"
   ]
  },
  {
   "cell_type": "code",
   "execution_count": 11,
   "id": "c446f05e",
   "metadata": {},
   "outputs": [],
   "source": [
    "write_pml_file('pml_colormaps/vic_surfaceexposure_20a_colormap.pml', \n",
    "               '4nrj', 'vic', None, '20')"
   ]
  },
  {
   "cell_type": "code",
   "execution_count": 13,
   "id": "93272046",
   "metadata": {},
   "outputs": [],
   "source": [
    "write_pml_file('pml_colormaps/h1n1pdm_surfaceexposure_15a_colormap.pml', \n",
    "               '4m4y', 'h1n1pdm', None, '15')"
   ]
  },
  {
   "cell_type": "code",
   "execution_count": 15,
   "id": "02817d6a",
   "metadata": {},
   "outputs": [],
   "source": [
    "write_pml_file('pml_colormaps/yam_surfaceexposure_15a_colormap.pml', \n",
    "               '4nrj', 'yam', None, '15')"
   ]
  },
  {
   "cell_type": "code",
   "execution_count": 17,
   "id": "2a90461e",
   "metadata": {},
   "outputs": [],
   "source": [
    "write_pml_file('pml_colormaps/measles_surfaceexposure_20a_colormap.pml', \n",
    "               '3inb', 'measles', None, '20')"
   ]
  },
  {
   "cell_type": "code",
   "execution_count": null,
   "id": "a8f279d9",
   "metadata": {},
   "outputs": [],
   "source": []
  },
  {
   "cell_type": "code",
   "execution_count": null,
   "id": "aefa1c58",
   "metadata": {},
   "outputs": [],
   "source": []
  },
  {
   "cell_type": "code",
   "execution_count": null,
   "id": "8dfd0e2e",
   "metadata": {},
   "outputs": [],
   "source": [
    "run /Users/katekistler/nextstrain/adaptive-evolution/adaptive_loci_results/fixations_per_site/pml_colormaps/h3n2_surfaceexposure_30a_colormap.pml\n"
   ]
  },
  {
   "cell_type": "code",
   "execution_count": null,
   "id": "43a08c4e",
   "metadata": {},
   "outputs": [],
   "source": []
  }
 ],
 "metadata": {
  "kernelspec": {
   "display_name": "Python 3 (ipykernel)",
   "language": "python",
   "name": "python3"
  },
  "language_info": {
   "codemirror_mode": {
    "name": "ipython",
    "version": 3
   },
   "file_extension": ".py",
   "mimetype": "text/x-python",
   "name": "python",
   "nbconvert_exporter": "python",
   "pygments_lexer": "ipython3",
   "version": "3.9.7"
  }
 },
 "nbformat": 4,
 "nbformat_minor": 5
}
