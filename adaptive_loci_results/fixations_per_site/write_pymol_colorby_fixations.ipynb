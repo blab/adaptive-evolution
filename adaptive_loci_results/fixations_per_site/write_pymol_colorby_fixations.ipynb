{
 "cells": [
  {
   "cell_type": "markdown",
   "id": "74901118",
   "metadata": {},
   "source": [
    "#### Read in results file (written by epitopes-count-fixations.ipynb) that lists a count of fixations (or near fixations at each site in the surface protein) and create a .pml file that will color a PDB protein structure based on the number of fixations at the site (on a heatmap scale)"
   ]
  },
  {
   "cell_type": "code",
   "execution_count": 1,
   "id": "20e52699",
   "metadata": {},
   "outputs": [],
   "source": [
    "import glob\n",
    "import json\n",
    "import ast\n",
    "import matplotlib\n",
    "import pandas as pd\n",
    "from Bio import SeqIO"
   ]
  },
  {
   "cell_type": "code",
   "execution_count": 2,
   "id": "84007997",
   "metadata": {},
   "outputs": [],
   "source": [
    "def get_fixation_results(virus, subtype, gene, mutation_type):\n",
    "    \"\"\"\n",
    "    Read in the codon-specific rates of adaptation as inferred by bhatt_nextstrain-epitopes\n",
    "    \"\"\"\n",
    "    if subtype:\n",
    "        path_to_results = f'results/{virus}_{subtype}_{gene}_{mutation_type}_fixations.csv'\n",
    "    \n",
    "    else:\n",
    "        path_to_results = f'results/{virus}_{gene}_{mutation_type}_fixations.csv'\n",
    "    \n",
    "    #read in results listed the number of fixations (or near fixations) at each codon\n",
    "    fixations_df = pd.read_csv(path_to_results)\n",
    "    \n",
    "    \n",
    "    codons = list(fixations_df['codon'])\n",
    "    fixation_counts = list(fixations_df[f'{mutation_type}_fixations'])\n",
    "\n",
    "        \n",
    "    return codons, fixation_counts"
   ]
  },
  {
   "cell_type": "code",
   "execution_count": 3,
   "id": "75e52971",
   "metadata": {},
   "outputs": [],
   "source": [
    "def make_color_scale(virus, subtype, gene, mutation_type, determine_max):\n",
    "    \"\"\"\n",
    "    Make a heatmap color code for the rates of adaptation\n",
    "    \"\"\"\n",
    "    \n",
    "    codons, fixation_counts = get_fixation_results(virus, subtype, gene, mutation_type)\n",
    "    if determine_max == 'from_h3n2':\n",
    "        #max rate seen in any gene so far was in OC43 spike. Use this as max so all viruses have same scale\n",
    "        max_fixations = 5\n",
    "    elif determine_max == 'from_self':\n",
    "        max_fixations = max(fixation_counts)\n",
    "        \n",
    "            \n",
    "    #normalize all adaptation rates so they're between 0 and 1 for the color-coding\n",
    "    norm = matplotlib.colors.Normalize(vmin=0.0, vmax=max_fixations)\n",
    "    normalized_fixations = [norm(x) for x in fixation_counts]\n",
    "    \n",
    "    #make cmap\n",
    "    cmap = matplotlib.cm.get_cmap('Reds')\n",
    "    rgba_colors = [cmap(x) for x in normalized_fixations] \n",
    "    hex_colors = [matplotlib.colors.to_hex(x)[1:] for x in rgba_colors]\n",
    "    \n",
    "    codon_fixations_colors = zip(codons, fixation_counts, hex_colors)\n",
    "    \n",
    "    #get heatmap scale bar info\n",
    "    heatmap_numbers = list(range(0,max_fixations+1))\n",
    "    heatmap_numbers_normalized = [norm(x) for x in heatmap_numbers]\n",
    "    heatmap_colors = [cmap(x) for x in heatmap_numbers_normalized] \n",
    "    heatmap_hex_colors = [f'0x{matplotlib.colors.to_hex(x)[1:]}' for x in heatmap_colors] \n",
    "    \n",
    "\n",
    "    return codon_fixations_colors, heatmap_numbers, heatmap_hex_colors"
   ]
  },
  {
   "cell_type": "code",
   "execution_count": 4,
   "id": "38c218a4",
   "metadata": {},
   "outputs": [],
   "source": [
    "def make_multiple_chains(virus, subtype, gene, codon_fixations_colors):\n",
    "    \"\"\"\n",
    "    Some pdb files list different subunits as different chains, while other list them as part of the same. \n",
    "    This will affect the chains and coordinates to color\n",
    "    \"\"\"\n",
    "    \n",
    "    #will need to do this somewhat manually for each virus based on the pdb file \n",
    "    reference_file_paths =  {'h3n2':{None:{'ha':f'../../../seasonal-flu/config/reference_h3n2_{gene}.gb'}}, \n",
    "                             'h1n1pdm':{None:{'ha':f'../../../seasonal-flu/config/reference_h1n1pdm_{gene}.gb'}}, \n",
    "                             'yam':{None:{'ha':f'../../../seasonal-flu/config/reference_yam_{gene}.gb'}}, \n",
    "                             'vic':{None:{'ha':f'../../../seasonal-flu/config/reference_vic_{gene}.gb'}}, \n",
    "                             'oc43':{'a':{'spike':f'../../../seasonal-cov/oc43/separate_lineages/config/oc43_{gene}_reference.gb'}}, \n",
    "                             '229e':{None:{'spike':f'../../../seasonal-cov/229e/config/229e_{gene}_reference.gb'}}, '229e':{None:{'spike':f'../../../seasonal-cov/229e/config/229e_{gene}_reference.gb'}},\n",
    "                             'nl63':{None:{'spike':f'../../../seasonal-cov/nl63/config/nl63_{gene}_reference.gb'}}, \n",
    "                             'measles':{None:{'h':f'../../../measles/config/measles_reference.gb'}}, \n",
    "                             'mumps':{None:{'hn':f'../../../mumps/config/mumps_reference.gb'}}}\n",
    "    \n",
    "    reference_file = reference_file_paths[virus][subtype][gene]\n",
    "    \n",
    "    #some pdb files have subunits listed as separate chains, some have the listed as one\n",
    "    chainA_subunit = {'h3n2':'ha1', 'h1n1pdm':'ha1','oc43':'spike', '229e':'spike', 'nl63':'spike', \n",
    "                      'vic': 'ha1', 'yam': 'ha1', 'measles':'h', 'mumps':'hn'}\n",
    "    chainB_subunit = {'h3n2':'ha2', 'h1n1pdm':'ha2', 'vic': 'ha2', 'yam': 'ha2'}\n",
    "    #some have different chains, but coordinate numbers continue\n",
    "    continue_A_nums_to_B = []\n",
    "    \n",
    "    for seq_record in SeqIO.parse(reference_file, \"genbank\"):\n",
    "        for feature in seq_record.features:\n",
    "            if feature.type == 'CDS':\n",
    "                if 'gene' in feature.qualifiers.keys():\n",
    "                    if feature.qualifiers['gene'][0].lower() == chainA_subunit[virus]:\n",
    "                        chainA_len = len(feature.location.extract(seq_record.seq).translate())\n",
    "\n",
    "        \n",
    "    adjusted_codon_fixations_colors = []\n",
    "    \n",
    "    for x in codon_fixations_colors:\n",
    "        codon = int(x[0])\n",
    "        #chainA coordinates should already be adjusted to the proper coordinates \n",
    "        #when they were saved by epitopes-count-fixations.ipynb\n",
    "        if codon <= chainA_len:\n",
    "            chain = 'A'\n",
    "            #add 1 for 1-based instead of 0. Noticed all coordinates were off by one\n",
    "            adjusted_codon = codon\n",
    "        #but need to change chainB coordinates\n",
    "        elif codon > chainA_len:\n",
    "            chain = 'B'\n",
    "            if virus in continue_A_nums_to_B:\n",
    "                adjusted_codon = codon\n",
    "\n",
    "            else:\n",
    "                adjusted_codon = codon-chainA_len\n",
    "        adjusted_codon_fixations_colors.append((chain, adjusted_codon, x[0], x[1], x[2]))\n",
    "        \n",
    "    \n",
    "    return adjusted_codon_fixations_colors\n",
    "        "
   ]
  },
  {
   "cell_type": "code",
   "execution_count": 5,
   "id": "648cfc88",
   "metadata": {},
   "outputs": [],
   "source": [
    "#based on the pdb files, chains that are identical to chains A or B, in the trimer (or dimer)\n",
    "multimerization_chains = {'h3n2':{'A':['C', 'E'], 'B':['D', 'F']}, \n",
    "                        'h1n1pdm':{'A':['C', 'E'], 'B':['D', 'F']}, \n",
    "                        'vic':{'A':['C', 'E'], 'B':['D', 'F']}, \n",
    "                        'yam':{'A':['C', 'E'], 'B':['D', 'F']}, \n",
    "                        'oc43':{'A':['B','C']}, \n",
    "                        '229e':{'A':['B','C']}, \n",
    "                          'nl63':{'A':['B','C']}, \n",
    "                        'measles': {'A':['B']}, \n",
    "                          'mumps': {'A':['B']}}"
   ]
  },
  {
   "cell_type": "code",
   "execution_count": 6,
   "id": "b3f70a87",
   "metadata": {},
   "outputs": [],
   "source": [
    "#specific pymol setting depending on pdb structure\n",
    "pymol_settings = {'vic': ['set assembly, 1'], 'measles': ['remove chain C', 'remove chain D']}"
   ]
  },
  {
   "cell_type": "code",
   "execution_count": 7,
   "id": "faea7c26",
   "metadata": {},
   "outputs": [],
   "source": [
    "def write_pml_file(pml_filename, pdb_accession, virus, subtype, gene, mutation_type, \n",
    "                   determine_max='from_self', multimerize=True):\n",
    "    \"\"\"\n",
    "    Write .pml file to color every residue in the given pdb structure according to the number of fixations\n",
    "    \"\"\"\n",
    "    \n",
    "    codon_fixations_colors, heatmap_numbers, heatmap_hex_colors = make_color_scale(virus, subtype, gene, \n",
    "                                                                                   mutation_type, determine_max)\n",
    "    \n",
    "    adjusted_codon_fixations_colors = make_multiple_chains(virus, subtype, gene, codon_fixations_colors)\n",
    "    \n",
    "    #see if there are any specific pymol settings for this virus' pdb file\n",
    "    extra_text_lines=False\n",
    "    if virus in pymol_settings.keys():\n",
    "        extra_text_lines = pymol_settings[virus]\n",
    "    \n",
    "    \n",
    "    fetch_pdb = f\"fetch {pdb_accession}\"\n",
    "    text_lines = [fetch_pdb, \"bg_color white\", \"color 0xD3D3D3\", \"show surface\", \"hide sticks\",\n",
    "                  \"remove resname SO4\", \"remove solvent\", \"set seq_view, 1\",  \n",
    "                  f\"ramp_new fixations,  {pdb_accession}, {heatmap_numbers},  color={heatmap_hex_colors}\"]\n",
    "    if extra_text_lines:\n",
    "        text_lines = text_lines+extra_text_lines\n",
    "    \n",
    "    for residue in adjusted_codon_fixations_colors:\n",
    "        text_lines.append(f\"select chain {residue[0]} and resi {residue[1]}\")\n",
    "        text_lines.append(f\"color 0x{residue[4]}, sele\")\n",
    "        #also color the corresponding residues on other chains of the trimer\n",
    "        if multimerize ==True:\n",
    "            other_chains = multimerization_chains[virus][residue[0]]\n",
    "            for oc in other_chains:\n",
    "                text_lines.append(f\"select chain {oc} and resi {residue[1]}\")\n",
    "                text_lines.append(f\"color 0x{residue[4]}, sele\")\n",
    "                \n",
    "                \n",
    "        \n",
    "    with open(pml_filename, 'w') as f:\n",
    "        for line in text_lines:\n",
    "            f.write(line)\n",
    "            f.write('\\n')\n",
    "        \n",
    "    "
   ]
  },
  {
   "cell_type": "code",
   "execution_count": 40,
   "id": "65f08b82",
   "metadata": {},
   "outputs": [],
   "source": [
    "write_pml_file('pml_colormaps/h3n2_nonsyn_fixations_colormap.pml', '4fnk', 'h3n2', None, 'ha', 'nonsyn')"
   ]
  },
  {
   "cell_type": "code",
   "execution_count": 83,
   "id": "a2870d89",
   "metadata": {},
   "outputs": [],
   "source": [
    "write_pml_file('pml_colormaps/229e_nonsyn_fixations_colormap.pml', '6u7h', '229e', None, 'spike', 'nonsyn')"
   ]
  },
  {
   "cell_type": "code",
   "execution_count": 50,
   "id": "7314ce0c",
   "metadata": {},
   "outputs": [],
   "source": [
    "write_pml_file('pml_colormaps/oc43A_nonsyn_fixations_colormap.pml', '6ohw', 'oc43', 'a', 'spike', 'nonsyn')"
   ]
  },
  {
   "cell_type": "code",
   "execution_count": 72,
   "id": "8a51901c",
   "metadata": {},
   "outputs": [],
   "source": [
    "write_pml_file('pml_colormaps/nl63_nonsyn_fixations_colormap.pml', '5szs', 'nl63', None, 'spike', 'nonsyn')"
   ]
  },
  {
   "cell_type": "code",
   "execution_count": 9,
   "id": "7be6e714",
   "metadata": {},
   "outputs": [],
   "source": [
    "write_pml_file('pml_colormaps/h1n1pdm_nonsyn_fixations_colormap.pml', '4m4y', 'h1n1pdm', None, 'ha', 'nonsyn')"
   ]
  },
  {
   "cell_type": "code",
   "execution_count": 10,
   "id": "dfdcdcc9",
   "metadata": {},
   "outputs": [
    {
     "name": "stderr",
     "output_type": "stream",
     "text": [
      "/Users/katekistler/anaconda3/envs/nextstrain/lib/python3.9/site-packages/Bio/Seq.py:2979: BiopythonWarning: Partial codon, len(sequence) not a multiple of three. Explicitly trim the sequence or add trailing N before translation. This may become an error in future.\n",
      "  warnings.warn(\n"
     ]
    }
   ],
   "source": [
    "write_pml_file('pml_colormaps/vic_nonsyn_fixations_colormap.pml', '4nrj', 'vic', None, 'ha', 'nonsyn')"
   ]
  },
  {
   "cell_type": "code",
   "execution_count": 49,
   "id": "c1a3c2ec",
   "metadata": {},
   "outputs": [],
   "source": [
    "write_pml_file('pml_colormaps/yam_nonsyn_fixations_colormap.pml', '4nrj', 'yam', None, 'ha', 'nonsyn')"
   ]
  },
  {
   "cell_type": "code",
   "execution_count": 60,
   "id": "b2eb6426",
   "metadata": {},
   "outputs": [],
   "source": [
    "write_pml_file('pml_colormaps/measles_nonsyn_fixations_colormap.pml', '3inb', 'measles', None, 'h', \n",
    "               'nonsyn')"
   ]
  },
  {
   "cell_type": "code",
   "execution_count": 67,
   "id": "8bb112b8",
   "metadata": {},
   "outputs": [],
   "source": [
    "write_pml_file('pml_colormaps/mumps_nonsyn_fixations_colormap.pml', '6jjn', 'mumps', None, 'hn', \n",
    "               'nonsyn')"
   ]
  },
  {
   "cell_type": "code",
   "execution_count": null,
   "id": "c9bb4798",
   "metadata": {},
   "outputs": [],
   "source": []
  },
  {
   "cell_type": "code",
   "execution_count": null,
   "id": "94b31d51",
   "metadata": {},
   "outputs": [],
   "source": [
    "run /Users/katekistler/nextstrain/adaptive-evolution/adaptive_loci_results/fixations_per_site/pml_colormaps/nl63_nonsyn_fixations_colormap.pml\n"
   ]
  },
  {
   "cell_type": "code",
   "execution_count": null,
   "id": "6f47248c",
   "metadata": {},
   "outputs": [],
   "source": [
    "run /Users/katekistler/nextstrain/adaptive-evolution/adaptive_loci_results/fixations_per_site/findSurfaceResidues.py"
   ]
  }
 ],
 "metadata": {
  "kernelspec": {
   "display_name": "Python 3 (ipykernel)",
   "language": "python",
   "name": "python3"
  },
  "language_info": {
   "codemirror_mode": {
    "name": "ipython",
    "version": 3
   },
   "file_extension": ".py",
   "mimetype": "text/x-python",
   "name": "python",
   "nbconvert_exporter": "python",
   "pygments_lexer": "ipython3",
   "version": "3.9.7"
  }
 },
 "nbformat": 4,
 "nbformat_minor": 5
}
