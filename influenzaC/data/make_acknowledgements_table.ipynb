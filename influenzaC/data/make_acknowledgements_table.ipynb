{
 "cells": [
  {
   "cell_type": "code",
   "execution_count": 12,
   "id": "3de4498a",
   "metadata": {},
   "outputs": [],
   "source": [
    "from Bio import SeqIO\n",
    "from Bio import Entrez\n",
    "import requests\n",
    "import pandas as pd"
   ]
  },
  {
   "cell_type": "code",
   "execution_count": 43,
   "id": "2ba62f03",
   "metadata": {},
   "outputs": [],
   "source": [
    "def get_list_of_genbank_ids_used(alignment_file):\n",
    "    \"\"\"\n",
    "    Make a list of all of the genbank ids used in this build\n",
    "    Format as string with space between. Ex: \"OQ593393 NC_006310\"\n",
    "    Make a list of chunks with 200 seqs each because that's all Entrez will let me fetch at once\n",
    "    \"\"\"\n",
    "    accessions = \"\"\n",
    "    \n",
    "    total_records = 0\n",
    "    for record in SeqIO.parse(alignment_file, \"fasta\"):\n",
    "        accession = record.id\n",
    "        accessions+=f\"{accession} \"\n",
    "        total_records+=1\n",
    "        \n",
    "    #split into list of chunks of 200 or less\n",
    "    accession_list = []\n",
    "    count = 0\n",
    "    while count<total_records:\n",
    "        chunk = accessions.split(\" \")[:200]\n",
    "        accession_list.append(\" \".join(chunk))\n",
    "        accessions = \" \".join(accessions.split(\" \")[200:])\n",
    "        count+=200\n",
    "        \n",
    "        \n",
    "    return accession_list"
   ]
  },
  {
   "cell_type": "code",
   "execution_count": 69,
   "id": "de318113",
   "metadata": {},
   "outputs": [],
   "source": [
    "def get_genbank_author_info(virus):\n",
    "    \"\"\"\n",
    "    Get the author information for each sequence that was used\n",
    "    \"\"\"\n",
    "\n",
    "    ack_info = []\n",
    "    \n",
    "    #for each segement\n",
    "    segments = ['HEF', 'M', 'NP', 'NS', 'P3', 'PB1', 'PB2']\n",
    "    \n",
    "    for segment in segments:\n",
    "    \n",
    "        #get a list of accession numbers from the alignment file\n",
    "        alignment_file = f'../results/aligned_fluC_{segment}.fasta'\n",
    "        accession_list = get_list_of_genbank_ids_used(alignment_file)\n",
    "\n",
    "        #Go througuh in chunks of 200 and get genbank file for each sequence\n",
    "        for chunk in accession_list:\n",
    "            #Inputs\n",
    "            Entrez.email = \"kkistler@fredhutch.org\"\n",
    "\n",
    "            # Download GenBank file\n",
    "            handle = Entrez.efetch(db=\"nucleotide\", id=chunk, rettype=\"gb\", retmode=\"text\")\n",
    "            records = SeqIO.parse(handle, \"genbank\")\n",
    "\n",
    "            # Print Authors, Papers, and Journal\n",
    "            for record in records:\n",
    "                ack_info.append({'Accession': record.id.split('.')[0], 'Segment': segment,\n",
    "                                 'Strain': record.annotations['organism'],\n",
    "                                 'Virus': virus,\n",
    "                                 'Author': record.annotations[\"references\"][0].authors, \n",
    "                                 'Publication_Title': record.annotations[\"references\"][0].title, \n",
    "                                 'Journal': record.annotations[\"references\"][0].journal, \n",
    "                                 'Database': 'NCBI Virus, Genbank'})\n",
    "            handle.close()\n",
    "        \n",
    "    ack_df = pd.DataFrame(ack_info)\n",
    "    \n",
    "    #save the acknowledgement table\n",
    "    ack_df.to_csv(f'acknowledgments_{virus}.tsv', sep='\\t', index=False)\n",
    "    "
   ]
  },
  {
   "cell_type": "code",
   "execution_count": 70,
   "id": "0221e26e",
   "metadata": {},
   "outputs": [],
   "source": [
    "get_genbank_author_info('influenzaC')"
   ]
  },
  {
   "cell_type": "code",
   "execution_count": null,
   "id": "720be0a2",
   "metadata": {},
   "outputs": [],
   "source": []
  }
 ],
 "metadata": {
  "kernelspec": {
   "display_name": "Python 3 (ipykernel)",
   "language": "python",
   "name": "python3"
  },
  "language_info": {
   "codemirror_mode": {
    "name": "ipython",
    "version": 3
   },
   "file_extension": ".py",
   "mimetype": "text/x-python",
   "name": "python",
   "nbconvert_exporter": "python",
   "pygments_lexer": "ipython3",
   "version": "3.9.7"
  }
 },
 "nbformat": 4,
 "nbformat_minor": 5
}
