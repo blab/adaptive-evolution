{
 "cells": [
  {
   "cell_type": "code",
   "execution_count": null,
   "id": "7d9386f2",
   "metadata": {},
   "outputs": [],
   "source": [
    "#Make separate data files for each lineage"
   ]
  },
  {
   "cell_type": "code",
   "execution_count": 1,
   "id": "0f894de2",
   "metadata": {},
   "outputs": [],
   "source": [
    "from Bio import SeqIO\n",
    "from Bio.Seq import Seq\n",
    "from Bio.SeqRecord import SeqRecord\n",
    "from augur.utils import json_to_tree\n",
    "import json"
   ]
  },
  {
   "cell_type": "code",
   "execution_count": 6,
   "id": "5905cdb3",
   "metadata": {},
   "outputs": [],
   "source": [
    "#need to look at tree json file to find the branch name for the common ancestor of the different lineages\n",
    "#format of dict {species:{lineage:common_ancestor}}\n",
    "\n",
    "#used Matsuzaki et al 2016 (https://www.ncbi.nlm.nih.gov/pmc/articles/PMC5008092/) to find clades\n",
    "#many internal segments were not clearly delineated on the auspice trees, so there's only one \n",
    "#clade that can be found by a mutally exclusive common ancestor.\n",
    "#For these, I will find all descendents of that branch and assign it to the appropriate clades, \n",
    "#and call everything else the other clade (there are only Yamagata and Mississippi for the internals)\n",
    "lineage_ancestors = {'HE':{'Mississippi': 'NODE_0000008', 'Aichi': 'NODE_0000032', \n",
    "                           'Taylor':'NODE_0000004', 'Yamagata':'NODE_0000199', \n",
    "                           'Kanagawa':'NODE_0000260', 'SaoPaolo':'NODE_0000046'}, \n",
    "                     'PB2':{'Yamagata':'NODE_0000041'}, \n",
    "                     'PB1':{'Mississippi': 'NODE_0000006', 'Yamagata':'NODE_0000031'}, \n",
    "                     'P3':{'Mississippi':'NODE_0000037'}, \n",
    "                     'NP':{'Mississippi':'NODE_0000062'}, \n",
    "                     'M':{'Yamagata':'NODE_0000027'}, \n",
    "                     'NS':{'Yamagata':'NODE_0000032'}}"
   ]
  },
  {
   "cell_type": "code",
   "execution_count": 12,
   "id": "3545c819",
   "metadata": {},
   "outputs": [],
   "source": [
    "for segment, lineages in lineage_ancestors.items():\n",
    "    #read in tree\n",
    "    with open(f'../auspice/fluC_{segment}.json', 'r') as f:\n",
    "        tree_json = json.load(f)\n",
    "\n",
    "    #Put tree in Bio.Phylo format\n",
    "    tree = json_to_tree(tree_json)\n",
    "    \n",
    "    #store all tip names for each lineage\n",
    "    tips_by_lineage = {}\n",
    "    lineage_by_tip = {}\n",
    "    \n",
    "    #for each lineage\n",
    "    for l, ca in lineages.items():\n",
    "        tips_in_this_lineage = []\n",
    "        #find tips descending from common ancestor branch of the lineages\n",
    "        for node in tree.find_clades(terminal=True):\n",
    "            parents = [x.name for x in tree.get_path(node)]\n",
    "            if ca in parents:\n",
    "                tips_in_this_lineage.append(node.name)\n",
    "                lineage_by_tip[node.name] = l\n",
    "                \n",
    "        tips_by_lineage[l] = tips_in_this_lineage\n",
    "        \n",
    "    #will treat internal genes differently, call all tips that aren't \n",
    "    #descending from the common ancestor as the other clade\n",
    "\n",
    "    if len(lineages)==1:\n",
    "\n",
    "        lineage_with_common_ancestor = list(lineages.keys())[0]\n",
    "        if lineage_with_common_ancestor == 'Yamagata':\n",
    "            lineage_without_common_ancestor = 'Mississippi'    \n",
    "        elif lineage_with_common_ancestor == 'Mississippi':\n",
    "            lineage_without_common_ancestor = 'Yamagata'\n",
    "        \n",
    "        #for internal genes where common ancestor branch can't always be assigned\n",
    "        tips_other_lineage = []\n",
    "        for node in tree.find_clades(terminal=True):\n",
    "            if node.name not in tips_by_lineage[lineage_with_common_ancestor]:\n",
    "                tips_other_lineage.append(node.name)\n",
    "                lineage_by_tip[node.name] = lineage_without_common_ancestor\n",
    "                \n",
    "        tips_by_lineage[lineage_without_common_ancestor] = tips_other_lineage\n",
    "    \n",
    "    seq_records = {x:[] for x in list(tips_by_lineage.keys())}\n",
    "    \n",
    "    for record in SeqIO.parse(open(f'fluC_{segment}.fasta',\"r\"), \"fasta\"):\n",
    "        genbank_id = record.id.split('|')[0]\n",
    "        if genbank_id in lineage_by_tip.keys():\n",
    "            lineage_this_tip = lineage_by_tip[genbank_id]\n",
    "\n",
    "            seq_records[lineage_this_tip].append(SeqRecord(record.seq, id=record.id, description=record.description))\n",
    "        \n",
    "    for l, seqs in seq_records.items():\n",
    "        SeqIO.write(seqs, f'../separate_lineages/data/fluC_{segment}_{l}.fasta', \"fasta\")"
   ]
  },
  {
   "cell_type": "code",
   "execution_count": null,
   "id": "f4f96b90",
   "metadata": {},
   "outputs": [],
   "source": []
  },
  {
   "cell_type": "code",
   "execution_count": null,
   "id": "d45a9bd8",
   "metadata": {},
   "outputs": [],
   "source": []
  }
 ],
 "metadata": {
  "kernelspec": {
   "display_name": "Python 3 (ipykernel)",
   "language": "python",
   "name": "python3"
  },
  "language_info": {
   "codemirror_mode": {
    "name": "ipython",
    "version": 3
   },
   "file_extension": ".py",
   "mimetype": "text/x-python",
   "name": "python",
   "nbconvert_exporter": "python",
   "pygments_lexer": "ipython3",
   "version": "3.9.7"
  }
 },
 "nbformat": 4,
 "nbformat_minor": 5
}
