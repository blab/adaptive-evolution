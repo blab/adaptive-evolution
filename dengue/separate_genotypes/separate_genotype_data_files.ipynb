{
 "cells": [
  {
   "cell_type": "code",
   "execution_count": 22,
   "id": "6994b072",
   "metadata": {},
   "outputs": [],
   "source": [
    "import json\n",
    "from Bio import SeqIO\n",
    "from Bio.SeqRecord import SeqRecord"
   ]
  },
  {
   "cell_type": "code",
   "execution_count": 28,
   "id": "4580dee9",
   "metadata": {},
   "outputs": [],
   "source": [
    "def write_separate_genotype_fastas(serotype):\n",
    "    #find which genotype each strain belongs to\n",
    "    genotype_file = f'../results/clades_{serotype}.json'\n",
    "\n",
    "    genotype_by_node = {}\n",
    "\n",
    "    with open(genotype_file, \"r\") as genotype_handle:\n",
    "        genotypes = json.load(genotype_handle)\n",
    "        for node, v in genotypes['nodes'].items():\n",
    "            if 'NODE' not in node:\n",
    "                genotype_by_node[node] = v['clade_membership']\n",
    "                \n",
    "    #write a fasta data file for each genotype\n",
    "    data_file = f'../data/dengue_{serotype}.fasta'\n",
    "\n",
    "    seq_records_by_genotype = {}\n",
    "\n",
    "    with open(data_file, 'r') as data_handle:\n",
    "        for virus in SeqIO.parse(data_handle, 'fasta'):\n",
    "            virus_id = virus.id.split('|')[0]\n",
    "            if virus_id in genotype_by_node.keys():\n",
    "                genotype_of_node = genotype_by_node[virus_id]\n",
    "                if genotype_of_node in seq_records_by_genotype.keys():\n",
    "                    seq_records_by_genotype[genotype_of_node] += [SeqRecord(virus.seq, id=virus.id, \n",
    "                                                                            description=virus.description)]\n",
    "                else:\n",
    "                    seq_records_by_genotype[genotype_of_node] = [SeqRecord(virus.seq, id=virus.id, \n",
    "                                                                            description=virus.description)]\n",
    "    for g, recs in seq_records_by_genotype.items():\n",
    "        if g!= 'unassigned':\n",
    "            genotype = g.split('/')[1]\n",
    "            genotype_data_filename = f'data/dengue_{serotype}_{genotype}.fasta'\n",
    "\n",
    "            SeqIO.write(recs, genotype_data_filename, \"fasta\")\n",
    "    "
   ]
  },
  {
   "cell_type": "code",
   "execution_count": 30,
   "id": "cf74ec8a",
   "metadata": {},
   "outputs": [],
   "source": [
    "write_separate_genotype_fastas('denv1')"
   ]
  },
  {
   "cell_type": "code",
   "execution_count": 29,
   "id": "ebc3bf4c",
   "metadata": {},
   "outputs": [],
   "source": [
    "write_separate_genotype_fastas('denv2')"
   ]
  },
  {
   "cell_type": "code",
   "execution_count": 31,
   "id": "34e38687",
   "metadata": {},
   "outputs": [],
   "source": [
    "write_separate_genotype_fastas('denv3')"
   ]
  },
  {
   "cell_type": "code",
   "execution_count": 32,
   "id": "743c14e9",
   "metadata": {},
   "outputs": [],
   "source": [
    "write_separate_genotype_fastas('denv4')"
   ]
  }
 ],
 "metadata": {
  "kernelspec": {
   "display_name": "Python 3 (ipykernel)",
   "language": "python",
   "name": "python3"
  },
  "language_info": {
   "codemirror_mode": {
    "name": "ipython",
    "version": 3
   },
   "file_extension": ".py",
   "mimetype": "text/x-python",
   "name": "python",
   "nbconvert_exporter": "python",
   "pygments_lexer": "ipython3",
   "version": "3.9.7"
  }
 },
 "nbformat": 4,
 "nbformat_minor": 5
}
