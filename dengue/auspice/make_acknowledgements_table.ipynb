{
 "cells": [
  {
   "cell_type": "code",
   "execution_count": 1,
   "id": "840975f4",
   "metadata": {},
   "outputs": [],
   "source": [
    "import pandas as pd\n",
    "from augur.utils import json_to_tree\n",
    "import json"
   ]
  },
  {
   "cell_type": "code",
   "execution_count": 9,
   "id": "b9725817",
   "metadata": {},
   "outputs": [],
   "source": [
    "def write_acknowledgements_csv(virus):\n",
    "    \"\"\"\n",
    "    Write an acknowlegements table for all sequences that were used. Get the info from tree json\n",
    "    \"\"\"\n",
    "\n",
    "    ack_info = []\n",
    "    \n",
    "\n",
    "    tree_file = f'dengue_{virus}.json'\n",
    "    with open(tree_file, 'r') as f:\n",
    "        tree_json = json.load(f)\n",
    "\n",
    "    #put tree in Bio.phylo format\n",
    "    tree = json_to_tree(tree_json)\n",
    "\n",
    "    for node in tree.find_clades(terminal=True):\n",
    "        accession = node.node_attrs['accession']\n",
    "        author = node.node_attrs['author']['author']\n",
    "        if 'journal' in node.node_attrs['author'].keys():\n",
    "            journal = node.node_attrs['author']['journal']\n",
    "        else:\n",
    "            journal=''\n",
    "        if 'title' in node.node_attrs['author'].keys():\n",
    "            title = node.node_attrs['author']['title']\n",
    "        else:\n",
    "            title=''\n",
    "\n",
    "        ack_info.append({'Accession': accession, 'Virus': f'Dengue ({virus})', 'Strain': node.name, \n",
    "                         'Author': author, 'Publication_Title':title, 'Journal': journal,\n",
    "                         'Database': 'Genbank'})\n",
    "\n",
    "    ack_df = pd.DataFrame(ack_info)\n",
    "    \n",
    "    ack_df.set_index('Accession')    \n",
    "    \n",
    "    #save the acknowledgement table\n",
    "    ack_df.to_csv(f'acknowledgments_{virus}.tsv', sep='\\t', index=False)"
   ]
  },
  {
   "cell_type": "code",
   "execution_count": 10,
   "id": "bf29b68b",
   "metadata": {},
   "outputs": [],
   "source": [
    "write_acknowledgements_csv('denv1')"
   ]
  },
  {
   "cell_type": "code",
   "execution_count": 11,
   "id": "8a0f68c9",
   "metadata": {},
   "outputs": [],
   "source": [
    "write_acknowledgements_csv('denv2')"
   ]
  },
  {
   "cell_type": "code",
   "execution_count": 12,
   "id": "3c83e0ff",
   "metadata": {},
   "outputs": [],
   "source": [
    "write_acknowledgements_csv('denv3')"
   ]
  },
  {
   "cell_type": "code",
   "execution_count": 13,
   "id": "07cc7a1f",
   "metadata": {},
   "outputs": [],
   "source": [
    "write_acknowledgements_csv('denv4')"
   ]
  },
  {
   "cell_type": "code",
   "execution_count": null,
   "id": "117b39f5",
   "metadata": {},
   "outputs": [],
   "source": []
  }
 ],
 "metadata": {
  "kernelspec": {
   "display_name": "Python 3 (ipykernel)",
   "language": "python",
   "name": "python3"
  },
  "language_info": {
   "codemirror_mode": {
    "name": "ipython",
    "version": 3
   },
   "file_extension": ".py",
   "mimetype": "text/x-python",
   "name": "python",
   "nbconvert_exporter": "python",
   "pygments_lexer": "ipython3",
   "version": "3.9.7"
  }
 },
 "nbformat": 4,
 "nbformat_minor": 5
}
