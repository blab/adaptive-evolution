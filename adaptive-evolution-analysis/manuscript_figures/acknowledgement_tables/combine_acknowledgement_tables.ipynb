{
 "cells": [
  {
   "cell_type": "code",
   "execution_count": 1,
   "id": "c5c2e19f",
   "metadata": {},
   "outputs": [],
   "source": [
    "import pandas as pd"
   ]
  },
  {
   "cell_type": "markdown",
   "id": "db0c0f9e",
   "metadata": {},
   "source": [
    "### Combine acknowledgement tables for all viruses and all strains used in this study.\n",
    "\n",
    "Sequences from different databases will have different columns, so allow there to be blank columns"
   ]
  },
  {
   "cell_type": "code",
   "execution_count": 61,
   "id": "30e571df",
   "metadata": {},
   "outputs": [],
   "source": [
    "#add database column to SARS2 \n",
    "def add_database_column(virus):\n",
    "\n",
    "    ack_table = pd.read_csv(f'virus_specific_tables/acknowledgments_{virus}.tsv', sep='\\t')\n",
    "\n",
    "    ack_table['Database'] = 'GISAID'\n",
    "    ack_table['Virus'] = virus\n",
    "    ack_table.rename(columns={\"gisaid_epi_isl\": \"Accession\"}, inplace=True)\n",
    "    ack_table.set_index('Accession')\n",
    "    \n",
    "    ack_table.rename(columns={\"strain\": \"Strain\", \"author\":\"Author\", \n",
    "                              \"originating_lab\":\"Originating_Lab\", \"submitting_lab\": \"Submitting_Lab\",\n",
    "                              \"genbank_accession\":\"Genbank_Accession\"}, inplace=True)\n",
    "        \n",
    "    ack_table.to_csv(f'virus_specific_tables/acknowledgments_{virus}.tsv', sep='\\t', index=False)"
   ]
  },
  {
   "cell_type": "code",
   "execution_count": 62,
   "id": "5ced9ef7",
   "metadata": {},
   "outputs": [],
   "source": [
    "add_database_column('sars2')"
   ]
  },
  {
   "cell_type": "code",
   "execution_count": 63,
   "id": "df5b93b7",
   "metadata": {},
   "outputs": [],
   "source": [
    "add_database_column('sars2_21L')"
   ]
  },
  {
   "cell_type": "code",
   "execution_count": 70,
   "id": "2b7979c4",
   "metadata": {},
   "outputs": [],
   "source": [
    "#combine all tables\n",
    "viruses = ['229e', 'adenovirusB_3', 'adenovirusB_7', 'denv1', 'denv2', 'denv3', 'denv4', \n",
    "           'enterovirusd68', 'h1n1pdm', 'h3n2', 'hepatitisA_IA', 'hepatitisB_A2', 'hepatitisB_D3', \n",
    "           'hpiv_1', 'hpiv_3', 'influenzaC', 'measles', 'mumps', 'nl63', 'norovirus', 'oc43_A', \n",
    "             'rotavirusA', 'rsvA', 'rsvB', 'sars2_21L', 'sars2', 'vic', 'yam']\n",
    "\n",
    "\n",
    "all_virus_acknowledgments = pd.DataFrame(columns=['Accession', 'Virus', 'Strain', 'Author', 'Publication_Title', 'Journal',\n",
    "                                                  'Originating_Lab', 'Submitting_Lab', 'Genbank_Accession', 'Database'])\n",
    "\n",
    "for v in viruses:\n",
    "    table = pd.read_csv(f'virus_specific_tables/acknowledgments_{v}.tsv', sep='\\t')\n",
    "    \n",
    "    all_virus_acknowledgments = pd.concat([all_virus_acknowledgments, table], ignore_index=True, join='outer')\n",
    "\n",
    "all_virus_acknowledgments.fillna('')\n",
    "\n",
    "all_virus_acknowledgments.to_csv('sequence_acknowledgments.tsv', sep='\\t', index=False)\n",
    "    "
   ]
  },
  {
   "cell_type": "code",
   "execution_count": null,
   "id": "7b1b9809",
   "metadata": {},
   "outputs": [],
   "source": []
  }
 ],
 "metadata": {
  "kernelspec": {
   "display_name": "Python 3 (ipykernel)",
   "language": "python",
   "name": "python3"
  },
  "language_info": {
   "codemirror_mode": {
    "name": "ipython",
    "version": 3
   },
   "file_extension": ".py",
   "mimetype": "text/x-python",
   "name": "python",
   "nbconvert_exporter": "python",
   "pygments_lexer": "ipython3",
   "version": "3.9.7"
  }
 },
 "nbformat": 4,
 "nbformat_minor": 5
}
