{
 "cells": [
  {
   "cell_type": "code",
   "execution_count": 4,
   "id": "60a57900",
   "metadata": {},
   "outputs": [],
   "source": [
    "import pandas as pd\n",
    "from augur.utils import json_to_tree\n",
    "import json"
   ]
  },
  {
   "cell_type": "code",
   "execution_count": 22,
   "id": "159adde0",
   "metadata": {},
   "outputs": [],
   "source": [
    "def write_acknowledgements_csv(virus, res):\n",
    "    \"\"\"\n",
    "    Write an acknowlegements table for all sequences that were used. Get the info from tree json\n",
    "    \"\"\"\n",
    "    segments = ['ha', 'na', 'np', 'pa', 'pb1', 'pb2']\n",
    "    \n",
    "    ack_info = []\n",
    "    \n",
    "    for segment in segments:\n",
    "        tree_file = f'flu_seasonal_{virus}_{segment}_{res}.json'\n",
    "        with open(tree_file, 'r') as f:\n",
    "            tree_json = json.load(f)\n",
    "\n",
    "        #put tree in Bio.phylo format\n",
    "        tree = json_to_tree(tree_json)\n",
    "        \n",
    "        for node in tree.find_clades(terminal=True):\n",
    "            submitting_lab = node.node_attrs['submitting_lab']['value']\n",
    "            accession = node.node_attrs['accession']\n",
    "            if 'originating_lab' in node.node_attrs.keys():\n",
    "                originating_lab = node.node_attrs['originating_lab']['value']\n",
    "            else:\n",
    "                originating_lab = ''\n",
    "                \n",
    "            ack_info.append({'Accession': accession, 'Virus': virus, 'Strain': node.name, 'Segment':segment,\n",
    "                             'Originating_lab': originating_lab, 'Submitting_lab':submitting_lab, \n",
    "                             'Database': 'GISAID'})\n",
    "\n",
    "    ack_df = pd.DataFrame(ack_info)\n",
    "    \n",
    "    ack_df.set_index('Accession')    \n",
    "    \n",
    "    #save the acknowledgement table\n",
    "    ack_df.to_csv(f'acknowledgments_{virus}.tsv', sep='\\t', index=False)"
   ]
  },
  {
   "cell_type": "code",
   "execution_count": 23,
   "id": "9650b74b",
   "metadata": {},
   "outputs": [],
   "source": [
    "write_acknowledgements_csv('h3n2', '60y')"
   ]
  },
  {
   "cell_type": "code",
   "execution_count": 24,
   "id": "344da579",
   "metadata": {},
   "outputs": [],
   "source": [
    "write_acknowledgements_csv('vic', '60y')"
   ]
  },
  {
   "cell_type": "code",
   "execution_count": 25,
   "id": "082bf510",
   "metadata": {},
   "outputs": [],
   "source": [
    "write_acknowledgements_csv('yam', '60y')"
   ]
  },
  {
   "cell_type": "code",
   "execution_count": 26,
   "id": "8c5efb58",
   "metadata": {},
   "outputs": [],
   "source": [
    "write_acknowledgements_csv('h1n1pdm', '12y')"
   ]
  },
  {
   "cell_type": "code",
   "execution_count": null,
   "id": "dc94624a",
   "metadata": {},
   "outputs": [],
   "source": []
  }
 ],
 "metadata": {
  "kernelspec": {
   "display_name": "Python 3 (ipykernel)",
   "language": "python",
   "name": "python3"
  },
  "language_info": {
   "codemirror_mode": {
    "name": "ipython",
    "version": 3
   },
   "file_extension": ".py",
   "mimetype": "text/x-python",
   "name": "python",
   "nbconvert_exporter": "python",
   "pygments_lexer": "ipython3",
   "version": "3.9.7"
  }
 },
 "nbformat": 4,
 "nbformat_minor": 5
}
