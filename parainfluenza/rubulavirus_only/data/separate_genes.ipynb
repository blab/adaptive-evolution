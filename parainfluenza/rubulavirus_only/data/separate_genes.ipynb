{
 "cells": [
  {
   "cell_type": "code",
   "execution_count": 1,
   "id": "7e9812ff",
   "metadata": {},
   "outputs": [],
   "source": [
    "from Bio import SeqIO\n",
    "from Bio.Seq import Seq\n",
    "from Bio.SeqRecord import SeqRecord"
   ]
  },
  {
   "cell_type": "markdown",
   "id": "e7de8d70",
   "metadata": {},
   "source": [
    "All strains were aligned to a full genome reference file. Look at the aligned sequences and find strains where the HN and L genes were sequences (at least 80% coverage). Write these gene-only sequences to a fasta file as input for gene-only build"
   ]
  },
  {
   "cell_type": "code",
   "execution_count": 20,
   "id": "6a2feec7",
   "metadata": {},
   "outputs": [],
   "source": [
    "subtypes = ['2','4']\n",
    "\n",
    "for subtype in subtypes:\n",
    "    #get location of HN and L\n",
    "    for seq_record in SeqIO.parse(f'../config/reference_hpiv_{subtype}.gb', \"genbank\"):\n",
    "        for feature in seq_record.features:\n",
    "            if feature.type == 'CDS':\n",
    "                if 'gene' in feature.qualifiers.keys():\n",
    "                    if feature.qualifiers['gene'][0] =='HN':\n",
    "                        HN_loc = feature.location\n",
    "                    elif feature.qualifiers['gene'][0] =='L':\n",
    "                        L_loc = feature.location\n",
    "    \n",
    "    #get sequences covering the HN and L genes\n",
    "    L_seq_records = []\n",
    "    HN_seq_records = []\n",
    "    \n",
    "    for record in SeqIO.parse(open(f'../results/aligned_hpiv_{subtype}.fasta',\"r\"), \"fasta\"):\n",
    "        L_seq = L_loc.extract(record.seq)\n",
    "        #only take strains where gene is at least 80% sequenced\n",
    "        L_sequence_coverage= L_seq.count('N')/len(L_seq)\n",
    "        if L_sequence_coverage <=0.2:\n",
    "            L_seq_records.append(SeqRecord(L_seq, id=record.id, description=record.description))\n",
    "            \n",
    "        HN_seq = HN_loc.extract(record.seq)\n",
    "        #only take strains where gene is at least 80% sequenced\n",
    "        HN_sequence_coverage= HN_seq.count('N')/len(HN_seq)\n",
    "        if HN_sequence_coverage <=0.2:\n",
    "            HN_seq_records.append(SeqRecord(HN_seq, id=record.id, description=record.description))\n",
    "            \n",
    "    SeqIO.write(HN_seq_records, f'hpiv_{subtype}_HN.fasta', \"fasta\")\n",
    "    SeqIO.write(L_seq_records, f'hpiv_{subtype}_L.fasta', \"fasta\")"
   ]
  },
  {
   "cell_type": "code",
   "execution_count": null,
   "id": "f5388ed1",
   "metadata": {},
   "outputs": [],
   "source": []
  },
  {
   "cell_type": "code",
   "execution_count": null,
   "id": "0c72bbdd",
   "metadata": {},
   "outputs": [],
   "source": []
  }
 ],
 "metadata": {
  "kernelspec": {
   "display_name": "Python 3 (ipykernel)",
   "language": "python",
   "name": "python3"
  },
  "language_info": {
   "codemirror_mode": {
    "name": "ipython",
    "version": 3
   },
   "file_extension": ".py",
   "mimetype": "text/x-python",
   "name": "python",
   "nbconvert_exporter": "python",
   "pygments_lexer": "ipython3",
   "version": "3.9.7"
  }
 },
 "nbformat": 4,
 "nbformat_minor": 5
}
