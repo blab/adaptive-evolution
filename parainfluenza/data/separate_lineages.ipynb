{
 "cells": [
  {
   "cell_type": "code",
   "execution_count": 3,
   "id": "0680614a",
   "metadata": {},
   "outputs": [],
   "source": [
    "from Bio import SeqIO\n",
    "from Bio.Seq import Seq\n",
    "from Bio.SeqRecord import SeqRecord\n",
    "from augur.utils import json_to_tree\n",
    "import json"
   ]
  },
  {
   "cell_type": "markdown",
   "id": "cd56282b",
   "metadata": {},
   "source": [
    "Code to separate input data fasta file into multiple data files based on different lineages. Need to have run a build already with all sequences (including both lineages), and the separate data files will be constructed by finding all tips that descend from the common ancestors of the lineages "
   ]
  },
  {
   "cell_type": "code",
   "execution_count": 2,
   "id": "b0eaf497",
   "metadata": {},
   "outputs": [],
   "source": [
    "#need to look at tree json file to find the branch name for the common ancestor of the different lineages\n",
    "#format of dict {species:{lineage:common_ancestor}}\n",
    "lineage_ancestors = {'1':{'A':'NODE_0000049', 'B':'NODE_0000040'}}"
   ]
  },
  {
   "cell_type": "code",
   "execution_count": 6,
   "id": "45bde0ed",
   "metadata": {},
   "outputs": [],
   "source": [
    "for subtype, lineages in lineage_ancestors.items():\n",
    "    #read in tree\n",
    "    with open(f'../auspice/parainfluenza_{subtype}.json', 'r') as f:\n",
    "        tree_json = json.load(f)\n",
    "\n",
    "    #Put tree in Bio.Phylo format\n",
    "    tree = json_to_tree(tree_json)\n",
    "    \n",
    "    #store all tip names for each lineage\n",
    "    tips_by_lineage = {}\n",
    "    lineage_by_tip = {}\n",
    "    \n",
    "    #for each lineage\n",
    "    for l, ca in lineages.items():\n",
    "        tips_in_this_lineage = []\n",
    "        #find tips descending from common ancestor branch of the lineages\n",
    "        for node in tree.find_clades(terminal=True):\n",
    "            parents = [x.name for x in tree.get_path(node)]\n",
    "            if ca in parents:\n",
    "                tips_in_this_lineage.append(node.name)\n",
    "                lineage_by_tip[node.name] = l\n",
    "        tips_by_lineage[l] = tips_in_this_lineage\n",
    "    \n",
    "    seq_records = {x:[] for x in list(tips_by_lineage.keys())}\n",
    "    \n",
    "    for record in SeqIO.parse(open(f'hpiv_{subtype}.fasta',\"r\"), \"fasta\"):\n",
    "        genbank_id = record.id.split('|')[0]\n",
    "        if genbank_id in lineage_by_tip.keys():\n",
    "            lineage_this_tip = lineage_by_tip[genbank_id]\n",
    "\n",
    "            seq_records[lineage_this_tip].append(SeqRecord(record.seq, id=record.id, description=record.description))\n",
    "        \n",
    "    for l, seqs in seq_records.items():\n",
    "        SeqIO.write(seqs, f'hpiv_{subtype}{l}.fasta', \"fasta\")"
   ]
  }
 ],
 "metadata": {
  "kernelspec": {
   "display_name": "Python 3 (ipykernel)",
   "language": "python",
   "name": "python3"
  },
  "language_info": {
   "codemirror_mode": {
    "name": "ipython",
    "version": 3
   },
   "file_extension": ".py",
   "mimetype": "text/x-python",
   "name": "python",
   "nbconvert_exporter": "python",
   "pygments_lexer": "ipython3",
   "version": "3.9.7"
  }
 },
 "nbformat": 4,
 "nbformat_minor": 5
}
