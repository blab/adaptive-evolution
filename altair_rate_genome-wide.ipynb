{
 "cells": [
  {
   "cell_type": "code",
   "execution_count": 69,
   "id": "9299101f",
   "metadata": {},
   "outputs": [],
   "source": [
    "import altair as alt\n",
    "import pandas as pd\n",
    "import numpy as np\n",
    "import json"
   ]
  },
  {
   "cell_type": "markdown",
   "id": "16b4dd4c",
   "metadata": {},
   "source": [
    "For each virus, plot the rate of adaptation in each gene in the genome"
   ]
  },
  {
   "cell_type": "code",
   "execution_count": 70,
   "id": "99c8859e",
   "metadata": {},
   "outputs": [],
   "source": [
    "df = pd.read_csv('bhatt_results_nextstrain/concatenated_results_df/results_for_altair_all_genes.csv', \n",
    "                 keep_default_na=False)"
   ]
  },
  {
   "cell_type": "code",
   "execution_count": 71,
   "id": "5303546d",
   "metadata": {},
   "outputs": [],
   "source": [
    "#add column for legible rate\n",
    "df['legible_rate_percodon'] = df['adaptive_subs_per_codon_per_year'].round(2).astype(str)+'×10⁻³ muts per codon per year'\n",
    "df['legible_rate_pergene'] = df['adaptive_muts_per_year'].round(2).astype(str)+' muts per year'\n"
   ]
  },
  {
   "cell_type": "code",
   "execution_count": 72,
   "id": "e3036692",
   "metadata": {},
   "outputs": [],
   "source": [
    "#make color mapping lists\n",
    "dom = list(set(df['legible_name']))\n",
    "rng = []\n",
    "for d in dom:\n",
    "    rng.append(list(df[df['legible_name']==d]['color'])[0])"
   ]
  },
  {
   "cell_type": "code",
   "execution_count": 73,
   "id": "9f8fc91b",
   "metadata": {},
   "outputs": [],
   "source": [
    "#make gene names more readable\n",
    "df['gene'] = df['gene'].str.capitalize()\n",
    "rota_segment_to_gene = {'A':'NSP1', 'C':'VP2', 'E':'NSP4', 'G':'VP7', 'I':'VP6', \n",
    "                        'M': 'VP3', 'N': 'NSP2', 'P':'VP4', 'R':'VP1', 'T':'NSP3'}\n",
    "df[df['virus']=='rotavirusAg1p8'] = df[df['virus']=='rotavirusAg1p8'].replace({\"gene\": rota_segment_to_gene})\n",
    "\n",
    "legible_gene_names = {'3clpro':'3CLpro', 'Ha1':'HA1', 'Ha2':'HA2', \n",
    "                      'He':'HE', 'Hn':'HN', 'Na':'NA', 'Nc':'NC', \n",
    "                      'Np':'NP', 'Ns1':'NS1', 'Ns2':'NS2', 'Pa':'PA', \n",
    "                      'Pb1':'PB1', 'Pb2':'PB2', 'Rdrp':'RdRp', \n",
    "                      'Sh':'SH', 'Vp1':'VP1', 'Vp2':'VP2', 'Vp3': 'VP3', \n",
    "                      'Vp4': 'VP4', '2a':\"2A\", '2b':\"2B\", '2c':\"2C\", \n",
    "                      '3a':\"3A\", '3b':\"3B\", '3c':\"3C\", '3d':\"3D\", \n",
    "                      \"Hef1\":\"HEF1\", 'Hef2':\"HEF2\", 'Ns':\"NS\", 'E1a':'E1A', \n",
    "                      'E1b 55k':'E1B 55K', 'Iva2':'IVa2', 'Ptp':'pTP', 'Piiia':'pIIIa', '100k':'100K'}\n",
    "\n",
    "df = df.replace({\"gene\": legible_gene_names})"
   ]
  },
  {
   "cell_type": "code",
   "execution_count": 74,
   "id": "1e0f1bf0",
   "metadata": {},
   "outputs": [],
   "source": [
    "def readin_virus_config(virus):\n",
    "    config_json = f'config/adaptive_evo_config_{virus}.json'\n",
    "    with open(config_json) as json_handle:\n",
    "        configs = json.load(json_handle)\n",
    "        \n",
    "    return configs"
   ]
  },
  {
   "cell_type": "code",
   "execution_count": 75,
   "id": "075a5ac0",
   "metadata": {},
   "outputs": [],
   "source": [
    "url_for_nextstrain_tree = []\n",
    "\n",
    "#add column for link to nextstrain tree url\n",
    "df['nextstrain_tree_url'] = ''\n",
    "\n",
    "\n",
    "\n",
    "for k,v in df.iterrows():\n",
    "    configs = readin_virus_config(v['virus'])\n",
    "    \n",
    "    gene_name = v['gene'].lower()\n",
    "    #edit specific gene names to match URLs:\n",
    "    if v['virus']=='norovirus':\n",
    "        norovirus_names = {'vp1':'VP1', 'vp2':'VP2', 'ntpase':'NTPase', 'vpg':'VPg', '3clpro':'3CLpro'}\n",
    "        if gene_name in norovirus_names.keys():\n",
    "            gene_name = norovirus_names[gene_name]\n",
    "            \n",
    "    if v['virus'] in ['h3n2', 'h1n1pdm', 'vic', 'yam']:\n",
    "        influenza_names = {'ha1':'ha', 'ha2':'ha'}\n",
    "        if gene_name in influenza_names.keys():\n",
    "            gene_name = influenza_names[gene_name]\n",
    "            \n",
    "    if v['virus']=='rotavirusAg1p8':\n",
    "        gene_name = gene_name.upper()\n",
    "    \n",
    "\n",
    "    if v['virus']=='dengue':\n",
    "        serotype = v['subtype'].split('_')[0]\n",
    "        nextstrain_tree_url = configs['nextstrain_tree_url'].format(virus=v['virus'], \n",
    "                                                                    serotype=serotype, gene=gene_name)\n",
    "    else: \n",
    "        nextstrain_tree_url = configs['nextstrain_tree_url'].format(virus=v['virus'], \n",
    "                                                                    subtype=v['subtype'], gene=gene_name)\n",
    "        \n",
    "    df.loc[k,'nextstrain_tree_url'] = str(nextstrain_tree_url)\n",
    "\n",
    "    "
   ]
  },
  {
   "cell_type": "code",
   "execution_count": 76,
   "id": "43110638",
   "metadata": {},
   "outputs": [],
   "source": [
    "def plot_genomewide_rates_percodon(virus_and_subtype, gene_order):\n",
    "\n",
    "    #filename/path to save save plot\n",
    "    if virus_and_subtype == 'rotavirusAg1p8':\n",
    "        virus_directory = 'rotavirusA_g1p8'\n",
    "    else:\n",
    "        virus_directory = virus_and_subtype\n",
    "    filename = f'../atlas-of-viral-adaptation/{virus_directory}/assets/genomewide_rates_percodon_plot.html'\n",
    "    \n",
    "    #set height and width of plots\n",
    "    standard_width = 600\n",
    "    standard_height = 250\n",
    "\n",
    "    #get datapoints from only this virus/subtype\n",
    "    df_virus = df[df['virus_and_subtype']==virus_and_subtype]\n",
    "    \n",
    "    #get measles and H3N2 points for comparison\n",
    "    if virus_and_subtype!='measles':\n",
    "        df_comparison_measles = df[(df['virus_and_subtype']=='measles')&(df['gene']=='H')]\n",
    "        df_comparison_measles = df_comparison_measles.replace('H', 'Measles H')\n",
    "        df_virus = pd.concat([df_virus, df_comparison_measles])\n",
    "    if virus_and_subtype!='h3n2':\n",
    "        df_comparison_h3n2 = df[(df['virus_and_subtype']=='h3n2')&(df['gene']=='HA1')]\n",
    "        df_comparison_h3n2 = df_comparison_h3n2.replace('HA1', 'H3N2 HA1')\n",
    "        df_virus = pd.concat([df_virus, df_comparison_h3n2])\n",
    "                \n",
    "\n",
    "    #make x-axis values (to allow squishing comparison points(measles and h3n2) closer together)\n",
    "    x_tick_pos = []\n",
    "\n",
    "    all_xticks = []\n",
    "\n",
    "    last_coord = 0\n",
    "\n",
    "    regular_spacing = 2\n",
    "    squished_spacing = 1\n",
    "\n",
    "\n",
    "\n",
    "    vert_bar_made = False\n",
    "    for x in gene_order:\n",
    "        if 'Measles' in x or 'H3N2' in x:\n",
    "            tick_pos = last_coord+squished_spacing\n",
    "            last_coord = tick_pos\n",
    "        #make a vertical bar to divide the \"benchmark\" points from the plotted virus\n",
    "        else:\n",
    "            if vert_bar_made == False:\n",
    "                vert_divider_pos = last_coord+squished_spacing\n",
    "                last_coord = vert_divider_pos\n",
    "                vert_bar_made=True\n",
    "                tick_pos = last_coord+squished_spacing\n",
    "                last_coord = tick_pos\n",
    "            else:\n",
    "                tick_pos = last_coord+regular_spacing\n",
    "                last_coord = tick_pos\n",
    "\n",
    "\n",
    "        all_xticks.append(tick_pos)\n",
    "        x_tick_pos.append({'gene': x, 'xtick_pos': tick_pos})\n",
    "\n",
    "\n",
    "    xtick_df = pd.DataFrame(x_tick_pos)\n",
    "\n",
    "    df_virus = df_virus.merge(xtick_df, on='gene')\n",
    "    \n",
    "    \n",
    "    #make labelExpr\n",
    "    label_expr_str = \"\"\n",
    "\n",
    "    for i in range(len(x_tick_pos)):\n",
    "        x = x_tick_pos[i]\n",
    "        if i==len(x_tick_pos)-1:\n",
    "            label_expr_str+=f\"'{x['gene']}'\"\n",
    "        else:\n",
    "            label_expr_str+=f\"datum.label == {x['xtick_pos']} ? '{x['gene']}' : \"\n",
    "    \n",
    "    # generate the points\n",
    "    points = alt.Chart(df_virus).mark_point(\n",
    "        filled=True,\n",
    "        size=200, \n",
    "        opacity=1\n",
    "    ).encode(\n",
    "        x=alt.X('xtick_pos:Q', title='', \n",
    "                axis=alt.Axis(values = all_xticks, labelExpr=label_expr_str, tickCount=len(all_xticks))),\n",
    "        y=alt.Y('adaptive_subs_per_codon_per_year:Q', \n",
    "                axis=alt.Axis(title=['Adaptive Mutations', 'per Codon per Year (× 10⁻³)'], format=\".1f\")),\n",
    "        color=alt.Color('legible_name', scale=alt.Scale(domain=dom, range=rng), legend=None),\n",
    "        href='nextstrain_tree_url:N',\n",
    "        tooltip=[alt.Tooltip('legible_name:N', title='Virus'),\n",
    "                 alt.Tooltip('legible_rate_percodon', title='Rate')] \n",
    "    ).properties(\n",
    "        width=standard_width,\n",
    "        height=standard_height\n",
    "    )\n",
    "\n",
    "    #generate the error bars\n",
    "    errorbars = alt.Chart(df_virus).mark_errorbar().encode(\n",
    "        x=alt.X('xtick_pos:Q', title=''),\n",
    "        y=alt.Y(\"lower_95ci\", title=''),\n",
    "        y2=\"upper_95ci\", \n",
    "        color=alt.Color('legible_name', scale=alt.Scale(domain=dom, range=rng), legend=None),\n",
    "        tooltip=alt.value(None)\n",
    "    ).properties(\n",
    "        width=standard_width,\n",
    "        height=standard_height\n",
    "    )\n",
    "\n",
    "    vert_divider = alt.Chart(pd.DataFrame({'x': [vert_divider_pos]})).mark_rule(strokeDash=[3,5]).encode(x='x')\n",
    "\n",
    "\n",
    "\n",
    "    chart = alt.layer(points, errorbars, vert_divider, data=df_virus).configure_axis(\n",
    "        grid=False\n",
    "    ).configure_view(\n",
    "        strokeWidth=0\n",
    "    ).configure_axisX(\n",
    "        labelAngle=270, labelFontSize=12\n",
    "    ).configure_axisY(labelFontSize=12,titleFontSize=14, titlePadding=20)\n",
    "\n",
    "    chart\n",
    "    \n",
    "    chart.save(filename, scale_factor=10.0)"
   ]
  },
  {
   "cell_type": "code",
   "execution_count": 80,
   "id": "a327f0d4",
   "metadata": {},
   "outputs": [],
   "source": [
    "plot_genomewide_rates_percodon('h3n2', ['Measles H', 'HA1', 'HA2', 'NA', 'NP', 'PA', 'PB1', 'PB2'])"
   ]
  },
  {
   "cell_type": "code",
   "execution_count": 81,
   "id": "e6bafcbd",
   "metadata": {},
   "outputs": [],
   "source": [
    "plot_genomewide_rates_percodon('yam', ['Measles H', 'H3N2 HA1', 'HA1', 'HA2', 'NA', 'NP', 'PA', 'PB1', 'PB2'])"
   ]
  },
  {
   "cell_type": "code",
   "execution_count": 82,
   "id": "89fc9ded",
   "metadata": {},
   "outputs": [],
   "source": [
    "plot_genomewide_rates_percodon('vic', ['Measles H', 'H3N2 HA1', 'HA1', 'HA2', 'NA', 'NP', 'PA', 'PB1', 'PB2'])"
   ]
  },
  {
   "cell_type": "code",
   "execution_count": 83,
   "id": "bfa36ce5",
   "metadata": {},
   "outputs": [],
   "source": [
    "plot_genomewide_rates_percodon('measles', ['H3N2 HA1', \"N\", \"P\", \"V\", \"C\", \"M\", \"F\", \"H\", \"L\"])"
   ]
  },
  {
   "cell_type": "code",
   "execution_count": 84,
   "id": "6d854f06",
   "metadata": {},
   "outputs": [],
   "source": [
    "plot_genomewide_rates_percodon('mumps', ['Measles H','H3N2 HA1',\"NC\", \"V\", \"I\", \"M\", \"F\", \"SH\", \"HN\", \"L\"])"
   ]
  },
  {
   "cell_type": "code",
   "execution_count": 85,
   "id": "821428d2",
   "metadata": {},
   "outputs": [],
   "source": [
    "plot_genomewide_rates_percodon('229e', \n",
    "                               ['Measles H','H3N2 HA1',\"Replicase1ab\", \"RdRp\", \"Protein4a\", \n",
    "                                \"Protein4b\", \"S1\", \"S2\", \"Envelope\", \"Membrane\", \"Nucleocapsid\"])"
   ]
  },
  {
   "cell_type": "code",
   "execution_count": 86,
   "id": "4f58bad8",
   "metadata": {},
   "outputs": [],
   "source": [
    "plot_genomewide_rates_percodon('oc43_a', \n",
    "                               ['Measles H','H3N2 HA1', \"Replicase1ab\", \"RdRp\", \"HE\", \"S1\", \n",
    "                                \"S2\", \"Membrane\", \"Nucleocapsid\"])"
   ]
  },
  {
   "cell_type": "code",
   "execution_count": 87,
   "id": "2c298065",
   "metadata": {},
   "outputs": [],
   "source": [
    "plot_genomewide_rates_percodon('nl63', \n",
    "                               ['Measles H','H3N2 HA1', \"Replicase1ab\", \"RdRp\", \"S1\", \n",
    "                                \"S2\", \"Membrane\", \"Nucleocapsid\"])"
   ]
  },
  {
   "cell_type": "code",
   "execution_count": 88,
   "id": "fc9f9b5d",
   "metadata": {},
   "outputs": [],
   "source": [
    "plot_genomewide_rates_percodon('rsv_A', ['Measles H','H3N2 HA1', \"NS1\", \n",
    "                                        \"NS2\", \"N\", \"P\", \"M\", \"SH\", \"G\", \"F\", \"L\"])"
   ]
  },
  {
   "cell_type": "code",
   "execution_count": 89,
   "id": "3850570e",
   "metadata": {},
   "outputs": [],
   "source": [
    "plot_genomewide_rates_percodon('rsv_B', ['Measles H','H3N2 HA1', \"NS1\", \n",
    "                                        \"NS2\", \"N\", \"P\", \"M\", \"SH\", \"G\", \"F\", \"L\"])"
   ]
  },
  {
   "cell_type": "code",
   "execution_count": 90,
   "id": "2de6ac5b",
   "metadata": {},
   "outputs": [],
   "source": [
    "plot_genomewide_rates_percodon('enterovirusd68', ['Measles H','H3N2 HA1', \n",
    "                                                  \"VP4\", \"VP2\", \"VP3\", \"VP1\", \n",
    "                                                  \"2A\", \"2B\", \"2C\", \"3A\", \"3B\", \"3C\", \"3D\"])"
   ]
  },
  {
   "cell_type": "code",
   "execution_count": 91,
   "id": "0ac983c3",
   "metadata": {},
   "outputs": [],
   "source": [
    "plot_genomewide_rates_percodon('parainfluenza_1', ['Measles H','H3N2 HA1', \n",
    "                                                   \"N\", \"P\", \"C\", \"M\", \"F\", \"HN\", \"L\"])"
   ]
  },
  {
   "cell_type": "code",
   "execution_count": 92,
   "id": "6a178a4a",
   "metadata": {},
   "outputs": [],
   "source": [
    "plot_genomewide_rates_percodon('parainfluenza_3', ['Measles H','H3N2 HA1', \n",
    "                                                   \"N\", \"D\", \"P\", \"C\", \"M\", \"F\", \"HN\", \"L\"])"
   ]
  },
  {
   "cell_type": "code",
   "execution_count": 93,
   "id": "ae6e1a79",
   "metadata": {},
   "outputs": [],
   "source": [
    "plot_genomewide_rates_percodon('influenzaC_Yamagata', ['Measles H','H3N2 HA1', \n",
    "                                              \"PB2\", \"PB1\", \"P3\", \"HEF1\", \"HEF2\", \"NP\", \"M\", \"NS\"])"
   ]
  },
  {
   "cell_type": "code",
   "execution_count": 94,
   "id": "0523200f",
   "metadata": {},
   "outputs": [],
   "source": [
    "plot_genomewide_rates_percodon('rotavirusAg1p8', ['Measles H','H3N2 HA1',\"VP1\", \"VP2\", \"VP3\", \"VP4\", \n",
    "                                                  \"NSP1\", \"VP6\", \"NSP3\", \"NSP2\", \"VP7\", \"NSP4\"])"
   ]
  },
  {
   "cell_type": "code",
   "execution_count": 95,
   "id": "884aa976",
   "metadata": {},
   "outputs": [],
   "source": [
    "plot_genomewide_rates_percodon('parvovirusB19', ['Measles H','H3N2 HA1',\"NS\", \"U7_5kda\", \n",
    "                                                 \"VP1\", \"X\", \"U11kda\", \"VP2\"])"
   ]
  },
  {
   "cell_type": "code",
   "execution_count": 61,
   "id": "f4508069",
   "metadata": {},
   "outputs": [],
   "source": [
    "plot_genomewide_rates_percodon('adenovirusB7', ['Measles H','H3N2 HA1',\"E1A\", \"E1B 55K\", \"IVa2\", \"Pol\", \"pTP\", \n",
    "                                                \"pIIIa\", \"Hexon\", \"Protease\", \"100K\", \"Fiber\"])"
   ]
  },
  {
   "cell_type": "code",
   "execution_count": 62,
   "id": "1864e4c5",
   "metadata": {},
   "outputs": [],
   "source": [
    "plot_genomewide_rates_percodon('adenovirusB3', ['Measles H','H3N2 HA1',\"E1A\", \"E1B 55K\", \"IVa2\", \"Pol\", \"pTP\", \n",
    "                                                \"pIIIa\", \"Hexon\", \"Protease\", \"100K\", \"Fiber\"])"
   ]
  },
  {
   "cell_type": "code",
   "execution_count": 77,
   "id": "6f6b7881",
   "metadata": {},
   "outputs": [],
   "source": [
    "plot_genomewide_rates_percodon('hepatitisB_A2', ['Measles H','H3N2 HA1',\"Polymerase\", \"Large\", \"Middle\", \n",
    "                                                 \"Small\", \"X\", \"Core\"])"
   ]
  },
  {
   "cell_type": "code",
   "execution_count": 78,
   "id": "a56cc712",
   "metadata": {},
   "outputs": [],
   "source": [
    "plot_genomewide_rates_percodon('hepatitisB_D3', ['Measles H','H3N2 HA1',\"Polymerase\", \"Large\", \"Middle\", \n",
    "                                                 \"Small\", \"X\", \"Core\"])"
   ]
  },
  {
   "cell_type": "code",
   "execution_count": 63,
   "id": "356a018b",
   "metadata": {},
   "outputs": [],
   "source": [
    "def plot_genomewide_rates_pergene(virus_and_subtype, gene_order):\n",
    "\n",
    "    #filename/path to save save plot\n",
    "    if virus_and_subtype == 'rotavirusAg1p8':\n",
    "        virus_directory = 'rotavirusA_g1p8'\n",
    "    else:\n",
    "        virus_directory = virus_and_subtype\n",
    "    filename = f'../atlas-of-viral-adaptation/{virus_directory}/assets/genomewide_rates_pergene_plot.html'\n",
    "    \n",
    "    #set height and width of plots\n",
    "    standard_width = 600\n",
    "    standard_height = 250\n",
    "\n",
    "    #get datapoints from only this virus/subtype\n",
    "    df_virus = df[df['virus_and_subtype']==virus_and_subtype]\n",
    "\n",
    "    #get measles and H3N2 points for comparison\n",
    "    if virus_and_subtype!='measles':\n",
    "        df_comparison_measles = df[(df['virus_and_subtype']=='measles')&(df['gene']=='H')]\n",
    "        df_comparison_measles = df_comparison_measles.replace('H', 'Measles H')\n",
    "        df_virus = pd.concat([df_virus, df_comparison_measles])\n",
    "    if virus_and_subtype!='h3n2':\n",
    "        df_comparison_h3n2 = df[(df['virus_and_subtype']=='h3n2')&(df['gene']=='HA1')]\n",
    "        df_comparison_h3n2 = df_comparison_h3n2.replace('HA1', 'H3N2 HA1')\n",
    "        df_virus = pd.concat([df_virus, df_comparison_h3n2])\n",
    "\n",
    "    #make x-axis values (to allow squishing comparison points(measles and h3n2) closer together)\n",
    "    x_tick_pos = []\n",
    "\n",
    "    all_xticks = []\n",
    "\n",
    "    last_coord = 0\n",
    "\n",
    "    regular_spacing = 2\n",
    "    squished_spacing = 1\n",
    "\n",
    "\n",
    "\n",
    "    vert_bar_made = False\n",
    "    for x in gene_order:\n",
    "        if 'Measles' in x or 'H3N2' in x:\n",
    "            tick_pos = last_coord+squished_spacing\n",
    "            last_coord = tick_pos\n",
    "        #make a vertical bar to divide the \"benchmark\" points from the plotted virus\n",
    "        else:\n",
    "            if vert_bar_made == False:\n",
    "                vert_divider_pos = last_coord+squished_spacing\n",
    "                last_coord = vert_divider_pos\n",
    "                vert_bar_made=True\n",
    "                tick_pos = last_coord+squished_spacing\n",
    "                last_coord = tick_pos\n",
    "            else:\n",
    "                tick_pos = last_coord+regular_spacing\n",
    "                last_coord = tick_pos\n",
    "\n",
    "\n",
    "        all_xticks.append(tick_pos)\n",
    "        x_tick_pos.append({'gene': x, 'xtick_pos': tick_pos})\n",
    "\n",
    "\n",
    "    xtick_df = pd.DataFrame(x_tick_pos)\n",
    "\n",
    "    df_virus = df_virus.merge(xtick_df, on='gene')\n",
    "\n",
    "    #make labelExpr\n",
    "    label_expr_str = \"\"\n",
    "\n",
    "    for i in range(len(x_tick_pos)):\n",
    "        x = x_tick_pos[i]\n",
    "        if i==len(x_tick_pos)-1:\n",
    "            label_expr_str+=f\"'{x['gene']}'\"\n",
    "        else:\n",
    "            label_expr_str+=f\"datum.label == {x['xtick_pos']} ? '{x['gene']}' : \"\n",
    "\n",
    "    # generate the points\n",
    "    points = alt.Chart(df_virus).mark_point(\n",
    "        filled=True,\n",
    "        size=200, \n",
    "        opacity=1\n",
    "    ).encode(\n",
    "        x=alt.X('xtick_pos:Q', title='', \n",
    "                axis=alt.Axis(values = all_xticks, labelExpr=label_expr_str, tickCount=len(all_xticks))),\n",
    "        y=alt.Y('adaptive_muts_per_year:Q', \n",
    "                axis=alt.Axis(title=['Adaptive Mutations', 'per Year'], format=\".1f\")),\n",
    "        color=alt.Color('legible_name', scale=alt.Scale(domain=dom, range=rng), legend=None),\n",
    "        href='nextstrain_tree_url:N',\n",
    "        tooltip=[alt.Tooltip('legible_name:N', title='Virus'),\n",
    "                 alt.Tooltip('legible_rate_percodon', title='Rate')],\n",
    "    ).properties(\n",
    "        width=standard_width,\n",
    "        height=standard_height\n",
    "    )\n",
    "\n",
    "    #generate the error bars\n",
    "    errorbars = alt.Chart(df_virus).mark_errorbar().encode(\n",
    "        x=alt.X('xtick_pos:Q', title=''),\n",
    "        y=alt.Y(\"lower_95ci_mutspergene\", title=''),\n",
    "        y2=\"upper_95ci_mutspergene\", \n",
    "        color=alt.Color('legible_name', scale=alt.Scale(domain=dom, range=rng), legend=None),\n",
    "        tooltip=alt.value(None)\n",
    "    ).properties(\n",
    "        width=standard_width,\n",
    "        height=standard_height\n",
    "    )\n",
    "\n",
    "    vert_divider = alt.Chart(pd.DataFrame({'x': [vert_divider_pos]})).mark_rule(strokeDash=[3,5]).encode(x='x')\n",
    "\n",
    "\n",
    "\n",
    "    chart = alt.layer(points, errorbars, vert_divider, data=df_virus).configure_axis(\n",
    "        grid=False\n",
    "    ).configure_view(\n",
    "        strokeWidth=0\n",
    "    ).configure_axisX(\n",
    "        labelAngle=270, labelFontSize=12\n",
    "    ).configure_axisY(labelFontSize=12,titleFontSize=14, titlePadding=20)\n",
    "\n",
    "    \n",
    "    chart.save(filename)"
   ]
  },
  {
   "cell_type": "code",
   "execution_count": 277,
   "id": "9722ed72",
   "metadata": {},
   "outputs": [],
   "source": [
    "plot_genomewide_rates_pergene('h3n2', ['Measles H', 'HA1', 'HA2', 'NA', 'NP', 'PA', 'PB1', 'PB2'])"
   ]
  },
  {
   "cell_type": "code",
   "execution_count": 278,
   "id": "b0999f09",
   "metadata": {},
   "outputs": [],
   "source": [
    "plot_genomewide_rates_pergene('yam', ['Measles H', 'H3N2 HA1', 'HA1', 'HA2', 'NA', 'NP', 'PA', 'PB1', 'PB2'])"
   ]
  },
  {
   "cell_type": "code",
   "execution_count": 279,
   "id": "c4ef5935",
   "metadata": {},
   "outputs": [],
   "source": [
    "plot_genomewide_rates_pergene('vic', ['Measles H', 'H3N2 HA1', 'HA1', 'HA2', 'NA', 'NP', 'PA', 'PB1', 'PB2'])"
   ]
  },
  {
   "cell_type": "code",
   "execution_count": 280,
   "id": "ebed3301",
   "metadata": {},
   "outputs": [],
   "source": [
    "plot_genomewide_rates_pergene('measles', ['H3N2 HA1', \"N\", \"P\", \"V\", \"C\", \"M\", \"F\", \"H\", \"L\"])"
   ]
  },
  {
   "cell_type": "code",
   "execution_count": 281,
   "id": "2a61cfea",
   "metadata": {},
   "outputs": [],
   "source": [
    "plot_genomewide_rates_pergene('mumps', ['Measles H','H3N2 HA1',\"NC\", \"V\", \"I\", \"M\", \"F\", \"SH\", \"HN\", \"L\"])"
   ]
  },
  {
   "cell_type": "code",
   "execution_count": null,
   "id": "9c79826d",
   "metadata": {},
   "outputs": [],
   "source": [
    "plot_genomewide_rates_pergene('229e', \n",
    "                               ['Measles H','H3N2 HA1',\"Replicase1ab\", \"RdRp\", \"Protein4a\", \n",
    "                                \"Protein4b\", \"S1\", \"S2\", \"Envelope\", \"Membrane\", \"Nucleocapsid\"])"
   ]
  },
  {
   "cell_type": "code",
   "execution_count": null,
   "id": "ec378087",
   "metadata": {},
   "outputs": [],
   "source": [
    "plot_genomewide_rates_pergene('oc43_a', \n",
    "                               ['Measles H','H3N2 HA1', \"Replicase1ab\", \"RdRp\", \"HE\", \"S1\", \n",
    "                                \"S2\", \"Membrane\", \"Nucleocapsid\"])"
   ]
  },
  {
   "cell_type": "code",
   "execution_count": null,
   "id": "265679a9",
   "metadata": {},
   "outputs": [],
   "source": [
    "plot_genomewide_rates_pergene('nl63', \n",
    "                               ['Measles H','H3N2 HA1', \"Replicase1ab\", \"RdRp\", \"S1\", \n",
    "                                \"S2\", \"Membrane\", \"Nucleocapsid\"])"
   ]
  },
  {
   "cell_type": "code",
   "execution_count": 283,
   "id": "6efe5147",
   "metadata": {},
   "outputs": [],
   "source": [
    "plot_genomewide_rates_pergene('rsv_A', ['Measles H','H3N2 HA1', \"NS1\", \n",
    "                                        \"NS2\", \"N\", \"P\", \"M\", \"SH\", \"G\", \"F\", \"L\"])"
   ]
  },
  {
   "cell_type": "code",
   "execution_count": 284,
   "id": "ba26f1f1",
   "metadata": {},
   "outputs": [],
   "source": [
    "plot_genomewide_rates_pergene('rsv_B', ['Measles H','H3N2 HA1', \"NS1\", \n",
    "                                        \"NS2\", \"N\", \"P\", \"M\", \"SH\", \"G\", \"F\", \"L\"])"
   ]
  },
  {
   "cell_type": "code",
   "execution_count": 282,
   "id": "55a902a5",
   "metadata": {},
   "outputs": [],
   "source": [
    "plot_genomewide_rates_pergene('enterovirusd68', ['Measles H','H3N2 HA1', \n",
    "                                                  \"VP4\", \"VP2\", \"VP3\", \"VP1\", \n",
    "                                                  \"2A\", \"2B\", \"2C\", \"3A\", \"3B\", \"3C\", \"3D\"])"
   ]
  },
  {
   "cell_type": "code",
   "execution_count": 13,
   "id": "114c7387",
   "metadata": {},
   "outputs": [],
   "source": [
    "plot_genomewide_rates_pergene('parainfluenza_1', ['Measles H','H3N2 HA1', \n",
    "                                                   \"N\", \"D\", \"P\", \"C\", \"M\", \"F\", \"HN\", \"L\"])"
   ]
  },
  {
   "cell_type": "code",
   "execution_count": 14,
   "id": "f63c4e99",
   "metadata": {},
   "outputs": [],
   "source": [
    "plot_genomewide_rates_pergene('parainfluenza_3', ['Measles H','H3N2 HA1', \n",
    "                                                   \"N\", \"D\", \"P\", \"C\", \"M\", \"F\", \"HN\", \"L\"])"
   ]
  },
  {
   "cell_type": "code",
   "execution_count": 30,
   "id": "7f3610de",
   "metadata": {},
   "outputs": [],
   "source": [
    "plot_genomewide_rates_pergene('influenzaC_Yamagata', ['Measles H','H3N2 HA1', \n",
    "                                              \"PB2\", \"PB1\", \"P3\", \"HEF1\", \"HEF2\", \"NP\", \"M\", \"NS\"])"
   ]
  },
  {
   "cell_type": "code",
   "execution_count": 46,
   "id": "42ec7a99",
   "metadata": {},
   "outputs": [],
   "source": [
    "plot_genomewide_rates_pergene('rotavirusAg1p8', ['Measles H','H3N2 HA1',\"VP1\", \"VP2\", \"VP3\", \"VP4\", \n",
    "                                                  \"NSP1\", \"VP6\", \"NSP3\", \"NSP2\", \"VP7\", \"NSP4\"])"
   ]
  },
  {
   "cell_type": "code",
   "execution_count": 61,
   "id": "8f83fde4",
   "metadata": {},
   "outputs": [],
   "source": [
    "plot_genomewide_rates_pergene('parvovirusB19', ['Measles H','H3N2 HA1',\"NS\", \"U7_5kda\", \n",
    "                                                 \"VP1\", \"X\", \"U11kda\", \"VP2\"])"
   ]
  },
  {
   "cell_type": "code",
   "execution_count": 64,
   "id": "b7704c80",
   "metadata": {},
   "outputs": [],
   "source": [
    "plot_genomewide_rates_pergene('adenovirusB7', ['Measles H','H3N2 HA1',\"E1A\", \"E1B 55K\", \"IVa2\", \"Pol\", \"pTP\", \n",
    "                                                \"pIIIa\", \"Hexon\", \"Protease\", \"100K\", \"Fiber\"])"
   ]
  },
  {
   "cell_type": "code",
   "execution_count": 65,
   "id": "153d8a75",
   "metadata": {},
   "outputs": [],
   "source": [
    "plot_genomewide_rates_pergene('adenovirusB3', ['Measles H','H3N2 HA1',\"E1A\", \"E1B 55K\", \"IVa2\", \"Pol\", \"pTP\", \n",
    "                                                \"pIIIa\", \"Hexon\", \"Protease\", \"100K\", \"Fiber\"])"
   ]
  },
  {
   "cell_type": "code",
   "execution_count": 79,
   "id": "418973c0",
   "metadata": {},
   "outputs": [],
   "source": [
    "plot_genomewide_rates_pergene('hepatitisB_A2', ['Measles H','H3N2 HA1',\"Polymerase\", \"Large\", \"Middle\", \n",
    "                                                 \"Small\", \"X\", \"Core\"])"
   ]
  },
  {
   "cell_type": "code",
   "execution_count": 80,
   "id": "4b1b4567",
   "metadata": {},
   "outputs": [],
   "source": [
    "plot_genomewide_rates_pergene('hepatitisB_D3', ['Measles H','H3N2 HA1',\"Polymerase\", \"Large\", \"Middle\", \n",
    "                                                 \"Small\", \"X\", \"Core\"])"
   ]
  }
 ],
 "metadata": {
  "kernelspec": {
   "display_name": "Python 3 (ipykernel)",
   "language": "python",
   "name": "python3"
  },
  "language_info": {
   "codemirror_mode": {
    "name": "ipython",
    "version": 3
   },
   "file_extension": ".py",
   "mimetype": "text/x-python",
   "name": "python",
   "nbconvert_exporter": "python",
   "pygments_lexer": "ipython3",
   "version": "3.9.7"
  }
 },
 "nbformat": 4,
 "nbformat_minor": 5
}
