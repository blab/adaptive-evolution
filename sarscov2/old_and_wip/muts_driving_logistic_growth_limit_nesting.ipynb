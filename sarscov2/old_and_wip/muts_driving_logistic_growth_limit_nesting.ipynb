{
 "cells": [
  {
   "cell_type": "code",
   "execution_count": 1,
   "id": "beb64f9c",
   "metadata": {},
   "outputs": [],
   "source": [
    "from augur.utils import json_to_tree\n",
    "import matplotlib.pyplot as plt\n",
    "import numpy as np\n",
    "import pandas as pd\n",
    "from Bio import SeqIO\n",
    "from collections import Counter\n",
    "from sklearn import linear_model\n",
    "from sklearn.model_selection import ShuffleSplit\n",
    "from sklearn.metrics import mean_squared_error\n",
    "import requests\n"
   ]
  },
  {
   "cell_type": "markdown",
   "id": "8d2b4224",
   "metadata": {},
   "source": [
    "Want to find mutations that are \"driving\" logisitic growth. Do this by multiple linear regression to see which mutations best predict logistic growth rate"
   ]
  },
  {
   "cell_type": "markdown",
   "id": "320d2c45",
   "metadata": {},
   "source": [
    "Get global ncov tree and convert to Bio Phylo format"
   ]
  },
  {
   "cell_type": "code",
   "execution_count": 2,
   "id": "93bf5d1c",
   "metadata": {},
   "outputs": [],
   "source": [
    "tree_url = \"https://data.nextstrain.org/ncov_global.json\"\n",
    "tree_json = requests.get(tree_url).json()\n",
    "tree = json_to_tree(tree_json)"
   ]
  },
  {
   "cell_type": "markdown",
   "id": "05fcafdf",
   "metadata": {},
   "source": [
    "Download entropy manually from nextstrain.org/ncov/global. Find the 0.5% of sites with highest entropy throughout genome"
   ]
  },
  {
   "cell_type": "code",
   "execution_count": 4,
   "id": "ba7fb0f0",
   "metadata": {},
   "outputs": [],
   "source": [
    "entropy_file = 'nextstrain_ncov_global_diversity.tsv'\n",
    "entropy_df = pd.read_csv(entropy_file, sep='\\t')\n",
    "# genome is 29902 nt long, \n",
    "# which would be roughly 9967 codons (but this isn't quite right since there are non-coding regions)\n",
    "# estimate about 9950 codons -> top 0.5% would 50 codons... so take 50 highest entropy values\n",
    "top_entropy_df = entropy_df.nlargest(50,'entropy')"
   ]
  },
  {
   "cell_type": "markdown",
   "id": "153a1aa1",
   "metadata": {},
   "source": [
    "Read in sequence file, that will be used to find the genotype of all members of a clade\n",
    "\n",
    "Get sequence file: aws s3 cp s3://nextstrain-ncov-private/global_subsampled_sequences.fasta.xz ."
   ]
  },
  {
   "cell_type": "code",
   "execution_count": 5,
   "id": "21ea0058",
   "metadata": {},
   "outputs": [],
   "source": [
    "sequences_file = 'global_subsampled_sequences.fasta'\n",
    "record_dict = SeqIO.to_dict(SeqIO.parse(sequences_file, \"fasta\"))"
   ]
  },
  {
   "cell_type": "markdown",
   "id": "a33d7280",
   "metadata": {},
   "source": [
    "Make dataframe where each row is a clade and columns contain information about logistic growth rate, how many S1 mutations from root to clade, and percentage of tips in clade that are genotype X\n",
    "\n",
    "First, need to find genotype of isolates at desired positions (of highest entropy). Do this for all tips and store in a dictionary"
   ]
  },
  {
   "cell_type": "code",
   "execution_count": 6,
   "id": "e35593aa",
   "metadata": {},
   "outputs": [],
   "source": [
    "# read in reference file and find genome position for each codon in the top entropy sites\n",
    "\n",
    "# find the start position of the codon encoding each entropic site\n",
    "genome_location_of_entropic_sites = {}\n",
    "\n",
    "for k,v in top_entropy_df.iterrows():\n",
    "\n",
    "    for record in SeqIO.parse(open(\"reference_seq_edited.gb\",\"r\"), \"genbank\"):\n",
    "        for feature in record.features:\n",
    "            if feature.type == 'CDS':\n",
    "                if feature.qualifiers['gene'][0] == v['gene']:\n",
    "                    mut_location_start = feature.location.start + int(v['position'] -1)*3\n",
    "#                     print((record.seq[mut_location_start:mut_location_start+3]).translate())\n",
    "                    genome_location_of_entropic_sites[mut_location_start] = f\"{v['gene']}_{v['position']}\"\n",
    "\n",
    "                    "
   ]
  },
  {
   "cell_type": "code",
   "execution_count": 7,
   "id": "ebf42f78",
   "metadata": {},
   "outputs": [],
   "source": [
    "# initialize dictionary to store genotype info\n",
    "tip_genotypes = {}\n",
    "\n",
    "for k,v in record_dict.items():\n",
    "    this_tip = {}\n",
    "    #store genotype at each entropic site\n",
    "    for nt_start, gene_codon in genome_location_of_entropic_sites.items():\n",
    "        nt_codon = v.seq[nt_start:nt_start+3]\n",
    "        if all([characters in ['A', 'C', 'G', 'T'] for characters in nt_codon]):\n",
    "            this_tip[gene_codon] = str(nt_codon.translate())\n",
    "        elif all([characters in ['-'] for characters in nt_codon]):\n",
    "            this_tip[gene_codon] = '-'\n",
    "        else:\n",
    "            this_tip[gene_codon] = None\n",
    "\n",
    "    tip_genotypes[k] = this_tip"
   ]
  },
  {
   "cell_type": "markdown",
   "id": "fe0e1478",
   "metadata": {},
   "source": [
    "Want to limit clade nesting.\n",
    "\n",
    "Try defining clades as consisting of at least 10 tips, and consisting of a small range of logistic growth values?"
   ]
  },
  {
   "cell_type": "code",
   "execution_count": 34,
   "id": "3e4eb850",
   "metadata": {},
   "outputs": [
    {
     "name": "stdout",
     "output_type": "stream",
     "text": [
      "[Clade(branch_length=0, name='NODE_0000002'), Clade(branch_length=10, name='NODE_0001634'), Clade(branch_length=20, name='NODE_0001739'), Clade(branch_length=21, name='NODE_0001646'), Clade(branch_length=4, name='NODE_0001848'), Clade(branch_length=4, name='NODE_0001701'), Clade(branch_length=5, name='NODE_0002057'), Clade(branch_length=32, name='NODE_0002101'), Clade(branch_length=4, name='NODE_0002237'), Clade(branch_length=7, name='NODE_0002886'), Clade(branch_length=7, name='NODE_0002972'), Clade(branch_length=28, name='NODE_0003185'), Clade(branch_length=28, name='NODE_0003806'), Clade(branch_length=28, name='NODE_0003741'), Clade(branch_length=28, name='NODE_0003199'), Clade(branch_length=7, name='NODE_0002227'), Clade(branch_length=7, name='NODE_0002678'), Clade(branch_length=7, name='NODE_0002064')]\n"
     ]
    }
   ],
   "source": [
    "#Function to find path from root to clade\n",
    "def get_parents(tree, child_clade):\n",
    "    node_path = tree.get_path(child_clade)\n",
    "    return node_path\n",
    "\n",
    "    \n",
    "\n",
    "# initiate list to store all clade info\n",
    "clade_stats = []\n",
    "\n",
    "# keep track of the bases of clades that have already been visited (to avoid looking at nested subclades)\n",
    "clade_bases = []\n",
    "\n",
    "#Only want to look at clades, don't care about tips\n",
    "for node in tree.find_clades(order=\"postorder\"):\n",
    "    \n",
    "    # clade must have at least 10 tips\n",
    "    if len(node.get_terminals())>=10:\n",
    "    \n",
    "        # only care about clade if logistic growth value is associated\n",
    "        # find stored logistic growth value\n",
    "        if \"logistic_growth\" in node.node_attrs:\n",
    "            logistic_growth = node.node_attrs[\"logistic_growth\"][\"value\"]\n",
    "            clade_base = node\n",
    "            \n",
    "            # only look at clades with growth rate of 1.0 or greater\n",
    "            if logistic_growth >= 1.0:\n",
    "                parents = get_parents(tree, node)\n",
    "                # walk back through tree to create clade of similar logistic growth rates\n",
    "                # clade is defined by oldest node with rate within 0.5 of node\n",
    "                for parent in reversed(parents[:-1]):\n",
    "                    if \"logistic_growth\" in parent.node_attrs:\n",
    "                        parent_logistic_growth = parent.node_attrs[\"logistic_growth\"][\"value\"]\n",
    "\n",
    "                        if (logistic_growth-float(0.5)) <= parent_logistic_growth <= (logistic_growth+float(0.5)):\n",
    "                            clade_base = parent\n",
    "\n",
    "\n",
    "                \n",
    "                \n",
    "                if clade_base not in clade_bases:\n",
    "                    clade_bases.append(clade_base)\n",
    "\n",
    "print(clade_bases)\n",
    "                \n",
    "\n",
    "#             #all S1 muts from root to clade already stored as json value\n",
    "#             if \"S1_mutations\" in node.node_attrs:\n",
    "#                 s1_mutations = node.node_attrs[\"S1_mutations\"][\"value\"]\n",
    "#             else:\n",
    "#                 s1_mutations = None\n",
    "\n",
    "#             # find all tips in this clade\n",
    "#             tips_in_clade = node.get_terminals()\n",
    "#             tip_names_in_clade = [tip.name for tip in tips_in_clade]\n",
    "\n",
    "#             # tally the genotype of each tip within the clade\n",
    "#             clade_genotype_tally = {}\n",
    "#             for tip in tip_names_in_clade:\n",
    "#                 for site, aa in tip_genotypes[tip].items():\n",
    "#                     # ignore the isolates that were not sequenced\n",
    "#                     if aa != None:\n",
    "#                         if site in clade_genotype_tally.keys():\n",
    "#                             clade_genotype_tally[site]+=[aa]\n",
    "#                         else:\n",
    "#                             clade_genotype_tally[site] = [aa]\n",
    "\n",
    "#             # find proportion of tips that have given genotype\n",
    "#             clade_genotype_freqs = {}\n",
    "#             for k, v in clade_genotype_tally.items():\n",
    "#                 counts = Counter(v)\n",
    "#                 for item, count in counts.items():\n",
    "#                     site_genotype = k+item\n",
    "#                     clade_genotype_freqs[site_genotype] = count/len(v)\n",
    "\n",
    "\n",
    "#             clade_stats.append({'clade': node.name, 'logistic_growth': logistic_growth, \n",
    "#                                 'num_s1_muts': s1_mutations, **clade_genotype_freqs})\n",
    "\n",
    "\n",
    "clade_stats_df = pd.DataFrame(clade_stats).fillna(0)\n",
    "                \n",
    "\n",
    "    \n",
    "\n",
    "    \n",
    "\n",
    "    "
   ]
  },
  {
   "cell_type": "code",
   "execution_count": 10,
   "id": "70a0bc31",
   "metadata": {},
   "outputs": [
    {
     "data": {
      "text/plain": [
       "(2121, 171)"
      ]
     },
     "execution_count": 10,
     "metadata": {},
     "output_type": "execute_result"
    }
   ],
   "source": [
    "clade_stats_df.shape"
   ]
  },
  {
   "cell_type": "code",
   "execution_count": null,
   "id": "11b8940b",
   "metadata": {},
   "outputs": [],
   "source": []
  },
  {
   "cell_type": "code",
   "execution_count": null,
   "id": "e1fb0e7d",
   "metadata": {},
   "outputs": [],
   "source": []
  }
 ],
 "metadata": {
  "kernelspec": {
   "display_name": "ncov-kernel",
   "language": "python",
   "name": "ncov-kernel"
  },
  "language_info": {
   "codemirror_mode": {
    "name": "ipython",
    "version": 3
   },
   "file_extension": ".py",
   "mimetype": "text/x-python",
   "name": "python",
   "nbconvert_exporter": "python",
   "pygments_lexer": "ipython3",
   "version": "3.6.13"
  }
 },
 "nbformat": 4,
 "nbformat_minor": 5
}
