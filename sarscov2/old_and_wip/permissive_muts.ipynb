{
 "cells": [
  {
   "cell_type": "code",
   "execution_count": 127,
   "id": "f4207228",
   "metadata": {},
   "outputs": [],
   "source": [
    "from augur.utils import json_to_tree\n",
    "import matplotlib.pyplot as plt\n",
    "import matplotlib.patches as patches\n",
    "import seaborn as sns\n",
    "import numpy as np\n",
    "import pandas as pd\n",
    "from Bio import SeqIO\n",
    "from Bio import Phylo\n",
    "from collections import Counter\n",
    "import requests\n",
    "import itertools"
   ]
  },
  {
   "cell_type": "code",
   "execution_count": 233,
   "id": "56ed5a46",
   "metadata": {},
   "outputs": [],
   "source": [
    "#Download tree json\n",
    "tree_url = \"https://data.nextstrain.org/ncov_global.json\"\n",
    "\n",
    "tree_json = requests.get(tree_url).json()\n",
    "\n",
    "#Put tree in Bio.Phylo format\n",
    "tree = json_to_tree(tree_json)"
   ]
  },
  {
   "cell_type": "code",
   "execution_count": 129,
   "id": "085bf03a",
   "metadata": {},
   "outputs": [
    {
     "data": {
      "text/plain": [
       "1"
      ]
     },
     "execution_count": 129,
     "metadata": {},
     "output_type": "execute_result"
    }
   ],
   "source": [
    "Phylo.write(tree, \"global_tree.nexus\", \"nexus\")"
   ]
  },
  {
   "cell_type": "code",
   "execution_count": 94,
   "id": "cb1758a4",
   "metadata": {},
   "outputs": [],
   "source": [
    "# top_hit_muts = ['ORF1a_G3676-']\n",
    "top_hit_muts = ['ORF1a_G3676-', 'S_P681H', 'S_N501Y', 'N_T205I', \n",
    "                'S_L18F', 'S_L452R', 'S_E484K', 'ORF1a_L3606F', \n",
    "                'ORF1a_T365I', 'N_M234I']"
   ]
  },
  {
   "cell_type": "code",
   "execution_count": 5,
   "id": "c347cfa5",
   "metadata": {},
   "outputs": [],
   "source": [
    "#Function to find path from root to clade\n",
    "def get_parent(tree, child_clade):\n",
    "    node_path = tree.get_path(child_clade)\n",
    "    return node_path"
   ]
  },
  {
   "cell_type": "code",
   "execution_count": 222,
   "id": "1ffedaa4",
   "metadata": {},
   "outputs": [],
   "source": [
    "# initialize dict to store mutations observed in the evolutionary path before the top scoring mutations\n",
    "def find_prior_muts(hit):\n",
    "#     prior_muts = {k:[] for k in top_hit_muts}\n",
    "    \n",
    "    prior_muts = []\n",
    "\n",
    "#     combined_genotypes = {k:{} for k in top_hit_muts}\n",
    "    \n",
    "    combined_genotypes = {}\n",
    "\n",
    "#     for hit in top_hit_muts:\n",
    "    gene = hit.split('_')[0]\n",
    "    mutation = hit.split('_')[1]\n",
    "\n",
    "    count = 0\n",
    "    # find if node has the top hit mutation\n",
    "    for node in tree.find_clades():\n",
    "        # only consider mutations that happen on internal branches with at least 10 descendents\n",
    "        if len(node.get_terminals())>=10:\n",
    "\n",
    "            # find node with 'hit' mutation\n",
    "            if hasattr(node, 'branch_attrs'):\n",
    "                if gene in node.branch_attrs[\"mutations\"].keys():\n",
    "                    if mutation in node.branch_attrs[\"mutations\"][gene]:\n",
    "                        count+=1\n",
    "                        \n",
    "                        \n",
    "                        # initialize dictionary to store all mutations that happened \n",
    "                        # prior to this occurrence of the 'hit' mutation\n",
    "                        this_mutation_occurrence_path = {'E': [], 'M': [], 'N': [],\n",
    "                                                         'ORF1a': [], 'ORF1b': [], 'ORF3a': [], \n",
    "                                                         'ORF6': [], 'ORF7a': [], 'ORF7b': [], \n",
    "                                                         'ORF8':[], 'ORF9b': [],\n",
    "                                                         'S': [], 'nuc': []}\n",
    "\n",
    "                        node_path = get_parent(tree, node)\n",
    "    \n",
    "                        for parent in node_path:\n",
    "                            if len(parent.branch_attrs['mutations']) != 0:\n",
    "                                for g, mut_list in parent.branch_attrs['mutations'].items():\n",
    "                                    this_mutation_occurrence_path[g].append(mut_list)\n",
    "                                \n",
    "                        # flatten list of lists into list\n",
    "                        for k, v in this_mutation_occurrence_path.items():\n",
    "                            new_v = [item for sublist in v for item in sublist]\n",
    "                            this_mutation_occurrence_path[k] = new_v\n",
    "                \n",
    "\n",
    "\n",
    "                        # deal with multiple mutations at same site\n",
    "                        # and edit mutations to just show site and end aa/nuc\n",
    "                        # just want to know what final genotype at each site is\n",
    "\n",
    "                        edited_this_mutation_occurrence_path = {}\n",
    "                        for k,v in this_mutation_occurrence_path.items():\n",
    "                            # dict to store all genotypes at mutated sites within this gene\n",
    "                            final_genotype_at_site = {}\n",
    "\n",
    "                            for mut in v:\n",
    "                                mut_pos = str(mut[1:-1])\n",
    "\n",
    "                                # overwrite genotype with more recent mutation if it already exists\n",
    "                                # otherwise add it\n",
    "                                final_genotype_at_site[mut_pos] = mut[-1]\n",
    "\n",
    "                            new_v = [str(i)+str(j) for i, j in final_genotype_at_site.items()]\n",
    "                            \n",
    "\n",
    "                            edited_this_mutation_occurrence_path[k] = new_v\n",
    "\n",
    "\n",
    "\n",
    "                        # if another occurrence of this 'hit' mutation has already been added to prior_muts, \n",
    "                        # then add the path of this occurrence to a list \n",
    "                        # to give a list genotypes for each occurrence of the 'hit' mutation\n",
    "\n",
    "\n",
    "                        prior_muts.append(edited_this_mutation_occurrence_path)\n",
    "\n",
    "\n",
    "\n",
    "\n",
    "                        for k_c, v_c in edited_this_mutation_occurrence_path.items():\n",
    "                            if k_c in combined_genotypes.keys():\n",
    "                                combined_genotypes[k_c]+=v_c\n",
    "                            else:\n",
    "                                combined_genotypes[k_c]=v_c\n",
    "\n",
    "\n",
    "    \n",
    "\n",
    "    return count, prior_muts, combined_genotypes\n",
    "                            \n",
    "                            \n",
    "\n"
   ]
  },
  {
   "cell_type": "code",
   "execution_count": null,
   "id": "0d9245c0",
   "metadata": {},
   "outputs": [],
   "source": []
  },
  {
   "cell_type": "code",
   "execution_count": 234,
   "id": "f12bd783",
   "metadata": {},
   "outputs": [
    {
     "name": "stdout",
     "output_type": "stream",
     "text": [
      "4\n",
      "E\n",
      "Counter({'71L': 1})\n",
      "M\n",
      "Counter()\n",
      "N\n",
      "Counter({'205I': 2, '203K': 2, '204R': 2, '80R': 1, '3L': 1, '235F': 1})\n",
      "ORF1a\n",
      "Counter({'2235L': 4, '3833N': 4, '3675-': 3, '3676-': 3, '3677-': 3, '1055A': 1, '1538I': 1, '3255I': 1, '3729R': 1, '265I': 1, '3353R': 1, '1188L': 1, '1795Q': 1, '2230T': 1, '1708D': 1, '1001I': 1})\n",
      "ORF1b\n",
      "Counter({'314L': 4, '1342S': 1})\n",
      "ORF3a\n",
      "Counter({'57H': 2, '106F': 1, '171L': 1, '253P': 1})\n",
      "ORF6\n",
      "Counter()\n",
      "ORF7a\n",
      "Counter()\n",
      "ORF7b\n",
      "Counter()\n",
      "ORF8\n",
      "Counter({'11K': 1, '38S': 1, '67F': 1, '73C': 1, '27*': 1})\n",
      "ORF9b\n",
      "Counter({'77E': 1})\n",
      "S\n",
      "Counter({'614G': 4, '501Y': 4, '484K': 3, '681H': 2, '95I': 1, '950N': 1, '144S': 1, '346K': 1, '80A': 1, '215G': 1, '241-': 1, '242-': 1, '243-': 1, '701V': 1, '655Y': 1, '18F': 1, '26S': 1, '138Y': 1, '190S': 1, '1027I': 1, '1176F': 1, '69-': 1, '70-': 1, '144-': 1, '716I': 1, '982A': 1, '1118H': 1})\n",
      "nuc\n",
      "Counter({'6968C': 4, '11764T': 4, '3037T': 4, '14408T': 4, '23403G': 4, '241T': 4, '23063T': 4, '23012A': 3, '11288-': 3, '11289-': 3, '11292-': 3, '11293-': 3, '11294-': 3, '11295-': 3, '11296-': 3, '11290-': 3, '11291-': 3, '25563T': 2, '23604A': 2, '28887T': 2, '28881A': 2, '28882A': 2, '28883C': 2, '18877T': 1, '21846T': 1, '21993C': 1, '24410A': 1, '28272T': 1, '3428G': 1, '4878T': 1, '6037T': 1, '10029T': 1, '11451G': 1, '13057T': 1, '17491T': 1, '19035C': 1, '20148T': 1, '22599A': 1, '26160-': 1, '26161-': 1, '26492T': 1, '27925A': 1, '28005T': 1, '28093T': 1, '1059T': 1, '25904T': 1, '174T': 1, '21801C': 1, '22206G': 1, '28253T': 1, '10323G': 1, '22283-': 1, '22284-': 1, '22285-': 1, '22286-': 1, '22287-': 1, '22288-': 1, '22289-': 1, '22290-': 1, '22291-': 1, '23664T': 1, '26456T': 1, '23525T': 1, '733C': 1, '3828T': 1, '5648C': 1, '6319G': 1, '6613G': 1, '21614T': 1, '21638T': 1, '21974T': 1, '22132T': 1, '24642T': 1, '25088T': 1, '26149C': 1, '28512G': 1, '28877T': 1, '28878C': 1, '913T': 1, '6954C': 1, '21765-': 1, '21766-': 1, '21767-': 1, '21768-': 1, '21769-': 1, '21770-': 1, '28271-': 1, '28280C': 1, '28282A': 1, '5388A': 1, '5986T': 1, '15279T': 1, '16176C': 1, '21992-': 1, '21993-': 1, '23709T': 1, '24506G': 1, '24914C': 1, '28111G': 1, '28281T': 1, '28977T': 1, '3267T': 1, '21994-': 1, '27972T': 1})\n"
     ]
    }
   ],
   "source": [
    "count, prior_muts, combined_genotypes = find_prior_muts('S_N501Y')\n",
    "print(count)\n",
    "for k,v in combined_genotypes.items():\n",
    "    print(k)\n",
    "    print(Counter(v))"
   ]
  },
  {
   "cell_type": "code",
   "execution_count": 235,
   "id": "209fe13c",
   "metadata": {},
   "outputs": [
    {
     "name": "stdout",
     "output_type": "stream",
     "text": [
      "8\n",
      "E\n",
      "Counter()\n",
      "M\n",
      "Counter({'28L': 1})\n",
      "N\n",
      "Counter({'203K': 4, '204R': 4, '199L': 1, '234I': 1, '205I': 1, '187L': 1, '418H': 1})\n",
      "ORF1a\n",
      "Counter({'2235L': 8, '3833N': 8, '265I': 2, '3675-': 2, '3676-': 2, '3677-': 2, '3201P': 1, '265T': 1, '3930F': 1})\n",
      "ORF1b\n",
      "Counter({'314L': 8, '1011H': 1, '1362R': 1, '1936H': 1})\n",
      "ORF3a\n",
      "Counter({'57H': 3, '42L': 1, '57Q': 1})\n",
      "ORF6\n",
      "Counter()\n",
      "ORF7a\n",
      "Counter()\n",
      "ORF7b\n",
      "Counter()\n",
      "ORF8\n",
      "Counter({'11I': 1})\n",
      "ORF9b\n",
      "Counter()\n",
      "S\n",
      "Counter({'614G': 8, '484K': 8, '95I': 2, '950N': 1, '5F': 1, '253G': 1, '701V': 1, '144-': 1, '1176F': 1, '152L': 1, '769V': 1, '655Y': 1})\n",
      "nuc\n",
      "Counter({'6968C': 8, '11764T': 8, '3037T': 8, '14408T': 8, '23403G': 8, '241T': 8, '23012A': 8, '28881A': 4, '28882A': 4, '28883C': 4, '25563T': 3, '21993-': 3, '11288-': 3, '11289-': 3, '11290-': 3, '11291-': 3, '11292-': 3, '11293-': 3, '11294-': 3, '11295-': 3, '11296-': 3, '18877T': 2, '21846T': 2, '1059T': 2, '28271-': 2, '21994-': 2, '24410A': 1, '28272G': 1, '9867C': 1, '27925T': 1, '16500C': 1, '20262G': 1, '21575T': 1, '22320G': 1, '25517T': 1, '23664T': 1, '28869T': 1, '28975A': 1, '25563G': 1, '1059C': 1, '28887T': 1, '21992-': 1, '28271G': 1, '25088T': 1, '12053T': 1, '19839C': 1, '27213T': 1, '14340T': 1, '17551A': 1, '19167G': 1, '19274A': 1, '22017T': 1, '23868T': 1, '26604C': 1, '28833T': 1, '29527T': 1, '23525T': 1})\n"
     ]
    }
   ],
   "source": [
    "count, prior_muts, combined_genotypes = find_prior_muts('S_E484K')\n",
    "print(count)\n",
    "for k,v in combined_genotypes.items():\n",
    "    print(k)\n",
    "    print(Counter(v))"
   ]
  },
  {
   "cell_type": "code",
   "execution_count": 236,
   "id": "74475e6f",
   "metadata": {},
   "outputs": [
    {
     "name": "stdout",
     "output_type": "stream",
     "text": [
      "8\n",
      "E\n",
      "Counter()\n",
      "M\n",
      "Counter({'82T': 1})\n",
      "N\n",
      "Counter({'203K': 5, '204R': 5, '205I': 2, '194L': 1, '208-': 1, '209G': 1})\n",
      "ORF1a\n",
      "Counter({'2235L': 8, '3833N': 8, '3255I': 2, '1055A': 1, '1538I': 1, '3729R': 1, '265I': 1, '2196P': 1, '2511N': 1, '2936I': 1, '3209V': 1, '3278S': 1, '1246I': 1, '1013K': 1, '3143V': 1, '4175I': 1, '318L': 1, '1283V': 1, '1500R': 1, '3606F': 1, '2230T': 1, '3675-': 1, '3676-': 1, '3677-': 1})\n",
      "ORF1b\n",
      "Counter({'314L': 8, '1342S': 1, '2371M': 1})\n",
      "ORF3a\n",
      "Counter({'57H': 2, '106F': 1, '55F': 1, '110S': 1})\n",
      "ORF6\n",
      "Counter()\n",
      "ORF7a\n",
      "Counter()\n",
      "ORF7b\n",
      "Counter({'44X': 1})\n",
      "ORF8\n",
      "Counter({'11K': 1, '38S': 1, '67F': 1, '1-': 1, '2X': 1, '3X': 1, '106X': 1, '122X': 1})\n",
      "ORF9b\n",
      "Counter()\n",
      "S\n",
      "Counter({'614G': 8, '681H': 8, '95I': 2, '484K': 2, '950N': 1, '144S': 1, '346K': 1, '501Y': 1, '494P': 1, '144-': 1, '796H': 1, '452R': 1, '732A': 1, '478K': 1, '143F': 1, '69-': 1, '70-': 1})\n",
      "nuc\n",
      "Counter({'6968C': 8, '11764T': 8, '3037T': 8, '14408T': 8, '23403G': 8, '241T': 8, '23604A': 8, '28881A': 5, '28882A': 5, '28883C': 5, '25563T': 2, '21846T': 2, '23012A': 2, '28887T': 2, '20268G': 1, '28854T': 1, '24076C': 1, '10741T': 1, '29710C': 1, '18877T': 1, '21993C': 1, '24410A': 1, '28272T': 1, '3428G': 1, '4878T': 1, '6037T': 1, '10029T': 1, '11451G': 1, '13057T': 1, '17491T': 1, '19035C': 1, '20148T': 1, '22599A': 1, '23063T': 1, '26160-': 1, '26161-': 1, '26492T': 1, '27925A': 1, '28005T': 1, '28093T': 1, '1059T': 1, '6730T': 1, '6851C': 1, '23042C': 1, '21992-': 1, '21993-': 1, '21994-': 1, '28271G': 1, '3961T': 1, '7798T': 1, '9072T': 1, '9891T': 1, '20578A': 1, '23287C': 1, '23948C': 1, '24382T': 1, '25276A': 1, '26767C': 1, '27887-': 1, '27888-': 1, '27889-': 1, '27890-': 1, '27891-': 1, '27892-': 1, '27893-': 1, '27894-': 1, '27895-': 1, '27896-': 1, '27897-': 1, '27898-': 1, '27901-': 1, '28209T': 1, '28896-': 1, '28897-': 1, '28898-': 1, '29769T': 1, '10097A': 1, '23731T': 1, '13536T': 1, '4002T': 1, '3302A': 1, '9693T': 1, '12789T': 1, '22917G': 1, '29422T': 1, '11758T': 1, '222T': 1, '19839C': 1, '23756G': 1, '203T': 1, '29197T': 1, '8917T': 1, '1218T': 1, '1960T': 1, '4113T': 1, '4764G': 1, '11083T': 1, '12820G': 1, '13336C': 1, '21868G': 1, '21989T': 1, '25555T': 1, '25720T': 1, '27110T': 1, '27384C': 1, '29726-': 1, '29750T': 1, '913T': 1, '6954C': 1, '11288-': 1, '11289-': 1, '11290-': 1, '11291-': 1, '11292-': 1, '11293-': 1, '11294-': 1, '11295-': 1, '11296-': 1, '21765-': 1, '21766-': 1, '21767-': 1, '21768-': 1, '21769-': 1, '21770-': 1, '28271-': 1, '28280C': 1, '28282A': 1})\n"
     ]
    }
   ],
   "source": [
    "count, prior_muts, combined_genotypes = find_prior_muts('S_P681H')\n",
    "print(count)\n",
    "for k,v in combined_genotypes.items():\n",
    "    print(k)\n",
    "    print(Counter(v))"
   ]
  },
  {
   "cell_type": "code",
   "execution_count": 237,
   "id": "b862c37c",
   "metadata": {},
   "outputs": [
    {
     "name": "stdout",
     "output_type": "stream",
     "text": [
      "4\n",
      "E\n",
      "Counter({'71L': 1})\n",
      "M\n",
      "Counter()\n",
      "N\n",
      "Counter({'202N': 1, '220V': 1, '205I': 1, '203K': 1, '204R': 1, '80R': 1})\n",
      "ORF1a\n",
      "Counter({'2235L': 4, '3833N': 4, '3675-': 2, '3676-': 2, '3677-': 2, '286L': 1, '265I': 1, '3353R': 1, '1655N': 1, '1188L': 1, '1795Q': 1})\n",
      "ORF1b\n",
      "Counter({'314L': 3, '1000L': 1})\n",
      "ORF3a\n",
      "Counter({'50A': 1, '57H': 1, '171L': 1, '253P': 1})\n",
      "ORF6\n",
      "Counter()\n",
      "ORF7a\n",
      "Counter()\n",
      "ORF7b\n",
      "Counter()\n",
      "ORF8\n",
      "Counter({'84S': 1})\n",
      "ORF9b\n",
      "Counter({'77E': 1})\n",
      "S\n",
      "Counter({'18F': 4, '614G': 3, '484K': 2, '501Y': 2, '222V': 1, '80A': 1, '215G': 1, '241-': 1, '242-': 1, '243-': 1, '701V': 1, '417N': 1, '655Y': 1, '26S': 1, '138Y': 1, '190S': 1, '1027I': 1, '1176F': 1})\n",
      "nuc\n",
      "Counter({'6968C': 4, '11764T': 4, '21614T': 4, '3037T': 3, '14408T': 3, '23403G': 3, '241T': 3, '23012A': 2, '11288-': 2, '11289-': 2, '11292-': 2, '11293-': 2, '11294-': 2, '11295-': 2, '11296-': 2, '11290-': 2, '11291-': 2, '23063T': 2, '8782T': 1, '28144C': 1, '28878A': 1, '29742A': 1, '22468T': 1, '1122T': 1, '16466T': 1, '20262G': 1, '25541C': 1, '445C': 1, '6286T': 1, '21255C': 1, '26801G': 1, '28932T': 1, '22227T': 1, '29645T': 1, '27944T': 1, '204T': 1, '25563T': 1, '1059T': 1, '25904T': 1, '174T': 1, '21801C': 1, '22206G': 1, '28253T': 1, '10323G': 1, '22283-': 1, '22284-': 1, '22285-': 1, '22286-': 1, '22287-': 1, '22288-': 1, '22289-': 1, '22290-': 1, '22291-': 1, '23664T': 1, '26456T': 1, '28887T': 1, '5230T': 1, '22813T': 1, '2692T': 1, '28881A': 1, '28882A': 1, '28883C': 1, '23525T': 1, '733C': 1, '3828T': 1, '5648C': 1, '6319G': 1, '6613G': 1, '21638T': 1, '21974T': 1, '22132T': 1, '24642T': 1, '25088T': 1, '26149C': 1, '28512G': 1, '28877T': 1, '28878C': 1})\n"
     ]
    }
   ],
   "source": [
    "count, prior_muts, combined_genotypes = find_prior_muts('S_L18F')\n",
    "print(count)\n",
    "for k,v in combined_genotypes.items():\n",
    "    print(k)\n",
    "    print(Counter(v))"
   ]
  },
  {
   "cell_type": "code",
   "execution_count": 238,
   "id": "9cb6c162",
   "metadata": {},
   "outputs": [
    {
     "name": "stdout",
     "output_type": "stream",
     "text": [
      "5\n",
      "E\n",
      "Counter()\n",
      "M\n",
      "Counter()\n",
      "N\n",
      "Counter({'203K': 2, '204R': 2, '197L': 1, '234I': 1, '383L': 1, '203M': 1, '377Y': 1, '205I': 1, '212V': 1})\n",
      "ORF1a\n",
      "Counter({'2235L': 5, '3833N': 5, '3278S': 2, '1246I': 2, '3071Y': 1, '4F': 1, '3255I': 1, '3580Q': 1, '265I': 1, '1013K': 1, '3143V': 1, '4175I': 1, '859V': 1, '102K': 1, '1639N': 1, '2287S': 1, '3222N': 1, '3691S': 1})\n",
      "ORF1b\n",
      "Counter({'314L': 4, '1000L': 1, '1183Y': 1})\n",
      "ORF3a\n",
      "Counter({'196V': 1, '74F': 1, '26L': 1, '57H': 1})\n",
      "ORF6\n",
      "Counter()\n",
      "ORF7a\n",
      "Counter({'82A': 1})\n",
      "ORF7b\n",
      "Counter()\n",
      "ORF8\n",
      "Counter({'84S': 1})\n",
      "ORF9b\n",
      "Counter()\n",
      "S\n",
      "Counter({'452R': 5, '614G': 5, '141-': 1, '142-': 1, '143-': 1, '142D': 1, '681R': 1, '13I': 1, '152C': 1, '677H': 1})\n",
      "nuc\n",
      "Counter({'6968C': 5, '11764T': 5, '22917G': 5, '23403G': 5, '3037T': 4, '14408T': 4, '241T': 4, '26681T': 2, '28272T': 2, '28881A': 2, '28882A': 2, '28883C': 2, '10097A': 2, '23731T': 2, '13536T': 2, '4002T': 2, '8782T': 1, '28144C': 1, '9477A': 1, '14805T': 1, '25979T': 1, '28657T': 1, '28863T': 1, '12815T': 1, '22525G': 1, '275T': 1, '1567T': 1, '10029T': 1, '11005A': 1, '16466T': 1, '16857C': 1, '18417C': 1, '21983-': 1, '21984-': 1, '21985-': 1, '21986-': 1, '21987-': 1, '21988-': 1, '21989-': 1, '21990-': 1, '21991-': 1, '24697A': 1, '25613T': 1, '28975T': 1, '29421T': 1, '29742T': 1, '210T': 1, '21987A': 1, '23604G': 1, '25469T': 1, '27638C': 1, '28271-': 1, '28881T': 1, '29402T': 1, '25563T': 1, '1059T': 1, '28887T': 1, '17014T': 1, '21600T': 1, '22018T': 1, '29362T': 1, '3302A': 1, '9693T': 1, '12789T': 1, '29422T': 1, '28908T': 1, '23593T': 1, '2841T': 1, '17766T': 1, '569A': 1, '5180A': 1, '7124T': 1, '9929A': 1, '11337C': 1})\n"
     ]
    }
   ],
   "source": [
    "count, prior_muts, combined_genotypes = find_prior_muts('S_L452R')\n",
    "print(count)\n",
    "for k,v in combined_genotypes.items():\n",
    "    print(k)\n",
    "    print(Counter(v))"
   ]
  },
  {
   "cell_type": "code",
   "execution_count": 231,
   "id": "86bbf174",
   "metadata": {},
   "outputs": [
    {
     "name": "stdout",
     "output_type": "stream",
     "text": [
      "7\n",
      "E\n",
      "Counter()\n",
      "M\n",
      "Counter({'82T': 2})\n",
      "N\n",
      "Counter({'203K': 4, '204R': 4, '205I': 1, '13L': 1, '214C': 1, '208-': 1, '209G': 1, '80R': 1, '3L': 1})\n",
      "ORF1a\n",
      "Counter({'2235L': 7, '3675-': 7, '3676-': 7, '3677-': 7, '265I': 2, '3201P': 2, '1246I': 1, '3278S': 1, '2287S': 1, '2387V': 1, '3255I': 1, '2511N': 1, '2936I': 1, '3209V': 1, '1188L': 1, '1795Q': 1, '1708D': 1, '1001I': 1})\n",
      "ORF1b\n",
      "Counter({'314L': 7, '2371M': 1, '1264D': 1})\n",
      "ORF3a\n",
      "Counter({'57H': 2, '42L': 1, '253P': 1})\n",
      "ORF6\n",
      "Counter()\n",
      "ORF7a\n",
      "Counter()\n",
      "ORF7b\n",
      "Counter()\n",
      "ORF8\n",
      "Counter({'11I': 1, '106*': 1, '92K': 1, '52I': 1, '27*': 1, '73C': 1})\n",
      "ORF9b\n",
      "Counter({'10S': 1, '77E': 1})\n",
      "S\n",
      "Counter({'614G': 7, '484K': 3, '80A': 1, '417N': 1, '701V': 1, '75V': 1, '76I': 1, '246-': 1, '247-': 1, '248-': 1, '249-': 1, '250-': 1, '251-': 1, '252-': 1, '253N': 1, '452Q': 1, '490S': 1, '859N': 1, '95I': 1, '144-': 1, '796H': 1, '18F': 1, '20N': 1, '26S': 1, '138Y': 1, '190S': 1, '501Y': 1, '655Y': 1, '1027I': 1, '1176F': 1, '1118H': 1, '570D': 1, '681H': 1, '716I': 1})\n",
      "nuc\n",
      "Counter({'6968C': 7, '11764T': 7, '3037T': 7, '14408T': 7, '23403G': 7, '241T': 7, '11288-': 7, '11289-': 7, '11290-': 7, '11291-': 7, '11292-': 7, '11293-': 7, '11294-': 7, '11295-': 7, '11296-': 7, '28881A': 4, '28882A': 4, '28883C': 4, '23012A': 3, '26767C': 2, '25563T': 2, '1059T': 2, '9867C': 2, '28271-': 2, '15324T': 1, '28887T': 1, '25517T': 1, '27925T': 1, '21801C': 1, '22813T': 1, '23664T': 1, '4002T': 1, '10097A': 1, '13536T': 1, '23731T': 1, '28311T': 1, '7124T': 1, '7424G': 1, '9857T': 1, '10029T': 1, '21786T': 1, '21789T': 1, '22299-': 1, '22300-': 1, '22301-': 1, '22302-': 1, '22303-': 1, '22304-': 1, '22305-': 1, '22306-': 1, '22307-': 1, '22308-': 1, '22309-': 1, '22310-': 1, '22311-': 1, '22312-': 1, '22313-': 1, '22314-': 1, '22315-': 1, '22316-': 1, '22317-': 1, '22318-': 1, '22319-': 1, '22917A': 1, '23031C': 1, '24138A': 1, '26894T': 1, '28253T': 1, '28271T': 1, '28913T': 1, '29311T': 1, '3961T': 1, '7798T': 1, '9072T': 1, '9891T': 1, '20578A': 1, '20994C': 1, '21846T': 1, '21992-': 1, '21993-': 1, '21994-': 1, '23948C': 1, '24382T': 1, '25276A': 1, '28209T': 1, '28271G': 1, '28896-': 1, '28897-': 1, '28898-': 1, '29769T': 1, '28877T': 1, '28878C': 1, '733C': 1, '2749T': 1, '3828T': 1, '5648C': 1, '6319G': 1, '6613G': 1, '12778T': 1, '13860T': 1, '17259T': 1, '21614T': 1, '21621A': 1, '21638T': 1, '21974T': 1, '22132T': 1, '23063T': 1, '23525T': 1, '24642T': 1, '25088T': 1, '26149C': 1, '28167A': 1, '28512G': 1, '29834A': 1, '28048T': 1, '24914C': 1, '27972T': 1, '28280C': 1, '28281T': 1, '28282A': 1, '3267T': 1, '14676T': 1, '16176C': 1, '23271A': 1, '23604A': 1, '23709T': 1, '28111G': 1})\n"
     ]
    }
   ],
   "source": [
    "count, prior_muts, combined_genotypes = find_prior_muts('ORF1a_G3676-')\n",
    "print(count)\n",
    "for k,v in combined_genotypes.items():\n",
    "    print(k)\n",
    "    print(Counter(v))"
   ]
  }
 ],
 "metadata": {
  "kernelspec": {
   "display_name": "Python 3",
   "language": "python",
   "name": "python3"
  },
  "language_info": {
   "codemirror_mode": {
    "name": "ipython",
    "version": 3
   },
   "file_extension": ".py",
   "mimetype": "text/x-python",
   "name": "python",
   "nbconvert_exporter": "python",
   "pygments_lexer": "ipython3",
   "version": "3.6.10"
  }
 },
 "nbformat": 4,
 "nbformat_minor": 5
}
