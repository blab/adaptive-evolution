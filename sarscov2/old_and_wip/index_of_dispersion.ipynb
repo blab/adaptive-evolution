{
 "cells": [
  {
   "cell_type": "code",
   "execution_count": 1,
   "id": "3b096ef2",
   "metadata": {},
   "outputs": [
    {
     "name": "stderr",
     "output_type": "stream",
     "text": [
      "\n",
      "Bad key \"text.kerning_factor\" on line 4 in\n",
      "/Users/katekistler/anaconda3/envs/nextstrain/lib/python3.6/site-packages/matplotlib/mpl-data/stylelib/_classic_test_patch.mplstyle.\n",
      "You probably need to get an updated matplotlibrc file from\n",
      "https://github.com/matplotlib/matplotlib/blob/v3.1.3/matplotlibrc.template\n",
      "or from the matplotlib source distribution\n"
     ]
    }
   ],
   "source": [
    "from augur.utils import json_to_tree\n",
    "import matplotlib.pyplot as plt\n",
    "import matplotlib.patches as patches\n",
    "import seaborn as sns\n",
    "import numpy as np\n",
    "import pandas as pd\n",
    "from Bio import SeqIO\n",
    "from collections import Counter\n",
    "import requests\n",
    "import random"
   ]
  },
  {
   "cell_type": "markdown",
   "id": "974903e3",
   "metadata": {},
   "source": [
    "Look for clustering of S1 mutations by index of dispersion.\n",
    "\n",
    "If subsitution events are independent and the rate at which they occur is constant over time, then the accumulation of substitutions will be Poisson distributed with lambda equal to the mean number of substitutions expected during a period of time. In Poisson distribution, lamda equals the mean and the variance. So the ratio of variance to mean (index of dispersion) should be one. If it is greater than 1, this indicates temporal clustering of substitutions. "
   ]
  },
  {
   "cell_type": "code",
   "execution_count": 215,
   "id": "9212aa4e",
   "metadata": {},
   "outputs": [],
   "source": [
    "#Download tree json\n",
    "tree_url = \"https://data.nextstrain.org/ncov_global.json\"\n",
    "\n",
    "tree_json = requests.get(tree_url).json()\n",
    "\n",
    "#Put tree in Bio.Phylo format\n",
    "tree = json_to_tree(tree_json)"
   ]
  },
  {
   "cell_type": "code",
   "execution_count": 210,
   "id": "f1d1ccbf",
   "metadata": {},
   "outputs": [],
   "source": [
    "sequences_file = 'global_subsampled_sequences.fasta'\n",
    "record_dict = SeqIO.to_dict(SeqIO.parse(sequences_file, \"fasta\"))"
   ]
  },
  {
   "cell_type": "markdown",
   "id": "58acc0d3",
   "metadata": {},
   "source": [
    "Start by plotting accumulation of S1 mutations on all paths through tree\n",
    "\n",
    "Most paths start out with no S1 mutations then accumulate many S1 mutations in a row, then stop getting S1 mutations"
   ]
  },
  {
   "cell_type": "code",
   "execution_count": 216,
   "id": "2a5704ea",
   "metadata": {},
   "outputs": [],
   "source": [
    "#Function to find path from root to clade\n",
    "def get_parent(tree, child_clade):\n",
    "    node_path = tree.get_path(child_clade)\n",
    "    return node_path"
   ]
  },
  {
   "cell_type": "code",
   "execution_count": 217,
   "id": "0a8b19f9",
   "metadata": {},
   "outputs": [],
   "source": [
    "plot_accumulation_s1_mutations = []\n",
    "\n",
    "for node in tree.find_clades(terminal=True):\n",
    "\n",
    "    node_path = get_parent(tree, node)\n",
    "    \n",
    "    for parent in node_path:\n",
    "\n",
    "        num_date = parent.node_attrs['num_date']['value']\n",
    "\n",
    "\n",
    "        if \"S1_mutations\" in parent.node_attrs:\n",
    "            s1_mutations = parent.node_attrs[\"S1_mutations\"][\"value\"]\n",
    "\n",
    "            plot_accumulation_s1_mutations.append({'date': num_date, \n",
    "                                                   'num_s1_mutations': s1_mutations, \n",
    "                                                   'isolate': node.name})\n",
    "\n",
    "\n",
    "df = pd.DataFrame(plot_accumulation_s1_mutations)\n"
   ]
  },
  {
   "cell_type": "code",
   "execution_count": 208,
   "id": "4079636a",
   "metadata": {},
   "outputs": [
    {
     "data": {
      "image/png": "[encoded data removed]",
      "text/plain": [
       "<Figure size 720x360 with 1 Axes>"
      ]
     },
     "metadata": {},
     "output_type": "display_data"
    }
   ],
   "source": [
    "lineage_colors = {\"A.23.1\": \"#475DE9\", \"B.1.1.7\": \"#5092E5\", \"B.1.351\": \"#64B6C4\", \n",
    "                  \"B.1.427+B.1.429\":\"#80CC9A\", \"B.1.525\":\"#A3D572\", \"B.1.526\":\"#CCD656\", \n",
    "                  \"B.1.617\":\"#EFCA49\", \"C.37\":\"#FFAB3F\", \"P.1\":\"#FF7235\", \"P.3\":\"#F82D2A\", 'unassigned':\"#ABABAB\"}\n",
    "\n",
    "\n",
    "        \n",
    "# to make this more legible, only look at a couple paths\n",
    "# pick node from each emerging clade\n",
    "\n",
    "# nodes_to_plot = {\n",
    "#     'DRC/214214/2021':\"A.23.1\", \n",
    "#     'USA/GU-CDC-2-4242992/2021':\"B.1.1.7\", \n",
    "#     'Philippines/58693/2021':\"B.1.351\", \n",
    "#     'Mexico/CAM-InDRE_FB14297_S1826/2021':\"B.1.427+B.1.429\", \n",
    "#     'Niger/IPP10318/2021':\"B.1.525\", \n",
    "#     'USA/WV-WVU-WV119426/2021':\"B.1.526\", \n",
    "#     'Jordan/Biolab017/2021':\"B.1.617\", \n",
    "#     'Mexico/YUC-InDRE_FB13187_S1693/2021':\"C.37\", \n",
    "#     'Argentina/INEI104173/2021':\"P.1\", \n",
    "#     'NewZealand/21MV0168/2021':\"P.3\", \n",
    "#     'Australia/QLD1825/2021':\"unassigned\"}\n",
    "\n",
    "\n",
    "# even fewer, to make lines easier to see\n",
    "nodes_to_plot = {\n",
    "#     'Kenya/C85262/2021':\"A.23.1\", \n",
    "#     'USA/GU-CDC-2-4242992/2021':\"B.1.1.7\", \n",
    "#     'Philippines/58693/2021':\"B.1.351\", \n",
    "#     'Tunisia/29100/2021': \"B.1.351\",\n",
    "    'Australia/NSW-R0257/2021': \"B.1.617\",\n",
    "#     'Argentina/INEI104173/2021':\"P.1\"\n",
    "}\n",
    "\n",
    "cmap = {k:lineage_colors[v] for k,v in nodes_to_plot.items()}\n",
    "\n",
    "df_subset = df[df['isolate'].isin(nodes_to_plot.keys())]\n",
    "\n",
    "\n",
    "fig, ax = plt.subplots(figsize=(10,5))\n",
    "sns.lineplot(data=df_subset, x='date', y='num_s1_mutations', \n",
    "             hue='isolate', palette=cmap, ax=ax, legend=False)\n",
    "sns.scatterplot(data=df_subset, x='date', y='num_s1_mutations', \n",
    "                hue='isolate', palette=cmap, ax=ax, legend=True)\n",
    "\n",
    "ax.set_ylabel('S1 mutations', fontsize = 18)\n",
    "ax.set_xlabel('', fontsize = 18)\n",
    "sns.despine(left=False, bottom=False)\n",
    "\n",
    "plt.yticks(fontsize= 16)\n",
    "plt.xticks(fontsize= 16)\n",
    "\n",
    "handles, labels = ax.get_legend_handles_labels()\n",
    "lgd = ax.legend(handles, labels, loc='upper center', bbox_to_anchor=(1.25, 1.0), fontsize=12)\n"
   ]
  },
  {
   "cell_type": "markdown",
   "id": "9f6cc62e",
   "metadata": {},
   "source": [
    "Assign each node a number of S1 mutations and RdRp that occurred at this node (rather than the accumulation)"
   ]
  },
  {
   "cell_type": "code",
   "execution_count": 218,
   "id": "d9b1e45e",
   "metadata": {},
   "outputs": [],
   "source": [
    "for node in tree.find_clades():\n",
    "    node.s1_muts_at_node = 0\n",
    "    node.rdrp_muts_at_node = 0\n",
    "    \n",
    "    if hasattr(node, 'branch_attrs'):\n",
    "        s1_muts_at_this_node = 0\n",
    "        rdrp_muts_at_this_node = 0\n",
    "        if 'S' in node.branch_attrs[\"mutations\"]:\n",
    "            for mut in node.branch_attrs[\"mutations\"]['S']:\n",
    "                mut_pos = int(mut[1:-1])\n",
    "                if mut_pos in range(14,686):\n",
    "                    s1_muts_at_this_node+=1\n",
    "                \n",
    "            \n",
    "            \n",
    "        elif \"ORF1a\" in node.branch_attrs[\"mutations\"]:\n",
    "            for mut in node.branch_attrs[\"mutations\"][\"ORF1a\"]:\n",
    "                if int(mut[1:-1]) in range(4492,4401):\n",
    "                    rdrp_muts_at_this_node+=1\n",
    "\n",
    "        elif \"ORF1b\" in node.branch_attrs[\"mutations\"]:\n",
    "            for mut in node.branch_attrs[\"mutations\"][\"ORF1b\"]:\n",
    "                if int(mut[1:-1]) in range(1,923):\n",
    "                    rdrp_muts_at_this_node+=1\n",
    "\n",
    "\n",
    "        node.s1_muts_at_node = s1_muts_at_this_node         \n",
    "        node.rdrp_muts_at_node = rdrp_muts_at_this_node \n",
    "    "
   ]
  },
  {
   "cell_type": "code",
   "execution_count": 219,
   "id": "65d6ec46",
   "metadata": {},
   "outputs": [
    {
     "name": "stdout",
     "output_type": "stream",
     "text": [
      "2.512331689167327\n"
     ]
    }
   ],
   "source": [
    "all_s1_counts = []\n",
    "\n",
    "for node in tree.find_clades():\n",
    "    all_s1_counts.append(node.s1_muts_at_node)\n",
    "    \n",
    "mean_s1_counts = sum(all_s1_counts)/len(all_s1_counts)\n",
    "\n",
    "deviations = [(x - mean_s1_counts) ** 2 for x in all_s1_counts]\n",
    "# Variance\n",
    "variance_s1_counts = sum(deviations) / len(all_s1_counts)\n",
    "\n",
    "index_of_dispersion = variance_s1_counts/mean_s1_counts\n",
    "\n",
    "print(index_of_dispersion)"
   ]
  },
  {
   "cell_type": "code",
   "execution_count": 220,
   "id": "24e281eb",
   "metadata": {},
   "outputs": [
    {
     "name": "stdout",
     "output_type": "stream",
     "text": [
      "1.0733085388221018\n"
     ]
    }
   ],
   "source": [
    "all_rdrp_counts = []\n",
    "\n",
    "for node in tree.find_clades():\n",
    "    all_rdrp_counts.append(node.rdrp_muts_at_node)\n",
    "    \n",
    "mean_rdrp_counts = sum(all_rdrp_counts)/len(all_rdrp_counts)\n",
    "\n",
    "deviations_rdrp = [(x - mean_rdrp_counts) ** 2 for x in all_rdrp_counts]\n",
    "# Variance\n",
    "variance_rdrp_counts = sum(deviations_rdrp) / len(all_rdrp_counts)\n",
    "\n",
    "index_of_dispersion_rdrp = variance_rdrp_counts/mean_rdrp_counts\n",
    "\n",
    "print(index_of_dispersion_rdrp)"
   ]
  }
 ],
 "metadata": {
  "kernelspec": {
   "display_name": "Python 3",
   "language": "python",
   "name": "python3"
  },
  "language_info": {
   "codemirror_mode": {
    "name": "ipython",
    "version": 3
   },
   "file_extension": ".py",
   "mimetype": "text/x-python",
   "name": "python",
   "nbconvert_exporter": "python",
   "pygments_lexer": "ipython3",
   "version": "3.6.10"
  }
 },
 "nbformat": 4,
 "nbformat_minor": 5
}
