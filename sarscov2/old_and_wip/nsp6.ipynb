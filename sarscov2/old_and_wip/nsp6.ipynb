{
 "cells": [
  {
   "cell_type": "code",
   "execution_count": 12,
   "id": "e39a5a80",
   "metadata": {},
   "outputs": [],
   "source": [
    "import re"
   ]
  },
  {
   "cell_type": "code",
   "execution_count": 3,
   "id": "8ade748e",
   "metadata": {},
   "outputs": [],
   "source": [
    "# nsp6 aa sequence from https://marks.hms.harvard.edu/sars-cov-2/Nsp6\n",
    "debbie_marks_seq = 'SAVKRTIKGTHHWLLLTILTSLLVLVQSTQWSLFFFLYENAFLPFAMGIIAMSAFAMMFVKHKHAFLCLFLLPSLATVAYFNMVYMPASWVMRIMTWLDMVDTSLSGFKLKDCVMYASAVVLLILMTARTVYDDGARRVWTLMNVLTLVYKVYYGNALDQAISMWALIISVTSNYSGVVTTVMFLARGIVFMCVEYCPIFFITGNTLQCIMLVYCFLGYFCTCYFGLFCLLNRYFRLTLGVYDYLVSTQEFRYMNSQGLLPPKNSIDAFKLNIKLLGVGGKPCIKVATVQ'\n",
    "\n"
   ]
  },
  {
   "cell_type": "code",
   "execution_count": 4,
   "id": "656080d0",
   "metadata": {},
   "outputs": [],
   "source": [
    "nsp6_del = 'SGF'"
   ]
  },
  {
   "cell_type": "code",
   "execution_count": 15,
   "id": "c37df0e5",
   "metadata": {},
   "outputs": [
    {
     "name": "stdout",
     "output_type": "stream",
     "text": [
      "[105, 108]\n"
     ]
    }
   ],
   "source": [
    "#find position of nsp6 deletion\n",
    "\n",
    "nsp6_del_location = [re.search(nsp6_del, debbie_marks_seq).start(), re.search(nsp6_del, debbie_marks_seq).end()]\n",
    "print(nsp6_del_location)\n",
    "\n",
    "#nsp deletion is position 106,107,108"
   ]
  }
 ],
 "metadata": {
  "kernelspec": {
   "display_name": "Python 3",
   "language": "python",
   "name": "python3"
  },
  "language_info": {
   "codemirror_mode": {
    "name": "ipython",
    "version": 3
   },
   "file_extension": ".py",
   "mimetype": "text/x-python",
   "name": "python",
   "nbconvert_exporter": "python",
   "pygments_lexer": "ipython3",
   "version": "3.6.10"
  }
 },
 "nbformat": 4,
 "nbformat_minor": 5
}
