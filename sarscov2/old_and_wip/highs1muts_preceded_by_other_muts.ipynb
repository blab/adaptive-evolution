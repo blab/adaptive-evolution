{
 "cells": [
  {
   "cell_type": "code",
   "execution_count": 1,
   "metadata": {},
   "outputs": [
    {
     "name": "stderr",
     "output_type": "stream",
     "text": [
      "\n",
      "Bad key \"text.kerning_factor\" on line 4 in\n",
      "/Users/katekistler/anaconda3/envs/nextstrain/lib/python3.6/site-packages/matplotlib/mpl-data/stylelib/_classic_test_patch.mplstyle.\n",
      "You probably need to get an updated matplotlibrc file from\n",
      "https://github.com/matplotlib/matplotlib/blob/v3.1.3/matplotlibrc.template\n",
      "or from the matplotlib source distribution\n"
     ]
    }
   ],
   "source": [
    "from augur.utils import json_to_tree\n",
    "import matplotlib.pyplot as plt\n",
    "import seaborn as sns\n",
    "import numpy as np\n",
    "import pandas as pd\n",
    "from Bio import SeqIO\n",
    "from Bio.Seq import Seq\n",
    "from Bio.SeqFeature import SeqFeature, FeatureLocation\n",
    "import requests\n"
   ]
  },
  {
   "cell_type": "markdown",
   "metadata": {},
   "source": [
    "Get global ncov tree and convert to Bio Phylo format"
   ]
  },
  {
   "cell_type": "code",
   "execution_count": 8,
   "metadata": {},
   "outputs": [],
   "source": [
    "tree_url = \"https://data.nextstrain.org/ncov_global.json\"\n",
    "tree_json = requests.get(tree_url).json()\n",
    "tree = json_to_tree(tree_json)"
   ]
  },
  {
   "cell_type": "code",
   "execution_count": 15,
   "metadata": {},
   "outputs": [
    {
     "name": "stdout",
     "output_type": "stream",
     "text": [
      "{'ORF1a': ['S3675-', 'G3676-', 'F3677-'], 'nuc': ['G174T', 'T11288-', 'C11289-', 'T11290-', 'G11291-', 'G11292-', 'T11293-', 'T11294-', 'T11295-', 'T11296-', 'C28253T']}\n",
      "{'nuc': ['C28253T']}\n",
      "{'nuc': ['C9857T', 'C28253T']}\n",
      "{'ORF1a': ['P271L', 'V757F', 'P2260S', 'T3255I'], 'ORF1b': ['T216A', 'R2613H'], 'S': ['Q675H', 'Q677H'], 'nuc': ['C1077T', 'G2534T', 'C3736T', 'C7043T', 'C8980T', 'C10029T', 'A14113G', 'G23587C', 'G23593T', 'C24382T', 'C25665T', 'C28253T']}\n",
      "{'N': ['A119S', 'M234I'], 'nuc': ['C11824T', 'A12964G', 'C28253T', 'G28628T', 'G28975T', 'C29754T']}\n"
     ]
    }
   ],
   "source": [
    "for node in tree.find_clades(terminal=False):\n",
    "    \n",
    "    # only consider mutations on branches that give rise to a clade of at least 10 tips\n",
    "    if len(node.get_terminals()) >=10:\n",
    "        #just use nucleotide mutations because this includes all syn and nonsyn \n",
    "        if hasattr(node, 'branch_attrs'):\n",
    "            if \"nuc\" in node.branch_attrs[\"mutations\"]:\n",
    "                if 'C28253T' in node.branch_attrs[\"mutations\"]['nuc']:\n",
    "                    print(node.branch_attrs[\"mutations\"])"
   ]
  },
  {
   "cell_type": "code",
   "execution_count": null,
   "metadata": {},
   "outputs": [],
   "source": [
    "#node.__dict__"
   ]
  },
  {
   "cell_type": "markdown",
   "metadata": {},
   "source": [
    "Want to see if a high number of S1 mutations is preceded by a specific other mutation.\n",
    "\n",
    "Find average number of S1 mutations that occur AFTER certain mutation\n",
    "\n",
    "1. Find all mutations that occurred on tree (set)\n",
    "2. Walk through tree and, if mutation occurred on branch, count S1 mutations in descendents"
   ]
  },
  {
   "cell_type": "code",
   "execution_count": 9,
   "metadata": {},
   "outputs": [],
   "source": [
    "# 1: find all mutations that happened on internal branchs of tree\n",
    "# one instance where a node has {'S': ['E484K']} but no nucleotide mutations??\n",
    "\n",
    "all_mutations = []\n",
    "\n",
    "for node in tree.find_clades(terminal=False):\n",
    "    \n",
    "    # only consider mutations on branches that give rise to a clade of at least 10 tips\n",
    "    if len(node.get_terminals()) >=10:\n",
    "        #just use nucleotide mutations because this includes all syn and nonsyn \n",
    "        if hasattr(node, 'branch_attrs'):\n",
    "            if \"nuc\" in node.branch_attrs[\"mutations\"]:\n",
    "                all_mutations += node.branch_attrs[\"mutations\"]['nuc']\n",
    "\n",
    "\n",
    "all_mutations_unique = list(set(all_mutations))    \n"
   ]
  },
  {
   "cell_type": "code",
   "execution_count": 10,
   "metadata": {},
   "outputs": [],
   "source": [
    "# Add node attribute s1_descendents which counts the number of s1 mutations that occur in all descendents of a node\n",
    "\n",
    "for node in tree.find_clades(order= \"postorder\"): \n",
    "    node_s1_muts = 0\n",
    "    if hasattr(node, 'branch_attrs'):\n",
    "        if \"nuc\" in node.branch_attrs[\"mutations\"]:\n",
    "            for nuc_mut in node.branch_attrs[\"mutations\"]['nuc']:\n",
    "                nuc_mut_pos = int(nuc_mut[1:-1])\n",
    "                s1_pos = range(21599,23617)\n",
    "                if nuc_mut_pos in s1_pos:\n",
    "                    node_s1_muts+=1\n",
    "\n",
    "    if node.is_terminal():\n",
    "        # Store number of s1 mutations of each terminal node\n",
    "        node.s1_descendents = node_s1_muts\n",
    "        node.num_descendents = 0\n",
    "        \n",
    "    else:   \n",
    "        # For each internal node, sum the number of s1 mutations in its immediate\n",
    "        # children. Since we are walking through the tree from tip to root, \n",
    "        # each child node will always be counted before its parent node\n",
    "        node.s1_descendents = sum([child.s1_descendents for child in node.clades])\n",
    "        # number of descendents is 1 for each child, plus the already calculated number descendents of those children\n",
    "        node.num_descendents = (sum([1 for child in node.clades]) + \n",
    "                                sum([child.num_descendents for child in node.clades]))\n",
    "        "
   ]
  },
  {
   "cell_type": "code",
   "execution_count": 11,
   "metadata": {},
   "outputs": [],
   "source": [
    "# 2: For each possible mutation, \n",
    "# walk through tree to find nodes where these muts happened. Then count S1 muts in descendents\n",
    "# and divide this by the number of descendents to get (number of S1 muts per descendent)\n",
    "\n",
    "# initiate dictionary where keys are all observed mutations at internal nodes \n",
    "# and values are lists of number of S1 mutations per descendent, which occur after (key) mutation, \n",
    "# for each time (key) mutation is observed\n",
    "nums1_following_mutation = {}\n",
    "\n",
    "for mut in all_mutations_unique:\n",
    "    mut_future_s1_mut_counts = []\n",
    "    for node in tree.find_clades(terminal=False):\n",
    "        \n",
    "        # only consider mutations on branches that give rise to a clade of at least 10 tips\n",
    "        if len(node.get_terminals()) >=10:\n",
    "            if hasattr(node, 'branch_attrs'):\n",
    "                if \"nuc\" in node.branch_attrs[\"mutations\"]:\n",
    "                    if mut in node.branch_attrs[\"mutations\"]['nuc']:\n",
    "                        s1_muts_per_descendent = node.s1_descendents/node.num_descendents\n",
    "                        mut_future_s1_mut_counts.append(s1_muts_per_descendent)\n",
    "    nums1_following_mutation[mut] = mut_future_s1_mut_counts\n",
    "    \n"
   ]
  },
  {
   "cell_type": "markdown",
   "metadata": {},
   "source": [
    "Find the mean number of S1 mutations that follow each observed mutation and plot a distribution"
   ]
  },
  {
   "cell_type": "code",
   "execution_count": 18,
   "metadata": {},
   "outputs": [
    {
     "name": "stdout",
     "output_type": "stream",
     "text": [
      "    mutation  mean_s1muts_after  num_occurrences\n",
      "28   T22917G           1.679726                5\n",
      "466  C10029T           0.548367                6\n",
      "395  C28253T           0.526701                5\n",
      "276  T11290-           0.459850                8\n",
      "313  T11295-           0.459850                8\n",
      "343  G11292-           0.459850                8\n",
      "456  T11296-           0.459850                8\n",
      "651  C11289-           0.459850                8\n",
      "685  G11291-           0.459850                8\n",
      "693  T11288-           0.459850                8\n"
     ]
    },
    {
     "data": {
      "image/png": "[encoded data removed]",
      "text/plain": [
       "<Figure size 576x288 with 1 Axes>"
      ]
     },
     "metadata": {
      "needs_background": "light"
     },
     "output_type": "display_data"
    }
   ],
   "source": [
    "#initialize list of dictionaries to store mutation and average number of S1 muts per descendent that follow\n",
    "avg_s1_following_mutation = []\n",
    "\n",
    "for k,v in nums1_following_mutation.items():\n",
    "    num_occurrences = len(v)\n",
    "    s1muts_mean = sum(v)/len(v)\n",
    "    avg_s1_following_mutation.append({'mutation': k, 'mean_s1muts_after': s1muts_mean, \n",
    "                                      'num_occurrences':num_occurrences})\n",
    "    \n",
    "avg_s1_following_mutation_df = pd.DataFrame(avg_s1_following_mutation)\n",
    "\n",
    "# print(avg_s1_following_mutation_df.nlargest(10, 'mean_s1muts_after'))\n",
    "print(avg_s1_following_mutation_df[avg_s1_following_mutation_df['num_occurrences']>3].nlargest(10, 'mean_s1muts_after'))\n",
    "\n",
    "fig, ax = plt.subplots(figsize=(8, 4))\n",
    "\n",
    "ax = sns.histplot(x = 'mean_s1muts_after', data = avg_s1_following_mutation_df[avg_s1_following_mutation_df['num_occurrences']>3])\n",
    "\n",
    "# 'T22917G' is 'L452R'\n",
    "# 'C10029T' is ORF1a 'T3255I'\n",
    "# 'C28253T' is Orf8 SYN mut"
   ]
  },
  {
   "cell_type": "markdown",
   "metadata": {},
   "source": [
    "The above doesn't work and probably I shouldn't have expected it to"
   ]
  },
  {
   "cell_type": "markdown",
   "metadata": {},
   "source": [
    "New method:\n",
    "\n",
    "For each clade:\n",
    "1. Find the number of S1 mutations that occurred root-to-clade (given by nextstrain 'S1_mutations') attribute\n",
    "2. For every possible observed mutation, mark as 0 or 1 in the root-to-clade history of the clade\n",
    "\n",
    "Then, take the clades with the higest numbers of S1 mutations and find the proportion of them that have each possible mutation. Plot the distribution"
   ]
  },
  {
   "cell_type": "code",
   "execution_count": 77,
   "metadata": {},
   "outputs": [],
   "source": [
    "#Function to find path from root to clade\n",
    "def get_parent(tree, child_clade):\n",
    "    node_path = tree.get_path(child_clade)\n",
    "    return node_path\n",
    "\n",
    "# initialize list to store dictionaries containing information for each clade \n",
    "# (num S1 mutations and whether not each possible mutation occurred)\n",
    "clade_mutation_binary_history = []\n",
    "\n",
    "\n",
    "for node in tree.find_clades(terminal=False):\n",
    "\n",
    "    if \"S1_mutations\" in node.node_attrs:\n",
    "        #initialize dictionary entry (which will be row in df) for clade\n",
    "        clade_row = {'clade': node.name, 'num_s1_muts': node.node_attrs[\"S1_mutations\"][\"value\"]}\n",
    "        \n",
    "        for mut in all_mutations_unique:\n",
    "            clade_row[mut] = False\n",
    "            node_path = get_parent(tree, node)\n",
    "            for parent in node_path:\n",
    "                if hasattr(parent, 'branch_attrs'):\n",
    "                    if \"nuc\" in parent.branch_attrs[\"mutations\"]:\n",
    "                        if mut in parent.branch_attrs[\"mutations\"][\"nuc\"]:\n",
    "                            clade_row[mut] = True\n",
    "                        \n",
    "        clade_mutation_binary_history.append(clade_row)\n",
    "        \n",
    "clade_mut_history_df = pd.DataFrame(clade_mutation_binary_history)\n",
    "                    "
   ]
  },
  {
   "cell_type": "markdown",
   "metadata": {},
   "source": [
    "Take all clades with at least 6 S1 mutations (root-to-clade) and find the proportion of these clades where mutation X happened along the path (where X is each possible mutation). Plot the distribution"
   ]
  },
  {
   "cell_type": "code",
   "execution_count": 167,
   "metadata": {},
   "outputs": [
    {
     "data": {
      "text/plain": [
       "Text(0.5, 0, 'frequency of mutation within S1-mutation-enriched clades')"
      ]
     },
     "execution_count": 167,
     "metadata": {},
     "output_type": "execute_result"
    },
    {
     "data": {
      "image/png": "[encoded data removed]",
      "text/plain": [
       "<Figure size 720x576 with 2 Axes>"
      ]
     },
     "metadata": {
      "needs_background": "light"
     },
     "output_type": "display_data"
    }
   ],
   "source": [
    "# initialize list of dictionaries containing info about the proportion of clades with \n",
    "# at least (cutoff) S1 mutations and a given mutation\n",
    "proportion_of_highs1clades_with_mut = []\n",
    "\n",
    "cutoff_values = [6]\n",
    "for cutoff in cutoff_values:\n",
    "    cutoff_df = clade_mut_history_df[clade_mut_history_df['num_s1_muts']>=cutoff]\n",
    "    num_clades = len(cutoff_df)\n",
    "    for observed_mut in all_mutations_unique:\n",
    "        observed_mut_count = len(cutoff_df[cutoff_df[observed_mut]==True])\n",
    "        observed_mut_freq = observed_mut_count/num_clades\n",
    "\n",
    "        proportion_of_highs1clades_with_mut.append({'cutoff': cutoff, 'mutation': observed_mut, \n",
    "                                                    'frequency': observed_mut_freq})\n",
    "\n",
    "\n",
    "proportion_of_highs1clades_with_mut_df = pd.DataFrame(proportion_of_highs1clades_with_mut)\n",
    "fig, (ax1, ax2) = plt.subplots(2,1, figsize=(10, 8))\n",
    "sns.histplot(x = 'frequency', data = proportion_of_highs1clades_with_mut_df, ax=ax1, bins=20)\n",
    "sns.histplot(x = 'frequency', data = proportion_of_highs1clades_with_mut_df, bins=50, ax=ax2)\n",
    "ax2.set_ylim(0,30)\n",
    "ax2.set_xlim(0.0,1.0)\n",
    "ax1.set_xlabel('frequency of mutation within S1-mutation-enriched clades')\n",
    "ax2.set_xlabel('frequency of mutation within S1-mutation-enriched clades')\n",
    "\n",
    "# print(proportion_of_highs1clades_with_mut_df[proportion_of_highs1clades_with_mut_df['frequency']!=0.0])\n"
   ]
  },
  {
   "cell_type": "markdown",
   "metadata": {},
   "source": [
    "Find the mutations that occur at highest frequency within the clades with at least 6 S1 mutations"
   ]
  },
  {
   "cell_type": "code",
   "execution_count": 153,
   "metadata": {},
   "outputs": [],
   "source": [
    "top_hits_df = proportion_of_highs1clades_with_mut_df.nlargest(50, 'frequency').reset_index()"
   ]
  },
  {
   "cell_type": "markdown",
   "metadata": {},
   "source": [
    "Find the location and type (syn or nonsyn) of the top mutations"
   ]
  },
  {
   "cell_type": "code",
   "execution_count": 170,
   "metadata": {},
   "outputs": [],
   "source": [
    "#initialize list for new df with locationa and type info\n",
    "top_muts = []\n",
    "\n",
    "for k,v in top_hits_df.iterrows():\n",
    "    nt_mut = v['mutation']\n",
    "    \n",
    "    #convert to 0-based for biopython\n",
    "    nt_pos = int(nt_mut[1:-1])-1\n",
    "    #set gene to noncoding, to be overwritten if nt_pos falls in gene\n",
    "    gene = 'noncoding'\n",
    "    #set mut_type default to syn, to be overwritten if mutation is nonsyn (unless deletion)\n",
    "    if nt_mut[-1] == \"-\":\n",
    "        mut_type = 'del'\n",
    "    else:\n",
    "        mut_type = 'syn'\n",
    "    #set default aa_mut to None\n",
    "    aa_mut = None\n",
    "    for record in SeqIO.parse(open(\"reference_seq_edited.gb\",\"r\"), \"genbank\"):\n",
    "        for feature in record.features:\n",
    "            if feature.type == 'CDS':\n",
    "                #find what gene the mut is in\n",
    "                if nt_pos in feature.location:\n",
    "                    gene = feature.qualifiers['gene'][0]\n",
    "                    if nt_mut[-1] == \"-\":\n",
    "                        mut_type = 'del'\n",
    "                        \n",
    "                    else:\n",
    "                        #get nt sequence of the gene\n",
    "                        gene_nt = feature.location.extract(record.seq)\n",
    "                        gene_nt_mutated = gene_nt.tomutable()\n",
    "                        gene_nt_mutated[nt_pos-feature.location.start] = nt_mut[-1]\n",
    "\n",
    "                        #find what codon mutation occurred in\n",
    "                        mut_codon = int((nt_pos-feature.location.start)/3)\n",
    "                        #find the nt sequence and amino acid of codon before and after mut\n",
    "                        codon_nt = gene_nt[mut_codon*3:mut_codon*3+3]\n",
    "                        codon_aa = codon_nt.translate()\n",
    "                        mut_codon_nt = gene_nt_mutated[mut_codon*3:mut_codon*3+3]\n",
    "                        mut_codon_aa = Seq(str(mut_codon_nt)).translate()\n",
    "                        #find whether mut was syn or nonsyn\n",
    "                        if codon_aa != mut_codon_aa:\n",
    "                            mut_type = 'nonsyn' \n",
    "                            #make mut codon 1-based\n",
    "                            codon_pos = mut_codon +1\n",
    "                            #need to adjust s1 and s2 to spike numbering\n",
    "                            if gene == 'S1':\n",
    "                                adjust_for_sigpep = codon_pos + 12\n",
    "                                aa_mut = f'{codon_aa}{adjust_for_sigpep}{mut_codon_aa}'\n",
    "                            elif gene == 'S2':\n",
    "                                adjust_for_sigpep_and_s1 = codon_pos + 12 + 673\n",
    "                                aa_mut = f'{codon_aa}{adjust_for_sigpep_and_s1}{mut_codon_aa}'\n",
    "                                \n",
    "                            else:\n",
    "                                aa_mut = f'{codon_aa}{codon_pos}{mut_codon_aa}'\n",
    "                        \n",
    "    top_muts.append({'cutoff': v['cutoff'], 'mutation': v['mutation'], \n",
    "                     'mut_type': mut_type, 'gene': gene, 'aa_mut': aa_mut,\n",
    "                     'frequency': v['frequency']})\n",
    "    \n",
    "top_muts_df = pd.DataFrame(top_muts)\n",
    "\n"
   ]
  },
  {
   "cell_type": "code",
   "execution_count": 171,
   "metadata": {},
   "outputs": [],
   "source": [
    "top_muts_df.to_csv('top_muts_s1enrichedclades.tsv',sep='\\t')"
   ]
  },
  {
   "cell_type": "code",
   "execution_count": null,
   "metadata": {},
   "outputs": [],
   "source": []
  }
 ],
 "metadata": {
  "kernelspec": {
   "display_name": "Python 3",
   "language": "python",
   "name": "python3"
  },
  "language_info": {
   "codemirror_mode": {
    "name": "ipython",
    "version": 3
   },
   "file_extension": ".py",
   "mimetype": "text/x-python",
   "name": "python",
   "nbconvert_exporter": "python",
   "pygments_lexer": "ipython3",
   "version": "3.6.10"
  }
 },
 "nbformat": 4,
 "nbformat_minor": 4
}
