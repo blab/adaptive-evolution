{
 "cells": [
  {
   "cell_type": "markdown",
   "metadata": {},
   "source": [
    "# Estimate clade frequencies through time\n",
    "\n",
    "This tutorial shows how to use Augur's frequency estimation tools to estimate the frequencies of SARS-CoV-2 clades through time and use that information to identify clades that have risen in frequency rapidly."
   ]
  },
  {
   "cell_type": "code",
   "execution_count": 1,
   "metadata": {},
   "outputs": [
    {
     "name": "stderr",
     "output_type": "stream",
     "text": [
      "\n",
      "Bad key \"text.kerning_factor\" on line 4 in\n",
      "/Users/katekistler/anaconda3/envs/nextstrain/lib/python3.6/site-packages/matplotlib/mpl-data/stylelib/_classic_test_patch.mplstyle.\n",
      "You probably need to get an updated matplotlibrc file from\n",
      "https://github.com/matplotlib/matplotlib/blob/v3.1.3/matplotlibrc.template\n",
      "or from the matplotlib source distribution\n"
     ]
    }
   ],
   "source": [
    "from augur.utils import json_to_tree\n",
    "import matplotlib.pyplot as plt\n",
    "import numpy as np\n",
    "import pandas as pd\n",
    "import requests\n",
    "\n",
    "%matplotlib inline"
   ]
  },
  {
   "cell_type": "markdown",
   "metadata": {},
   "source": [
    "## Get the data"
   ]
  },
  {
   "cell_type": "markdown",
   "metadata": {},
   "source": [
    "Define the URLs to a phylogeny of a global Nextstrain analysis of SARS-CoV-2 and the precalculated frequencies for each strain in that phylogeny."
   ]
  },
  {
   "cell_type": "code",
   "execution_count": 2,
   "metadata": {},
   "outputs": [],
   "source": [
    "tree_url = \"https://data.nextstrain.org/ncov_global.json\"\n",
    "frequencies_url = \"https://data.nextstrain.org/ncov_global_tip-frequencies.json\""
   ]
  },
  {
   "cell_type": "markdown",
   "metadata": {},
   "source": [
    "Download precalculated frequencies."
   ]
  },
  {
   "cell_type": "code",
   "execution_count": 3,
   "metadata": {},
   "outputs": [],
   "source": [
    "frequencies = requests.get(frequencies_url).json()"
   ]
  },
  {
   "cell_type": "markdown",
   "metadata": {},
   "source": [
    "Frequencies are stored by strain name."
   ]
  },
  {
   "cell_type": "code",
   "execution_count": 4,
   "metadata": {},
   "outputs": [
    {
     "name": "stdout",
     "output_type": "stream",
     "text": [
      "['Afghanistan/IMB07964/2020', 'Afghanistan/IMB07966/2020', 'Afghanistan/IMB15483/2021', 'Afghanistan/IMB15484/2021', 'Afghanistan/IMB15486/2021']\n"
     ]
    }
   ],
   "source": [
    "print(list(frequencies.keys())[:5])"
   ]
  },
  {
   "cell_type": "markdown",
   "metadata": {},
   "source": [
    "Each strain has a list of frequencies at multiple timepoints from the global analysis."
   ]
  },
  {
   "cell_type": "code",
   "execution_count": 5,
   "metadata": {},
   "outputs": [
    {
     "name": "stdout",
     "output_type": "stream",
     "text": [
      "{'frequencies': [0.0, 0.0, 0.0, 0.0, 0.0, 0.0, 0.0, 0.0, 0.0, 0.0, 1e-06, 4e-06, 1.4e-05, 4.4e-05, 0.00014, 0.000392, 0.000942, 0.002006, 0.003429, 0.004937, 0.00601, 0.006166, 0.005451, 0.004102, 0.002684, 0.001536, 0.000735, 0.000321, 0.000121, 3.9e-05, 1.2e-05, 3e-06, 1e-06, 0.0, 0.0, 0.0, 0.0, 0.0, 0.0, 0.0, 0.0, 0.0, 0.0, 0.0, 0.0, 0.0, 0.0, 0.0, 0.0, 0.0, 0.0, 0.0, 0.0, 0.0, 0.0, 0.0, 0.0, 0.0, 0.0, 0.0, 0.0, 0.0, 0.0, 0.0, 0.0, 0.0]}\n"
     ]
    }
   ],
   "source": [
    "print(frequencies[list(frequencies.keys())[0]])\n",
    "# print(frequencies[\"Afghanistan/IMB07964/2020\"])"
   ]
  },
  {
   "cell_type": "markdown",
   "metadata": {},
   "source": [
    "In addition to strain-specific data, the frequencies data also include the array of timepoints (or \"pivots\") at which frequencies were originally estimated for each strain. Each position in the array of pivots corresponds to a position in each strain's frequencies array."
   ]
  },
  {
   "cell_type": "code",
   "execution_count": 6,
   "metadata": {},
   "outputs": [
    {
     "name": "stdout",
     "output_type": "stream",
     "text": [
      "[2020.011, 2020.0301, 2020.0493, 2020.0684, 2020.0861]\n"
     ]
    }
   ],
   "source": [
    "print(frequencies[\"pivots\"][:5])"
   ]
  },
  {
   "cell_type": "markdown",
   "metadata": {},
   "source": [
    "We can also learn how these frequencies were originally generated."
   ]
  },
  {
   "cell_type": "code",
   "execution_count": 7,
   "metadata": {},
   "outputs": [
    {
     "name": "stdout",
     "output_type": "stream",
     "text": [
      "{'program': 'augur', 'version': '12.0.0'}\n"
     ]
    }
   ],
   "source": [
    "print(frequencies[\"generated_by\"])"
   ]
  },
  {
   "cell_type": "markdown",
   "metadata": {},
   "source": [
    "Let's export the pivots into their own variable, removing them from the main data structure. We convert them to a numpy array to simplify math and plotting operations later."
   ]
  },
  {
   "cell_type": "code",
   "execution_count": 8,
   "metadata": {},
   "outputs": [],
   "source": [
    "pivots = np.array(frequencies.pop(\"pivots\"))"
   ]
  },
  {
   "cell_type": "code",
   "execution_count": 9,
   "metadata": {},
   "outputs": [
    {
     "name": "stdout",
     "output_type": "stream",
     "text": [
      "[2020.011  2020.0301 2020.0493 2020.0684 2020.0861 2020.1052 2020.1244\n",
      " 2020.1436 2020.1667 2020.1858 2020.205  2020.2242 2020.2433 2020.261\n",
      " 2020.2801 2020.2993 2020.3184 2020.3388 2020.358  2020.3771 2020.3963\n",
      " 2020.4155 2020.4331 2020.4523 2020.4714 2020.4906 2020.511  2020.5301\n",
      " 2020.5493 2020.5684 2020.5861 2020.6052 2020.6244 2020.6436 2020.6627\n",
      " 2020.6804 2020.6995 2020.7187 2020.7379 2020.7582 2020.7774 2020.7965\n",
      " 2020.8157 2020.8333 2020.8525 2020.8717 2020.8908 2020.91   2020.9304\n",
      " 2020.9495 2020.9687 2020.9879 2021.0055 2021.0246 2021.0438 2021.063\n",
      " 2021.0821 2021.0998 2021.1189 2021.1381 2021.1573 2021.1831 2021.2023\n",
      " 2021.2214 2021.2406 2021.2582]\n"
     ]
    }
   ],
   "source": [
    "print(pivots)"
   ]
  },
  {
   "cell_type": "markdown",
   "metadata": {},
   "source": [
    "Let's convert the dictionary of lists to numpy arrays, too."
   ]
  },
  {
   "cell_type": "code",
   "execution_count": 10,
   "metadata": {},
   "outputs": [],
   "source": [
    "frequency_arrays = {\n",
    "    strain: np.array(strain_frequencies[\"frequencies\"])\n",
    "    for strain, strain_frequencies in frequencies.items()\n",
    "    if \"frequencies\" in strain_frequencies\n",
    "}"
   ]
  },
  {
   "cell_type": "code",
   "execution_count": 11,
   "metadata": {},
   "outputs": [
    {
     "ename": "KeyError",
     "evalue": "'Afghanistan/IMB07958/2020'",
     "output_type": "error",
     "traceback": [
      "\u001b[0;31m---------------------------------------------------------------------------\u001b[0m",
      "\u001b[0;31mKeyError\u001b[0m                                  Traceback (most recent call last)",
      "\u001b[0;32m<ipython-input-11-39cc2c303ee4>\u001b[0m in \u001b[0;36m<module>\u001b[0;34m\u001b[0m\n\u001b[0;32m----> 1\u001b[0;31m \u001b[0mprint\u001b[0m\u001b[0;34m(\u001b[0m\u001b[0mfrequency_arrays\u001b[0m\u001b[0;34m[\u001b[0m\u001b[0;34m'Afghanistan/IMB07958/2020'\u001b[0m\u001b[0;34m]\u001b[0m\u001b[0;34m)\u001b[0m\u001b[0;34m\u001b[0m\u001b[0;34m\u001b[0m\u001b[0m\n\u001b[0m",
      "\u001b[0;31mKeyError\u001b[0m: 'Afghanistan/IMB07958/2020'"
     ]
    }
   ],
   "source": [
    "print(frequency_arrays['Afghanistan/IMB07958/2020'])"
   ]
  },
  {
   "cell_type": "markdown",
   "metadata": {},
   "source": [
    "## Plot strain frequencies through time"
   ]
  },
  {
   "cell_type": "markdown",
   "metadata": {},
   "source": [
    "Now, we can plot the frequency of an individual strain over time. This view shows us that each strain's frequencies through time are represented by a normal distribution. This representation is a feature of [the kernel density estimation (KDE) method of frequency estimation in Augur](https://docs.nextstrain.org/projects/augur/en/stable/usage/cli/frequencies.html)."
   ]
  },
  {
   "cell_type": "code",
   "execution_count": 12,
   "metadata": {},
   "outputs": [
    {
     "data": {
      "text/plain": [
       "Text(0, 0.5, 'Frequency')"
      ]
     },
     "execution_count": 12,
     "metadata": {},
     "output_type": "execute_result"
    },
    {
     "data": {
      "image/png": "[encoded data removed]",
      "text/plain": [
       "<Figure size 576x288 with 1 Axes>"
      ]
     },
     "metadata": {
      "needs_background": "light"
     },
     "output_type": "display_data"
    }
   ],
   "source": [
    "fig, ax = plt.subplots(1, 1, figsize=(8, 4))\n",
    "ax.plot(\n",
    "    pivots,\n",
    "    frequency_arrays[list(frequencies.keys())[0]]\n",
    ")\n",
    "# ax.plot(\n",
    "#     pivots,\n",
    "#     frequency_arrays[\"Afghanistan/IMB07964/2020\"]\n",
    "# )\n",
    "\n",
    "ax.set_xlabel(\"Date\")\n",
    "ax.set_ylabel(\"Frequency\")"
   ]
  },
  {
   "cell_type": "markdown",
   "metadata": {},
   "source": [
    "We can also plot the frequencies of all strains over time at once. This view shows us all of the overlapping normal distributions for each strain. It also shows us the noise (or uncertainty) in frequency estimates at the beginning of 2020 when relatively few SARS-CoV-2 strains had been sampled."
   ]
  },
  {
   "cell_type": "code",
   "execution_count": 13,
   "metadata": {},
   "outputs": [
    {
     "data": {
      "text/plain": [
       "Text(0, 0.5, 'Frequency')"
      ]
     },
     "execution_count": 13,
     "metadata": {},
     "output_type": "execute_result"
    },
    {
     "data": {
      "image/png": "[encoded data removed]",
      "text/plain": [
       "<Figure size 576x288 with 1 Axes>"
      ]
     },
     "metadata": {
      "needs_background": "light"
     },
     "output_type": "display_data"
    }
   ],
   "source": [
    "fig, ax = plt.subplots(1, 1, figsize=(8, 4))\n",
    "\n",
    "for strain, strain_frequencies in frequency_arrays.items():\n",
    "    ax.plot(\n",
    "        pivots,\n",
    "        strain_frequencies,\n",
    "        alpha=0.5\n",
    "    )\n",
    "\n",
    "ax.set_xlabel(\"Date\")\n",
    "ax.set_ylabel(\"Frequency\")"
   ]
  },
  {
   "cell_type": "markdown",
   "metadata": {},
   "source": [
    "## Estimate clade frequencies through time\n",
    "\n",
    "In practice, we care about the growth or decline of groups of strains that all share the same mutation(s), or _clades_. Clades are also represented as internal or ancestral nodes of a phylogeny. To calculate the frequencies of clades through time, we need to know which strains belong to each clade which is information provided by the original phylogeny. So, let's download the phylogenetic tree of the strains that we've loaded frequencies for."
   ]
  },
  {
   "cell_type": "code",
   "execution_count": 14,
   "metadata": {},
   "outputs": [],
   "source": [
    "tree_json = requests.get(tree_url).json()"
   ]
  },
  {
   "cell_type": "markdown",
   "metadata": {},
   "source": [
    "On [nextstrain.org](https://nextstrain.org), the tree is a JSON file, but to work with the tree in Python, we need to convert the JSON to a BioPython tree data structure."
   ]
  },
  {
   "cell_type": "code",
   "execution_count": 15,
   "metadata": {},
   "outputs": [],
   "source": [
    "tree = json_to_tree(tree_json)"
   ]
  },
  {
   "cell_type": "markdown",
   "metadata": {},
   "source": [
    "Every inferred ancestral node and observed strain in the tree is represented as a \"clade\" object with zero or more descendants. This means the root of the tree is a clade, too. Ancestral nodes get their own arbitrary names, so we can perform operations on specific nodes."
   ]
  },
  {
   "cell_type": "code",
   "execution_count": 16,
   "metadata": {},
   "outputs": [
    {
     "name": "stdout",
     "output_type": "stream",
     "text": [
      "Clade(branch_length=0, name='NODE_0003992')\n"
     ]
    }
   ],
   "source": [
    "print(repr(tree))"
   ]
  },
  {
   "cell_type": "markdown",
   "metadata": {},
   "source": [
    "Before we can inspect the frequency of clades over time, we need to calculate the frequency of each clade from its child strain frequencies. The frequency of any clade at a given time is the sum of its child strain frequencies at that time. We'll calculate these clade frequencies in a bottom-up approach, working from each tip up to the root of the tree. This is also known as a [postorder tree traversal](https://en.wikipedia.org/wiki/Tree_traversal#Post-order,_LRN)."
   ]
  },
  {
   "cell_type": "code",
   "execution_count": 17,
   "metadata": {},
   "outputs": [],
   "source": [
    "for node in tree.find_clades(order=\"postorder\"):\n",
    "    if node.is_terminal():\n",
    "        # We already know the frequencies of each terminal node, so\n",
    "        # store those frequencies with the corresponding node of the tree.\n",
    "        node.frequencies = frequency_arrays[node.name]\n",
    "    else:\n",
    "        # For each internal node, sum the frequencies of its immediate\n",
    "        # children. Since we are walking through the tree from the bottom\n",
    "        # up, each child node will always have frequencies calculated\n",
    "        # before its parent node.\n",
    "        node.frequencies = np.array([\n",
    "            child.frequencies\n",
    "            for child in node.clades\n",
    "        ]).sum(axis=0)"
   ]
  },
  {
   "cell_type": "markdown",
   "metadata": {},
   "source": [
    "The root node of the tree should always be at 100% frequency. We can see that this is generally true, within the bounds of some rounding error."
   ]
  },
  {
   "cell_type": "code",
   "execution_count": 32,
   "metadata": {},
   "outputs": [
    {
     "data": {
      "text/plain": [
       "array([1.000001, 0.999976, 0.999992, 0.999988, 1.000006, 1.000002,\n",
       "       0.999984, 0.999995, 0.999993, 1.000007, 0.999979, 1.000007,\n",
       "       1.000003, 0.999979, 0.999979, 0.999984, 0.999962, 0.999983,\n",
       "       0.999953, 1.000006, 1.000008, 0.99996 , 0.99999 , 1.000022,\n",
       "       0.999964, 0.999966, 1.000004, 1.000007, 1.000015, 0.999969,\n",
       "       0.999994, 0.999968, 0.999974, 0.999979, 0.999962, 0.999912,\n",
       "       0.999957, 0.999999, 1.000012, 0.99999 , 0.999854, 0.999941,\n",
       "       0.999937, 0.999995, 0.999904, 0.999944, 0.99991 , 0.999979,\n",
       "       0.99992 , 0.999943, 1.000061, 0.999974, 0.999973, 0.999882,\n",
       "       1.000104, 0.999916, 0.999869, 1.000042, 0.999852, 0.999916,\n",
       "       1.000003, 1.000119])"
      ]
     },
     "execution_count": 32,
     "metadata": {},
     "output_type": "execute_result"
    }
   ],
   "source": [
    "tree.root.frequencies"
   ]
  },
  {
   "cell_type": "markdown",
   "metadata": {},
   "source": [
    "Now, we can investigate the frequency of different clades through time. In addition to strain names, each node of the tree also carries annotations like clade membership. We can use these annotations to identify the most ancestral node for each major clade. Then we can plot the frequencies of these clades through time."
   ]
  },
  {
   "cell_type": "code",
   "execution_count": 18,
   "metadata": {},
   "outputs": [],
   "source": [
    "clade_nodes_by_name = {}\n",
    "for node in tree.find_clades(terminal=False):\n",
    "    if \"clade_membership\" in node.node_attrs:\n",
    "        clade_name = node.node_attrs[\"clade_membership\"][\"value\"]\n",
    "\n",
    "        if clade_name not in clade_nodes_by_name:\n",
    "            clade_nodes_by_name[clade_name] = node"
   ]
  },
  {
   "cell_type": "markdown",
   "metadata": {},
   "source": [
    "From the list below, we see that we found all major clades annotated in the tree."
   ]
  },
  {
   "cell_type": "code",
   "execution_count": 19,
   "metadata": {},
   "outputs": [
    {
     "name": "stdout",
     "output_type": "stream",
     "text": [
      "dict_keys(['19A', '19B', '20A', '20E (EU1)', '20C', '20G', '20H/501Y.V2', '20B', '20D', '20J/501Y.V3', '20F', '20I/501Y.V1'])\n"
     ]
    }
   ],
   "source": [
    "print(clade_nodes_by_name.keys())"
   ]
  },
  {
   "cell_type": "markdown",
   "metadata": {},
   "source": [
    "Let's plot the frequency of the clade 20A through time."
   ]
  },
  {
   "cell_type": "code",
   "execution_count": 41,
   "metadata": {},
   "outputs": [
    {
     "data": {
      "text/plain": [
       "<matplotlib.legend.Legend at 0x1a2d3f2c18>"
      ]
     },
     "execution_count": 41,
     "metadata": {},
     "output_type": "execute_result"
    },
    {
     "data": {
      "image/png": "[encoded data removed]",
      "text/plain": [
       "<Figure size 576x288 with 1 Axes>"
      ]
     },
     "metadata": {
      "needs_background": "light"
     },
     "output_type": "display_data"
    }
   ],
   "source": [
    "fig, ax = plt.subplots(1, 1, figsize=(8, 4))\n",
    "\n",
    "ax.plot(\n",
    "    pivots,\n",
    "    clade_nodes_by_name[\"20A\"].frequencies,\n",
    "    label=\"20A\"\n",
    ")\n",
    "\n",
    "ax.set_xlabel(\"Date\")\n",
    "ax.set_ylabel(\"Frequency\")\n",
    "\n",
    "ax.legend(frameon=False)"
   ]
  },
  {
   "cell_type": "markdown",
   "metadata": {},
   "source": [
    "Now that we know what to expect, we can plot all clades at once."
   ]
  },
  {
   "cell_type": "code",
   "execution_count": 42,
   "metadata": {},
   "outputs": [
    {
     "data": {
      "text/plain": [
       "<matplotlib.legend.Legend at 0x1a271d0080>"
      ]
     },
     "execution_count": 42,
     "metadata": {},
     "output_type": "execute_result"
    },
    {
     "data": {
      "image/png": "[encoded data removed]",
      "text/plain": [
       "<Figure size 576x288 with 1 Axes>"
      ]
     },
     "metadata": {
      "needs_background": "light"
     },
     "output_type": "display_data"
    }
   ],
   "source": [
    "fig, ax = plt.subplots(1, 1, figsize=(8, 4))\n",
    "\n",
    "for clade_name, clade_node in clade_nodes_by_name.items():\n",
    "    ax.plot(\n",
    "        pivots,\n",
    "        clade_node.frequencies,\n",
    "        label=clade_name\n",
    "    )\n",
    "\n",
    "ax.set_xlabel(\"Date\")\n",
    "ax.set_ylabel(\"Frequency\")\n",
    "\n",
    "ax.legend(\n",
    "    frameon=False,\n",
    "    bbox_to_anchor=(1.05, 1),\n",
    "    loc='upper left',\n",
    "    borderaxespad=0.\n",
    ")"
   ]
  },
  {
   "cell_type": "markdown",
   "metadata": {},
   "source": [
    "We can also investigate the frequencies of clades that carry a specific mutation. As an example, let's find all clades that carry the S:484K mutation. Each node in the tree also carries information about the mutations that occurred on the branch leading to that node."
   ]
  },
  {
   "cell_type": "code",
   "execution_count": 46,
   "metadata": {},
   "outputs": [
    {
     "data": {
      "text/plain": [
       "{'mutations': {}}"
      ]
     },
     "execution_count": 46,
     "metadata": {},
     "output_type": "execute_result"
    }
   ],
   "source": [
    "tree.root.clades[-1].branch_attrs"
   ]
  },
  {
   "cell_type": "markdown",
   "metadata": {},
   "source": [
    "Use this branch-specific information to find all ancestral nodes with a S:484K mutation on their preceding branch."
   ]
  },
  {
   "cell_type": "code",
   "execution_count": 47,
   "metadata": {},
   "outputs": [],
   "source": [
    "clade_nodes_with_484K_by_name = {}\n",
    "for node in tree.find_clades(terminal=False):\n",
    "    if (hasattr(node, \"branch_attrs\") and\n",
    "        \"mutations\" in node.branch_attrs and \n",
    "        \"S\" in node.branch_attrs[\"mutations\"] and \n",
    "        any([mutation.endswith(\"484K\") for mutation in node.branch_attrs[\"mutations\"][\"S\"]])):\n",
    "        if node.name not in clade_nodes_by_name:\n",
    "            clade_nodes_with_484K_by_name[node.name] = node"
   ]
  },
  {
   "cell_type": "markdown",
   "metadata": {},
   "source": [
    "We found multiple clades with a S:484K mutation. Since these clades don't necessarily have official names, we will use their internal names for now. In practice, we may want to name these clades after the specific mutations on the branch leading to each clade."
   ]
  },
  {
   "cell_type": "code",
   "execution_count": 48,
   "metadata": {},
   "outputs": [
    {
     "name": "stdout",
     "output_type": "stream",
     "text": [
      "dict_keys(['NODE_0000610', 'NODE_0000881', 'NODE_0000871', 'NODE_0001119', 'NODE_0001363', 'NODE_0002520', 'NODE_0003571', 'NODE_0003006', 'NODE_0003606', 'NODE_0003639'])\n"
     ]
    }
   ],
   "source": [
    "print(clade_nodes_with_484K_by_name.keys())"
   ]
  },
  {
   "cell_type": "markdown",
   "metadata": {},
   "source": [
    "Now, we can plot the frequencies of those clades."
   ]
  },
  {
   "cell_type": "code",
   "execution_count": 49,
   "metadata": {},
   "outputs": [
    {
     "data": {
      "text/plain": [
       "<matplotlib.legend.Legend at 0x1a2d62fcc0>"
      ]
     },
     "execution_count": 49,
     "metadata": {},
     "output_type": "execute_result"
    },
    {
     "data": {
      "image/png": "[encoded data removed]",
      "text/plain": [
       "<Figure size 576x288 with 1 Axes>"
      ]
     },
     "metadata": {
      "needs_background": "light"
     },
     "output_type": "display_data"
    }
   ],
   "source": [
    "fig, ax = plt.subplots(1, 1, figsize=(8, 4))\n",
    "\n",
    "for clade_name, clade_node in clade_nodes_with_484K_by_name.items():\n",
    "    ax.plot(\n",
    "        pivots,\n",
    "        clade_node.frequencies,\n",
    "        label=clade_name\n",
    "    )\n",
    "\n",
    "ax.set_xlabel(\"Date\")\n",
    "ax.set_ylabel(\"Frequency\")\n",
    "\n",
    "ax.legend(\n",
    "    frameon=False,\n",
    "    bbox_to_anchor=(1.05, 1),\n",
    "    loc='upper left',\n",
    "    borderaxespad=0.\n",
    ")"
   ]
  },
  {
   "cell_type": "markdown",
   "metadata": {},
   "source": [
    "## Calculate change in frequency over time per clade\n",
    "\n",
    "In addition to observing the frequencies of clades through time, we also want to calculate much each clade has changed in frequency recently. This measure is an indication of growth or decline. Rapidly growing clades may indicate potential variants of concern.\n",
    "\n",
    "We calculate frequencies at weekly intervals, such that \"pivots\" are spaced by one week. To find the change in frequency of clades over the last month, we need to compare the most recent frequency of each clade to the frequency four pivots previous. We'll calculate this change in frequency (or \"delta frequency\") for each major clade."
   ]
  },
  {
   "cell_type": "code",
   "execution_count": 50,
   "metadata": {},
   "outputs": [],
   "source": [
    "delta_frequencies = []\n",
    "for clade_name, clade_node in clade_nodes_by_name.items():\n",
    "    delta_frequency = clade_node.frequencies[-1] - clade_node.frequencies[-5]\n",
    "    delta_frequencies.append({\n",
    "        \"clade_name\": clade_name,\n",
    "        \"delta_frequency\": delta_frequency\n",
    "    })"
   ]
  },
  {
   "cell_type": "markdown",
   "metadata": {},
   "source": [
    "Convert the delta frequencies to a pandas DataFrame for easily manipulation and visualization."
   ]
  },
  {
   "cell_type": "code",
   "execution_count": 51,
   "metadata": {},
   "outputs": [],
   "source": [
    "delta_frequencies_df = pd.DataFrame(delta_frequencies)"
   ]
  },
  {
   "cell_type": "markdown",
   "metadata": {},
   "source": [
    "List clades by change in frequency in descending order."
   ]
  },
  {
   "cell_type": "code",
   "execution_count": 52,
   "metadata": {},
   "outputs": [
    {
     "data": {
      "text/html": [
       "<div>\n",
       "<style scoped>\n",
       "    .dataframe tbody tr th:only-of-type {\n",
       "        vertical-align: middle;\n",
       "    }\n",
       "\n",
       "    .dataframe tbody tr th {\n",
       "        vertical-align: top;\n",
       "    }\n",
       "\n",
       "    .dataframe thead th {\n",
       "        text-align: right;\n",
       "    }\n",
       "</style>\n",
       "<table border=\"1\" class=\"dataframe\">\n",
       "  <thead>\n",
       "    <tr style=\"text-align: right;\">\n",
       "      <th></th>\n",
       "      <th>clade_name</th>\n",
       "      <th>delta_frequency</th>\n",
       "    </tr>\n",
       "  </thead>\n",
       "  <tbody>\n",
       "    <tr>\n",
       "      <th>9</th>\n",
       "      <td>20I/501Y.V1</td>\n",
       "      <td>0.152523</td>\n",
       "    </tr>\n",
       "    <tr>\n",
       "      <th>7</th>\n",
       "      <td>20B</td>\n",
       "      <td>0.073556</td>\n",
       "    </tr>\n",
       "    <tr>\n",
       "      <th>2</th>\n",
       "      <td>20A</td>\n",
       "      <td>0.006957</td>\n",
       "    </tr>\n",
       "    <tr>\n",
       "      <th>0</th>\n",
       "      <td>19A</td>\n",
       "      <td>0.000077</td>\n",
       "    </tr>\n",
       "    <tr>\n",
       "      <th>10</th>\n",
       "      <td>20F</td>\n",
       "      <td>0.000000</td>\n",
       "    </tr>\n",
       "    <tr>\n",
       "      <th>11</th>\n",
       "      <td>20J/501Y.V3</td>\n",
       "      <td>-0.002099</td>\n",
       "    </tr>\n",
       "    <tr>\n",
       "      <th>1</th>\n",
       "      <td>19B</td>\n",
       "      <td>-0.006255</td>\n",
       "    </tr>\n",
       "    <tr>\n",
       "      <th>6</th>\n",
       "      <td>20H/501Y.V2</td>\n",
       "      <td>-0.010157</td>\n",
       "    </tr>\n",
       "    <tr>\n",
       "      <th>5</th>\n",
       "      <td>20G</td>\n",
       "      <td>-0.013409</td>\n",
       "    </tr>\n",
       "    <tr>\n",
       "      <th>4</th>\n",
       "      <td>20C</td>\n",
       "      <td>-0.016833</td>\n",
       "    </tr>\n",
       "    <tr>\n",
       "      <th>3</th>\n",
       "      <td>20E (EU1)</td>\n",
       "      <td>-0.021548</td>\n",
       "    </tr>\n",
       "    <tr>\n",
       "      <th>8</th>\n",
       "      <td>20D</td>\n",
       "      <td>-0.022156</td>\n",
       "    </tr>\n",
       "  </tbody>\n",
       "</table>\n",
       "</div>"
      ],
      "text/plain": [
       "     clade_name  delta_frequency\n",
       "9   20I/501Y.V1         0.152523\n",
       "7           20B         0.073556\n",
       "2           20A         0.006957\n",
       "0           19A         0.000077\n",
       "10          20F         0.000000\n",
       "11  20J/501Y.V3        -0.002099\n",
       "1           19B        -0.006255\n",
       "6   20H/501Y.V2        -0.010157\n",
       "5           20G        -0.013409\n",
       "4           20C        -0.016833\n",
       "3     20E (EU1)        -0.021548\n",
       "8           20D        -0.022156"
      ]
     },
     "execution_count": 52,
     "metadata": {},
     "output_type": "execute_result"
    }
   ],
   "source": [
    "delta_frequencies_df.sort_values(\"delta_frequency\", ascending=False)"
   ]
  },
  {
   "cell_type": "code",
   "execution_count": null,
   "metadata": {},
   "outputs": [],
   "source": []
  }
 ],
 "metadata": {
  "kernelspec": {
   "display_name": "Python 3",
   "language": "python",
   "name": "python3"
  },
  "language_info": {
   "codemirror_mode": {
    "name": "ipython",
    "version": 3
   },
   "file_extension": ".py",
   "mimetype": "text/x-python",
   "name": "python",
   "nbconvert_exporter": "python",
   "pygments_lexer": "ipython3",
   "version": "3.6.10"
  }
 },
 "nbformat": 4,
 "nbformat_minor": 5
}
