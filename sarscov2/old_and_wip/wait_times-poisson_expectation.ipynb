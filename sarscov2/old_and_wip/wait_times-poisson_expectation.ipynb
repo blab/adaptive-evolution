{
 "cells": [
  {
   "cell_type": "code",
   "execution_count": 3,
   "id": "33194542",
   "metadata": {},
   "outputs": [],
   "source": [
    "from augur.utils import json_to_tree\n",
    "import matplotlib.pyplot as plt\n",
    "import matplotlib.patches as patches\n",
    "import seaborn as sns\n",
    "import numpy as np\n",
    "import pandas as pd\n",
    "from Bio import SeqIO\n",
    "from collections import Counter\n",
    "import requests\n",
    "import random\n",
    "from scipy import stats"
   ]
  },
  {
   "cell_type": "markdown",
   "id": "71e410d0",
   "metadata": {},
   "source": [
    "Find wait times between mutations. Compare empirical data to expectation (that mutations should occur at a constant rate over time)"
   ]
  },
  {
   "cell_type": "code",
   "execution_count": 93,
   "id": "3e3624a2",
   "metadata": {},
   "outputs": [],
   "source": [
    "#Download tree json\n",
    "tree_url = \"https://data.nextstrain.org/ncov_global.json\"\n",
    "\n",
    "tree_json = requests.get(tree_url).json()\n",
    "\n",
    "#Put tree in Bio.Phylo format\n",
    "tree = json_to_tree(tree_json)"
   ]
  },
  {
   "cell_type": "code",
   "execution_count": 7,
   "id": "66b90f15",
   "metadata": {},
   "outputs": [],
   "source": [
    "# import json\n",
    "# json_fh = open('ncov_europe_2021-02-11.json', \"r\")\n",
    "# json_dict = json.load(json_fh)\n",
    "# test = json_to_tree(json_dict)"
   ]
  },
  {
   "cell_type": "markdown",
   "id": "30469c3d",
   "metadata": {},
   "source": [
    "Assign each node a number of S1 mutations and RdRp that occurred at this node (rather than the accumulation)"
   ]
  },
  {
   "cell_type": "code",
   "execution_count": 94,
   "id": "c874c9be",
   "metadata": {},
   "outputs": [],
   "source": [
    "#Function to find path from root to clade\n",
    "def get_parent(tree, child_clade):\n",
    "    node_path = tree.get_path(child_clade)\n",
    "    return node_path"
   ]
  },
  {
   "cell_type": "code",
   "execution_count": 95,
   "id": "ef5720d9",
   "metadata": {},
   "outputs": [],
   "source": [
    "for node in tree.find_clades():\n",
    "    node.s1_muts_at_node = 0\n",
    "    node.rdrp_muts_at_node = 0\n",
    "\n",
    "    if hasattr(node, 'branch_attrs'):\n",
    "        s1_muts_at_this_node = 0\n",
    "        rdrp_muts_at_this_node = 0\n",
    "        if 'S' in node.branch_attrs[\"mutations\"]:\n",
    "            for mut in node.branch_attrs[\"mutations\"]['S']:\n",
    "                mut_pos = int(mut[1:-1])\n",
    "                if mut_pos in range(14,686):\n",
    "                    s1_muts_at_this_node+=1\n",
    "\n",
    "\n",
    "\n",
    "        elif \"ORF1a\" in node.branch_attrs[\"mutations\"]:\n",
    "            for mut in node.branch_attrs[\"mutations\"][\"ORF1a\"]:\n",
    "                if int(mut[1:-1]) in range(4492,4401):\n",
    "                    rdrp_muts_at_this_node+=1\n",
    "\n",
    "        elif \"ORF1b\" in node.branch_attrs[\"mutations\"]:\n",
    "            for mut in node.branch_attrs[\"mutations\"][\"ORF1b\"]:\n",
    "                if int(mut[1:-1]) in range(1,923):\n",
    "                    rdrp_muts_at_this_node+=1\n",
    "                    \n",
    "        # if there is more than one mutation on branch, assign each mutation a random date along the branch \n",
    "        \n",
    "\n",
    "        node.s1_muts_at_node = s1_muts_at_this_node         \n",
    "        node.rdrp_muts_at_node = rdrp_muts_at_this_node \n"
   ]
  },
  {
   "cell_type": "code",
   "execution_count": 96,
   "id": "11a411cf",
   "metadata": {},
   "outputs": [
    {
     "name": "stdout",
     "output_type": "stream",
     "text": [
      "Nodes with S1 mutations: 240\n",
      "Total number of S1 mutations: 342\n",
      "Nodes with RdRp mutations: 41\n",
      "Total number of RdRp mutations: 43\n",
      "Time window: 2019.9779900962776-2021.4150684931508\n"
     ]
    }
   ],
   "source": [
    "# find number of nodes that have S1 mutations\n",
    "# only on internal branches\n",
    "nodes_with_s1_muts = 0\n",
    "total_s1_muts = 0\n",
    "\n",
    "for node in tree.find_clades(terminal=False):\n",
    "    if node.s1_muts_at_node!= 0:\n",
    "        nodes_with_s1_muts+=1\n",
    "        total_s1_muts += node.s1_muts_at_node\n",
    "        \n",
    "print(f'Nodes with S1 mutations: {nodes_with_s1_muts}')\n",
    "print(f'Total number of S1 mutations: {total_s1_muts}')\n",
    "\n",
    "# find number of nodes that have RdRp mutations\n",
    "nodes_with_rdrp_muts = 0\n",
    "total_rdrp_muts = 0\n",
    "\n",
    "for node in tree.find_clades(terminal=False):\n",
    "    # exclude this outlier\n",
    "    if node.name != 'Kazakhstan/NRL-KZY-273S/2021':\n",
    "        if node.rdrp_muts_at_node!= 0:\n",
    "            nodes_with_rdrp_muts+=1\n",
    "            total_rdrp_muts += node.rdrp_muts_at_node\n",
    "        \n",
    "print(f'Nodes with RdRp mutations: {nodes_with_rdrp_muts}')\n",
    "print(f'Total number of RdRp mutations: {total_rdrp_muts}')\n",
    "\n",
    "first_timepoint = tree.root.node_attrs['num_date']['value']\n",
    "last_timepoint = 0\n",
    "for node in tree.find_clades(terminal=False):\n",
    "    if node.node_attrs['num_date']['value'] > last_timepoint:\n",
    "        last_timepoint = node.node_attrs['num_date']['value']\n",
    "        \n",
    "print(f'Time window: {first_timepoint}-{last_timepoint}')\n",
    "    "
   ]
  },
  {
   "cell_type": "markdown",
   "id": "c22c76c8",
   "metadata": {},
   "source": [
    "Find the wait times between S1 (or RdRp) mutations. Do not double count paths between mutations. Mutations on parent brnaches can give rise to multiple wait times (see analog notebook for sketch)"
   ]
  },
  {
   "cell_type": "code",
   "execution_count": 97,
   "id": "997612cd",
   "metadata": {},
   "outputs": [],
   "source": [
    "# to deal with branches with multiple mutations, say that each mutation happens at a randomly chosen time \n",
    "# between the node and previous node\n",
    "\n",
    "\n",
    "root_date = tree.root.node_attrs['num_date']['value']\n",
    "\n",
    "# keep track of parts of paths that have already been considered\n",
    "paths_segments_already_used_s1 = []\n",
    "\n",
    "# keep track of nodes (with multiple S1 mutations) where the wait times \n",
    "# of 0 (between those mutations) have already been counted\n",
    "wait_times_already_counted_at_node = []\n",
    "\n",
    "# store all wait times between observed mutations\n",
    "all_wait_times_s1 = []\n",
    "\n",
    "\n",
    "\n",
    "for node in tree.find_clades(terminal=False):\n",
    "    \n",
    "    if node.name != 'Kazakhstan/NRL-KZY-273S/2021':\n",
    "    \n",
    "        node_path = get_parent(tree, node)\n",
    "        \n",
    "        # find the branch length (in decimal years) between node and previous node\n",
    "        path_dates = [n.node_attrs['num_date']['value'] for n in node_path]\n",
    "    \n",
    "        if len(path_dates) > 0:\n",
    "            path_dates_with_root = [root_date] + path_dates\n",
    "            branch_lengths = [j-i for i, j in zip(path_dates_with_root[:-1], path_dates_with_root[1:])]\n",
    "\n",
    "        s1_muts_on_path = [n.s1_muts_at_node for n in node_path]\n",
    "        # indicies of branches that have S1 mutations\n",
    "        s1_mut_indicies = [i for i, num_s1 in enumerate(s1_muts_on_path) if num_s1!=0]\n",
    "\n",
    "        # count wait time from root until first mutation(s)\n",
    "        if len(s1_mut_indicies) == 1:\n",
    "            A_name = node_path[s1_mut_indicies[0]].name\n",
    "            root_name = node_path[0].name\n",
    "\n",
    "            if [root_name, A_name] not in paths_segments_already_used_s1:\n",
    "                num_muts_A = s1_muts_on_path[s1_mut_indicies[0]]\n",
    "                \n",
    "                # pick date for branch A randomly between inferred node date and previous node \n",
    "                # because mutation happened somewhere in this time window, not necessarily right at the node\n",
    "                node_date_A = node_path[s1_mut_indicies[0]].node_attrs['num_date']['value']\n",
    "                \n",
    "                # if there are multiple mutations at this branch, assign each of them a different random date\n",
    "                dates_A = []\n",
    "                for mut in range(num_muts_A):\n",
    "                    date_A = random.uniform(node_date_A - branch_lengths[s1_mut_indicies[0]], node_date_A)\n",
    "                    dates_A.append(date_A)\n",
    "                    \n",
    "                dates_A = sorted(dates_A)\n",
    "                \n",
    "                # prepend the root date\n",
    "                dates_A = [root_date] + dates_A\n",
    "\n",
    "                # find wait times between this branch and the root and between mutations on this branch\n",
    "                wait_times = [j-i for i, j in zip(dates_A[:-1], dates_A[1:])]\n",
    "                all_wait_times_s1+=wait_times\n",
    "\n",
    "                paths_segments_already_used_s1.append([root_name, A_name])\n",
    "                wait_times_already_counted_at_node.append(A_name)\n",
    "\n",
    "\n",
    "\n",
    "        # if more than 1 mutation is on this path, calculate wait time between mutations\n",
    "        if len(s1_mut_indicies) > 1:\n",
    "            \n",
    "            for x in range(len(s1_mut_indicies) -1):\n",
    "\n",
    "                A_name = node_path[s1_mut_indicies[x]].name\n",
    "                B_name = node_path[s1_mut_indicies[x+1]].name\n",
    "\n",
    "                # only count wait times if this path segment hasn't already been counted\n",
    "                if [A_name, B_name] not in paths_segments_already_used_s1:\n",
    "\n",
    "                    num_muts_A = s1_muts_on_path[s1_mut_indicies[x]]\n",
    "                    num_muts_B = s1_muts_on_path[s1_mut_indicies[x+1]]\n",
    "                    \n",
    "                    # pick dates for branches A and B randomly between inferred node date and previous node \n",
    "                    # because mutation happened somewhere in this time window, not necessarily right at the node\n",
    "                    \n",
    "                    \n",
    "                    # if there are multiple mutations on these branch, assign each of them a different random date\n",
    "                    node_date_A = node_path[s1_mut_indicies[x]].node_attrs['num_date']['value']\n",
    "                    dates_A = []\n",
    "                    for mut in range(num_muts_A):\n",
    "                        date_A = random.uniform(node_date_A - branch_lengths[s1_mut_indicies[x]], node_date_A)\n",
    "                        dates_A.append(date_A)\n",
    "\n",
    "                    dates_A = sorted(dates_A)\n",
    "                    \n",
    "                    \n",
    "                    node_date_B = node_path[s1_mut_indicies[x+1]].node_attrs['num_date']['value']\n",
    "                    dates_B = []\n",
    "                    for mut in range(num_muts_B):\n",
    "                        date_B = random.uniform(node_date_B - branch_lengths[s1_mut_indicies[x+1]], node_date_B)\n",
    "                        dates_B.append(date_B)\n",
    "\n",
    "                    dates_B = sorted(dates_B)\n",
    "                    \n",
    "\n",
    "                    # find wait times between mutations on one branch\n",
    "                    # only if this node hasn't already been counted\n",
    "                    if A_name not in wait_times_already_counted_at_node:\n",
    "                        wait_times_on_A = [j-i for i, j in zip(dates_A[:-1], dates_A[1:])]\n",
    "                        all_wait_times_s1+=wait_times_on_A\n",
    "                        wait_times_already_counted_at_node.append(A_name)\n",
    "                        \n",
    "                    if B_name not in wait_times_already_counted_at_node:\n",
    "                        wait_times_on_B = [j-i for i, j in zip(dates_B[:-1], dates_B[1:])]\n",
    "                        all_wait_times_s1+=wait_times_on_B\n",
    "                        wait_times_already_counted_at_node.append(B_name)\n",
    "                    \n",
    "                    # and between latest mutation on branch A and earliest on branch B \n",
    "                    wait_time_between = dates_B[0] - dates_A[-1]\n",
    "                    all_wait_times_s1.append(wait_time_between)\n",
    "\n",
    "\n",
    "\n",
    "                    # add this pair of branches to the list of path segments that have already been counted\n",
    "                    paths_segments_already_used_s1.append([A_name, B_name])\n",
    "\n",
    "\n",
    "\n",
    "\n"
   ]
  },
  {
   "cell_type": "code",
   "execution_count": 98,
   "id": "8555e6e9",
   "metadata": {},
   "outputs": [
    {
     "name": "stderr",
     "output_type": "stream",
     "text": [
      "/Users/katekistler/anaconda3/envs/ncov/lib/python3.6/site-packages/seaborn/distributions.py:2551: FutureWarning: `distplot` is a deprecated function and will be removed in a future version. Please adapt your code to use either `displot` (a figure-level function with similar flexibility) or `histplot` (an axes-level function for histograms).\n",
      "  warnings.warn(msg, FutureWarning)\n"
     ]
    },
    {
     "data": {
      "image/png": "[encoded data removed]",
      "text/plain": [
       "<Figure size 576x288 with 1 Axes>"
      ]
     },
     "metadata": {
      "needs_background": "light"
     },
     "output_type": "display_data"
    }
   ],
   "source": [
    "fig, ax = plt.subplots(figsize=(8,4))\n",
    "\n",
    "# ax = sns.histplot(all_wait_times_s1, bins=20, color = \"#1f78b4\")\n",
    "ax = sns.distplot(all_wait_times_s1, kde = False, norm_hist=True,  bins=20, color=\"#1f78b4\")\n",
    "\n",
    "ax.set_title('S1 mutations', fontsize = 18)\n",
    "ax.set_xlabel('wait time', fontsize=18)\n",
    "ax.set_ylabel('density', fontsize = 18)\n",
    "ax.tick_params(axis='both', which='major', labelsize=14)\n",
    "sns.despine(left=False, bottom=False)"
   ]
  },
  {
   "cell_type": "markdown",
   "id": "7dd717a4",
   "metadata": {},
   "source": [
    "Repeat this for RdRp mutations"
   ]
  },
  {
   "cell_type": "code",
   "execution_count": 99,
   "id": "b6881199",
   "metadata": {},
   "outputs": [],
   "source": [
    "root_date = tree.root.node_attrs['num_date']['value']\n",
    "\n",
    "# keep track of parts of paths that have already been considered\n",
    "paths_segments_already_used_rdrp = []\n",
    "\n",
    "# keep track of nodes (with multiple S1 mutations) where the wait times \n",
    "# of 0 (between those mutations) have already been counted\n",
    "wait_times_already_counted_at_node_rdrp = []\n",
    "\n",
    "# store all wait times between observed mutations\n",
    "all_wait_times_rdrp = []\n",
    "\n",
    "\n",
    "for node in tree.find_clades(terminal=False):\n",
    "    \n",
    "    if node.name != 'Kazakhstan/NRL-KZY-273S/2021':\n",
    "\n",
    "        node_path = get_parent(tree, node)\n",
    "        \n",
    "        # find the branch length (in decimal years) between node and previous node\n",
    "        path_dates = [n.node_attrs['num_date']['value'] for n in node_path]\n",
    "    \n",
    "        if len(path_dates) > 0:\n",
    "            path_dates_with_root = [root_date] + path_dates\n",
    "            branch_lengths = [j-i for i, j in zip(path_dates_with_root[:-1], path_dates_with_root[1:])]\n",
    "\n",
    "            \n",
    "        rdrp_muts_on_path = [n.rdrp_muts_at_node for n in node_path]\n",
    "\n",
    "        rdrp_mut_indicies = [i for i, num_rdrp in enumerate(rdrp_muts_on_path) if num_rdrp!=0]\n",
    "\n",
    "        # count wait time from root until first mutation(s)\n",
    "        if len(rdrp_mut_indicies) == 1:\n",
    "            A_name = node_path[rdrp_mut_indicies[0]].name\n",
    "            root_name = node_path[0].name\n",
    "\n",
    "            if [root_name, A_name] not in paths_segments_already_used_rdrp:\n",
    "                num_muts_A = rdrp_muts_on_path[rdrp_mut_indicies[0]]\n",
    "                \n",
    "                # pick date for branch A randomly between inferred node date and previous node \n",
    "                # because mutation happened somewhere in this time window, not necessarily right at the node                \n",
    "                node_date_A = node_path[rdrp_mut_indicies[0]].node_attrs['num_date']['value']\n",
    "\n",
    "                # if there are multiple mutations at this branch, assign each of them a different random date\n",
    "                dates_A = []\n",
    "                for mut in range(num_muts_A):\n",
    "                    date_A = random.uniform(node_date_A - branch_lengths[rdrp_mut_indicies[0]], node_date_A)\n",
    "                    dates_A.append(date_A)\n",
    "                    \n",
    "                dates_A = sorted(dates_A)\n",
    "                \n",
    "                # prepend the root date\n",
    "                dates_A = [root_date] + dates_A\n",
    "\n",
    "                # find wait times between this branch and the root and between mutations on this branch\n",
    "                wait_times = [j-i for i, j in zip(dates_A[:-1], dates_A[1:])]\n",
    "                all_wait_times_rdrp+=wait_times\n",
    "\n",
    "                paths_segments_already_used_rdrp.append([root_name, A_name])\n",
    "                wait_times_already_counted_at_node_rdrp.append(A_name)\n",
    "\n",
    "\n",
    "\n",
    "        # only care if more than 1 mutation is on this path (to calculate wait time between mutations)\n",
    "        if len(rdrp_mut_indicies) > 1:\n",
    "            \n",
    "            for x in range(len(rdrp_mut_indicies) -1):\n",
    "\n",
    "                A_name = node_path[rdrp_mut_indicies[x]].name\n",
    "                B_name = node_path[rdrp_mut_indicies[x+1]].name\n",
    "\n",
    "                # only count wait times if this path segment hasn't already been counted\n",
    "                if [A_name, B_name] not in paths_segments_already_used_rdrp:\n",
    "\n",
    "                    num_muts_A = rdrp_muts_on_path[rdrp_mut_indicies[x]]\n",
    "                    num_muts_B = rdrp_muts_on_path[rdrp_mut_indicies[x+1]]\n",
    "                    \n",
    "                    # pick dates for branches A and B randomly between inferred node date and previous node \n",
    "                    # because mutation happened somewhere in this time window, not necessarily right at the node\n",
    "                    \n",
    "                    \n",
    "                    # if there are multiple mutations on these branch, assign each of them a different random date\n",
    "                    node_date_A = node_path[rdrp_mut_indicies[x]].node_attrs['num_date']['value']\n",
    "                    dates_A = []\n",
    "                    for mut in range(num_muts_A):\n",
    "                        date_A = random.uniform(node_date_A - branch_lengths[rdrp_mut_indicies[x]], node_date_A)\n",
    "                        dates_A.append(date_A)\n",
    "\n",
    "                    dates_A = sorted(dates_A)\n",
    "                    \n",
    "                    \n",
    "                    node_date_B = node_path[rdrp_mut_indicies[x+1]].node_attrs['num_date']['value']\n",
    "                    dates_B = []\n",
    "                    for mut in range(num_muts_B):\n",
    "                        date_B = random.uniform(node_date_B - branch_lengths[rdrp_mut_indicies[x+1]], node_date_B)\n",
    "                        dates_B.append(date_B)\n",
    "\n",
    "                    dates_B = sorted(dates_B)\n",
    "                    \n",
    "\n",
    "                    # find wait times between mutations on one branch\n",
    "                    # only if this node hasn't already been counted\n",
    "                    if A_name not in wait_times_already_counted_at_node_rdrp:\n",
    "                        wait_times_on_A = [j-i for i, j in zip(dates_A[:-1], dates_A[1:])]\n",
    "                        all_wait_times_rdrp+=wait_times_on_A\n",
    "                        wait_times_already_counted_at_node_rdrp.append(A_name)\n",
    "                        \n",
    "                    if B_name not in wait_times_already_counted_at_node_rdrp:\n",
    "                        wait_times_on_B = [j-i for i, j in zip(dates_B[:-1], dates_B[1:])]\n",
    "                        all_wait_times_rdrp+=wait_times_on_B\n",
    "                        wait_times_already_counted_at_node_rdrp.append(B_name)\n",
    "                    \n",
    "                    # and between latest mutation on branch A and earliest on branch B \n",
    "                    wait_time_between = dates_B[0] - dates_A[-1]\n",
    "                    all_wait_times_rdrp.append(wait_time_between)\n",
    "\n",
    "                    # add this pair of branches to the list of path segments that have already been counted\n",
    "                    paths_segments_already_used_rdrp.append([A_name, B_name])\n",
    "\n",
    "\n",
    "\n",
    "\n"
   ]
  },
  {
   "cell_type": "code",
   "execution_count": 100,
   "id": "87e57679",
   "metadata": {},
   "outputs": [
    {
     "name": "stderr",
     "output_type": "stream",
     "text": [
      "/Users/katekistler/anaconda3/envs/ncov/lib/python3.6/site-packages/seaborn/distributions.py:2551: FutureWarning: `distplot` is a deprecated function and will be removed in a future version. Please adapt your code to use either `displot` (a figure-level function with similar flexibility) or `histplot` (an axes-level function for histograms).\n",
      "  warnings.warn(msg, FutureWarning)\n"
     ]
    },
    {
     "data": {
      "image/png": "[encoded data removed]",
      "text/plain": [
       "<Figure size 576x288 with 1 Axes>"
      ]
     },
     "metadata": {
      "needs_background": "light"
     },
     "output_type": "display_data"
    }
   ],
   "source": [
    "fig, ax = plt.subplots(figsize=(8,4))\n",
    "\n",
    "# ax = sns.histplot(all_wait_times_rdrp, bins=20, color=\"#a6cee3\")\n",
    "ax = sns.distplot(all_wait_times_rdrp, kde = False, norm_hist=True, bins=20, color=\"#a6cee3\")\n",
    "\n",
    "ax.set_title('RdRp mutations', fontsize = 18)\n",
    "ax.set_xlabel('wait time', fontsize=18)\n",
    "ax.set_ylabel('density', fontsize = 18)\n",
    "ax.tick_params(axis='both', which='major', labelsize=14)\n",
    "sns.despine(left=False, bottom=False)"
   ]
  },
  {
   "cell_type": "markdown",
   "id": "5d2a06e7",
   "metadata": {},
   "source": [
    "Expect mutations to occur at the same rate through time. Mutations are expected to accumulate via a Poisson process where wait times between mutations will be exponentially distributed"
   ]
  },
  {
   "cell_type": "code",
   "execution_count": 101,
   "id": "80cd11b7",
   "metadata": {},
   "outputs": [],
   "source": [
    "empirical_s1_mean = sum(all_wait_times_s1)/len(all_wait_times_s1)\n",
    "\n",
    "# the mean of the wait time distribution should be equal to 1/lambda \n",
    "# where lambda is the rate of mutations in a Poisson process\n",
    "s1_lambda = 1/empirical_s1_mean"
   ]
  },
  {
   "cell_type": "code",
   "execution_count": 76,
   "id": "617861e6",
   "metadata": {},
   "outputs": [
    {
     "name": "stdout",
     "output_type": "stream",
     "text": [
      "0.06541752121974864\n",
      "0.09256277723211485\n"
     ]
    }
   ],
   "source": [
    "deviations_s1 = [(x - empirical_s1_mean) ** 2 for x in all_wait_times_s1]\n",
    "# Variance\n",
    "variance_s1 = sum(deviations_s1) / len(all_wait_times_s1)\n",
    "\n",
    "index_of_dispersion_s1 = variance_s1/empirical_s1_mean\n",
    "\n",
    "print(variance)\n",
    "print(1/(lambda_from_empirical**2))"
   ]
  },
  {
   "cell_type": "code",
   "execution_count": 102,
   "id": "3cf058d1",
   "metadata": {},
   "outputs": [],
   "source": [
    "empirical_rdrp_mean = sum(all_wait_times_rdrp)/len(all_wait_times_rdrp)\n",
    "\n",
    "# the mean of the wait time distribution should be equal to 1/lambda \n",
    "# where lambda is the rate of mutations in a Poisson process\n",
    "rdrp_lambda = 1/empirical_rdrp_mean"
   ]
  },
  {
   "cell_type": "code",
   "execution_count": 104,
   "id": "4bdec01a",
   "metadata": {},
   "outputs": [
    {
     "name": "stderr",
     "output_type": "stream",
     "text": [
      "/Users/katekistler/anaconda3/envs/ncov/lib/python3.6/site-packages/seaborn/distributions.py:2551: FutureWarning: `distplot` is a deprecated function and will be removed in a future version. Please adapt your code to use either `displot` (a figure-level function with similar flexibility) or `histplot` (an axes-level function for histograms).\n",
      "  warnings.warn(msg, FutureWarning)\n"
     ]
    },
    {
     "data": {
      "image/png": "[encoded data removed]",
      "text/plain": [
       "<Figure size 576x288 with 1 Axes>"
      ]
     },
     "metadata": {
      "needs_background": "light"
     },
     "output_type": "display_data"
    }
   ],
   "source": [
    "x = np.linspace(0, last_timepoint-first_timepoint, 100)\n",
    "y = s1_lambda * np.exp(-s1_lambda * x)\n",
    "\n",
    "fig, ax = plt.subplots(figsize=(8,4))\n",
    "\n",
    "ax = sns.distplot(all_wait_times_s1, kde = False, norm_hist=True, color=\"#1f78b4\")\n",
    "plt.plot(x,y, color='black')\n",
    "\n",
    "ax.set_title('S1 mutations', fontsize = 18)\n",
    "ax.set_xlabel('wait time', fontsize=18)\n",
    "ax.set_ylabel('density', fontsize = 18)\n",
    "ax.tick_params(axis='both', which='major', labelsize=14)\n",
    "sns.despine(left=False, bottom=False)"
   ]
  },
  {
   "cell_type": "code",
   "execution_count": null,
   "id": "487f17e3",
   "metadata": {},
   "outputs": [],
   "source": []
  },
  {
   "cell_type": "code",
   "execution_count": 105,
   "id": "2b993e05",
   "metadata": {},
   "outputs": [],
   "source": [
    "# total time in years\n",
    "total_time = last_timepoint - first_timepoint\n",
    "\n",
    "# pick occurrence times for each of the S1 mutations\n",
    "random_dates = []\n",
    "for x in range(total_s1_muts):\n",
    "    random_dates.append(random.uniform(0,total_time))\n",
    "    \n",
    "random_dates = [0] + sorted(random_dates)\n",
    "\n",
    "random_wait_times = [j-i for i, j in zip(random_dates[:-1], random_dates[1:])]\n",
    "\n",
    "mean_random = sum(random_wait_times)/len(random_wait_times)\n",
    "deviations_random = [(x - mean_random) ** 2 for x in random_wait_times]\n",
    "# Variance\n",
    "variance_random = sum(deviations_random) / len(random_wait_times)"
   ]
  },
  {
   "cell_type": "code",
   "execution_count": 106,
   "id": "094e6e40",
   "metadata": {},
   "outputs": [
    {
     "data": {
      "image/png": "[encoded data removed]",
      "text/plain": [
       "<Figure size 432x288 with 1 Axes>"
      ]
     },
     "metadata": {
      "needs_background": "light"
     },
     "output_type": "display_data"
    }
   ],
   "source": [
    "ax = sns.histplot(random_wait_times, bins=20, color=\"#a6cee3\")"
   ]
  }
 ],
 "metadata": {
  "kernelspec": {
   "display_name": "ncov-kernel",
   "language": "python",
   "name": "ncov-kernel"
  },
  "language_info": {
   "codemirror_mode": {
    "name": "ipython",
    "version": 3
   },
   "file_extension": ".py",
   "mimetype": "text/x-python",
   "name": "python",
   "nbconvert_exporter": "python",
   "pygments_lexer": "ipython3",
   "version": "3.6.13"
  }
 },
 "nbformat": 4,
 "nbformat_minor": 5
}
