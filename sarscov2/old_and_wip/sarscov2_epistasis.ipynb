{
 "cells": [
  {
   "cell_type": "code",
   "execution_count": 71,
   "metadata": {},
   "outputs": [],
   "source": [
    "from augur.utils import json_to_tree\n",
    "import matplotlib.pyplot as plt\n",
    "import seaborn as sns\n",
    "import numpy as np\n",
    "import pandas as pd\n",
    "import itertools\n",
    "import requests\n",
    "import collections\n",
    "import math\n",
    "\n",
    "%matplotlib inline"
   ]
  },
  {
   "cell_type": "code",
   "execution_count": 2,
   "metadata": {},
   "outputs": [],
   "source": [
    "#Download tree json\n",
    "tree_url = \"https://data.nextstrain.org/ncov_global.json\"\n",
    "\n",
    "tree_json = requests.get(tree_url).json()\n",
    "\n",
    "#Put tree in Bio.Phylo format\n",
    "tree = json_to_tree(tree_json)"
   ]
  },
  {
   "cell_type": "markdown",
   "metadata": {},
   "source": [
    "Walking from root to tip, make list of substitutions that occur sequentially "
   ]
  },
  {
   "cell_type": "code",
   "execution_count": 153,
   "metadata": {},
   "outputs": [],
   "source": [
    "def get_parent(tree, child_clade):\n",
    "    node_path = tree.get_path(child_clade)\n",
    "    return node_path\n",
    "\n",
    "\n",
    "all_paths = []\n",
    "node_muts = {}\n",
    "\n",
    "for node in tree.find_clades(terminal=True):\n",
    "    node_path = get_parent(tree, node)\n",
    "    node_names_path = [x.name for x in node_path]\n",
    "    all_paths.append(node_names_path)\n",
    "    \n",
    "    for parent in node_path:\n",
    "        if hasattr(parent, \"branch_attrs\") and \"mutations\" in parent.branch_attrs:\n",
    "            if \"S\" in parent.branch_attrs[\"mutations\"]:   \n",
    "                node_muts[parent.name] = {'spike_muts': parent.branch_attrs[\"mutations\"][\"S\"], \n",
    "                                          'num_date': parent.node_attrs['num_date']['value']}\n",
    "\n",
    "nodes_w_muts = list(node_muts.keys())\n",
    "\n",
    "#pare down all_paths to only include nodes with spike mutations\n",
    "#and only include paths with at least 2 spike mutations since we care about pairs\n",
    "all_paths_spikemutnodesonly = []\n",
    "for path in all_paths:\n",
    "    spikemutsonly_path = []\n",
    "    for x in path:\n",
    "        if x in nodes_w_muts:\n",
    "            spikemutsonly_path+=[x]\n",
    "    if len(spikemutsonly_path)>=1:\n",
    "        all_paths_spikemutnodesonly.append(spikemutsonly_path)\n",
    "    \n",
    "\n",
    "#find all unique pairs of nodes that occur sequentially in phylogeny and have spike mutations\n",
    "unique_node_pairs = []\n",
    "for path in all_paths_spikemutnodesonly:\n",
    "    ordered_pairwise_combos = itertools.combinations(path, 2)\n",
    "    for pair in ordered_pairwise_combos:\n",
    "        if pair not in unique_node_pairs:\n",
    "            unique_node_pairs.append(pair)\n",
    "            \n",
    "#translate each pair from node names into mutations and time difference\n",
    "#some node pairs will have several mutations\n",
    "#make sure order of mutations is preserved\n",
    "spike_mut_pairs = {}\n",
    "spike_pos_pairs = {}\n",
    "all_spike_pairs_list = []\n",
    "all_spike_pos_pairs_list = []\n",
    "all_time_diffs = []\n",
    "count = 1\n",
    "for pair in unique_node_pairs:\n",
    "    time_diff = node_muts[pair[1]]['num_date'] - node_muts[pair[0]]['num_date']\n",
    "    all_time_diffs.append(time_diff)\n",
    "    mut_pairs_for_these_nodes = [(x,y) for x in node_muts[pair[0]]['spike_muts'] for y in node_muts[pair[1]]['spike_muts']]\n",
    "    for y in mut_pairs_for_these_nodes:\n",
    "        mut_pos = (y[0][1:-1], y[1][1:-1])\n",
    "        spike_mut_pairs[count] = {'mut_pair': y, 'time_between_muts':time_diff}\n",
    "        spike_pos_pairs[count] = {'mut_pair': mut_pos, 'time_between_muts':time_diff}\n",
    "        all_spike_pairs_list.append(y)\n",
    "        all_spike_pos_pairs_list.append(mut_pos)\n",
    "        count+=1\n"
   ]
  },
  {
   "cell_type": "markdown",
   "metadata": {},
   "source": [
    "Find distribution of times between pairs of mutations"
   ]
  },
  {
   "cell_type": "code",
   "execution_count": 88,
   "metadata": {},
   "outputs": [
    {
     "data": {
      "text/plain": [
       "(array([ 4.,  7., 19., 21., 27., 30., 28., 40., 35., 34., 41., 54., 58.,\n",
       "        50., 70., 65., 52., 76., 67., 56., 55., 67., 60., 43., 50., 40.,\n",
       "        46., 43., 41., 43., 42., 37., 45., 40., 59., 87., 93., 50., 58.,\n",
       "        68., 71., 57., 74., 38., 43., 51., 37., 48., 26.,  5.]),\n",
       " array([0.01067507, 0.03317756, 0.05568006, 0.07818256, 0.10068505,\n",
       "        0.12318755, 0.14569004, 0.16819254, 0.19069504, 0.21319753,\n",
       "        0.23570003, 0.25820253, 0.28070502, 0.30320752, 0.32571001,\n",
       "        0.34821251, 0.37071501, 0.3932175 , 0.41572   , 0.4382225 ,\n",
       "        0.46072499, 0.48322749, 0.50572998, 0.52823248, 0.55073498,\n",
       "        0.57323747, 0.59573997, 0.61824247, 0.64074496, 0.66324746,\n",
       "        0.68574995, 0.70825245, 0.73075495, 0.75325744, 0.77575994,\n",
       "        0.79826244, 0.82076493, 0.84326743, 0.86576993, 0.88827242,\n",
       "        0.91077492, 0.93327741, 0.95577991, 0.97828241, 1.0007849 ,\n",
       "        1.0232874 , 1.0457899 , 1.06829239, 1.09079489, 1.11329738,\n",
       "        1.13579988]),\n",
       " <a list of 50 Patch objects>)"
      ]
     },
     "execution_count": 88,
     "metadata": {},
     "output_type": "execute_result"
    },
    {
     "data": {
      "image/png": "[encoded data removed]",
      "text/plain": [
       "<Figure size 432x288 with 1 Axes>"
      ]
     },
     "metadata": {
      "needs_background": "light"
     },
     "output_type": "display_data"
    }
   ],
   "source": [
    "plt.hist(all_time_diffs, bins=50)"
   ]
  },
  {
   "cell_type": "markdown",
   "metadata": {},
   "source": [
    "For each pair of mutations, find the average time between their occurence. Find which mutation pairs occur sequentially most rapidly"
   ]
  },
  {
   "cell_type": "code",
   "execution_count": 158,
   "metadata": {},
   "outputs": [],
   "source": [
    "#only look at pairs that occur at least twice in tree\n",
    "def average_time_between(mut_or_pos, occurences):\n",
    "    if mut_or_pos == 'mut':\n",
    "        pair_list = all_spike_pairs_list\n",
    "        pair_dict = spike_mut_pairs\n",
    "    elif mut_or_pos == 'pos':\n",
    "        pair_list = all_spike_pos_pairs_list\n",
    "        pair_dict = spike_pos_pairs\n",
    "    all_observed_mut_combos = [k for k, v in collections.Counter(pair_list).items() if int(v)>=occurences]\n",
    "\n",
    "    mean_time_between_muts = []\n",
    "\n",
    "    for combo in all_observed_mut_combos:\n",
    "        combo_time_diffs = []\n",
    "        for k, v in pair_dict.items():\n",
    "            if v['mut_pair'] == combo:\n",
    "                combo_time_diffs.append(v['time_between_muts'])\n",
    "        avg_time_diff = sum(combo_time_diffs)/len(combo_time_diffs)\n",
    "        mean_time_between_muts.append({'mut_pair': combo, 'mean_time_diff':avg_time_diff, \n",
    "                                       'occurence_of_pair':len(combo_time_diffs)})\n",
    "\n",
    "    mean_time_df = pd.DataFrame(mean_time_between_muts)\n",
    "    \n",
    "    print(mean_time_df.nsmallest(20, ['mean_time_diff']))"
   ]
  },
  {
   "cell_type": "code",
   "execution_count": 165,
   "metadata": {},
   "outputs": [
    {
     "name": "stdout",
     "output_type": "stream",
     "text": [
      "            mut_pair  mean_time_diff  occurence_of_pair\n",
      "182     (A570D, L5F)        0.255328                  3\n",
      "183     (P681H, L5F)        0.255328                  3\n",
      "184     (T716I, L5F)        0.255328                  3\n",
      "185    (D1118H, L5F)        0.255328                  3\n",
      "192   (A570D, A982S)        0.319007                  3\n",
      "193   (P681H, A982S)        0.319007                  3\n",
      "194   (T716I, A982S)        0.319007                  3\n",
      "195  (D1118H, A982S)        0.319007                  3\n",
      "157   (L242-, -243A)        0.319716                  3\n",
      "160   (A243-, -243A)        0.319716                  3\n",
      "153   (L241-, -241L)        0.352076                  3\n",
      "155   (L242-, -241L)        0.352076                  3\n",
      "158   (A243-, -241L)        0.352076                  3\n",
      "161   (E484K, -241L)        0.352076                  3\n",
      "125     (H69-, S98F)        0.357946                  3\n",
      "126     (V70-, S98F)        0.357946                  3\n",
      "156   (L242-, -242L)        0.363862                  4\n",
      "159   (A243-, -242L)        0.363862                  4\n",
      "181     (S982A, L5F)        0.368418                  3\n",
      "127      (H69-, L5F)        0.371759                  4\n"
     ]
    }
   ],
   "source": [
    "average_time_between('mut', 3)"
   ]
  },
  {
   "cell_type": "markdown",
   "metadata": {},
   "source": [
    "Look for enrichment of cooccurence"
   ]
  },
  {
   "cell_type": "code",
   "execution_count": null,
   "metadata": {},
   "outputs": [],
   "source": [
    "sequences_url = \"https://data.nextstrain.org/ncov_global-sequences.json\"\n",
    "\n",
    "frequencies = requests.get(frequencies_url)"
   ]
  },
  {
   "cell_type": "code",
   "execution_count": null,
   "metadata": {},
   "outputs": [],
   "source": []
  }
 ],
 "metadata": {
  "kernelspec": {
   "display_name": "Python 3",
   "language": "python",
   "name": "python3"
  },
  "language_info": {
   "codemirror_mode": {
    "name": "ipython",
    "version": 3
   },
   "file_extension": ".py",
   "mimetype": "text/x-python",
   "name": "python",
   "nbconvert_exporter": "python",
   "pygments_lexer": "ipython3",
   "version": "3.6.10"
  }
 },
 "nbformat": 4,
 "nbformat_minor": 4
}
