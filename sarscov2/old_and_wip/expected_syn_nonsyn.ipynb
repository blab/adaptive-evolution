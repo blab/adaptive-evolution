{
 "cells": [
  {
   "cell_type": "code",
   "execution_count": 6,
   "id": "29897c71",
   "metadata": {},
   "outputs": [],
   "source": [
    "from Bio import SeqIO\n",
    "from Bio.Seq import Seq\n",
    "from itertools import combinations"
   ]
  },
  {
   "cell_type": "code",
   "execution_count": 10,
   "id": "39975dfa",
   "metadata": {},
   "outputs": [],
   "source": [
    "nucleotides = ['A', 'C', 'G', 'T']\n",
    "\n",
    "codons = []\n",
    "for x in nucleotides:\n",
    "    for y in nucleotides:\n",
    "        for z in nucleotides:\n",
    "            codon = f'{x}{y}{z}'\n",
    "            codons.append(codon)\n",
    "            "
   ]
  },
  {
   "cell_type": "code",
   "execution_count": 17,
   "id": "60a61899",
   "metadata": {},
   "outputs": [],
   "source": [
    "syn = 0\n",
    "nonsyn = 0\n",
    "for codon in codons:\n",
    "    codon_aa = Seq(codon).translate()\n",
    "    \n",
    "    for pos in range(len(codon)):\n",
    "        nt_at_pos = codon[pos]\n",
    "        for x in nucleotides:\n",
    "            if x !=nt_at_pos:\n",
    "                mutated_codon = list(codon)\n",
    "                mutated_codon[pos] = x\n",
    "                mutated_codon = \"\".join(mutated_codon)\n",
    "                mutated_codon_aa = Seq(mutated_codon).translate()\n",
    "                \n",
    "                if mutated_codon_aa == codon_aa:\n",
    "                    syn+=1\n",
    "                elif mutated_codon_aa != codon_aa:\n",
    "                    nonsyn+=1\n"
   ]
  },
  {
   "cell_type": "code",
   "execution_count": 19,
   "id": "699d29cf",
   "metadata": {},
   "outputs": [
    {
     "name": "stdout",
     "output_type": "stream",
     "text": [
      "138 438\n"
     ]
    }
   ],
   "source": [
    "print(syn, nonsyn)"
   ]
  },
  {
   "cell_type": "code",
   "execution_count": null,
   "id": "42680ed0",
   "metadata": {},
   "outputs": [],
   "source": []
  }
 ],
 "metadata": {
  "kernelspec": {
   "display_name": "Python 3",
   "language": "python",
   "name": "python3"
  },
  "language_info": {
   "codemirror_mode": {
    "name": "ipython",
    "version": 3
   },
   "file_extension": ".py",
   "mimetype": "text/x-python",
   "name": "python",
   "nbconvert_exporter": "python",
   "pygments_lexer": "ipython3",
   "version": "3.6.10"
  }
 },
 "nbformat": 4,
 "nbformat_minor": 5
}
