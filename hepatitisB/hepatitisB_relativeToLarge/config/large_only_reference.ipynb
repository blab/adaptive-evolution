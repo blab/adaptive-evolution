{
 "cells": [
  {
   "cell_type": "code",
   "execution_count": 3,
   "id": "a97283af",
   "metadata": {},
   "outputs": [],
   "source": [
    "from Bio.Seq import Seq\n",
    "from Bio import SeqIO\n",
    "from Bio.SeqRecord import SeqRecord\n",
    "from Bio.SeqFeature import SeqFeature, FeatureLocation"
   ]
  },
  {
   "cell_type": "markdown",
   "id": "c9282758",
   "metadata": {},
   "source": [
    "Because the nextstrain build can't deal with translating the circular genome, adjust the reference coordinates so that Large doesn't wrap around the \"end\" of the genome. Will only be able to get the aa muts for Large, not other proteins this way"
   ]
  },
  {
   "cell_type": "code",
   "execution_count": 9,
   "id": "9054a7f2",
   "metadata": {},
   "outputs": [],
   "source": [
    "def make_ref_and_data_files_relative_to_Large_start(subtype):\n",
    "\n",
    "    ref_path = f'reference_hepatitisB_{subtype}_orig.gb'  \n",
    "    for record in SeqIO.parse(open(ref_path,\"r\"), \"genbank\"):\n",
    "        original_length = len(record.seq)\n",
    "        original_seq = record.seq\n",
    "        for feature in record.features:\n",
    "            if feature.type == 'CDS':\n",
    "                if feature.qualifiers['locus_tag'][0] == 'Large':\n",
    "                    Large_location = feature.location\n",
    "                    Large_start = feature.location.parts[0].start\n",
    "                    Large_end = feature.location.parts[1].end\n",
    "                    Large_seq = Large_location.extract(original_seq)\n",
    "                    #get the genomic sequence between the end of Large until it starts again (circular genome)\n",
    "                    seq_after_LargeEnd_until_LargeStart = SeqFeature(FeatureLocation(Large_end, Large_start)).extract(original_seq)                \n",
    "                    genome_starting_from_Large= Large_seq+seq_after_LargeEnd_until_LargeStart\n",
    "      \n",
    "    #write new genbank file, where the genome starts from the beginning of Large\n",
    "    genome_seq = Seq(genome_starting_from_Large)\n",
    "    \n",
    "    ref_id_by_subtype= {'D3':'JF754591', 'A2':'JN182318'}\n",
    "    record = SeqRecord(genome_seq,\n",
    "                       id=ref_id_by_subtype[subtype], \n",
    "                       name=f'HepatitisB_{subtype}',\n",
    "                       description=f'HepatitisB {subtype}, coordinates starting from the beginning of Large',\n",
    "                       annotations={\"molecule_type\": \"DNA\"})\n",
    "\n",
    "    # Add source annotation\n",
    "    feature = SeqFeature(FeatureLocation(start=0, end=len(genome_seq)), type='source')\n",
    "    record.features.append(feature)\n",
    "\n",
    "    # Add Large annotation\n",
    "    Large_feature = SeqFeature(FeatureLocation(start=0, end=len(Large_seq)), type='CDS', qualifiers= {'gene':'Large'})\n",
    "    record.features.append(Large_feature)\n",
    "\n",
    "    # Save as GenBank file\n",
    "    output_file = open(f'reference_hepatitisB_{subtype}.gb', 'w')\n",
    "    SeqIO.write(record, output_file, 'genbank')\n",
    "    \n",
    "    #change all input sequences to same coordinates\n",
    "    data_path = f\"../data/aligned_hepatitisB_{subtype}.fasta\"\n",
    "    #get header line from original data file\n",
    "    original_data = f\"../data/hepatitisB_{subtype}_original.fasta\"\n",
    "    #make dict to make accession to all other header info\n",
    "    header_mapper = {}\n",
    "    for record in SeqIO.parse(open(original_data,\"r\"), \"fasta\"):\n",
    "        header_mapper[record.id.split('|')[0]]= record.description\n",
    "\n",
    "    new_records = []\n",
    "    for record in SeqIO.parse(open(data_path,\"r\"), \"fasta\"):\n",
    "        new_coordinates_seq = Large_location.extract(record.seq)+SeqFeature(FeatureLocation(Large_end, Large_start)).extract(record.seq)\n",
    "        header_info = header_mapper[record.id]\n",
    "        new_records.append(SeqRecord(Seq(new_coordinates_seq), id=header_info, description=''))\n",
    "    SeqIO.write(new_records, f\"../data/hepatitisB_{subtype}.fasta\", \"fasta\")\n",
    "\n",
    "                "
   ]
  },
  {
   "cell_type": "code",
   "execution_count": 10,
   "id": "4a59c9d5",
   "metadata": {},
   "outputs": [],
   "source": [
    "make_ref_and_data_files_relative_to_Large_start('A2')"
   ]
  },
  {
   "cell_type": "code",
   "execution_count": null,
   "id": "fff8c7ca",
   "metadata": {},
   "outputs": [],
   "source": []
  }
 ],
 "metadata": {
  "kernelspec": {
   "display_name": "Python 3 (ipykernel)",
   "language": "python",
   "name": "python3"
  },
  "language_info": {
   "codemirror_mode": {
    "name": "ipython",
    "version": 3
   },
   "file_extension": ".py",
   "mimetype": "text/x-python",
   "name": "python",
   "nbconvert_exporter": "python",
   "pygments_lexer": "ipython3",
   "version": "3.9.7"
  }
 },
 "nbformat": 4,
 "nbformat_minor": 5
}
