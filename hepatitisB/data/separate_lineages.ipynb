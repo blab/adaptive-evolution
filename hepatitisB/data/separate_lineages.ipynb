{
 "cells": [
  {
   "cell_type": "code",
   "execution_count": null,
   "id": "7d9386f2",
   "metadata": {},
   "outputs": [],
   "source": [
    "#Make separate data files for each lineage"
   ]
  },
  {
   "cell_type": "code",
   "execution_count": 2,
   "id": "0f894de2",
   "metadata": {},
   "outputs": [],
   "source": [
    "from Bio import SeqIO\n",
    "from Bio.Seq import Seq\n",
    "from Bio.SeqRecord import SeqRecord\n",
    "from augur.utils import json_to_tree\n",
    "import json"
   ]
  },
  {
   "cell_type": "code",
   "execution_count": 15,
   "id": "5905cdb3",
   "metadata": {},
   "outputs": [],
   "source": [
    "#need to look at tree json file to find the branch name for the common ancestor of the different lineages\n",
    "#format of dict {lineage:common_ancestor}\n",
    "\n",
    "\n",
    "subgenotype_ancestors = {'A2': 'NODE_0000405', 'D3':'NODE_0001139'}"
   ]
  },
  {
   "cell_type": "code",
   "execution_count": 16,
   "id": "3545c819",
   "metadata": {},
   "outputs": [],
   "source": [
    "for subgenotype, ca in subgenotype_ancestors.items():\n",
    "    genotype = subgenotype[0]\n",
    "    #read in tree\n",
    "    with open(f'../auspice/hepatitisB_{genotype}.json', 'r') as f:\n",
    "        tree_json = json.load(f)\n",
    "\n",
    "    #Put tree in Bio.Phylo format\n",
    "    tree = json_to_tree(tree_json)\n",
    "    \n",
    "    #store all tip names for each subgenotype\n",
    "    tips_in_this_subgenotype = []\n",
    "\n",
    "    \n",
    "    #find tips descending from common ancestor branch of the lineages\n",
    "    for node in tree.find_clades(terminal=True):\n",
    "        parents = [x.name for x in tree.get_path(node)]\n",
    "        if ca in parents:\n",
    "            tips_in_this_subgenotype.append(node.name)\n",
    "            \n",
    "    seq_records = []\n",
    "\n",
    "    #exclude samples that are called a different subgenotype in the genbank file\n",
    "    for record in SeqIO.parse(open(f\"hepatitisB_{genotype}.fasta\",\"r\"), \"fasta\"):\n",
    "        accession = record.description.split('|')[0]\n",
    "        #check for the tips that cluster with this subgenotype\n",
    "        if accession in tips_in_this_subgenotype:\n",
    "            sub = record.description.split('|')[6]\n",
    "            #find whether they have a different annotation\n",
    "            if sub == subgenotype or sub == 'None':\n",
    "                seq_records.append(SeqRecord(record.seq, id=record.description, description=''))\n",
    "        \n",
    "        \n",
    "    SeqIO.write(seq_records, f'hepatitisB_{subgenotype}.fasta', \"fasta\")"
   ]
  },
  {
   "cell_type": "code",
   "execution_count": null,
   "id": "f4f96b90",
   "metadata": {},
   "outputs": [],
   "source": []
  },
  {
   "cell_type": "code",
   "execution_count": null,
   "id": "d45a9bd8",
   "metadata": {},
   "outputs": [],
   "source": []
  }
 ],
 "metadata": {
  "kernelspec": {
   "display_name": "Python 3 (ipykernel)",
   "language": "python",
   "name": "python3"
  },
  "language_info": {
   "codemirror_mode": {
    "name": "ipython",
    "version": 3
   },
   "file_extension": ".py",
   "mimetype": "text/x-python",
   "name": "python",
   "nbconvert_exporter": "python",
   "pygments_lexer": "ipython3",
   "version": "3.9.7"
  }
 },
 "nbformat": 4,
 "nbformat_minor": 5
}
