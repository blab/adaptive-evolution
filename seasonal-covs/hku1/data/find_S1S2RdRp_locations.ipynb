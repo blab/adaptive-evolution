{
 "cells": [
  {
   "cell_type": "code",
   "execution_count": 1,
   "id": "12fd7a0b",
   "metadata": {},
   "outputs": [],
   "source": [
    "from Bio import SeqIO"
   ]
  },
  {
   "cell_type": "markdown",
   "id": "0f17b4d5",
   "metadata": {},
   "source": [
    "Find the positions of RdRp, S1 and S2 and add them to the reference file"
   ]
  },
  {
   "cell_type": "code",
   "execution_count": 2,
   "id": "b2886d42",
   "metadata": {},
   "outputs": [],
   "source": [
    "new_reference_file = '../config/reference_hku1_genome.gb'"
   ]
  },
  {
   "cell_type": "code",
   "execution_count": 3,
   "id": "9c73d76f",
   "metadata": {},
   "outputs": [],
   "source": [
    "old_rdrp_ref_file = '../../../seasonal-cov_eLifepaper/hku1/config/hku1_rdrp_reference.gb'\n",
    "\n",
    "for record in SeqIO.parse(open(old_rdrp_ref_file,\"r\"), \"genbank\"):\n",
    "    rdrp_nt_oldreference = record.seq\n",
    "    rdrp_aa_oldreference = record.seq.translate()\n"
   ]
  },
  {
   "cell_type": "code",
   "execution_count": 4,
   "id": "14e66789",
   "metadata": {},
   "outputs": [],
   "source": [
    "old_s1_ref_file = '../../../seasonal-cov_eLifepaper/hku1/config/hku1_s1_reference.gb'\n",
    "\n",
    "for record in SeqIO.parse(open(old_s1_ref_file,\"r\"), \"genbank\"):\n",
    "    s1_nt_oldreference = record.seq\n",
    "    s1_aa_oldreference = record.seq.translate()\n"
   ]
  },
  {
   "cell_type": "code",
   "execution_count": 5,
   "id": "7c12e3c9",
   "metadata": {},
   "outputs": [],
   "source": [
    "old_s2_ref_file = '../../../seasonal-cov_eLifepaper/hku1/config/hku1_s2_reference.gb'\n",
    "\n",
    "for record in SeqIO.parse(open(old_s2_ref_file,\"r\"), \"genbank\"):\n",
    "    s2_nt_oldreference = record.seq\n",
    "    s2_aa_oldreference = record.seq.translate()\n"
   ]
  },
  {
   "cell_type": "code",
   "execution_count": 16,
   "id": "0169ee3d",
   "metadata": {},
   "outputs": [
    {
     "name": "stdout",
     "output_type": "stream",
     "text": [
      "2244\n"
     ]
    }
   ],
   "source": [
    "print(len(s1_nt_oldreference))"
   ]
  },
  {
   "cell_type": "code",
   "execution_count": 20,
   "id": "382e3c6c",
   "metadata": {},
   "outputs": [
    {
     "name": "stdout",
     "output_type": "stream",
     "text": [
      "AVIGDFNCTNFAINDLNTTVPRISEYVVDVSYGLGTYYILDRVYLNTTILFTGYFPKSGANFRDLSLKGTTYLSTLWYQKPFLSDFNNGIFSRVKNTKLYVNKTLYSEFSTIVIGSVFINNSYTIVVQPHNGVLEITACQYTMCEYPHTICKSKGSSRNESWHFDKSEPLCLFKKNFTYNVSTDWLYFHFYQERGTFYAYYADSGMPTTFLFSLYLGTLLSHYYVLPLTCNAISSNTDNETLQYWVTPLSKRQYLLKFDNRGVITNAVDCSSSFFSEIQCKTKSLLPNTGVYDLSGFTVKPVATVHRRIPDLPDCDIDKWLNNFNVPSPLNWERKIFSNCNFNLSTLLRLVHTDSFSCNNFDESKIYGSCFKSIVLDKFAIPNSRRSDLQLGSSGFLQSSNYKIDTTSSSCQLYYSLPAINVTINNYNPSSWNRRYGFNNFNLSSHSVVYSRYCFSVNNTFCPCAKPSFASSCKSHKPPSASCPIGTNYRSCESTTVLDHTDWCRCSCLPDPITAYDPRSCSQKKSLVGVGEHCAGFGVDEEKCGVLDGSYNVSCLCSTDAFLGWSYDTCVSNNRCNIFSNFILNGINSGTTCSNDLLQPNTEVFTDVCVDYDLYGITGQGIFKEVSAVYYNSWQNLLYDSNGNIIGFKDFVTNKTYNIFPCYAGRVSAAFHQNASSLALLYRNLKCSYVLNNISLTTQPYFDSYLGCVFNADNLTDYSVSSCALRMGSGFCVDYNSPSSSSSRRKRR\n",
      "748.0\n"
     ]
    }
   ],
   "source": [
    "for record in SeqIO.parse(open(new_reference_file,\"r\"), \"genbank\"):\n",
    "    for feature in record.features:\n",
    "        if feature.type == 'CDS':\n",
    "            if 'locus_tag' in feature.qualifiers:\n",
    "                if feature.qualifiers['locus_tag'] == ['ORF1ab']:\n",
    "                    orf1ab_translation = feature.qualifiers['translation'][0]\n",
    "                    orf1ab_seq = feature.location.extract(record.seq)\n",
    "                    \n",
    "                    rdrp_start = feature.location.start+13371+1\n",
    "                    rdrp_end = feature.location.start+13371+2784\n",
    "\n",
    "\n",
    "\n",
    "#                 if feature.qualifiers['locus_tag'] == ['RdRp']:\n",
    "#                     print(feature.location.extract(record.seq).translate())\n",
    "#                     print(len(feature.location.extract(record.seq))/3)\n",
    "\n",
    "                if feature.qualifiers['locus_tag'] == ['Spike']:\n",
    "                    spike_seq = feature.location.extract(record.seq)\n",
    "                    s1_start = feature.location.start + 36 + 1\n",
    "                    s1_end = feature.location.start + 36 + 2244\n",
    "\n",
    "\n",
    "                if feature.qualifiers['locus_tag'] == ['S1']:\n",
    "                    print(feature.location.extract(record.seq).translate())\n",
    "                    print(len(feature.location.extract(record.seq))/3)"
   ]
  },
  {
   "cell_type": "code",
   "execution_count": null,
   "id": "f9335c4c",
   "metadata": {},
   "outputs": [],
   "source": []
  },
  {
   "cell_type": "code",
   "execution_count": null,
   "id": "85f16f47",
   "metadata": {},
   "outputs": [],
   "source": []
  }
 ],
 "metadata": {
  "kernelspec": {
   "display_name": "Python 3 (ipykernel)",
   "language": "python",
   "name": "python3"
  },
  "language_info": {
   "codemirror_mode": {
    "name": "ipython",
    "version": 3
   },
   "file_extension": ".py",
   "mimetype": "text/x-python",
   "name": "python",
   "nbconvert_exporter": "python",
   "pygments_lexer": "ipython3",
   "version": "3.9.7"
  }
 },
 "nbformat": 4,
 "nbformat_minor": 5
}
