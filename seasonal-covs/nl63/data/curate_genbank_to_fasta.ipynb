{
 "cells": [
  {
   "cell_type": "code",
   "execution_count": 2,
   "id": "d1d9ebdd",
   "metadata": {},
   "outputs": [],
   "source": [
    "from Bio import SeqIO\n",
    "from Bio.Seq import Seq\n",
    "from Bio.SeqRecord import SeqRecord\n",
    "from dateutil.parser import parse\n",
    "from collections import Counter\n",
    "from dateutil import parser\n",
    "import re"
   ]
  },
  {
   "cell_type": "code",
   "execution_count": 6,
   "id": "c0064f75",
   "metadata": {
    "scrolled": false
   },
   "outputs": [
    {
     "data": {
      "text/plain": [
       "88"
      ]
     },
     "execution_count": 6,
     "metadata": {},
     "output_type": "execute_result"
    }
   ],
   "source": [
    "#sequence data downloaded as a multi-genbank file\n",
    "#compile all sequences into a fasta file with header: accession|strain_name|date|country|host\n",
    "#Put date in 'yyyy-mm-dd' format\n",
    "\n",
    "\n",
    "\n",
    "#store all edited sequence records\n",
    "seq_records = []\n",
    "for record in SeqIO.parse(open(f\"genbank_sequences.gb\",\"r\"), \"genbank\"):\n",
    "    \n",
    "    accession = record.annotations['accessions'][0]\n",
    "    collection_date, strain_name, country, host = 'None', 'None', 'None', 'None'\n",
    "    #exclude patent and synthetic sequences, that are not clinical isolates\n",
    "    if record.annotations['data_file_division'] not in ['PAT', 'SYN']:\n",
    "        \n",
    "        for feature in record.features:\n",
    "            if 'collection_date' in feature.qualifiers:\n",
    "                collection_date = feature.qualifiers['collection_date'][0]   \n",
    "            if 'strain' in feature.qualifiers:\n",
    "                strain_name = feature.qualifiers['strain'][0]\n",
    "            if 'country' in feature.qualifiers:\n",
    "                country = feature.qualifiers['country'][0]\n",
    "            if 'host' in feature.qualifiers:\n",
    "                host = feature.qualifiers['host'][0]\n",
    "            if 'organism' in feature.qualifiers:\n",
    "                if 'Simian' in feature.qualifiers['organism'][0]:\n",
    "                    host = 'Simian'\n",
    "            if 'Simian' in record.description:\n",
    "                host = 'Simian'\n",
    "        \n",
    "        #keep just country information, not state/sub-country-region\n",
    "        if ':' in country:\n",
    "            country = country.split(':')[0]\n",
    "                \n",
    "\n",
    "        if collection_date == 'None':\n",
    "            collection_date = record.annotations['date']\n",
    "\n",
    "        #only keep sequences with date\n",
    "        if collection_date != 'None':\n",
    "            if collection_date != 'May-2016/Dec-2017':\n",
    "                formatted_date = parser.parse(collection_date).strftime('%Y-%m-%d')\n",
    "                #dateutil parser will assign a day (today's date) to unknown days, and same for month, want XX instead\n",
    "                if len(collection_date)==8:\n",
    "                    formatted_date = formatted_date[:-2] + 'XX'\n",
    "                elif len(collection_date)==4:\n",
    "                    formatted_date = formatted_date[:5] + 'XX-XX'\n",
    "\n",
    "                #only human hosts\n",
    "                if 'Homo sapiens' in host or host=='None':\n",
    "\n",
    "                    list_of_info = [accession, strain_name, formatted_date, country]\n",
    "                    new_record_info = '|'.join(list_of_info)\n",
    "                    seq_records.append(SeqRecord(record.seq, id=new_record_info, description=''))  \n",
    "    \n",
    " \n",
    "\n",
    "        \n",
    "\n",
    "#write fasta sequence file \n",
    "SeqIO.write(seq_records, f'nl63_fromgenbank.fasta', \"fasta\")"
   ]
  },
  {
   "cell_type": "code",
   "execution_count": null,
   "id": "a15ab194",
   "metadata": {},
   "outputs": [],
   "source": []
  }
 ],
 "metadata": {
  "kernelspec": {
   "display_name": "Python 3 (ipykernel)",
   "language": "python",
   "name": "python3"
  },
  "language_info": {
   "codemirror_mode": {
    "name": "ipython",
    "version": 3
   },
   "file_extension": ".py",
   "mimetype": "text/x-python",
   "name": "python",
   "nbconvert_exporter": "python",
   "pygments_lexer": "ipython3",
   "version": "3.9.7"
  }
 },
 "nbformat": 4,
 "nbformat_minor": 5
}
