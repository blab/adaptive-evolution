{
 "cells": [
  {
   "cell_type": "code",
   "execution_count": 43,
   "id": "d1d9ebdd",
   "metadata": {},
   "outputs": [],
   "source": [
    "from Bio import SeqIO\n",
    "from Bio.Seq import Seq\n",
    "from Bio.SeqRecord import SeqRecord\n",
    "from dateutil.parser import parse\n",
    "import pandas as pd\n",
    "import datetime\n",
    "from dateutil import parser\n",
    "import re"
   ]
  },
  {
   "cell_type": "code",
   "execution_count": 60,
   "id": "c0064f75",
   "metadata": {},
   "outputs": [
    {
     "data": {
      "text/plain": [
       "198"
      ]
     },
     "execution_count": 60,
     "metadata": {},
     "output_type": "execute_result"
    }
   ],
   "source": [
    "#downloaded from BVBRC... stupidly have to download fasta file separately from .csv with metadata\n",
    "#get date and put in 'yyyy-mm-dd' format\n",
    "#get country\n",
    "\n",
    "\n",
    "#read in metadata file\n",
    "oc43_metadata = pd.read_csv('BVBRC_metadata.csv')\n",
    "\n",
    "\n",
    "seq_records = []\n",
    "\n",
    "#read in sequences\n",
    "for record in SeqIO.parse(open(f\"BVBRC_sequences.fasta\",\"r\"), \"fasta\"):\n",
    "    if len(record.seq) > 20000:\n",
    "        accession = str(record.description.split('   ')[0].split('|')[1])\n",
    "        strain_name = str(record.description.split('   ')[2].split('|')[0][1:-1])\n",
    "        meta_row = oc43_metadata[oc43_metadata['GenBank Accessions']==accession]\n",
    "        collection_date = meta_row['Collection Date'].item()\n",
    "        \n",
    "        if collection_date == '2016-2017':\n",
    "            formatted_date = '2016-XX-XX'\n",
    "        elif len(collection_date)==4:\n",
    "            formatted_date = collection_date+'-XX-XX'\n",
    "        elif len(collection_date) == 7:\n",
    "            formatted_date = collection_date+'-XX'\n",
    "        else:\n",
    "            formatted_date = parser.parse(collection_date).strftime('%Y-%m-%d')\n",
    "        \n",
    "        country = 'None'\n",
    "        country = str(meta_row['Isolation Country'].item())\n",
    "        \n",
    "  \n",
    "                    \n",
    "\n",
    "        list_of_info = [accession, strain_name, formatted_date, country]\n",
    "        new_record_info = '|'.join(list_of_info)\n",
    "        seq_records.append(SeqRecord(record.seq, id=new_record_info, description=''))\n",
    "\n",
    "\n",
    "\n",
    "SeqIO.write(seq_records, f'oc43_all_genome.fasta', \"fasta\")\n",
    "\n"
   ]
  },
  {
   "cell_type": "code",
   "execution_count": null,
   "id": "7b1adef4",
   "metadata": {},
   "outputs": [],
   "source": []
  },
  {
   "cell_type": "code",
   "execution_count": null,
   "id": "e40c408b",
   "metadata": {},
   "outputs": [],
   "source": []
  },
  {
   "cell_type": "code",
   "execution_count": null,
   "id": "50242ae3",
   "metadata": {},
   "outputs": [],
   "source": []
  }
 ],
 "metadata": {
  "kernelspec": {
   "display_name": "Python 3 (ipykernel)",
   "language": "python",
   "name": "python3"
  },
  "language_info": {
   "codemirror_mode": {
    "name": "ipython",
    "version": 3
   },
   "file_extension": ".py",
   "mimetype": "text/x-python",
   "name": "python",
   "nbconvert_exporter": "python",
   "pygments_lexer": "ipython3",
   "version": "3.9.7"
  }
 },
 "nbformat": 4,
 "nbformat_minor": 5
}
