{
 "cells": [
  {
   "cell_type": "code",
   "execution_count": 1,
   "id": "3c2f53ca",
   "metadata": {},
   "outputs": [],
   "source": [
    "from Bio import SeqIO\n",
    "from Bio.Seq import Seq\n",
    "from Bio.SeqRecord import SeqRecord"
   ]
  },
  {
   "cell_type": "code",
   "execution_count": 2,
   "id": "6b889943",
   "metadata": {},
   "outputs": [],
   "source": [
    "#get location for each gene\n",
    "all_genes = [\"ORF1ab\", \"RdRp\", \"HE\", \"Spike\", \"S1\", \"S2\", \"NS2\", \"E\", \"M\", \"N\"]\n",
    "gene_locations = {g:'' for g in all_genes}\n",
    "\n",
    "reference_file = '../config/reference_oc43_genome.gb'\n",
    "\n",
    "for record in SeqIO.parse(open(reference_file,\"r\"), \"genbank\"):\n",
    "    for feature in record.features:\n",
    "        if feature.type == 'CDS':\n",
    "            if 'locus_tag' in feature.qualifiers:\n",
    "                for gene in all_genes:\n",
    "                    if feature.qualifiers['locus_tag'] == [gene]:\n",
    "                        gene_locations[gene] = feature.location\n"
   ]
  },
  {
   "cell_type": "code",
   "execution_count": 3,
   "id": "8574c6b7",
   "metadata": {},
   "outputs": [],
   "source": [
    "lineages = ['A', 'B', 'all']"
   ]
  },
  {
   "cell_type": "code",
   "execution_count": 4,
   "id": "6b0008e1",
   "metadata": {},
   "outputs": [],
   "source": [
    "#alignment file will only have the accession number as id\n",
    "#need to get date and country info from original fasta \n",
    "#do it for each lineage (A, B, and all)\n",
    "\n",
    "\n",
    "record_info_by_accession = {'A':{}, 'B':{}, 'all':{}}\n",
    "for lineage in lineages:\n",
    "    for record in SeqIO.parse(open(f'oc43_{lineage}_genome.fasta', \"r\"), \"fasta\"):\n",
    "        accession = record.description.split('|')[0]\n",
    "        record_info_by_accession[lineage][accession] = record.description"
   ]
  },
  {
   "cell_type": "code",
   "execution_count": 9,
   "id": "17a865b3",
   "metadata": {},
   "outputs": [],
   "source": [
    "#make a sequence fasta file for each gene by extracting the sequences out of the alignment\n",
    "#make a dictionary of all seq records for each gene\n",
    "#do it for each lineage (A, B, and all)\n",
    "\n",
    "gene_records_from_genome_alignment = {'A':{g:[] for g in all_genes}, \n",
    "                                      'B':{g:[] for g in all_genes}, \n",
    "                                      'all':{g:[] for g in all_genes}}\n",
    "\n",
    "for lineage in lineages:\n",
    "    for record in SeqIO.parse(open(f'../results/aligned_oc43_{lineage}_genome.fasta', \"r\"), \"fasta\"):\n",
    "        for gene in all_genes:\n",
    "            record_info = record_info_by_accession[lineage][record.id]\n",
    "            gene_record = SeqRecord(gene_locations[gene].extract(record.seq), id=record_info, description='')\n",
    "            gene_records_from_genome_alignment[lineage][gene].append(gene_record)\n"
   ]
  },
  {
   "cell_type": "code",
   "execution_count": 11,
   "id": "97233cad",
   "metadata": {},
   "outputs": [],
   "source": [
    "#location of old gene-alignment files, by gene\n",
    "\n",
    "old_gene_fasta_locations_by_lineage = {}\n",
    "\n",
    "for lineage in ['A', 'B']:\n",
    "    old_gene_fasta_locations = {\"ORF1ab\": f\"../../../seasonal-cov_eLifepaper/oc43/separate_lineages/data/oc43_{lineage.lower()}_replicase1ab.fasta\", \n",
    "                                \"RdRp\": f\"../../../seasonal-cov_eLifepaper/oc43/separate_lineages/data/oc43_{lineage.lower()}_rdrp.fasta\", \n",
    "                                \"S1\": f\"../../../seasonal-cov_eLifepaper/oc43/separate_lineages/data/oc43_{lineage.lower()}_s1.fasta\", \n",
    "                                \"S2\": f\"../../../seasonal-cov_eLifepaper/oc43/separate_lineages/data/oc43_{lineage.lower()}_s2.fasta\", \n",
    "                                \"Spike\": f\"../../../seasonal-cov_eLifepaper/oc43/separate_lineages/data/oc43_{lineage.lower()}_spike.fasta\", \n",
    "                                \"HE\": f\"../../../seasonal-cov_eLifepaper/oc43/separate_lineages/data/oc43_{lineage.lower()}_he.fasta\", \n",
    "                                \"M\": f\"../../../seasonal-cov_eLifepaper/oc43/separate_lineages/data/oc43_{lineage.lower()}_membrane.fasta\",\n",
    "                                \"N\": f\"../../../seasonal-cov_eLifepaper/oc43/separate_lineages/data/oc43_{lineage.lower()}_nucleocapsid.fasta\"}\n",
    "    old_gene_fasta_locations_by_lineage[lineage] = old_gene_fasta_locations\n"
   ]
  },
  {
   "cell_type": "code",
   "execution_count": 17,
   "id": "723854a8",
   "metadata": {},
   "outputs": [],
   "source": [
    "gene_records_from_old_alignments_by_lineage = {}\n",
    "\n",
    "for lineage in ['A', 'B']:\n",
    "    already_seen = record_info_by_accession[lineage].keys()\n",
    "\n",
    "    gene_records_from_old_alignments = {g:[] for g in all_genes}\n",
    "\n",
    "    for gene in all_genes:\n",
    "        if gene in old_gene_fasta_locations_by_lineage[lineage].keys():\n",
    "            file_location = old_gene_fasta_locations_by_lineage[lineage][gene]\n",
    "            for record in SeqIO.parse(open(file_location,\"r\"), \"fasta\"):\n",
    "                if record.id.split('|')[1] not in already_seen:\n",
    "                    gene_length = len(record.seq)\n",
    "                    #only take seq if it covers 75% or more of gene\n",
    "                    if record.seq.count('N') < gene_length*0.25:\n",
    "                        accession = record.id.split('|')[1]\n",
    "                        strain_name = record.id.split('|')[0]\n",
    "                        date = record.id.split('|')[3]\n",
    "                        country = record.id.split('|')[5]\n",
    "                        list_of_info = [accession, strain_name, date, country]\n",
    "                        new_record_info = '|'.join(list_of_info)\n",
    "                        gene_record = SeqRecord(record.seq, id=new_record_info, description='')\n",
    "                        gene_records_from_old_alignments[gene].append(gene_record)\n",
    "                        \n",
    "    gene_records_from_old_alignments_by_lineage[lineage] = gene_records_from_old_alignments\n",
    "                        \n",
    "    \n"
   ]
  },
  {
   "cell_type": "code",
   "execution_count": 18,
   "id": "4fe78333",
   "metadata": {},
   "outputs": [],
   "source": [
    "#add the sequences from old gene-specific alignments to the new data\n",
    "for lineage in ['A', 'B']:\n",
    "    for k,v in gene_records_from_old_alignments_by_lineage[lineage].items():\n",
    "        gene_records_from_genome_alignment[lineage][k]+=v\n"
   ]
  },
  {
   "cell_type": "code",
   "execution_count": 20,
   "id": "33af9a72",
   "metadata": {},
   "outputs": [],
   "source": [
    "for lineage in lineages:\n",
    "    for k,v in gene_records_from_genome_alignment[lineage].items():\n",
    "        SeqIO.write(v, f'oc43_{lineage}_{k}.fasta', \"fasta\")"
   ]
  },
  {
   "cell_type": "code",
   "execution_count": null,
   "id": "646f1e71",
   "metadata": {},
   "outputs": [],
   "source": []
  }
 ],
 "metadata": {
  "kernelspec": {
   "display_name": "Python 3 (ipykernel)",
   "language": "python",
   "name": "python3"
  },
  "language_info": {
   "codemirror_mode": {
    "name": "ipython",
    "version": 3
   },
   "file_extension": ".py",
   "mimetype": "text/x-python",
   "name": "python",
   "nbconvert_exporter": "python",
   "pygments_lexer": "ipython3",
   "version": "3.9.7"
  }
 },
 "nbformat": 4,
 "nbformat_minor": 5
}
