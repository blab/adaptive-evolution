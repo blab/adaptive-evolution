{
 "cells": [
  {
   "cell_type": "code",
   "execution_count": 2,
   "id": "98160a2c",
   "metadata": {},
   "outputs": [],
   "source": [
    "from Bio import SeqIO\n",
    "from Bio.Seq import Seq\n",
    "from Bio.SeqRecord import SeqRecord\n",
    "from Bio.SeqFeature import SeqFeature, FeatureLocation"
   ]
  },
  {
   "cell_type": "code",
   "execution_count": 4,
   "id": "1e1423b0",
   "metadata": {},
   "outputs": [],
   "source": [
    "#get the reference sequence for each gene\n",
    "all_genes = [\"ORF1ab\", \"RdRp\", \"Spike\", \"S1\", \"S2\", \"Protein4a\", \"Protein4b\", \"E\", \"M\", \"N\"]\n",
    "\n",
    "refseq_by_gene = {g:'' for g in all_genes}\n",
    "\n",
    "genome_ref_file = 'reference_229e_genome.gb'\n",
    "\n",
    "for record in SeqIO.parse(open(genome_ref_file,\"r\"), \"genbank\"):\n",
    "    info_for_new_refs = {'id':record.id, 'name': record.name}\n",
    "\n",
    "    for gene in all_genes:\n",
    "        for feature in record.features:\n",
    "            if feature.type == 'CDS':\n",
    "                if 'locus_tag' in feature.qualifiers:\n",
    "                    if feature.qualifiers['locus_tag'] == [gene]:\n",
    "                        gene_sequence = feature.location.extract(record.seq)\n",
    "                        refseq_by_gene[gene]= gene_sequence"
   ]
  },
  {
   "cell_type": "code",
   "execution_count": 22,
   "id": "c6fa1be5",
   "metadata": {},
   "outputs": [],
   "source": [
    "for gene in all_genes:\n",
    "    gene_seq = refseq_by_gene[gene]\n",
    "    # Create a record\n",
    "    gene_record = SeqRecord(gene_seq,\n",
    "                       id=info_for_new_refs['id'],\n",
    "                       name=info_for_new_refs['name'],\n",
    "                       description=f'Human coronavirus 229E, {gene} protein',\n",
    "                        annotations={\"molecule_type\": \"RNA\"})\n",
    "\n",
    "    # Add source annotation\n",
    "    source_feature = SeqFeature(FeatureLocation(start=0, end=len(gene_seq)), type='source')\n",
    "    gene_record.features.append(source_feature)\n",
    "    \n",
    "    #Add gene annotation\n",
    "    gene_feature = SeqFeature(FeatureLocation(start=0, end=len(gene_seq)), type='CDS', \n",
    "                              qualifiers={'locus_tag':gene})\n",
    "    gene_record.features.append(gene_feature)\n",
    "\n",
    "    # Save as GenBank file\n",
    "    SeqIO.write(gene_record, f'reference_229e_{gene}.gb', \"genbank\")"
   ]
  },
  {
   "cell_type": "code",
   "execution_count": null,
   "id": "f75c4b98",
   "metadata": {},
   "outputs": [],
   "source": []
  }
 ],
 "metadata": {
  "kernelspec": {
   "display_name": "Python 3 (ipykernel)",
   "language": "python",
   "name": "python3"
  },
  "language_info": {
   "codemirror_mode": {
    "name": "ipython",
    "version": 3
   },
   "file_extension": ".py",
   "mimetype": "text/x-python",
   "name": "python",
   "nbconvert_exporter": "python",
   "pygments_lexer": "ipython3",
   "version": "3.9.7"
  }
 },
 "nbformat": 4,
 "nbformat_minor": 5
}
