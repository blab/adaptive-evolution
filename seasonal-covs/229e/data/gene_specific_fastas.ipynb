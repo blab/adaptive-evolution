{
 "cells": [
  {
   "cell_type": "code",
   "execution_count": 1,
   "id": "3c2f53ca",
   "metadata": {},
   "outputs": [],
   "source": [
    "from Bio import SeqIO\n",
    "from Bio.Seq import Seq\n",
    "from Bio.SeqRecord import SeqRecord"
   ]
  },
  {
   "cell_type": "code",
   "execution_count": 33,
   "id": "6b889943",
   "metadata": {},
   "outputs": [],
   "source": [
    "#get location for each gene\n",
    "all_genes = [\"ORF1ab\", \"RdRp\", \"Spike\", \"S1\", \"S2\", \"Protein4a\", \"Protein4b\", \"E\", \"M\", \"N\"]\n",
    "gene_locations = {g:'' for g in all_genes}\n",
    "\n",
    "reference_file = '../config/reference_229e_genome.gb'\n",
    "\n",
    "for record in SeqIO.parse(open(reference_file,\"r\"), \"genbank\"):\n",
    "    for feature in record.features:\n",
    "        if feature.type == 'CDS':\n",
    "            if 'locus_tag' in feature.qualifiers:\n",
    "                for gene in all_genes:\n",
    "                    if feature.qualifiers['locus_tag'] == [gene]:\n",
    "                        gene_locations[gene] = feature.location\n"
   ]
  },
  {
   "cell_type": "code",
   "execution_count": 24,
   "id": "6b0008e1",
   "metadata": {},
   "outputs": [],
   "source": [
    "#alignment file will only have the accession number as id\n",
    "#need to get date and country info from original fasta \n",
    "\n",
    "record_info_by_accession = {}\n",
    "for record in SeqIO.parse(open('229e_genome.fasta', \"r\"), \"fasta\"):\n",
    "    accession = record.description.split('|')[0]\n",
    "    record_info_by_accession[accession] = record.description"
   ]
  },
  {
   "cell_type": "code",
   "execution_count": 25,
   "id": "17a865b3",
   "metadata": {},
   "outputs": [],
   "source": [
    "#make a sequence fasta file for each gene by extracting the sequences out of the alignment\n",
    "#make a dictionary of all seq records for each gene\n",
    "gene_records_from_genome_alignment = {g:[] for g in all_genes}\n",
    "\n",
    "for record in SeqIO.parse(open('../results/aligned_229e_genome.fasta', \"r\"), \"fasta\"):\n",
    "    for gene in all_genes:\n",
    "        record_info = record_info_by_accession[record.id]\n",
    "        gene_record = SeqRecord(gene_locations[gene].extract(record.seq), id=record_info, description='')\n",
    "        gene_records_from_genome_alignment[gene].append(gene_record)\n"
   ]
  },
  {
   "cell_type": "code",
   "execution_count": 26,
   "id": "97233cad",
   "metadata": {},
   "outputs": [],
   "source": [
    "#location of old gene-alignment files, by gene\n",
    "\n",
    "old_gene_fasta_locations = {\"ORF1ab\": \"../../../seasonal-cov_eLifepaper/229e/data/229e_replicase1ab.fasta\", \n",
    "                            \"RdRp\": \"../../../seasonal-cov_eLifepaper/229e/data/229e_rdrp.fasta\", \n",
    "                            \"S1\": \"../../../seasonal-cov_eLifepaper/229e/data/229e_s1.fasta\", \n",
    "                            \"S2\": \"../../../seasonal-cov_eLifepaper/229e/data/229e_s2.fasta\", \n",
    "                            \"Protein4a\": \"../../../seasonal-cov_eLifepaper/229e/data/229e_protein4a.fasta\", \n",
    "                            \"Protein4b\": \"../../../seasonal-cov_eLifepaper/229e/data/229e_protein4b.fasta\", \n",
    "                            \"E\": \"../../../seasonal-cov_eLifepaper/229e/data/229e_envelope.fasta\", \n",
    "                            \"M\": \"../../../seasonal-cov_eLifepaper/229e/data/229e_membrane.fasta\",\n",
    "                            \"N\": \"../../../seasonal-cov_eLifepaper/229e/data/229e_nucleocapsid.fasta\"}\n"
   ]
  },
  {
   "cell_type": "code",
   "execution_count": 30,
   "id": "723854a8",
   "metadata": {},
   "outputs": [],
   "source": [
    "already_seen = record_info_by_accession.keys()\n",
    "\n",
    "gene_records_from_old_alignments = {g:[] for g in all_genes}\n",
    "\n",
    "for gene in all_genes:\n",
    "    if gene in old_gene_fasta_locations.keys():\n",
    "        file_location = old_gene_fasta_locations[gene]\n",
    "        for record in SeqIO.parse(open(file_location,\"r\"), \"fasta\"):\n",
    "            if record.id.split('|')[1] not in already_seen:\n",
    "                gene_length = len(record.seq)\n",
    "                #only take seq if it covers 80% or more of gene\n",
    "                if record.seq.count('N') < gene_length*0.2:\n",
    "                    accession = record.id.split('|')[1]\n",
    "                    strain_name = record.id.split('|')[0]\n",
    "                    date = record.id.split('|')[3]\n",
    "                    country = record.id.split('|')[5]\n",
    "                    list_of_info = [accession, strain_name, date, country]\n",
    "                    new_record_info = '|'.join(list_of_info)\n",
    "                    gene_record = SeqRecord(record.seq, id=new_record_info, description='')\n",
    "                    gene_records_from_old_alignments[gene].append(gene_record)\n"
   ]
  },
  {
   "cell_type": "code",
   "execution_count": 31,
   "id": "4fe78333",
   "metadata": {},
   "outputs": [],
   "source": [
    "#add the sequences from old gene-specific alignments to the new data\n",
    "for k,v in gene_records_from_old_alignments.items():\n",
    "    gene_records_from_genome_alignment[k]+=v\n"
   ]
  },
  {
   "cell_type": "code",
   "execution_count": 32,
   "id": "33af9a72",
   "metadata": {},
   "outputs": [],
   "source": [
    "for k,v in gene_records_from_genome_alignment.items():\n",
    "    SeqIO.write(v, f'229e_{k}.fasta', \"fasta\")"
   ]
  },
  {
   "cell_type": "code",
   "execution_count": null,
   "id": "646f1e71",
   "metadata": {},
   "outputs": [],
   "source": []
  }
 ],
 "metadata": {
  "kernelspec": {
   "display_name": "Python 3 (ipykernel)",
   "language": "python",
   "name": "python3"
  },
  "language_info": {
   "codemirror_mode": {
    "name": "ipython",
    "version": 3
   },
   "file_extension": ".py",
   "mimetype": "text/x-python",
   "name": "python",
   "nbconvert_exporter": "python",
   "pygments_lexer": "ipython3",
   "version": "3.9.7"
  }
 },
 "nbformat": 4,
 "nbformat_minor": 5
}
