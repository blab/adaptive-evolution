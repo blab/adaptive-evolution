{
 "cells": [
  {
   "cell_type": "code",
   "execution_count": 1,
   "id": "d1d9ebdd",
   "metadata": {},
   "outputs": [],
   "source": [
    "from Bio import SeqIO\n",
    "from Bio.Seq import Seq\n",
    "from Bio.SeqRecord import SeqRecord\n",
    "from dateutil.parser import parse\n",
    "import pandas as pd\n",
    "import datetime\n",
    "from dateutil import parser\n",
    "import re"
   ]
  },
  {
   "cell_type": "code",
   "execution_count": 14,
   "id": "c0064f75",
   "metadata": {},
   "outputs": [
    {
     "data": {
      "text/plain": [
       "49"
      ]
     },
     "execution_count": 14,
     "metadata": {},
     "output_type": "execute_result"
    }
   ],
   "source": [
    "#downloaded from BVBRC... stupidly have to download fasta file separately from .csv with metadata\n",
    "#get date and put in 'yyyy-mm-dd' format\n",
    "#get country\n",
    "\n",
    "\n",
    "#read in metadata file\n",
    "metadata = pd.read_csv('BVBRC_metadata.csv')\n",
    "\n",
    "accessions_from_bvbrc = []\n",
    "seq_records = []\n",
    "\n",
    "#read in sequences\n",
    "for record in SeqIO.parse(open(f\"BVBRC_sequences.fasta\",\"r\"), \"fasta\"):\n",
    "    if len(record.seq) > 20000:\n",
    "        accession, strain_name, collection_date, collection_date, formatted_date, country = 'None', 'None', 'None', 'None', 'None', 'None'\n",
    "        accession = str(record.description.split('   ')[0].split('|')[1])\n",
    "        strain_name = str(record.description.split('   ')[2].split('|')[0][1:-1])\n",
    "        meta_row = metadata[metadata['GenBank Accessions']==accession]\n",
    "        collection_date = meta_row['Collection Date'].item()\n",
    "        \n",
    "        \n",
    "        if type(collection_date)!=float:\n",
    "\n",
    "            if collection_date == '2016-2017':\n",
    "                formatted_date = '2016-XX-XX'\n",
    "            elif len(collection_date)==4:\n",
    "                formatted_date = collection_date+'-XX-XX'\n",
    "            elif len(collection_date) == 7:\n",
    "                formatted_date = collection_date+'-XX'\n",
    "            else:\n",
    "                formatted_date = parser.parse(collection_date).strftime('%Y-%m-%d')\n",
    "\n",
    "            country = str(meta_row['Isolation Country'].item())\n",
    "\n",
    "  \n",
    "\n",
    "            list_of_info = [accession, strain_name, formatted_date, country]\n",
    "            new_record_info = '|'.join(list_of_info)\n",
    "            accessions_from_bvbrc.append(accession)\n",
    "            seq_records.append(SeqRecord(record.seq, id=new_record_info, description=''))\n",
    "\n",
    "\n",
    "\n",
    "SeqIO.write(seq_records, f'229e_frombvbrc.fasta', \"fasta\")\n",
    "\n"
   ]
  },
  {
   "cell_type": "code",
   "execution_count": 15,
   "id": "4bba8d34",
   "metadata": {},
   "outputs": [
    {
     "data": {
      "text/plain": [
       "69"
      ]
     },
     "execution_count": 15,
     "metadata": {},
     "output_type": "execute_result"
    }
   ],
   "source": [
    "#combine data from bvbrc and genbank that isn't redundant\n",
    "combined_seq_records = seq_records\n",
    "\n",
    "accessions_from_genbank = []\n",
    "\n",
    "for record in SeqIO.parse(open(f\"229e_fromgenbank.fasta\",\"r\"), \"fasta\"):\n",
    "    accession = record.id.split('|')[0]\n",
    "    if accession not in accessions_from_bvbrc:\n",
    "        accessions_from_genbank.append(accession)\n",
    "        combined_seq_records.append(SeqRecord(record.seq, id=record.id, description=''))\n",
    "        \n",
    "SeqIO.write(combined_seq_records, f'229e_genome.fasta', \"fasta\")"
   ]
  },
  {
   "cell_type": "code",
   "execution_count": null,
   "id": "20a15a13",
   "metadata": {},
   "outputs": [],
   "source": []
  }
 ],
 "metadata": {
  "kernelspec": {
   "display_name": "Python 3 (ipykernel)",
   "language": "python",
   "name": "python3"
  },
  "language_info": {
   "codemirror_mode": {
    "name": "ipython",
    "version": 3
   },
   "file_extension": ".py",
   "mimetype": "text/x-python",
   "name": "python",
   "nbconvert_exporter": "python",
   "pygments_lexer": "ipython3",
   "version": "3.9.7"
  }
 },
 "nbformat": 4,
 "nbformat_minor": 5
}
