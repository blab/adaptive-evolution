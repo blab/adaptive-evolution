{
 "cells": [
  {
   "cell_type": "code",
   "execution_count": 3,
   "id": "a2112ab9",
   "metadata": {},
   "outputs": [],
   "source": [
    "tree_url = f'https://nextstrain.org/groups/blab/ncov/adaptive-evolution/2021-05-15'\n",
    "tree_json = requests.get(tree_url, headers={\"accept\":\"application/json\"}).json()"
   ]
  },
  {
   "cell_type": "code",
   "execution_count": 2,
   "id": "f9e7c43f",
   "metadata": {},
   "outputs": [],
   "source": [
    "import requests"
   ]
  },
  {
   "cell_type": "code",
   "execution_count": null,
   "id": "8ea33013",
   "metadata": {},
   "outputs": [],
   "source": []
  }
 ],
 "metadata": {
  "kernelspec": {
   "display_name": "Python 3 (ipykernel)",
   "language": "python",
   "name": "python3"
  },
  "language_info": {
   "codemirror_mode": {
    "name": "ipython",
    "version": 3
   },
   "file_extension": ".py",
   "mimetype": "text/x-python",
   "name": "python",
   "nbconvert_exporter": "python",
   "pygments_lexer": "ipython3",
   "version": "3.9.7"
  }
 },
 "nbformat": 4,
 "nbformat_minor": 5
}
