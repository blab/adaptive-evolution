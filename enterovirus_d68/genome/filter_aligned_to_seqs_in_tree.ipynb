{
 "cells": [
  {
   "cell_type": "code",
   "execution_count": 2,
   "id": "3a38ca78",
   "metadata": {},
   "outputs": [],
   "source": [
    "import json\n",
    "from augur.utils import json_to_tree\n",
    "import pandas as pd\n",
    "import numpy as np\n",
    "from Bio import SeqIO\n",
    "from Bio.Seq import Seq\n",
    "from Bio.SeqRecord import SeqRecord"
   ]
  },
  {
   "cell_type": "code",
   "execution_count": 3,
   "id": "0baf4561",
   "metadata": {},
   "outputs": [],
   "source": [
    "with open('enterovirus_d68_genome.json') as json_handle:\n",
    "    json_tree = json.load(json_handle)\n",
    "    \n",
    "tree = json_to_tree(json_tree)    "
   ]
  },
  {
   "cell_type": "code",
   "execution_count": 10,
   "id": "f1efb97d",
   "metadata": {},
   "outputs": [],
   "source": [
    "strains_in_tree = []\n",
    "\n",
    "for node in tree.find_clades(terminal=True):\n",
    "    strains_in_tree.append(node.name)\n"
   ]
  },
  {
   "cell_type": "code",
   "execution_count": 16,
   "id": "12fd4e50",
   "metadata": {},
   "outputs": [],
   "source": [
    "seqs_in_tree = []\n",
    "\n",
    "with open('aligned.fasta', \"r\") as aligned_handle:\n",
    "    for isolate in SeqIO.parse(aligned_handle, \"fasta\"):\n",
    "        if isolate.id in strains_in_tree:\n",
    "            seqs_in_tree.append(isolate)\n",
    "            \n",
    "with open(\"aligned_filtered.fasta\", \"w\") as output_handle:\n",
    "    SeqIO.write(seqs_in_tree, output_handle, \"fasta\")"
   ]
  }
 ],
 "metadata": {
  "kernelspec": {
   "display_name": "Python 3 (ipykernel)",
   "language": "python",
   "name": "python3"
  },
  "language_info": {
   "codemirror_mode": {
    "name": "ipython",
    "version": 3
   },
   "file_extension": ".py",
   "mimetype": "text/x-python",
   "name": "python",
   "nbconvert_exporter": "python",
   "pygments_lexer": "ipython3",
   "version": "3.9.7"
  }
 },
 "nbformat": 4,
 "nbformat_minor": 5
}
