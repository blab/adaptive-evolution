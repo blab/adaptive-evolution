{
 "cells": [
  {
   "cell_type": "code",
   "execution_count": 1,
   "id": "606a1cbc",
   "metadata": {},
   "outputs": [],
   "source": [
    "import pandas as pd\n",
    "from augur.utils import json_to_tree\n",
    "import json"
   ]
  },
  {
   "cell_type": "code",
   "execution_count": 3,
   "id": "86b70d6b",
   "metadata": {},
   "outputs": [],
   "source": [
    "def write_acknowledgements_csv(virus):\n",
    "    \"\"\"\n",
    "    Write an acknowlegements table for all sequences that were used. Get the info from tree json\n",
    "    \"\"\"\n",
    "\n",
    "    ack_info = []\n",
    "    \n",
    "\n",
    "    tree_file = f'enterovirus_d68_genome.json'\n",
    "    with open(tree_file, 'r') as f:\n",
    "        tree_json = json.load(f)\n",
    "\n",
    "    #put tree in Bio.phylo format\n",
    "    tree = json_to_tree(tree_json)\n",
    "\n",
    "    for node in tree.find_clades(terminal=True):\n",
    "        accession = node.node_attrs['accession']\n",
    "        author = node.node_attrs['author']['author']\n",
    "        if 'journal' in node.node_attrs['author'].keys():\n",
    "            journal = node.node_attrs['author']['journal']\n",
    "        else:\n",
    "            journal=''\n",
    "        if 'title' in node.node_attrs['author'].keys():\n",
    "            title = node.node_attrs['author']['title']\n",
    "        else:\n",
    "            title=''\n",
    "\n",
    "        ack_info.append({'Accession': accession, 'Virus': f'Enterovirus D68', 'Strain': node.name, \n",
    "                         'Author': author, 'Publication_Title':title, 'Journal': journal,\n",
    "                         'Database': 'Genbank'})\n",
    "\n",
    "    ack_df = pd.DataFrame(ack_info)\n",
    "    \n",
    "    ack_df.set_index('Accession')    \n",
    "    \n",
    "    #save the acknowledgement table\n",
    "    ack_df.to_csv(f'acknowledgments_{virus}.tsv', sep='\\t', index=False)"
   ]
  },
  {
   "cell_type": "code",
   "execution_count": 4,
   "id": "042e09e3",
   "metadata": {},
   "outputs": [],
   "source": [
    " write_acknowledgements_csv('enterovirusd68')"
   ]
  },
  {
   "cell_type": "code",
   "execution_count": null,
   "id": "03b457ff",
   "metadata": {},
   "outputs": [],
   "source": []
  }
 ],
 "metadata": {
  "kernelspec": {
   "display_name": "Python 3 (ipykernel)",
   "language": "python",
   "name": "python3"
  },
  "language_info": {
   "codemirror_mode": {
    "name": "ipython",
    "version": 3
   },
   "file_extension": ".py",
   "mimetype": "text/x-python",
   "name": "python",
   "nbconvert_exporter": "python",
   "pygments_lexer": "ipython3",
   "version": "3.9.7"
  }
 },
 "nbformat": 4,
 "nbformat_minor": 5
}
