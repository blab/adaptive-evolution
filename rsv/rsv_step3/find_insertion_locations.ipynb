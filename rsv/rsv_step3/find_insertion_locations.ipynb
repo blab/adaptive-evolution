{
 "cells": [
  {
   "cell_type": "code",
   "execution_count": 8,
   "id": "d84599ed",
   "metadata": {},
   "outputs": [],
   "source": [
    "from Bio import SeqIO\n",
    "from Bio.Seq import Seq\n",
    "from Bio.SeqRecord import SeqRecord\n",
    "from Bio import SeqFeature\n",
    "import json\n",
    "import re"
   ]
  },
  {
   "cell_type": "code",
   "execution_count": 9,
   "id": "249c4407",
   "metadata": {},
   "outputs": [],
   "source": [
    "#for all insertions inferred on the tree, find whether they occur within genes (and would affect coding)\n",
    "#also check for strains with duplication that were missed and manually add them to the duplication subset in step2"
   ]
  },
  {
   "cell_type": "code",
   "execution_count": 11,
   "id": "edea4a84",
   "metadata": {},
   "outputs": [],
   "source": [
    "def get_gene_by_pos(subtype):\n",
    "    #map each position to gene\n",
    "    #noncoding positions will not map to anything\n",
    "    map_pos_to_gene = {}\n",
    "\n",
    "    for record in SeqIO.parse(open(f'config/rsv_{subtype}_step3_reference.gb', 'r'), \"gb\"):\n",
    "        for feature in record.features:\n",
    "            if feature.type =='CDS':\n",
    "                for x in range(feature.location.start, feature.location.end):\n",
    "                    map_pos_to_gene[x] = feature.qualifiers['gene'][0]"
   ]
  },
  {
   "cell_type": "code",
   "execution_count": 14,
   "id": "d927da71",
   "metadata": {},
   "outputs": [],
   "source": [
    "def find_coding_insertions(subtype):\n",
    "    \n",
    "    #read in file with all insertions and the node they were inferred on\n",
    "    with open(f'results/insertions_{subtype.upper()}.json') as f:\n",
    "        insertions_json = json.load(f)\n",
    "        \n",
    "    #hardcode length of duplications\n",
    "    dup_len = {'a':72,'b':60}\n",
    "    \n",
    "    #find what (if any) insertions occur in coding regions\n",
    "    #also find which strains have G duplication (but were missed as ON1 in step2)\n",
    "    insertions_in_coding_regions = []\n",
    "\n",
    "    missed_dup_strains = []\n",
    "\n",
    "    for k, v in insertions_json['nodes'].items():\n",
    "        if len(v['muts']) != 0:\n",
    "            if 'ins' in v['muts'].keys():\n",
    "                insertions_at_node = v['muts']['ins']\n",
    "                for ins in insertions_at_node:\n",
    "                    ins_pos = int(re.findall('^[0-9]+', ins)[0])\n",
    "                    ins_seq = re.findall('[A-Z]+', ins)[0]\n",
    "                    if ins_pos in map_pos_to_gene.keys():\n",
    "                        #find missed duplications\n",
    "                        if map_pos_to_gene[ins_pos] == 'G':\n",
    "\n",
    "                            if len(ins_seq)==dup_len[subtype]:\n",
    "                                missed_dup_strains.append(k)\n",
    "                        #find other insertions that were in genes\n",
    "                        else:\n",
    "                            insertions_in_coding_regions.append([k, ins, map_pos_to_gene[ins_pos]])\n",
    "                            \n",
    "    return insertions_in_coding_regions, missed_dup_strains\n",
    "                        \n"
   ]
  },
  {
   "cell_type": "code",
   "execution_count": 21,
   "id": "45e2b246",
   "metadata": {},
   "outputs": [],
   "source": [
    "insertions_in_coding_regions_a, missed_dup_strains_a = find_coding_insertions('a')"
   ]
  },
  {
   "cell_type": "code",
   "execution_count": 22,
   "id": "beb6502c",
   "metadata": {},
   "outputs": [
    {
     "data": {
      "text/plain": [
       "[['KU316143', '9097AAACAA (L:180/2)', 'L'],\n",
       " ['MG642048', '1709A', 'N'],\n",
       " ['NODE_0000281', '8959AAAGAA (L:134/2)', 'L'],\n",
       " ['NODE_0000562', '8320AA', 'M2-2'],\n",
       " ['KY460517', '2303AT', 'N'],\n",
       " ['MZ515999', '11452T (L:965/2)', 'L'],\n",
       " ['MZ516005', '11500TTNN (L:981/2)', 'L'],\n",
       " ['MZ516096', '14749AAAAAAGGAATTNN (L:2064/2)', 'L'],\n",
       " ['MZ515760', '11443T (L:962/2)', 'L'],\n",
       " ['MZ515888', '10108T (L:517/2)', 'L'],\n",
       " ['MN310477', '10249GTC (L:564/2)', 'L'],\n",
       " ['MZ515861', '12406N (L:1283/2)', 'L'],\n",
       " ['MZ515734', '10369CAAAGTTATCTTAA (L:604/2)', 'L'],\n",
       " ['MZ515734', '9829T (L:424/2)', 'L'],\n",
       " ['MZ516007', '14749A (L:2064/2)', 'L'],\n",
       " ['MZ515987', '14749A (L:2064/2)', 'L'],\n",
       " ['MZ516004', '15004A (L:2149/2)', 'L'],\n",
       " ['MZ516004', '10144A (L:529/2)', 'L']]"
      ]
     },
     "execution_count": 22,
     "metadata": {},
     "output_type": "execute_result"
    }
   ],
   "source": [
    "insertions_in_coding_regions_a"
   ]
  },
  {
   "cell_type": "code",
   "execution_count": 23,
   "id": "66ca5721",
   "metadata": {},
   "outputs": [
    {
     "data": {
      "text/plain": [
       "[]"
      ]
     },
     "execution_count": 23,
     "metadata": {},
     "output_type": "execute_result"
    }
   ],
   "source": [
    "missed_dup_strains_a"
   ]
  },
  {
   "cell_type": "code",
   "execution_count": 24,
   "id": "6d4c8e89",
   "metadata": {},
   "outputs": [],
   "source": [
    "insertions_in_coding_regions_b, missed_dup_strains_b = find_coding_insertions('b')"
   ]
  },
  {
   "cell_type": "code",
   "execution_count": 25,
   "id": "1d2c9d74",
   "metadata": {},
   "outputs": [
    {
     "data": {
      "text/plain": [
       "[['KU316179', '13545AAT (L:1660/2)', 'L'],\n",
       " ['KY249672', '13542AAAAAT (L:1659/2)', 'L'],\n",
       " ['MZ515832', '9342N (L:259/2)', 'L'],\n",
       " ['MZ515670', '8721CAAAGCCC (L:52/2)', 'L'],\n",
       " ['MZ515950', '11458C (L:964)', 'L'],\n",
       " ['MZ515727', '11458C (L:964)', 'L'],\n",
       " ['LC495297', '13566T (L:1667/2)', 'L'],\n",
       " ['LC495297', '9144G (L:193/2)', 'L']]"
      ]
     },
     "execution_count": 25,
     "metadata": {},
     "output_type": "execute_result"
    }
   ],
   "source": [
    "insertions_in_coding_regions_b"
   ]
  },
  {
   "cell_type": "code",
   "execution_count": 26,
   "id": "fa27328f",
   "metadata": {},
   "outputs": [
    {
     "data": {
      "text/plain": [
       "[]"
      ]
     },
     "execution_count": 26,
     "metadata": {},
     "output_type": "execute_result"
    }
   ],
   "source": [
    "missed_dup_strains_b"
   ]
  }
 ],
 "metadata": {
  "kernelspec": {
   "display_name": "Python 3 (ipykernel)",
   "language": "python",
   "name": "python3"
  },
  "language_info": {
   "codemirror_mode": {
    "name": "ipython",
    "version": 3
   },
   "file_extension": ".py",
   "mimetype": "text/x-python",
   "name": "python",
   "nbconvert_exporter": "python",
   "pygments_lexer": "ipython3",
   "version": "3.9.7"
  }
 },
 "nbformat": 4,
 "nbformat_minor": 5
}
