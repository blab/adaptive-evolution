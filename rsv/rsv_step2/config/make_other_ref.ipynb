{
 "cells": [
  {
   "cell_type": "code",
   "execution_count": 12,
   "id": "00774a78",
   "metadata": {},
   "outputs": [],
   "source": [
    "import re\n",
    "from Bio import SeqIO\n",
    "from Bio.Seq import Seq\n",
    "from Bio.SeqRecord import SeqRecord\n",
    "from Bio.Seq import MutableSeq\n",
    "from Bio import SeqFeature"
   ]
  },
  {
   "cell_type": "code",
   "execution_count": 3,
   "id": "29db8a6a",
   "metadata": {},
   "outputs": [],
   "source": [
    "#reference genomes for ON1 and \"other\" RSV-A ref should be the same except for the duplication event\n",
    "#same for BA and \"other\" for RSV-B\n",
    "#this way coordinates will be the same except for the duplication"
   ]
  },
  {
   "cell_type": "code",
   "execution_count": 2,
   "id": "970036dd",
   "metadata": {},
   "outputs": [],
   "source": [
    "dup_seq_a = 'GTCAAGAGGAAACCCTCCACTCAACCACCTCCGAAGGCTATCTAAGCCCATCACAAGTCTATACAACATCCG'\n",
    "dup_seq_b = 'ACAGAAAGAGACACCAGCACCTCACAATCCACTGTGCTCGACACAACCACATCAAAACAC'"
   ]
  },
  {
   "cell_type": "code",
   "execution_count": 18,
   "id": "8bc9373a",
   "metadata": {},
   "outputs": [],
   "source": [
    "def make_nondup_ref(subtype, dup_seq):\n",
    "\n",
    "    dup_reference_file = f'rsv_{subtype}_step2_dup_reference.gb'\n",
    "    \n",
    "    #make new genome seq without the duplication\n",
    "    new_genome_seq = ''\n",
    "\n",
    "    with open(dup_reference_file) as handle:\n",
    "        for record in SeqIO.parse(handle, \"genbank\"):\n",
    "            genome_seq = str(record.seq)\n",
    "            seq_wo_dup = Seq(genome_seq.replace(dup_seq,'',1))\n",
    "            \n",
    "            old_id = record.id\n",
    "            old_description = record.description\n",
    "\n",
    "            for feature in record.features:\n",
    "                if feature.type == 'CDS':\n",
    "                    if feature.qualifiers['gene'] == ['G']:\n",
    "                        g_start = feature.location.start\n",
    "                        g_end_wo_dup = feature.location.end - len(dup_seq)\n",
    "                        g_nt = Seq(seq_wo_dup[feature.location.start:g_end_wo_dup])\n",
    "                        #remove stop codon\n",
    "                        feature.qualifiers['translation'] = g_nt.translate()[:-1]\n",
    "            new_genome_seq = seq_wo_dup\n",
    "\n",
    "    # Create a seq record\n",
    "    new_record = SeqRecord(new_genome_seq,\n",
    "                       id=f'{old_id}-nodup', # random accession number\n",
    "                       name=f'{old_id}-nodup',\n",
    "                       description=f'{old_description} but deletion removed', \n",
    "                       annotations={\"molecule_type\": \"RNA\"})\n",
    "    \n",
    "    #make new features, with adjusted locations\n",
    "\n",
    "    for record in SeqIO.parse(open(dup_reference_file, 'r'), \"gb\"):\n",
    "        for feature in record.features:\n",
    "            if feature.type =='source':\n",
    "                feature.location = SeqFeature.FeatureLocation(SeqFeature.ExactPosition(feature.location.start.position),\n",
    "                        SeqFeature.ExactPosition(feature.location.end - len(dup_seq)), feature.location.strand)\n",
    "\n",
    "            else:\n",
    "                #adjust the end position of G by length of duplication\n",
    "                if feature.location.start==g_start:\n",
    "                    feature.location = SeqFeature.FeatureLocation(SeqFeature.ExactPosition(feature.location.start.position),\n",
    "                            SeqFeature.ExactPosition(feature.location.end - len(dup_seq)), feature.location.strand)\n",
    "                    if feature.type =='CDS':\n",
    "                        feature.qualifiers['translation'] = feature.location.extract(new_genome_seq).translate()\n",
    "                #adjust the start and end positions of all features downstream of G by 60nt\n",
    "                elif feature.location.start>g_start:\n",
    "                    feature.location = SeqFeature.FeatureLocation(SeqFeature.ExactPosition(feature.location.start.position - len(dup_seq)),\n",
    "                            SeqFeature.ExactPosition(feature.location.end - len(dup_seq)), feature.location.strand)\n",
    "                    if feature.type =='CDS':\n",
    "                        feature.qualifiers['translation'] = feature.location.extract(new_genome_seq).translate()\n",
    "\n",
    "            new_record.features.append(feature)\n",
    "\n",
    "    with open(f'rsv_{subtype}_step2_other_reference.gb','w') as output_file:\n",
    "        SeqIO.write(new_record, output_file, 'genbank')\n",
    "\n",
    "    "
   ]
  },
  {
   "cell_type": "code",
   "execution_count": 19,
   "id": "4e6c89ed",
   "metadata": {},
   "outputs": [],
   "source": [
    "make_nondup_ref('a', dup_seq_a)"
   ]
  },
  {
   "cell_type": "code",
   "execution_count": 20,
   "id": "2a7083e1",
   "metadata": {},
   "outputs": [],
   "source": [
    "make_nondup_ref('b', dup_seq_b)"
   ]
  }
 ],
 "metadata": {
  "kernelspec": {
   "display_name": "Python 3 (ipykernel)",
   "language": "python",
   "name": "python3"
  },
  "language_info": {
   "codemirror_mode": {
    "name": "ipython",
    "version": 3
   },
   "file_extension": ".py",
   "mimetype": "text/x-python",
   "name": "python",
   "nbconvert_exporter": "python",
   "pygments_lexer": "ipython3",
   "version": "3.9.7"
  }
 },
 "nbformat": 4,
 "nbformat_minor": 5
}
