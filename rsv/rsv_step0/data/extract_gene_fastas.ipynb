{
 "cells": [
  {
   "cell_type": "code",
   "execution_count": 2,
   "metadata": {},
   "outputs": [],
   "source": [
    "import re\n",
    "import json\n",
    "import json\n",
    "import pandas as pd\n",
    "import numpy as np\n",
    "import matplotlib.pyplot as plt\n",
    "import seaborn as sns\n",
    "from Bio import SeqIO\n",
    "from Bio.Seq import Seq\n",
    "from Bio.SeqRecord import SeqRecord\n",
    "from Bio import AlignIO\n",
    "from Bio.SeqFeature import SeqFeature, FeatureLocation"
   ]
  },
  {
   "cell_type": "code",
   "execution_count": 25,
   "metadata": {},
   "outputs": [],
   "source": [
    "def write_gene_fastas(subtype, gene):\n",
    "    \n",
    "    #find location of genes\n",
    "    reference = '../config/rsv_reference.gb'\n",
    "    for record in SeqIO.parse(open(reference,\"r\"), \"genbank\"):\n",
    "        for feature in record.features:\n",
    "            if feature.type == 'CDS':\n",
    "                if feature.qualifiers['gene'] == [gene]:\n",
    "                    gene_location = feature.location\n",
    "    \n",
    "    \n",
    "    \n",
    "    \n",
    "    # alignment file only has accession number associated with a sequence\n",
    "    # need full id (including location and date, etc)\n",
    "    # get this from original data/rsv_X.fasta file\n",
    "    accession_to_id = {}\n",
    "    \n",
    "    data_file = f'../data/rsv_{subtype}_genome.fasta'\n",
    "    with open(data_file, 'r') as handle:\n",
    "        for virus in SeqIO.parse(handle, 'fasta'):\n",
    "            accession_to_id[virus.id.split('|')[0]] = virus.id\n",
    "\n",
    "    \n",
    "    \n",
    "    # read in alignment file to find sequence of the specified gene    \n",
    "    aligned_file = f'../results/aligned_{subtype}.fasta'\n",
    "    \n",
    "    # for each virus in the alignment file, save new entry with only the sequence of the specified gene\n",
    "    gene_records = []\n",
    "\n",
    "            \n",
    "    with open(aligned_file, 'r') as handle:\n",
    "\n",
    "        for virus in SeqIO.parse(handle, 'fasta'):\n",
    "            gene_seq = gene_location.extract(virus.seq)\n",
    "            \n",
    "            gene_records.append(SeqRecord(gene_seq, id=accession_to_id[virus.id], \n",
    "                                          description=accession_to_id[virus.id]))\n",
    "            \n",
    "    SeqIO.write(gene_records, f'../data/rsv_{subtype}_{gene}.fasta', \"fasta\")\n",
    "            \n",
    "            \n",
    "            "
   ]
  },
  {
   "cell_type": "code",
   "execution_count": 27,
   "metadata": {},
   "outputs": [],
   "source": [
    "subtypes = ['A', 'B', 'all']\n",
    "genes = ['F', 'G']\n",
    "\n",
    "for s in subtypes:\n",
    "    for g in genes:\n",
    "        write_gene_fastas(s, g)"
   ]
  },
  {
   "cell_type": "code",
   "execution_count": null,
   "metadata": {},
   "outputs": [],
   "source": []
  },
  {
   "cell_type": "code",
   "execution_count": null,
   "metadata": {},
   "outputs": [],
   "source": []
  }
 ],
 "metadata": {
  "kernelspec": {
   "display_name": "Python 3 (ipykernel)",
   "language": "python",
   "name": "python3"
  },
  "language_info": {
   "codemirror_mode": {
    "name": "ipython",
    "version": 3
   },
   "file_extension": ".py",
   "mimetype": "text/x-python",
   "name": "python",
   "nbconvert_exporter": "python",
   "pygments_lexer": "ipython3",
   "version": "3.9.7"
  }
 },
 "nbformat": 4,
 "nbformat_minor": 4
}
