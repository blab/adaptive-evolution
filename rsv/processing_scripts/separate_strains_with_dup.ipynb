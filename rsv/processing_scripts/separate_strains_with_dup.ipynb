{
 "cells": [
  {
   "cell_type": "code",
   "execution_count": 25,
   "id": "0d8cc4d3",
   "metadata": {},
   "outputs": [],
   "source": [
    "import json\n",
    "import pandas as pd\n",
    "from augur.utils import json_to_tree\n",
    "from Bio import SeqIO\n",
    "from Bio.Seq import Seq\n",
    "from Bio.SeqRecord import SeqRecord"
   ]
  },
  {
   "cell_type": "code",
   "execution_count": 1,
   "id": "5db7bc41",
   "metadata": {},
   "outputs": [],
   "source": [
    "#the tree in Rsv_step1 was run with a reference containing the G gene duplication\n",
    "#the strains without the duplication can be seen in this tree by highlighting the auspice tree \n",
    "#5520- for RSV-A and 5420-/5480- for RSV-B\n",
    "#the clade without this deletion is the clade with the duplication (ON1 for RSV-A and BA for RSV-B)"
   ]
  },
  {
   "cell_type": "code",
   "execution_count": 2,
   "id": "bd0bc667",
   "metadata": {},
   "outputs": [],
   "source": [
    "#Need to look at the tree from Step1 to find the branch that is the common ancestor of strains with the duplication\n",
    "#and also to identify outliers \n",
    "#(genomes with duplication that don't descend from this common ancestor and genomes without duplication that do)"
   ]
  },
  {
   "cell_type": "code",
   "execution_count": 37,
   "id": "f897da67",
   "metadata": {},
   "outputs": [],
   "source": [
    "#RSV-A\n",
    "\n",
    "#common ancestor of the ON1 clade\n",
    "rsv_a_on1_common_ancestor = 'NODE_0000652'\n",
    "#in this tree, these tips are nested within the ON1 clade but have 72nt deletions (aka do not have duplication)\n",
    "rsv_a_CA_butnodup = ['MK167035', 'MF001057','KU950629','KU950594','MH279547',\n",
    "                     'MZ151853','MH383066','MN306050','MN310477', 'KU950626',\n",
    "                     'MW160746','KY967362','KY967363','MN306054']\n",
    "#in this tree, the following have the duplication but are not nested within the same clade. Add manually\n",
    "rsv_a_dup_butnoCA = ['KJ672446','KM042384', 'KJ672442', 'KJ672442', 'KM042385', \n",
    "                     'KX765894', 'KX765911', 'KX765931', 'KX765960', 'KX765967', \n",
    "                     'KX765936', 'KX655675', 'KX655694', 'KX765938']\n",
    "rsv_a_exceptions = {'manual_exclusions': rsv_a_CA_butnodup, 'manual_inclusions': rsv_a_dup_butnoCA}"
   ]
  },
  {
   "cell_type": "code",
   "execution_count": 38,
   "id": "114297d5",
   "metadata": {},
   "outputs": [],
   "source": [
    "#RSV-B\n",
    "\n",
    "#common ancestor of the BA clade\n",
    "rsv_b_ba_common_ancestor = 'NODE_0000001'\n",
    "#in this tree, these tips are nested within the BA clade but have 60nt deletions (aka do not have duplication)\n",
    "rsv_b_CA_butnodup = ['MG431253', 'KX655690', 'MG813994', 'MT040081', \n",
    "                     'KU950605', 'MT040085', 'MN163124', 'MT040087', \n",
    "                     'MT040084', 'MT040089']\n",
    "#in this tree, the following have the duplication but are not nested within the same clade. Add manually\n",
    "rsv_b_dup_butnoCA = ['KP258739', 'KU316158', 'KU316105', 'KU316172']\n",
    "rsv_b_exceptions = {'manual_exclusions': rsv_b_CA_butnodup, 'manual_inclusions': rsv_b_dup_butnoCA}"
   ]
  },
  {
   "cell_type": "code",
   "execution_count": 39,
   "id": "c53a9179",
   "metadata": {},
   "outputs": [],
   "source": [
    "#Read in the tree from Step1 and make a list of strains with and without the duplication\n",
    "\n",
    "def parse_strains_by_duplication(subtype, common_ancestor, exceptions):\n",
    "    \n",
    "    #read in tree\n",
    "    tree_json_file = f'../rsv_step1/auspice/rsv_{subtype}.json'\n",
    "    with open(tree_json_file, 'r') as f:\n",
    "        tree_json = json.load(f)\n",
    "    tree = json_to_tree(tree_json)\n",
    "    \n",
    "    manual_exclusions = exceptions['manual_exclusions']\n",
    "    manual_inclusions = exceptions['manual_inclusions']\n",
    "    \n",
    "    dup_strains = []\n",
    "    other_strains = []\n",
    "\n",
    "    #tips that descend from NODE_0000652 have the G duplication, with a few exceptions\n",
    "    for node in tree.find_clades(terminal=True):\n",
    "        dup_clade=False\n",
    "        node_path = [x.name for x in tree.get_path(node)]\n",
    "        if common_ancestor in node_path:\n",
    "            if node.name not in manual_exclusions:\n",
    "                dup_strains.append(node.name)\n",
    "                dup_clade=True\n",
    "\n",
    "        elif node.name in manual_inclusions:\n",
    "            dup_strains.append(node.name)\n",
    "            dup_clade=True\n",
    "\n",
    "        if dup_clade==False:\n",
    "            other_strains.append(node.name)\n",
    "            \n",
    "    return dup_strains, other_strains"
   ]
  },
  {
   "cell_type": "code",
   "execution_count": 40,
   "id": "6c32359b",
   "metadata": {},
   "outputs": [],
   "source": [
    "a_on1_strains, a_other_strains = parse_strains_by_duplication('A', rsv_a_on1_common_ancestor, rsv_a_exceptions)"
   ]
  },
  {
   "cell_type": "code",
   "execution_count": 41,
   "id": "f2a62289",
   "metadata": {},
   "outputs": [],
   "source": [
    "b_ba_strains, b_other_strains = parse_strains_by_duplication('B', rsv_b_ba_common_ancestor, rsv_b_exceptions)"
   ]
  },
  {
   "cell_type": "code",
   "execution_count": 42,
   "id": "e7f6f182",
   "metadata": {},
   "outputs": [],
   "source": [
    "# write a new data file in rsv_step2/data/ with all subtype A viruses that have duplication, and another that do not\n",
    "\n",
    "def write_step2_data(subtype, dup_strains, other_strains):\n",
    "    data_file = f'../rsv_step1/data/rsv_{subtype}_genome.fasta'\n",
    "\n",
    "    with open(data_file, 'r') as handle:\n",
    "\n",
    "        dup_records = []\n",
    "        other_records = []\n",
    "\n",
    "        for virus in SeqIO.parse(handle, 'fasta'):\n",
    "            accession = virus.id.split('|')[0]\n",
    "\n",
    "            if accession in dup_strains:\n",
    "                dup_records.append(SeqRecord(virus.seq, id=virus.id, description=virus.description))\n",
    "            elif accession in other_strains:\n",
    "                other_records.append(SeqRecord(virus.seq, id=virus.id, description=virus.description))\n",
    "\n",
    "        SeqIO.write(dup_records, f'../rsv_step2/data/rsv_{subtype}_dup.fasta', \"fasta\")\n",
    "        SeqIO.write(other_records, f'../rsv_step2/data/rsv_{subtype}_other.fasta', \"fasta\")"
   ]
  },
  {
   "cell_type": "code",
   "execution_count": 43,
   "id": "c680f584",
   "metadata": {},
   "outputs": [],
   "source": [
    "write_step2_data('A', a_on1_strains, a_other_strains)"
   ]
  },
  {
   "cell_type": "code",
   "execution_count": 44,
   "id": "d97bd420",
   "metadata": {},
   "outputs": [],
   "source": [
    "write_step2_data('B', b_ba_strains, b_other_strains)"
   ]
  },
  {
   "cell_type": "code",
   "execution_count": 45,
   "id": "da5922c2",
   "metadata": {},
   "outputs": [],
   "source": [
    "# add a column to metadata (that can be used to color_by in auspice) based on whether sequence has duplication\n",
    "#this will be used in step3\n",
    "\n",
    "def write_step3_metadata(subtype, dup_strains, other_strains):\n",
    "    \n",
    "    #read in metadata tsv from Step1\n",
    "    metadata = pd.read_csv(f'../rsv_step1/results/metadata_{subtype.upper()}.tsv', sep='\\t')\n",
    "    \n",
    "    #make dataframe with strain name and whether it has duplication\n",
    "    duplication_info = []\n",
    "    for x in dup_strains:\n",
    "        duplication_info.append({'strain':x, 'G_duplication':True})\n",
    "    for y in other_strains:\n",
    "        duplication_info.append({'strain':y, 'G_duplication':False})\n",
    "    duplication_df = pd.DataFrame(duplication_info)\n",
    "    \n",
    "    new_metadata = metadata.merge(duplication_df, on='strain')\n",
    "    \n",
    "    new_metadata.to_csv(f'../rsv_step3/data/metadata_{subtype.upper()}.tsv', index=False)"
   ]
  },
  {
   "cell_type": "code",
   "execution_count": 46,
   "id": "86dac0d3",
   "metadata": {},
   "outputs": [],
   "source": [
    "write_step3_metadata('a', a_on1_strains, a_other_strains)"
   ]
  },
  {
   "cell_type": "code",
   "execution_count": 47,
   "id": "fbff5799",
   "metadata": {},
   "outputs": [],
   "source": [
    "write_step3_metadata('b', b_on1_strains, b_other_strains)"
   ]
  }
 ],
 "metadata": {
  "kernelspec": {
   "display_name": "Python 3 (ipykernel)",
   "language": "python",
   "name": "python3"
  },
  "language_info": {
   "codemirror_mode": {
    "name": "ipython",
    "version": 3
   },
   "file_extension": ".py",
   "mimetype": "text/x-python",
   "name": "python",
   "nbconvert_exporter": "python",
   "pygments_lexer": "ipython3",
   "version": "3.9.7"
  }
 },
 "nbformat": 4,
 "nbformat_minor": 5
}
