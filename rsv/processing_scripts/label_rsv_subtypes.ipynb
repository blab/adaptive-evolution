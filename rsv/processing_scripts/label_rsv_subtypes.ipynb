{
 "cells": [
  {
   "cell_type": "code",
   "execution_count": 5,
   "metadata": {},
   "outputs": [],
   "source": [
    "import requests\n",
    "import json\n",
    "import pandas as pd\n",
    "import numpy as np\n",
    "from augur.utils import json_to_tree\n",
    "from Bio import SeqIO\n",
    "from Bio.Seq import Seq\n",
    "from Bio.SeqRecord import SeqRecord"
   ]
  },
  {
   "cell_type": "markdown",
   "metadata": {},
   "source": [
    "Not all RSV sequences have subtype (A or B) labeled. Use the phylogeny of all RSV sequences (including A and B) to label sequences according to their subtype so that separate A and B trees can be run "
   ]
  },
  {
   "cell_type": "code",
   "execution_count": 20,
   "metadata": {},
   "outputs": [],
   "source": [
    "#read in tree\n",
    "tree_json_file = f'../rsv_step0/auspice/rsv.json'\n",
    "with open(tree_json_file, 'r') as f:\n",
    "    tree_json = json.load(f)\n",
    "tree = json_to_tree(tree_json)\n",
    "\n",
    "# randomly chosen tips that are known to be Rsv-A or Rsv-B\n",
    "known_A = 'KY883566'\n",
    "known_B = 'KU950682'\n",
    "\n",
    "# find the name of the node that is parent to all RSV-A (or all RSV-B) isolates\n",
    "for node in tree.find_clades():\n",
    "    if node.name == known_B:\n",
    "        node_path_B = tree.get_path(node)\n",
    "        B_ancestral_node = node_path_B[1].name\n",
    "    elif node.name == known_A:\n",
    "        node_path_A = tree.get_path(node)\n",
    "        A_ancestral_node = node_path_A[1].name\n"
   ]
  },
  {
   "cell_type": "code",
   "execution_count": 21,
   "metadata": {},
   "outputs": [],
   "source": [
    "# for each tip on the tree, find which subtype it belongs to\n",
    "# store this info in a dictionary with isolate accession ID as key and subtype as value\n",
    "subtype_dict = {}\n",
    "\n",
    "for node in tree.find_clades(terminal=True):\n",
    "    node_path = tree.get_path(node)\n",
    "    ancestral_node = node_path[1].name\n",
    "    if ancestral_node == A_ancestral_node:\n",
    "        subtype_dict[node.name] = 'A'\n",
    "    elif ancestral_node == B_ancestral_node:\n",
    "        subtype_dict[node.name] = 'B'"
   ]
  },
  {
   "cell_type": "code",
   "execution_count": 23,
   "metadata": {},
   "outputs": [],
   "source": [
    "# write a data file with all subtype A viruses and another with all subtype B\n",
    "\n",
    "data_file = '../rsv_step0/data/rsv.fasta'\n",
    "\n",
    "with open(data_file, 'r') as handle:\n",
    "    \n",
    "    edited_records_A = []\n",
    "    edited_records_B = []\n",
    "    \n",
    "    for virus in SeqIO.parse(handle, 'fasta'):\n",
    "        accession = virus.id.split('|')[0]\n",
    "        \n",
    "        if accession in subtype_dict.keys():\n",
    "        \n",
    "            subtype = subtype_dict[accession]\n",
    "\n",
    "            virus.id = '|'.join(virus.id.split('|')[0:6]) + f'|{subtype}|' + virus.id.split('|')[-1]\n",
    "            virus.description = virus.id\n",
    "            \n",
    "            if subtype =='A':\n",
    "                edited_records_A.append(SeqRecord(virus.seq, id=virus.id, description=virus.description))\n",
    "            elif subtype == 'B':\n",
    "                edited_records_B.append(SeqRecord(virus.seq, id=virus.id, description=virus.description))\n",
    "\n",
    "    SeqIO.write(edited_records_A, '../rsv_step0/data/rsv_A_genome.fasta', \"fasta\")\n",
    "    SeqIO.write(edited_records_B, '../rsv_step0/data/rsv_B_genome.fasta', \"fasta\")"
   ]
  },
  {
   "cell_type": "code",
   "execution_count": null,
   "metadata": {},
   "outputs": [],
   "source": []
  }
 ],
 "metadata": {
  "kernelspec": {
   "display_name": "Python 3 (ipykernel)",
   "language": "python",
   "name": "python3"
  },
  "language_info": {
   "codemirror_mode": {
    "name": "ipython",
    "version": 3
   },
   "file_extension": ".py",
   "mimetype": "text/x-python",
   "name": "python",
   "nbconvert_exporter": "python",
   "pygments_lexer": "ipython3",
   "version": "3.9.7"
  }
 },
 "nbformat": 4,
 "nbformat_minor": 4
}
