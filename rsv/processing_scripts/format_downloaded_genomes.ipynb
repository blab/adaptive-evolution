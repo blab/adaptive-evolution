{
 "cells": [
  {
   "cell_type": "code",
   "execution_count": 2,
   "metadata": {},
   "outputs": [],
   "source": [
    "import pandas as pd\n",
    "import numpy as np\n",
    "from Bio import SeqIO\n",
    "from Bio.Seq import Seq\n",
    "from Bio.SeqRecord import SeqRecord"
   ]
  },
  {
   "cell_type": "markdown",
   "metadata": {},
   "source": [
    "Need to edit fasta data file for nextstrain\n",
    "\n",
    "- date should be in 'yyyy-mm-dd' format with XX for month or day if not available"
   ]
  },
  {
   "cell_type": "code",
   "execution_count": 9,
   "metadata": {},
   "outputs": [
    {
     "name": "stdout",
     "output_type": "stream",
     "text": [
      "1956\n"
     ]
    }
   ],
   "source": [
    "data_file = '../rsv_step0/data/vipr_download.fasta'\n",
    "\n",
    "min_year = 2000\n",
    "with open(data_file, 'r') as handle:\n",
    "    \n",
    "    edited_records = []\n",
    "    \n",
    "    for virus in SeqIO.parse(handle, 'fasta'):\n",
    "        date = virus.id.split('|')[3]\n",
    "        # exclude sequences with no date\n",
    "        if date!= 'NA':\n",
    "            if int(date[0:4])<min_year:\n",
    "                min_year = int(date[0:4])\n",
    "            # if date only has year, add -XX-XX for month and day\n",
    "            if len(date)==4:\n",
    "                formatted_date = date+'-XX-XX'\n",
    "            else:\n",
    "                formatted_date = date.replace('_', '-')\n",
    "                # if date only has month, add -XX for day\n",
    "                if len(formatted_date)!=10:\n",
    "                    formatted_date = formatted_date+'-XX'\n",
    "            virus.id = virus.id.replace(date, formatted_date)\n",
    "            virus.description = virus.id\n",
    "                    \n",
    "            edited_records.append(SeqRecord(virus.seq, id=virus.id, description=virus.description))\n",
    "            \n",
    "    SeqIO.write(edited_records, '../rsv_step0/data/rsv.fasta', \"fasta\")\n",
    "print(min_year)"
   ]
  },
  {
   "cell_type": "code",
   "execution_count": null,
   "metadata": {},
   "outputs": [],
   "source": []
  }
 ],
 "metadata": {
  "kernelspec": {
   "display_name": "Python 3 (ipykernel)",
   "language": "python",
   "name": "python3"
  },
  "language_info": {
   "codemirror_mode": {
    "name": "ipython",
    "version": 3
   },
   "file_extension": ".py",
   "mimetype": "text/x-python",
   "name": "python",
   "nbconvert_exporter": "python",
   "pygments_lexer": "ipython3",
   "version": "3.9.7"
  }
 },
 "nbformat": 4,
 "nbformat_minor": 4
}
