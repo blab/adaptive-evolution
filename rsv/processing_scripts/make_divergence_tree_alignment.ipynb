{
 "cells": [
  {
   "cell_type": "code",
   "execution_count": 4,
   "id": "0d8cc4d3",
   "metadata": {},
   "outputs": [],
   "source": [
    "import json\n",
    "from augur.utils import json_to_tree\n",
    "from Bio import SeqIO\n",
    "from Bio.Seq import Seq\n",
    "from Bio.SeqRecord import SeqRecord"
   ]
  },
  {
   "cell_type": "markdown",
   "id": "156b4fc3",
   "metadata": {},
   "source": [
    "Differences from Step3:\n",
    "- Exclude RSV-B outlier that is much older that other sequences and looks to be skewing divergence analysis\n",
    "- Split RSV-A into two lineages. Call them RSV-A1 (the upper clade of RSV-A Step3 tree, which contains duplication) and RSV-A2 (the lower clade, which dies out)"
   ]
  },
  {
   "cell_type": "code",
   "execution_count": 7,
   "id": "762ffd4a",
   "metadata": {},
   "outputs": [],
   "source": [
    "#read in tree\n",
    "tree_json_file = f'../rsv_step3/auspice/rsv_A.json'\n",
    "with open(tree_json_file, 'r') as f:\n",
    "    tree_json = json.load(f)\n",
    "tree = json_to_tree(tree_json)\n",
    "\n",
    "#split RSV-A into two lineages\n",
    "known_rsv_A1 = 'KU950615'\n",
    "known_rsv_A2 = 'KP258727'\n",
    "\n",
    "# find the name of the node that is parent to all RSV-A1 (or all RSV-A2) isolates\n",
    "for node in tree.find_clades():\n",
    "    if node.name == known_rsv_A1:\n",
    "        node_path_A1 = tree.get_path(node)\n",
    "        A1_ancestral_node = node_path_A1[0].name\n",
    "    elif node.name == known_rsv_A2:\n",
    "        node_path_A2 = tree.get_path(node)\n",
    "        A2_ancestral_node = node_path_A2[0].name"
   ]
  },
  {
   "cell_type": "code",
   "execution_count": 24,
   "id": "f32e68a9",
   "metadata": {},
   "outputs": [],
   "source": [
    "# for each tip on the RSV-A tree, find which lineage it belongs to\n",
    "# store this info in lists of isolate accession IDs\n",
    "lineage_A1_tips = []\n",
    "lineage_A2_tips = []\n",
    "\n",
    "for node in tree.find_clades(terminal=True):\n",
    "    node_path = tree.get_path(node)\n",
    "    ancestral_node = node_path[0].name\n",
    "    if ancestral_node == A1_ancestral_node:\n",
    "        lineage_A1_tips.append(node.name)\n",
    "    elif ancestral_node == A2_ancestral_node:\n",
    "        lineage_A2_tips.append(node.name)"
   ]
  },
  {
   "cell_type": "code",
   "execution_count": 18,
   "id": "4b88ff6b",
   "metadata": {},
   "outputs": [],
   "source": [
    "dup_seq_dict = {'a':'GTCAAGAGGAAACCCTCCACTCAACCACCTCCGAAGGCTATCTAAGCCCATCACAAGTCTATACAACATCCG', \n",
    "                'b': 'ACAGAAAGAGACACCAGCACCTCACAATCCACTGTGCTCGACACAACCACATCAAAACAC'}"
   ]
  },
  {
   "cell_type": "code",
   "execution_count": 16,
   "id": "5a84a018",
   "metadata": {},
   "outputs": [],
   "source": [
    "#in this tree, these tips are nested within the ON1 clade but have 72nt deletions (aka do not have duplication)\n",
    "rsv_a_CA_butnodup = ['MK167035', 'MF001057','KU950629','KU950594','MH279547',\n",
    "                     'MZ151853','MH383066','MN306050','MN310477', 'KU950626',\n",
    "                     'MW160746','KY967362','KY967363','MN306054']\n",
    "#in this tree, the following have the duplication but are not nested within the same clade\n",
    "rsv_a_dup_butnoCA = ['KJ672446','KM042384', 'KJ672442', 'KJ672442', 'KM042385', \n",
    "                     'KX765894', 'KX765911', 'KX765931', 'KX765960', 'KX765967', \n",
    "                     'KX765936', 'KX655675', 'KX655694', 'KX765938']\n",
    "\n",
    "\n",
    "#in this tree, these tips are nested within the BA clade but have 60nt deletions (aka do not have duplication)\n",
    "rsv_b_CA_butnodup = ['MG431253', 'KX655690', 'MG813994', 'MT040081', \n",
    "                     'KU950605', 'MT040085', 'MN163124', 'MT040087', \n",
    "                     'MT040084', 'MT040089']\n",
    "#in this tree, the following have the duplication but are not nested within the same clade\n",
    "rsv_b_dup_butnoCA = ['KP258739', 'KU316158', 'KU316105', 'KU316172']\n",
    "\n",
    "#remove outlier\n",
    "rsv_b_outlier = ['MG813995']\n",
    "\n",
    "to_exclude = {'a': rsv_a_CA_butnodup+rsv_a_dup_butnoCA, \n",
    "              'b': rsv_b_CA_butnodup+rsv_b_dup_butnoCA+rsv_b_outlier}"
   ]
  },
  {
   "cell_type": "code",
   "execution_count": 22,
   "id": "856634df",
   "metadata": {},
   "outputs": [],
   "source": [
    "#find where duplication placeholdher should go\n",
    "def find_duplication_location(subtype):\n",
    "    \n",
    "    dup_ref_fasta = f'../rsv_step3/config/rsv_{subtype}_step3_reference.fasta'\n",
    "    \n",
    "    dup_seq = dup_seq_dict[subtype]\n",
    "\n",
    "    with open(dup_ref_fasta, 'r') as handle:\n",
    "        for ref in SeqIO.parse(handle, 'fasta'):\n",
    "            loc_template = str(ref.seq).find(dup_seq.lower())\n",
    "            start_dup = loc_template+len(dup_seq)\n",
    "            #check that this is the same seq as above\n",
    "            dup_seq_in_ref = str(ref.seq)[start_dup:start_dup+len(dup_seq)]\n",
    "#             print(dup_seq_in_ref==dup_seq.lower())\n",
    "            \n",
    "    return start_dup"
   ]
  },
  {
   "cell_type": "code",
   "execution_count": 19,
   "id": "10e0c4a5",
   "metadata": {},
   "outputs": [],
   "source": [
    "def add_placeholder_for_duplication(subtype):\n",
    "    #get duplicated sequence and its position in the genome\n",
    "    dup_seq = dup_seq_dict[subtype]\n",
    "    start_dup = find_duplication_location(subtype)\n",
    "    \n",
    "    #read in alignment done on all strains without the duplication\n",
    "    #using a reference that does not have the duplication\n",
    "    other_aligned_fasta = f'../rsv_step2/results/aligned_{subtype.upper()}_other.fasta'\n",
    "\n",
    "    other_aligned_records = []\n",
    "\n",
    "    with open(other_aligned_fasta, 'r') as handle:\n",
    "        for virus in SeqIO.parse(handle, 'fasta'):\n",
    "            #do not include the strains in the 'to_exclude' list\n",
    "            if virus.id in to_exclude[subtype]:\n",
    "                pass\n",
    "            else:\n",
    "                #for RSV-A the duplication starts at second position of reading frame \n",
    "                #so offset the placeholder so translation will work\n",
    "                if subtype=='a':\n",
    "                    before_dup = str(virus.seq)[:start_dup-1]\n",
    "                    after_dup = str(virus.seq)[start_dup-1:]\n",
    "                else:\n",
    "                    before_dup = str(virus.seq)[:start_dup]\n",
    "                    after_dup = str(virus.seq)[start_dup:]\n",
    "                dup_placeholder = '-'*len(dup_seq)\n",
    "                virus_seq_w_placeholder = Seq(before_dup+dup_placeholder+after_dup)\n",
    "                #check\n",
    "    #             print(virus_seq_w_placeholder[4680:5646].translate())\n",
    "                other_aligned_records.append(SeqRecord(seq=virus_seq_w_placeholder, id=virus.id))\n",
    "    return other_aligned_records"
   ]
  },
  {
   "cell_type": "code",
   "execution_count": 25,
   "id": "6261e2ad",
   "metadata": {},
   "outputs": [],
   "source": [
    "def merge_aligned_fastas(subtype):\n",
    "    #get the alignment of sequences without duplications (but with placeholder for them)\n",
    "    all_aligned_records = add_placeholder_for_duplication(subtype)\n",
    "\n",
    "    dup_aligned_fasta = f'../rsv_step2/results/aligned_{subtype.upper()}_dup.fasta'\n",
    "\n",
    "    with open(dup_aligned_fasta, 'r') as handle:\n",
    "        for virus in SeqIO.parse(handle, 'fasta'):\n",
    "            #do not include the strains in the 'to_exclude' list\n",
    "            if virus.id in to_exclude[subtype]:\n",
    "                pass\n",
    "            else:\n",
    "                all_aligned_records.append(SeqRecord(seq=virus.seq, id=virus.id))\n",
    "    #split RSV-A into lineage A1 and A2\n",
    "    if subtype == 'a':\n",
    "        A1_aligned_records = []\n",
    "        A2_aligned_records = []\n",
    "        for x in all_aligned_records:\n",
    "            if x.id in lineage_A1_tips:\n",
    "                A1_aligned_records.append(x)\n",
    "            elif x.id in lineage_A2_tips:\n",
    "                A2_aligned_records.append(x)\n",
    "                \n",
    "        with open(f'../rsv_builds_for_divergence/data/aligned_A1_all.fasta','w') as handle:\n",
    "            SeqIO.write(A1_aligned_records, handle, 'fasta')\n",
    "        with open(f'../rsv_builds_for_divergence/data/aligned_A2_all.fasta','w') as handle:\n",
    "            SeqIO.write(A2_aligned_records, handle, 'fasta')\n",
    "        \n",
    "    elif subtype == 'b':    \n",
    "        with open(f'../rsv_builds_for_divergence/data/aligned_{subtype.upper()}_all.fasta','w') as handle:\n",
    "            SeqIO.write(all_aligned_records, handle, 'fasta')"
   ]
  },
  {
   "cell_type": "code",
   "execution_count": 26,
   "id": "3fefd8c9",
   "metadata": {},
   "outputs": [],
   "source": [
    "merge_aligned_fastas('a')"
   ]
  },
  {
   "cell_type": "code",
   "execution_count": 30,
   "id": "19a86768",
   "metadata": {},
   "outputs": [],
   "source": [
    "merge_aligned_fastas('b')"
   ]
  },
  {
   "cell_type": "code",
   "execution_count": 29,
   "id": "e7f6f182",
   "metadata": {},
   "outputs": [
    {
     "name": "stdout",
     "output_type": "stream",
     "text": [
      "194\n"
     ]
    }
   ],
   "source": [
    "#check\n",
    "count=0\n",
    "with open('../rsv_builds_for_divergence/data/aligned_A2_all.fasta', 'r') as handle:\n",
    "    for virus in SeqIO.parse(handle, 'fasta'):\n",
    "        count+=1\n",
    "        if len(virus)!= 15277:\n",
    "            print(virus.id)\n",
    "            \n",
    "print(count)"
   ]
  },
  {
   "cell_type": "code",
   "execution_count": 31,
   "id": "8b4b6ed3",
   "metadata": {},
   "outputs": [],
   "source": [
    "#check\n",
    "with open('../rsv_builds_for_divergence/data/aligned_B_all.fasta', 'r') as handle:\n",
    "    for virus in SeqIO.parse(handle, 'fasta'):\n",
    "        if len(virus)!= 15285:\n",
    "            print(virus.id)"
   ]
  }
 ],
 "metadata": {
  "kernelspec": {
   "display_name": "Python 3 (ipykernel)",
   "language": "python",
   "name": "python3"
  },
  "language_info": {
   "codemirror_mode": {
    "name": "ipython",
    "version": 3
   },
   "file_extension": ".py",
   "mimetype": "text/x-python",
   "name": "python",
   "nbconvert_exporter": "python",
   "pygments_lexer": "ipython3",
   "version": "3.9.7"
  }
 },
 "nbformat": 4,
 "nbformat_minor": 5
}
